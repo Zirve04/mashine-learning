{
  "cells": [
    {
      "cell_type": "code",
      "execution_count": 1,
      "source": [
        "# [Nur Colab] Diese Zellen müssen nur auf *Google Colab* ausgeführt werden und installieren Packete und Daten\n",
        "!wget -q https://raw.githubusercontent.com/KI-Campus/AMALEA/master/requirements.txt && pip install --quiet -r requirements.txt\n",
        "!wget --quiet \"https://github.com/KI-Campus/AMALEA/releases/download/data/data.zip\" && unzip -q data.zip"
      ],
      "outputs": [
        {
          "output_type": "stream",
          "name": "stdout",
          "text": [
            "  \u001b[1;31merror\u001b[0m: \u001b[1msubprocess-exited-with-error\u001b[0m\n",
            "  \n",
            "  \u001b[31m×\u001b[0m \u001b[32mpython setup.py egg_info\u001b[0m did not run successfully.\n",
            "  \u001b[31m│\u001b[0m exit code: \u001b[1;36m1\u001b[0m\n",
            "  \u001b[31m╰─>\u001b[0m See above for output.\n",
            "  \n",
            "  \u001b[1;35mnote\u001b[0m: This error originates from a subprocess, and is likely not a problem with pip.\n",
            "  Preparing metadata (setup.py) ... \u001b[?25l\u001b[?25herror\n",
            "\u001b[1;31merror\u001b[0m: \u001b[1mmetadata-generation-failed\u001b[0m\n",
            "\n",
            "\u001b[31m×\u001b[0m Encountered error while generating package metadata.\n",
            "\u001b[31m╰─>\u001b[0m See above for output.\n",
            "\n",
            "\u001b[1;35mnote\u001b[0m: This is an issue with the package mentioned above, not pip.\n",
            "\u001b[1;36mhint\u001b[0m: See above for details.\n"
          ]
        }
      ],
      "metadata": {
        "id": "xhMvZYEZ3ZVa",
        "outputId": "21f45e77-74da-4c89-864d-d3fc37ef3778",
        "colab": {
          "base_uri": "https://localhost:8080/"
        }
      }
    },
    {
      "cell_type": "markdown",
      "source": [
        "# Willkommen in der Baumschule!   "
      ],
      "metadata": {
        "id": "dTTSFLmu3ZVf"
      }
    },
    {
      "cell_type": "markdown",
      "source": [
        "## Einführung\n",
        "\n",
        "Entscheidungsbäume sind die Bausteine einer der leistungsstärksten Methoden des **überwachten Lernens** (z. B. mit einer vordefinierten Zielvariablen), die heute verwendet werden. Falls Sie bereits eine Fehlerdiagnose bei einem Gerät, einem Auto oder einem Computer durchführen mussten, ist es gut möglich, dass Sie schon einmal einem Flussdiagramm zur Fehlerbehebung begegnet sind. Flussdiagramme sind visuelle Darstellungen von Entscheidungsbäumen. Zum Beispiel veröffentlicht die Higher School of Economics Informationsdiagramme, um das Leben ihrer MitarbeiterInnen zu erleichtern. Hier ist ein Ausschnitt aus der Anleitung für die Veröffentlichung eines Papers im Portal der Hochschule.\n",
        "<img src=\"https://github.com/KI-Campus/AMALEA/blob/master/Woche%203/images/snipped_GER.png?raw=1\">"
      ],
      "metadata": {
        "id": "8YHd67Ml3ZVi"
      }
    },
    {
      "cell_type": "markdown",
      "source": [
        "## Klassifizierungs- und Regressionsbäume (CART)\n",
        "\n",
        "Classification and Regression Trees (Klassifizierungs- und Regressionsbäume) ist ein Akronym, das 1984 von Leo Breiman eingeführt wurde. Es bezeichnet Entscheidungsbaum-Algorithmen, die für prädiktive Modellierungsprobleme verwendet werden können. Wir werden uns in dieser Übung auf den CART-Algorithmus konzentrieren."
      ],
      "metadata": {
        "id": "b5an1Nou3ZVj"
      }
    },
    {
      "cell_type": "markdown",
      "source": [
        "### CART\n",
        "\n",
        "Das CART-Modell wird in Form eines binäreren Entscheidungsbaums dargestellt. Dabei handelt es sich um den gleichen binären Baum, den Sie vielleicht von Algorithmen und Datenstrukturen kennen. Jeder Knoten des Binärbaums kann null, einen oder zwei Kindknoten haben.\n",
        "\n",
        "Ein Knoten repräsentiert eine einzelne Eingabevariable (X) und einen Aufteilungspunkt (engl. split point) auf dieser Variable (vorausgesetzt, die Variable ist numerisch). Die Blatt- oder Endknoten des Baums enthalten eine Ausgangsvariable (Y), die für eine Vorhersage verwendet wird.\n",
        "\n",
        "Beim Erstellen eines binären Entscheidungsbaums wird der Eingaberaum aufgeteilt. Dazu wird das sogenannte rekursive binäre Splitting verwendet (greedy Ansatz). Hierbei handelt es sich um ein numerisches Verfahren, bei dem alle Werte aneinandergereiht werden und verschiedene Aufteilungspunkte mit Hilfe einer Kostenfunktion ausprobiert und bewertet werden.\n",
        "\n",
        "Der Split mit den besten Kosten (niedrigste Kosten, da wir die Kosten minimieren) wird ausgewählt. Alle Eingangsvariablen und alle möglichen Aufteilungspunkte werden ausgewertet und auf Grundlage der Kostenfunktion (greedy) ausgewählt.\n",
        "\n",
        "- **Regression:** Die Kostenfunktion, die zum Finden der Splitpunkte minimiert wird, ist die **Summe des quadrierten Fehlers** über alle Trainingsstichproben, die in das Rechteck fallen.\n",
        "\n",
        "- **Klassifizierung:** Es wird die *Gini*-Kostenfunktion verwendet, die einen Hinweis darauf liefert, wie rein die Knoten sind. Die Knotenreinheit bezieht sich dabei darauf, wie gemischt die jedem Knoten zugewiesenen Trainingsdaten sind.\n",
        "\n",
        "Die Aufteilung wird fortgesetzt, bis die Knoten eine Mindestanzahl von Trainingsbeispielen enthalten oder eine maximale Baumtiefe erreicht ist.\n",
        "\n",
        "In dieser Aufgabe konzentrieren wir uns nur auf die Klassifizierungseigenschaft des Algorithmus."
      ],
      "metadata": {
        "id": "E30-irIr3ZVk"
      }
    },
    {
      "cell_type": "markdown",
      "source": [
        "### Metriken\n",
        "\n",
        "#### Gini-Index\n",
        "\n",
        "Der Gini-Index ist die Kostenfunktion, die zum Bewerten der Aufteilungen des Datensatzes verwendet wird. Eine Aufteilung umfasst ein Eingabeattribut und einen Wert für dieses Attribut. Der Gini-Score gibt eine Vorstellung davon, wie gut eine Aufteilung ist, da er angibt, wie gemischt die Klassen in den beiden Gruppen sind, die durch die Aufteilung entstanden sind. Eine perfekte Aufteilung ergibt einen Gini-Score von 0, während die schlechteste Aufteilung, z. B. eine 50/50-Aufteilung, für ein Zwei-Klassen-Problem einen Gini-Score von 0,5 ergibt.\n",
        "\n",
        "Die Berechnung des Gini-Scores lässt sich am besten anhand eines Beispiels demonstrieren:\n",
        "\n",
        "<img src=\"https://github.com/KI-Campus/AMALEA/blob/master/Woche%203/images/iris_tree.png?raw=1\">\n",
        "\n",
        "Angenommen, Sie finden eine Irisblüte und wollen sie klassifizieren. In der obigen Abbildung beginnen wir im *Wurzelknoten*: Dieser Knoten überprüft, ob die Länge des Blütenblatts kleiner als 2,45 cm ist. Wenn das der Fall ist, gehen wir zum linken Kindknoten der Wurzel hinunter. Dieser Knoten ist ein *Blattknoten*, da er keine Kinder besitzt.\n",
        "\n",
        "Nehmen wir nun an, wir finden eine weitere Blume. Diese besitzt eine Blütenblattlänge, die größer als 2,45 cm ist. Angefangen bei der Wurzel kommen wir so zum rechten Kindknoten, der kein Blattknoten ist. Dieser Knoten möchte wissen, ob die Breite des Blütenblatts kleiner als 1,75 cm ist. Wenn das der Fall ist, dann ist unsere Blume höchstwahrscheinlich eine Iris-Versicolor. Andernfalls handelt es sich wahrscheinlich um eine Iris-Virginica.\n",
        "\n",
        "Angenommen, wir haben 100 Trainingsinstanzen mit einer Blütenblattlänge größer als 2,45 cm, darunter 54 mit einer Blütenblattbreite kleiner als 1,75 cm. Das Wertattribut eines Knotens gibt an, auf wie viele Trainingsinstanzen jeder Klasse dieser Knoten zutrifft: Der Knoten unten rechts trifft auf 0 Iris-Setosa, 1 Iris-Versicolor und 45 Iris-Virginica zu. Gemäß Gleichung (\\ref{eq1}) setzt sich der Gini-Score wie folgt zusammen: $1-(0/54)^2-(49/54)^2-(5/54)^2 = 0.168$.\n",
        "\n",
        "\\begin{equation*}\n",
        "G_i = 1 - \\sum_{k=0}^{n-1} p_{i,k}^2\n",
        "\\label{eq1}\\tag{1}\n",
        "\\end{equation*}\n",
        "wobei $p_{i,k}$ das Verhältnis der Instanzen der Klasse k unter den Trainingsinstanzen im $i^{th}$-Knoten beschreibt."
      ],
      "metadata": {
        "id": "t87BwLqY3ZVl"
      }
    },
    {
      "cell_type": "markdown",
      "source": [
        "## Importe"
      ],
      "metadata": {
        "id": "dw3wr9jF3ZVm"
      }
    },
    {
      "cell_type": "code",
      "execution_count": 2,
      "source": [
        "import pandas as pd\n",
        "import numpy as np\n",
        "\n",
        "%matplotlib inline\n",
        "\n",
        "import matplotlib.pyplot as plt"
      ],
      "outputs": [],
      "metadata": {
        "id": "LNr0UZCO3ZVm"
      }
    },
    {
      "cell_type": "markdown",
      "source": [
        "## Entscheidungsbäume mit scikit-learn\n",
        "\n",
        "Nun haben wir unseren Datensatz für die Algorithmen des maschinellen Lernens vorbereitet. Zu Beginn haben wir die Idee der Klassifizierung und Regression mit Entscheidungsbäumen beschrieben. Im Folgenden werden wir die Implementierung von Entscheidungsbäumen mittels scikit-learn verwenden, um die binäre Klassifizierung des Titanic Datensatzes durchzuführen.\n",
        "\n",
        "\n",
        "## Entscheidungsbäume ohne Parameteroptimierung (engl. parameter tuning)\n",
        "\n",
        "#### Importieren der Bibliotheken\n",
        "Der erste Schritt besteht darin, den Algorithmus \"wie er ist\" zu verwenden, ohne irgendwelche Parameter anzupassen. Importieren Sie daher die notwendige Bibliothek/Funktion von scikit-learn, die den DecisionTreeClassifier enthält. Außerdem muss die Funktion export_graphviz importiert werden, die für die Darstellung der Ergebnisse der Entscheidungsbäume benötigt wird. Um das Modell zu evaluieren, müssen wir ein Train- und ein Validation-Set erzeugen, indem wir den train-test split von scikit-learn verwenden. Importieren Sie daher die notwendigen Funktionen. Um die Performance der trainierten Entscheidungsbäume zu vergleichen, müssen wir zunächst den DummyClassifier importieren. Der DummyClassifer https://scikit-learn.org/stable/modules/generated/sklearn.dummy.DummyClassifier.html ist in der Lage, Datenpunkte gleichmäßig zufällig zu klassifizieren oder immer das häufigste Label im Trainingssatz vorherzusagen. Importieren Sie den accuracy score des Pakets 'metrics' für die Evaluierung der Klassifizierungsergebnisse."
      ],
      "metadata": {
        "id": "JqVcWOX-3ZVn"
      }
    },
    {
      "cell_type": "markdown",
      "source": [
        "<div class=\"alert alert-block alert-success\">\n",
        "<b>Aufgabe 3.2.1:</b> Importieren Sie die im Text oben genannten Funktionen.\n",
        "</div>"
      ],
      "metadata": {
        "id": "zzFsQYV33ZVo"
      }
    },
    {
      "cell_type": "markdown",
      "source": [
        "<div class=\"alert alert-block alert-info\">\n",
        "<b>Hinweis:</b> Falls graphviz nicht installiert ist, versuchen Sie folgende Schritte.  \n",
        "<ul>\n",
        "<li> 1. Ansatz: Öffnen Sie anaconda, anschließend gehen Sie zu den Umgebungen (engl. environments) und wählen Sie diejenige aus, an der Sie gerade arbeiten. Suchen Sie dann nach graphviz und installieren Sie es.\n",
        "<li> 2. Ansatz: Öffnen Sie ein Terminal innerhalb Ihrer Umgebung, indem Sie auf den grünen Pfeil Ihrer Umgebung klicken. Anschließend:\n",
        "<ul>\n",
        "<li> Aktivieren Sie Ihre Umgebung: conda activate environment_name\n",
        "    <li> Installieren Sie pip: conda install pip (gegebenfalls bereits installiert)\n",
        "    <li> installieren Sie graphviz: conda install python-graphviz\n",
        "    </ul>\n",
        "</li>\n",
        "\n",
        "</ul>\n",
        "<br>\n",
        "\n",
        "</div>"
      ],
      "metadata": {
        "id": "TiGvsmKb3ZVo"
      }
    },
    {
      "cell_type": "code",
      "execution_count": 3,
      "source": [
        "# STUDENT CODE HERE\n",
        "from sklearn.model_selection import train_test_split\n",
        "from sklearn.dummy import DummyClassifier\n",
        "from sklearn.metrics import accuracy_score\n",
        "from sklearn.tree import DecisionTreeClassifier, export_graphviz\n",
        "from pandas import read_csv\n",
        "from sklearn.metrics import confusion_matrix\n",
        "# STUDENT CODE until HERE\n",
        "\n",
        "from graphviz import Source"
      ],
      "outputs": [],
      "metadata": {
        "id": "j8-eb54E3ZVp"
      }
    },
    {
      "cell_type": "markdown",
      "source": [
        "#### Generieren von Training-, Validierung- und Test-Datensatz\n",
        "\n",
        "\n",
        "<div class=\"alert alert-block alert-success\">\n",
        "<b>Aufgabe 3.2.2:</b>\n",
        "<ul>\n",
        "<li>Laden Sie die Datensätze aus der Lösung der Vorbereitungsdatei (train_prepared.csv,...).\n",
        "<li>Nehmen Sie die Spalte mit den Labeldaten sowohl im Trainingsatz als auch im Testsatz und entfernen diese vom Datensatz.\n",
        "<li>Teilen Sie den \"train\"-Teil des Datensatzes in 80 % Trainingsdaten und 20 % Validierungsdaten auf. Verwenden Sie den Parameter random_state = 17 für die Reproduzierbarkeit der Ergebnisse.\n",
        "<li> Hinweis: Sie könnten den originalen Trainigsatz für das Kreuzvalidierungsverfahren (engl. Cross Validation) später benötigen.\n",
        "</ul>\n",
        "    \n",
        "<b>Wichtige Information:</b> Beim überwachten Lernen bestehen die Datensätze immer aus Labels und Features. Nachdem Sie Ihr Modell trainiert haben, geben Sie ihm neue Input Datensätze, die Features (Alter, Geschlecht usw.) enthalten; es gibt das vorhergesagte Label ('Survived') für diese Person zurück.<br>\n",
        "</div>"
      ],
      "metadata": {
        "id": "7rXcwXYK3ZVp"
      }
    },
    {
      "cell_type": "code",
      "execution_count": 72,
      "source": [
        "# STUDENT CODE HERE\n",
        "filename = 'data/train_prepared.csv'\n",
        "dataframe = read_csv(filename)\n",
        "df = dataframe.copy()\n",
        "Y = df['Survived'].values\n",
        "X = df.drop('Survived', axis=1)\n",
        "x_train, x_val, y_train, y_val = train_test_split(X, Y, test_size=0.2, random_state = 17)\n",
        "# Train decision tree\n",
        "# STUDENT CODE until HERE"
      ],
      "outputs": [],
      "metadata": {
        "id": "8Xjl6Heo3ZVq"
      }
    },
    {
      "cell_type": "markdown",
      "source": [
        "#### Validierung des Dummy Klassifikators\n",
        "\n",
        "Um einen Eindruck zu bekommen, ob die Klassifizierung mit dem Modell sinnvoll ist, verwenden wir den DummyClassifier, der zufällig entscheidet.  \n",
        "\n",
        "<div class=\"alert alert-block alert-success\">\n",
        "<b>Aufgabe 3.2.3:</b>\n",
        "<ul>\n",
        "<li> Trainieren Sie den Klassifikator mit dem entsprechenden Parameterwert 'most_frequent' für die Strategie\n",
        "<li> Benutzen Sie den Parameter random_state = 17 (für die Reproduzierbarkeit der Ergebnisse)\n",
        "<li> Berechnen Sie die Korrektklassifikationsrate (engl. accuracy), um die Klassifizierungsgenauigkeit für die Validierungsdaten zu erhalten\n",
        "<li> Hinweis: Besuchen Sie die Website von scikit-learn, um den Klassifikator zu importieren, ihn zu trainieren, mit ihm Vorhersagen zu treffen und die Korrektklassifikationsrate zu berechnen\n",
        "</ul>\n",
        "</div>"
      ],
      "metadata": {
        "id": "Kv20m4lM3ZVq"
      }
    },
    {
      "cell_type": "code",
      "execution_count": 67,
      "source": [
        "# STUDENT CODE HERE\n",
        "dummy_clf = DummyClassifier(strategy='most_frequent', random_state=17)\n",
        "dummy_clf.fit(x_train, y_train)\n",
        "dummy_predicted = dummy_clf.predict(x_val)\n",
        "accuracy_score(y_val, dummy_predicted)\n",
        "# STUDENT CODE until HERE"
      ],
      "outputs": [
        {
          "output_type": "execute_result",
          "data": {
            "text/plain": [
              "0.5921787709497207"
            ]
          },
          "metadata": {},
          "execution_count": 67
        }
      ],
      "metadata": {
        "id": "dLe_GaOm3ZVq",
        "outputId": "936c0ee0-1f0b-48a7-9080-e100ec7274ed",
        "colab": {
          "base_uri": "https://localhost:8080/"
        }
      }
    },
    {
      "cell_type": "markdown",
      "source": [
        "<div class=\"alert alert-block alert-success\">\n",
        "<b>Frage 3.2.4:</b> Wie interpretieren Sie dieses Ergebnis?\n",
        "</div>\n",
        "\n",
        "<div class=\"alert alert-block alert-success\">\n",
        "<b>Ihre Antwort:</b></div>\n"
      ],
      "metadata": {
        "id": "Wi0wFxW63ZVq"
      }
    },
    {
      "cell_type": "markdown",
      "source": [
        "#### Validierung des Entscheidungsbaums\n",
        "\n",
        "\n",
        "<div class=\"alert alert-block alert-success\">\n",
        "<b>Aufgabe 3.2.5:</b>\n",
        "<ul>\n",
        "<li> Trainieren Sie einen Entscheidungsbaum (mit DecisionTreeClassifier) mit einer maximalen Tiefe von 2\n",
        "<li> Evaluieren Sie die Korrektklassifikationsrate Metrik (engl. accuracy metric) anhand der Validierungsdaten.\n",
        "<li> Benutzen Sie den Parameter random_state = 17 für die Reproduzierbarkeit der Ergebnisse.\n",
        "<li> Hinweis: Syntax oder Funktionen mit diesem Klassifikator sind für Training etc. gleich.\n",
        "    </li>\n",
        "    \n",
        "</ul>\n",
        "</div>"
      ],
      "metadata": {
        "id": "7GiyVMcH3ZVq"
      }
    },
    {
      "cell_type": "code",
      "execution_count": 68,
      "source": [
        "# STUDENT CODE HERE\n",
        "clf = DecisionTreeClassifier(max_depth=2, random_state=17)\n",
        "clf.fit(x_train, y_train)\n",
        "predicted = clf.predict(x_val)\n",
        "accuracy_score(y_val, predicted)\n",
        "# STUDENT CODE until HERE"
      ],
      "outputs": [
        {
          "output_type": "execute_result",
          "data": {
            "text/plain": [
              "0.7821229050279329"
            ]
          },
          "metadata": {},
          "execution_count": 68
        }
      ],
      "metadata": {
        "id": "vyBX63qY3ZVr",
        "outputId": "d2f35367-2426-4fef-de6d-d683b48db3bb",
        "colab": {
          "base_uri": "https://localhost:8080/"
        }
      }
    },
    {
      "cell_type": "markdown",
      "source": [
        "<div class=\"alert alert-block alert-success\">\n",
        "<b>Frage 3.2.6:</b>  Was können Sie beobachten, wenn wir die Korrektklassifikationsrate mit der des DummyClassifiers vergleichen?\n",
        "</div>\n",
        "\n",
        "<div class=\"alert alert-block alert-success\">\n",
        "<b>Ihre Antwort:</b></div>\n"
      ],
      "metadata": {
        "id": "kwOWXe1j3ZVr"
      }
    },
    {
      "cell_type": "markdown",
      "source": [
        "#### Das trainierte Modell verstehen\n",
        "\n",
        "\n",
        "<div class=\"alert alert-block alert-success\">\n",
        "<b>Aufgabe 3.2.7:</b>\n",
        "<ul>\n",
        "<li> Plotten Sie den Baum mit sklearn.tree.export_graphviz und graphviz\n",
        "<li> Geben Sie die Namen der Features sowie die Klassennamen entsprechend dem Datensatz aus.\n",
        "<li> Hinweis: Benutzen Sie dataframe.columns.values und Source(export_graphviz)\n",
        "</ul>\n",
        "</div>"
      ],
      "metadata": {
        "id": "r2R9VsE23ZVr"
      }
    },
    {
      "cell_type": "code",
      "execution_count": 73,
      "source": [
        "# STUDENT CODE HERE\n",
        "dot_data = export_graphviz(clf, out_file=None, feature_names= X.columns.values, class_names=['Not Survived','Survived'],  filled=True,\n",
        "    rounded=True, special_characters=True)\n",
        "plot = Source(dot_data)\n",
        "plot\n",
        "# STUDENT CODE until HERE"
      ],
      "outputs": [
        {
          "output_type": "execute_result",
          "data": {
            "image/svg+xml": "<?xml version=\"1.0\" encoding=\"UTF-8\" standalone=\"no\"?>\n<!DOCTYPE svg PUBLIC \"-//W3C//DTD SVG 1.1//EN\"\n \"http://www.w3.org/Graphics/SVG/1.1/DTD/svg11.dtd\">\n<!-- Generated by graphviz version 2.43.0 (0)\n -->\n<!-- Title: Tree Pages: 1 -->\n<svg width=\"572pt\" height=\"314pt\"\n viewBox=\"0.00 0.00 572.00 314.00\" xmlns=\"http://www.w3.org/2000/svg\" xmlns:xlink=\"http://www.w3.org/1999/xlink\">\n<g id=\"graph0\" class=\"graph\" transform=\"scale(1 1) rotate(0) translate(4 310)\">\n<title>Tree</title>\n<polygon fill=\"white\" stroke=\"transparent\" points=\"-4,4 -4,-310 568,-310 568,4 -4,4\"/>\n<!-- 0 -->\n<g id=\"node1\" class=\"node\">\n<title>0</title>\n<path fill=\"#f5ceb1\" stroke=\"black\" d=\"M341.5,-306C341.5,-306 218.5,-306 218.5,-306 212.5,-306 206.5,-300 206.5,-294 206.5,-294 206.5,-235 206.5,-235 206.5,-229 212.5,-223 218.5,-223 218.5,-223 341.5,-223 341.5,-223 347.5,-223 353.5,-229 353.5,-235 353.5,-235 353.5,-294 353.5,-294 353.5,-300 347.5,-306 341.5,-306\"/>\n<text text-anchor=\"start\" x=\"251\" y=\"-290.8\" font-family=\"Helvetica,sans-Serif\" font-size=\"14.00\">Sex ≤ 0.5</text>\n<text text-anchor=\"start\" x=\"248\" y=\"-275.8\" font-family=\"Helvetica,sans-Serif\" font-size=\"14.00\">gini = 0.47</text>\n<text text-anchor=\"start\" x=\"235\" y=\"-260.8\" font-family=\"Helvetica,sans-Serif\" font-size=\"14.00\">samples = 712</text>\n<text text-anchor=\"start\" x=\"214.5\" y=\"-245.8\" font-family=\"Helvetica,sans-Serif\" font-size=\"14.00\">value = [443.0, 269.0]</text>\n<text text-anchor=\"start\" x=\"218\" y=\"-230.8\" font-family=\"Helvetica,sans-Serif\" font-size=\"14.00\">class = Not Survived</text>\n</g>\n<!-- 1 -->\n<g id=\"node2\" class=\"node\">\n<title>1</title>\n<path fill=\"#eb9d65\" stroke=\"black\" d=\"M259,-187C259,-187 143,-187 143,-187 137,-187 131,-181 131,-175 131,-175 131,-116 131,-116 131,-110 137,-104 143,-104 143,-104 259,-104 259,-104 265,-104 271,-110 271,-116 271,-116 271,-175 271,-175 271,-181 265,-187 259,-187\"/>\n<text text-anchor=\"start\" x=\"172\" y=\"-171.8\" font-family=\"Helvetica,sans-Serif\" font-size=\"14.00\">Age ≤ 6.5</text>\n<text text-anchor=\"start\" x=\"165.5\" y=\"-156.8\" font-family=\"Helvetica,sans-Serif\" font-size=\"14.00\">gini = 0.299</text>\n<text text-anchor=\"start\" x=\"156\" y=\"-141.8\" font-family=\"Helvetica,sans-Serif\" font-size=\"14.00\">samples = 465</text>\n<text text-anchor=\"start\" x=\"150.5\" y=\"-126.8\" font-family=\"Helvetica,sans-Serif\" font-size=\"14.00\">value = [380, 85]</text>\n<text text-anchor=\"start\" x=\"139\" y=\"-111.8\" font-family=\"Helvetica,sans-Serif\" font-size=\"14.00\">class = Not Survived</text>\n</g>\n<!-- 0&#45;&gt;1 -->\n<g id=\"edge1\" class=\"edge\">\n<title>0&#45;&gt;1</title>\n<path fill=\"none\" stroke=\"black\" d=\"M252.59,-222.91C246.59,-214.01 240.17,-204.51 233.97,-195.33\"/>\n<polygon fill=\"black\" stroke=\"black\" points=\"236.86,-193.35 228.36,-187.02 231.06,-197.27 236.86,-193.35\"/>\n<text text-anchor=\"middle\" x=\"223.6\" y=\"-207.86\" font-family=\"Helvetica,sans-Serif\" font-size=\"14.00\">True</text>\n</g>\n<!-- 4 -->\n<g id=\"node5\" class=\"node\">\n<title>4</title>\n<path fill=\"#7dbfee\" stroke=\"black\" d=\"M417,-187C417,-187 301,-187 301,-187 295,-187 289,-181 289,-175 289,-175 289,-116 289,-116 289,-110 295,-104 301,-104 301,-104 417,-104 417,-104 423,-104 429,-110 429,-116 429,-116 429,-175 429,-175 429,-181 423,-187 417,-187\"/>\n<text text-anchor=\"start\" x=\"322\" y=\"-171.8\" font-family=\"Helvetica,sans-Serif\" font-size=\"14.00\">Pclass ≤ 2.5</text>\n<text text-anchor=\"start\" x=\"327\" y=\"-156.8\" font-family=\"Helvetica,sans-Serif\" font-size=\"14.00\">gini = 0.38</text>\n<text text-anchor=\"start\" x=\"314\" y=\"-141.8\" font-family=\"Helvetica,sans-Serif\" font-size=\"14.00\">samples = 247</text>\n<text text-anchor=\"start\" x=\"297\" y=\"-126.8\" font-family=\"Helvetica,sans-Serif\" font-size=\"14.00\">value = [63.0, 184.0]</text>\n<text text-anchor=\"start\" x=\"309\" y=\"-111.8\" font-family=\"Helvetica,sans-Serif\" font-size=\"14.00\">class = Survived</text>\n</g>\n<!-- 0&#45;&gt;4 -->\n<g id=\"edge4\" class=\"edge\">\n<title>0&#45;&gt;4</title>\n<path fill=\"none\" stroke=\"black\" d=\"M307.41,-222.91C313.41,-214.01 319.83,-204.51 326.03,-195.33\"/>\n<polygon fill=\"black\" stroke=\"black\" points=\"328.94,-197.27 331.64,-187.02 323.14,-193.35 328.94,-197.27\"/>\n<text text-anchor=\"middle\" x=\"336.4\" y=\"-207.86\" font-family=\"Helvetica,sans-Serif\" font-size=\"14.00\">False</text>\n</g>\n<!-- 2 -->\n<g id=\"node3\" class=\"node\">\n<title>2</title>\n<path fill=\"#acd6f4\" stroke=\"black\" d=\"M104,-68C104,-68 12,-68 12,-68 6,-68 0,-62 0,-56 0,-56 0,-12 0,-12 0,-6 6,0 12,0 12,0 104,0 104,0 110,0 116,-6 116,-12 116,-12 116,-56 116,-56 116,-62 110,-68 104,-68\"/>\n<text text-anchor=\"start\" x=\"22.5\" y=\"-52.8\" font-family=\"Helvetica,sans-Serif\" font-size=\"14.00\">gini = 0.465</text>\n<text text-anchor=\"start\" x=\"17\" y=\"-37.8\" font-family=\"Helvetica,sans-Serif\" font-size=\"14.00\">samples = 19</text>\n<text text-anchor=\"start\" x=\"15\" y=\"-22.8\" font-family=\"Helvetica,sans-Serif\" font-size=\"14.00\">value = [7, 12]</text>\n<text text-anchor=\"start\" x=\"8\" y=\"-7.8\" font-family=\"Helvetica,sans-Serif\" font-size=\"14.00\">class = Survived</text>\n</g>\n<!-- 1&#45;&gt;2 -->\n<g id=\"edge2\" class=\"edge\">\n<title>1&#45;&gt;2</title>\n<path fill=\"none\" stroke=\"black\" d=\"M147.75,-103.73C135.25,-94.15 121.94,-83.96 109.51,-74.44\"/>\n<polygon fill=\"black\" stroke=\"black\" points=\"111.55,-71.6 101.49,-68.3 107.3,-77.16 111.55,-71.6\"/>\n</g>\n<!-- 3 -->\n<g id=\"node4\" class=\"node\">\n<title>3</title>\n<path fill=\"#ea9a60\" stroke=\"black\" d=\"M262,-68C262,-68 146,-68 146,-68 140,-68 134,-62 134,-56 134,-56 134,-12 134,-12 134,-6 140,0 146,0 146,0 262,0 262,0 268,0 274,-6 274,-12 274,-12 274,-56 274,-56 274,-62 268,-68 262,-68\"/>\n<text text-anchor=\"start\" x=\"168.5\" y=\"-52.8\" font-family=\"Helvetica,sans-Serif\" font-size=\"14.00\">gini = 0.274</text>\n<text text-anchor=\"start\" x=\"159\" y=\"-37.8\" font-family=\"Helvetica,sans-Serif\" font-size=\"14.00\">samples = 446</text>\n<text text-anchor=\"start\" x=\"153.5\" y=\"-22.8\" font-family=\"Helvetica,sans-Serif\" font-size=\"14.00\">value = [373, 73]</text>\n<text text-anchor=\"start\" x=\"142\" y=\"-7.8\" font-family=\"Helvetica,sans-Serif\" font-size=\"14.00\">class = Not Survived</text>\n</g>\n<!-- 1&#45;&gt;3 -->\n<g id=\"edge3\" class=\"edge\">\n<title>1&#45;&gt;3</title>\n<path fill=\"none\" stroke=\"black\" d=\"M202.12,-103.73C202.34,-95.52 202.58,-86.86 202.81,-78.56\"/>\n<polygon fill=\"black\" stroke=\"black\" points=\"206.31,-78.39 203.09,-68.3 199.32,-78.2 206.31,-78.39\"/>\n</g>\n<!-- 5 -->\n<g id=\"node6\" class=\"node\">\n<title>5</title>\n<path fill=\"#43a2e6\" stroke=\"black\" d=\"M402,-68C402,-68 310,-68 310,-68 304,-68 298,-62 298,-56 298,-56 298,-12 298,-12 298,-6 304,0 310,0 310,0 402,0 402,0 408,0 414,-6 414,-12 414,-12 414,-56 414,-56 414,-62 408,-68 402,-68\"/>\n<text text-anchor=\"start\" x=\"320.5\" y=\"-52.8\" font-family=\"Helvetica,sans-Serif\" font-size=\"14.00\">gini = 0.087</text>\n<text text-anchor=\"start\" x=\"311\" y=\"-37.8\" font-family=\"Helvetica,sans-Serif\" font-size=\"14.00\">samples = 131</text>\n<text text-anchor=\"start\" x=\"309\" y=\"-22.8\" font-family=\"Helvetica,sans-Serif\" font-size=\"14.00\">value = [6, 125]</text>\n<text text-anchor=\"start\" x=\"306\" y=\"-7.8\" font-family=\"Helvetica,sans-Serif\" font-size=\"14.00\">class = Survived</text>\n</g>\n<!-- 4&#45;&gt;5 -->\n<g id=\"edge5\" class=\"edge\">\n<title>4&#45;&gt;5</title>\n<path fill=\"none\" stroke=\"black\" d=\"M357.88,-103.73C357.66,-95.52 357.42,-86.86 357.19,-78.56\"/>\n<polygon fill=\"black\" stroke=\"black\" points=\"360.68,-78.2 356.91,-68.3 353.69,-78.39 360.68,-78.2\"/>\n</g>\n<!-- 6 -->\n<g id=\"node7\" class=\"node\">\n<title>6</title>\n<path fill=\"#f8fcfe\" stroke=\"black\" d=\"M552,-68C552,-68 444,-68 444,-68 438,-68 432,-62 432,-56 432,-56 432,-12 432,-12 432,-6 438,0 444,0 444,0 552,0 552,0 558,0 564,-6 564,-12 564,-12 564,-56 564,-56 564,-62 558,-68 552,-68\"/>\n<text text-anchor=\"start\" x=\"470\" y=\"-52.8\" font-family=\"Helvetica,sans-Serif\" font-size=\"14.00\">gini = 0.5</text>\n<text text-anchor=\"start\" x=\"453\" y=\"-37.8\" font-family=\"Helvetica,sans-Serif\" font-size=\"14.00\">samples = 116</text>\n<text text-anchor=\"start\" x=\"440\" y=\"-22.8\" font-family=\"Helvetica,sans-Serif\" font-size=\"14.00\">value = [57.0, 59.0]</text>\n<text text-anchor=\"start\" x=\"448\" y=\"-7.8\" font-family=\"Helvetica,sans-Serif\" font-size=\"14.00\">class = Survived</text>\n</g>\n<!-- 4&#45;&gt;6 -->\n<g id=\"edge6\" class=\"edge\">\n<title>4&#45;&gt;6</title>\n<path fill=\"none\" stroke=\"black\" d=\"M410.76,-103.73C422.8,-94.24 435.6,-84.16 447.58,-74.72\"/>\n<polygon fill=\"black\" stroke=\"black\" points=\"450.04,-77.24 455.73,-68.3 445.71,-71.74 450.04,-77.24\"/>\n</g>\n</g>\n</svg>\n",
            "text/plain": [
              "<graphviz.sources.Source at 0x798f2527a0d0>"
            ]
          },
          "metadata": {},
          "execution_count": 73
        }
      ],
      "metadata": {
        "id": "nU70Z6zR3ZVr",
        "outputId": "bdc6ba3f-42a5-4599-8f34-6e3545df0547",
        "colab": {
          "base_uri": "https://localhost:8080/",
          "height": 440
        }
      }
    },
    {
      "cell_type": "markdown",
      "source": [
        "<div class=\"alert alert-block alert-success\">\n",
        "<b>Frage 3.2.8:</b>  Welche Features werden für Vorhersagen im erstellten Entscheidungsbaum verwendet? Welche der verbleibenden Splits (in der letzten Zeile des Baums) ist derzeit die Präziseste?\n",
        "</div>\n",
        "\n",
        "<div class=\"alert alert-block alert-success\">\n",
        "<b>Ihre Antwort:</b></div>\n"
      ],
      "metadata": {
        "id": "a7q0NINF3ZVr"
      }
    },
    {
      "cell_type": "markdown",
      "source": [
        "#### Testen der Generalisierung\n",
        "\n",
        "In den vorherigen Aufgaben haben wir die Performance unseres Algorithmus an einem einzelnen Train-Test-Split unseres Training-Datensatzes evaluiert. Lassen Sie uns nun die Kreuzvalidierung (engl. cross validation) verwenden, um eine bessere Schätzung des Generalisierungsfehlers zu erhalten.\n",
        "\n",
        "<div class=\"alert alert-block alert-success\">\n",
        "<b>Aufgabe 3.2.9:</b> Importieren Sie die notwendige Bibliothek für die Kreuzvalidierung (engl. cross validation) mit StratifiedKFold.\n",
        "</div>"
      ],
      "metadata": {
        "id": "ArzA8NzG3ZVr"
      }
    },
    {
      "cell_type": "code",
      "execution_count": 8,
      "source": [
        "# STUDENT CODE HERE\n",
        "from sklearn.model_selection import cross_val_score\n",
        "from sklearn.model_selection import StratifiedKFold\n",
        "# STUDENT CODE until HERE"
      ],
      "outputs": [],
      "metadata": {
        "id": "svJ7EA8L3ZVr"
      }
    },
    {
      "cell_type": "markdown",
      "source": [
        "<div class=\"alert alert-block alert-success\">\n",
        "<b>Aufgabe 3.2.10:</b>\n",
        "<ul>\n",
        "<li> Führen Sie eine 5-fache geschichtete Kreuzvalidierung (engl. 5-fold stratified cross validation) durch\n",
        "<li> Berechnen Sie die mittlere Korrektklassifikationsrate (engl. mean accuracy) und die Standardabweichung der Korrektklassifikationsrate (engl. accuracy)\n",
        "<li> Verwenden Sie eine maximale Tiefe von 2 und random_state = 17 für den Baum und die Folds\n",
        "<li> Vergessen Sie nicht, den gesamten Trainingssatz zu verwenden (bevor Sie ihn in train,val aufteilen)\n",
        "</ul>\n",
        "</div>"
      ],
      "metadata": {
        "id": "AaZGge4o3ZVr"
      }
    },
    {
      "cell_type": "code",
      "execution_count": 75,
      "source": [
        "# STUDENT CODE HERE\n",
        "kfold = StratifiedKFold(n_splits=5, random_state=17, shuffle=True)\n",
        "decision_tree = DecisionTreeClassifier(max_depth=2, random_state=17)\n",
        "decision_tree.fit(X,Y)\n",
        "# x_train, x_val, y_train, y_val = train_test_split(X, Y, test_size=0.2, random_state = 17)\n",
        "# prediction = decision_tree.predict(x_val)\n",
        "scores = cross_val_score(decision_tree, X, Y, cv=kfold, scoring = 'accuracy')\n",
        "\n",
        "# Mittelwert und Standardabweichung berechnen\n",
        "mean_accuracy = np.mean(scores)\n",
        "std_accuracy = np.std(scores)\n",
        "print(scores)\n",
        "print(f\"Mittlere Accuracy: {mean_accuracy:.4f}\")\n",
        "print(f\"Standardabweichung: {std_accuracy:.4f}\")\n",
        "# STUDENT CODE until HERE"
      ],
      "outputs": [
        {
          "output_type": "stream",
          "name": "stdout",
          "text": [
            "[0.77094972 0.76404494 0.71910112 0.81460674 0.76966292]\n",
            "Mittlere Accuracy: 0.7677\n",
            "Standardabweichung: 0.0303\n"
          ]
        }
      ],
      "metadata": {
        "id": "z7sXJBoj3ZVs",
        "outputId": "c9ccb794-f0e1-4cfe-d0cc-f8ab1b6f30e1",
        "colab": {
          "base_uri": "https://localhost:8080/"
        }
      }
    },
    {
      "cell_type": "markdown",
      "source": [
        "### Parameteroptimierung für Entscheidungsbäume\n",
        "\n",
        "Der wichtigste Parameter eines Entscheidungsbaums ist die Tiefe des Baums. Daher ist es notwendig, verschiedene Tiefen des Baums zu evaluieren, um die optimale Leistung hinsichtlich der Korrektklassifikationsrate (engl. classification accuracy) zu erreichen. Zu diesem Zweck verwenden wir die Gittersuche (engl. grid search) in Kombination mit dem Kreuzvalidierungsverfahren (engl. cross validation), das wir zuvor verwendet haben. Glücklicherweise hat scikit-learn bereits eine schöne und einfach zu bedienende Schnittstelle für dieses Problem implementiert. Die Funktion heißt `GridSearchCV` und ist in der Bibliothek sklearn.model_selection zu finden.\n",
        "\n",
        "\n",
        "#### Verwendung von Grid Search Cross-Validation zur Optimierung der Baumtiefe\n",
        "\n",
        "<div class=\"alert alert-block alert-success\">\n",
        "<b>Aufgabe 3.2.11:</b>\n",
        "<ul>\n",
        "<li> Laden Sie die Bibliothek GridSearchCV und trainieren Sie einen Entscheidungsbaum (DecisionTreeClassifier, random_state = 17)\n",
        "<li> Ermitteln Sie die optimale maximale Tiefe mit 5-facher geschichteter Kreuzvalidierung (engl. 5-fold stratified cross-validation) und gleichem RandomState\n",
        "<li> Variieren Sie die Tiefe des Baums zwischen 1 und 13.\n",
        "<li> Vergessen Sie nicht, den gesamten Trainingssatz zu verwenden (bevor Sie ihn in train,val aufteilen)\n",
        "<li> Hinweis: Verwenden Sie die scikit-learn-Website für weitere Informationen zu den Funktionen\n",
        "</ul>\n",
        "</div>"
      ],
      "metadata": {
        "id": "V2zLt-hl3ZVs"
      }
    },
    {
      "cell_type": "code",
      "execution_count": 77,
      "source": [
        "# STUDENT CODE HERE\n",
        "from sklearn.model_selection import GridSearchCV\n",
        "random_state = 17\n",
        "param_grid = {'max_depth': np.arange(1, 14)}\n",
        "decision_tree = DecisionTreeClassifier(random_state=random_state)\n",
        "cv = StratifiedKFold(n_splits=5, random_state=random_state, shuffle=True)\n",
        "grid_search = GridSearchCV(decision_tree, param_grid=param_grid, cv=cv)\n",
        "grid_search.fit(X,Y)\n",
        "# Best parameters and score\n",
        "print(\"Best Parameters:\", grid_search.best_params_)\n",
        "print(\"Best Score:\", grid_search.best_score_)\n",
        "\n",
        "# Evaluate on the best model\n",
        "best_model = grid_search.best_estimator_\n",
        "y_pred = best_model.predict(X)\n",
        "accuracy = accuracy_score(Y, y_pred)\n",
        "print(\"Accuracy on the best model:\", accuracy)\n",
        "# STUDENT CODE until HERE"
      ],
      "outputs": [
        {
          "output_type": "stream",
          "name": "stdout",
          "text": [
            "Best Parameters: {'max_depth': np.int64(5)}\n",
            "Best Score: 0.818172117255665\n",
            "Accuracy on the best model: 0.8484848484848485\n"
          ]
        }
      ],
      "metadata": {
        "id": "mfRRYLbZ3ZVs",
        "outputId": "254187d8-4d90-4ed0-a2a6-c9979fe60420",
        "colab": {
          "base_uri": "https://localhost:8080/"
        }
      }
    },
    {
      "cell_type": "markdown",
      "source": [
        "<div class=\"alert alert-block alert-success\">\n",
        "<b>Aufgabe 3.2.12:</b>\n",
        "<ul>\n",
        "<li> Zeichnen Sie ein Diagramm zur Darstellung der durchschnittlichen Korrektklassifikationsrate über die Tiefe\n",
        "<li> Benutzen Sie das Attribut <code>.cv_results</code>, um die durchschnittliche Korrektklassifikationsrate mit Hilfe von 'mean_test_score' zu erhalten.\n",
        "</ul>\n",
        "</div>"
      ],
      "metadata": {
        "id": "XJIHlwYi3ZVs"
      }
    },
    {
      "cell_type": "code",
      "execution_count": 78,
      "source": [
        "# STUDENT CODE HERE\n",
        "results = grid_search.cv_results_\n",
        "mean_scores = results['mean_test_score']\n",
        "std_scores = results['std_test_score']\n",
        "depths = results['param_max_depth']\n",
        "plt.figure(figsize=(10, 6))\n",
        "plt.errorbar(depths, mean_scores, yerr=std_scores, fmt='-o', capsize=5, label='Mean Accuracy (±1 Std)')\n",
        "plt.xlabel('max_depth des Baums')\n",
        "plt.ylabel('Mittlere Accuracy (Cross-Validation)')\n",
        "plt.title('Korrektklassifikationsrate über Baumtiefe (5-fache Kreuzvalidierung)')\n",
        "plt.grid(True)\n",
        "plt.legend()\n",
        "plt.xticks(depths)\n",
        "plt.tight_layout()\n",
        "plt.show()\n",
        "# STUDENT CODE until HERE"
      ],
      "outputs": [
        {
          "output_type": "display_data",
          "data": {
            "text/plain": [
              "<Figure size 1000x600 with 1 Axes>"
            ],
            "image/png": "[encoded data removed]"
          },
          "metadata": {}
        }
      ],
      "metadata": {
        "id": "DX8ZW1Jg3ZVt",
        "outputId": "1722b1aa-2730-457e-8b5c-d67a54a9b051",
        "colab": {
          "base_uri": "https://localhost:8080/",
          "height": 607
        }
      }
    },
    {
      "cell_type": "markdown",
      "source": [
        "<div class=\"alert alert-block alert-success\">\n",
        "<b>Frage 3.2.13:</b>  Was sind die besten Parameterwerte? Wie hoch ist die Korrektklassifikationsrate (Kreuzvaliderungsverfahren) des Modells mit dieser Baumtiefe?\n",
        "</div>\n",
        "\n",
        "<div class=\"alert alert-block alert-success\">\n",
        "<b>Ihre Antwort:</b></div>\n"
      ],
      "metadata": {
        "id": "RHYTq0xq3ZVt"
      }
    },
    {
      "cell_type": "code",
      "execution_count": 80,
      "source": [
        "# STUDENT CODE HERE\n",
        "# Best parameters and score\n",
        "print(\"Best Parameters:\", grid_search.best_params_)\n",
        "print(\"Best Score:\", grid_search.best_score_)\n",
        "\n",
        "# Evaluate on the best model\n",
        "best_model = grid_search.best_estimator_\n",
        "y_pred = best_model.predict(X)\n",
        "accuracy = accuracy_score(Y, y_pred)\n",
        "print(\"Accuracy on the best model:\", accuracy)\n",
        "# STUDENT CODE until HERE"
      ],
      "outputs": [
        {
          "output_type": "stream",
          "name": "stdout",
          "text": [
            "Best Parameters: {'max_depth': np.int64(5)}\n",
            "Best Score: 0.818172117255665\n",
            "Accuracy on the best model: 0.8484848484848485\n"
          ]
        }
      ],
      "metadata": {
        "id": "m1uriYCW3ZVt",
        "outputId": "5c6f68f3-2bdb-4160-e19e-99b9bdce6eab",
        "colab": {
          "base_uri": "https://localhost:8080/"
        }
      }
    },
    {
      "cell_type": "markdown",
      "source": [
        "Für unsere Trainingsdaten haben wir den optimalen Parameter gefunden. Schließlich können wir die Perfomance bewerten, indem wir unsere Trainingsdaten zum Trainieren und unseren Testdatensatz zum Testen verwenden. Verwenden Sie im Folgenden immer eine Baumtiefe von 3.\n",
        "\n",
        "<div class=\"alert alert-block alert-success\">\n",
        "<b>Aufgabe 3.2.14:</b>\n",
        "<ul>\n",
        "<li> Trainieren Sie einen Entscheidungsbaum bei einer Baumtiefe von drei, unter Verwendung aller Trainingsdaten (keine Kreuzvalidierung)\n",
        "<li> Berechnen Sie die Korrektklassifikationsrate (engl. accuracy) für den Testdatensatz. Verwenden Sie den Parameter random_state = 17 für die Reproduzierbarkeit.\n",
        "</ul>\n",
        "</div>\n"
      ],
      "metadata": {
        "id": "-iVGmV3a3ZVt"
      }
    },
    {
      "cell_type": "code",
      "execution_count": 103,
      "source": [
        "# STUDENT CODE HERE\n",
        "# decision_tree = DecisionTreeClassifier(max_depth = 3, random_state = 17)\n",
        "# decision_tree.fit(X, Y)\n",
        "# predicted=decision_tree.predict(x_val)\n",
        "# scores = accuracy_score(y_val, predicted)\n",
        "clf = DecisionTreeClassifier(max_depth=3, random_state=17)\n",
        "clf.fit(x_train, y_train)\n",
        "\n",
        "# Vorhersage auf Testdaten\n",
        "y_pred = clf.predict(x_val)\n",
        "\n",
        "# Accuracy berechnen\n",
        "acc = accuracy_score(y_val, y_pred)\n",
        "print(scores)\n",
        "# STUDENT CODE until HERE"
      ],
      "outputs": [
        {
          "output_type": "stream",
          "name": "stdout",
          "text": [
            "0.7932960893854749\n"
          ]
        }
      ],
      "metadata": {
        "id": "ReEzL9Yf3ZVt",
        "outputId": "5341e146-6171-4d0b-8f8b-745432a08095",
        "colab": {
          "base_uri": "https://localhost:8080/"
        }
      }
    },
    {
      "cell_type": "code",
      "execution_count": 94,
      "source": [
        "dot_data = export_graphviz(\n",
        "    decision_tree, out_file=None, feature_names=x_train.columns.values, class_names=['Dead','Survived'],  filled=True,\n",
        "    rounded=True, special_characters=True\n",
        ")\n",
        "graph = Source(dot_data)\n",
        "graph"
      ],
      "outputs": [
        {
          "output_type": "execute_result",
          "data": {
            "image/svg+xml": "<?xml version=\"1.0\" encoding=\"UTF-8\" standalone=\"no\"?>\n<!DOCTYPE svg PUBLIC \"-//W3C//DTD SVG 1.1//EN\"\n \"http://www.w3.org/Graphics/SVG/1.1/DTD/svg11.dtd\">\n<!-- Generated by graphviz version 2.43.0 (0)\n -->\n<!-- Title: Tree Pages: 1 -->\n<svg width=\"1021pt\" height=\"433pt\"\n viewBox=\"0.00 0.00 1021.00 433.00\" xmlns=\"http://www.w3.org/2000/svg\" xmlns:xlink=\"http://www.w3.org/1999/xlink\">\n<g id=\"graph0\" class=\"graph\" transform=\"scale(1 1) rotate(0) translate(4 429)\">\n<title>Tree</title>\n<polygon fill=\"white\" stroke=\"transparent\" points=\"-4,4 -4,-429 1017,-429 1017,4 -4,4\"/>\n<!-- 0 -->\n<g id=\"node1\" class=\"node\">\n<title>0</title>\n<path fill=\"#f5ceb1\" stroke=\"black\" d=\"M548.5,-425C548.5,-425 425.5,-425 425.5,-425 419.5,-425 413.5,-419 413.5,-413 413.5,-413 413.5,-354 413.5,-354 413.5,-348 419.5,-342 425.5,-342 425.5,-342 548.5,-342 548.5,-342 554.5,-342 560.5,-348 560.5,-354 560.5,-354 560.5,-413 560.5,-413 560.5,-419 554.5,-425 548.5,-425\"/>\n<text text-anchor=\"start\" x=\"458\" y=\"-409.8\" font-family=\"Helvetica,sans-Serif\" font-size=\"14.00\">Sex ≤ 0.5</text>\n<text text-anchor=\"start\" x=\"455\" y=\"-394.8\" font-family=\"Helvetica,sans-Serif\" font-size=\"14.00\">gini = 0.47</text>\n<text text-anchor=\"start\" x=\"442\" y=\"-379.8\" font-family=\"Helvetica,sans-Serif\" font-size=\"14.00\">samples = 712</text>\n<text text-anchor=\"start\" x=\"421.5\" y=\"-364.8\" font-family=\"Helvetica,sans-Serif\" font-size=\"14.00\">value = [443.0, 269.0]</text>\n<text text-anchor=\"start\" x=\"447.5\" y=\"-349.8\" font-family=\"Helvetica,sans-Serif\" font-size=\"14.00\">class = Dead</text>\n</g>\n<!-- 1 -->\n<g id=\"node2\" class=\"node\">\n<title>1</title>\n<path fill=\"#eb9d65\" stroke=\"black\" d=\"M412.5,-306C412.5,-306 319.5,-306 319.5,-306 313.5,-306 307.5,-300 307.5,-294 307.5,-294 307.5,-235 307.5,-235 307.5,-229 313.5,-223 319.5,-223 319.5,-223 412.5,-223 412.5,-223 418.5,-223 424.5,-229 424.5,-235 424.5,-235 424.5,-294 424.5,-294 424.5,-300 418.5,-306 412.5,-306\"/>\n<text text-anchor=\"start\" x=\"337\" y=\"-290.8\" font-family=\"Helvetica,sans-Serif\" font-size=\"14.00\">Age ≤ 6.5</text>\n<text text-anchor=\"start\" x=\"330.5\" y=\"-275.8\" font-family=\"Helvetica,sans-Serif\" font-size=\"14.00\">gini = 0.299</text>\n<text text-anchor=\"start\" x=\"321\" y=\"-260.8\" font-family=\"Helvetica,sans-Serif\" font-size=\"14.00\">samples = 465</text>\n<text text-anchor=\"start\" x=\"315.5\" y=\"-245.8\" font-family=\"Helvetica,sans-Serif\" font-size=\"14.00\">value = [380, 85]</text>\n<text text-anchor=\"start\" x=\"326.5\" y=\"-230.8\" font-family=\"Helvetica,sans-Serif\" font-size=\"14.00\">class = Dead</text>\n</g>\n<!-- 0&#45;&gt;1 -->\n<g id=\"edge1\" class=\"edge\">\n<title>0&#45;&gt;1</title>\n<path fill=\"none\" stroke=\"black\" d=\"M445.02,-341.91C435.45,-332.65 425.19,-322.73 415.34,-313.21\"/>\n<polygon fill=\"black\" stroke=\"black\" points=\"417.53,-310.46 407.91,-306.02 412.66,-315.49 417.53,-310.46\"/>\n<text text-anchor=\"middle\" x=\"408.33\" y=\"-327.32\" font-family=\"Helvetica,sans-Serif\" font-size=\"14.00\">True</text>\n</g>\n<!-- 8 -->\n<g id=\"node9\" class=\"node\">\n<title>8</title>\n<path fill=\"#7dbfee\" stroke=\"black\" d=\"M681,-306C681,-306 565,-306 565,-306 559,-306 553,-300 553,-294 553,-294 553,-235 553,-235 553,-229 559,-223 565,-223 565,-223 681,-223 681,-223 687,-223 693,-229 693,-235 693,-235 693,-294 693,-294 693,-300 687,-306 681,-306\"/>\n<text text-anchor=\"start\" x=\"586\" y=\"-290.8\" font-family=\"Helvetica,sans-Serif\" font-size=\"14.00\">Pclass ≤ 2.5</text>\n<text text-anchor=\"start\" x=\"591\" y=\"-275.8\" font-family=\"Helvetica,sans-Serif\" font-size=\"14.00\">gini = 0.38</text>\n<text text-anchor=\"start\" x=\"578\" y=\"-260.8\" font-family=\"Helvetica,sans-Serif\" font-size=\"14.00\">samples = 247</text>\n<text text-anchor=\"start\" x=\"561\" y=\"-245.8\" font-family=\"Helvetica,sans-Serif\" font-size=\"14.00\">value = [63.0, 184.0]</text>\n<text text-anchor=\"start\" x=\"573\" y=\"-230.8\" font-family=\"Helvetica,sans-Serif\" font-size=\"14.00\">class = Survived</text>\n</g>\n<!-- 0&#45;&gt;8 -->\n<g id=\"edge8\" class=\"edge\">\n<title>0&#45;&gt;8</title>\n<path fill=\"none\" stroke=\"black\" d=\"M534.18,-341.91C545.16,-332.47 556.93,-322.34 568.19,-312.65\"/>\n<polygon fill=\"black\" stroke=\"black\" points=\"570.6,-315.2 575.9,-306.02 566.04,-309.89 570.6,-315.2\"/>\n<text text-anchor=\"middle\" x=\"574.03\" y=\"-327.25\" font-family=\"Helvetica,sans-Serif\" font-size=\"14.00\">False</text>\n</g>\n<!-- 2 -->\n<g id=\"node3\" class=\"node\">\n<title>2</title>\n<path fill=\"#acd6f4\" stroke=\"black\" d=\"M229,-187C229,-187 137,-187 137,-187 131,-187 125,-181 125,-175 125,-175 125,-116 125,-116 125,-110 131,-104 137,-104 137,-104 229,-104 229,-104 235,-104 241,-110 241,-116 241,-116 241,-175 241,-175 241,-181 235,-187 229,-187\"/>\n<text text-anchor=\"start\" x=\"146\" y=\"-171.8\" font-family=\"Helvetica,sans-Serif\" font-size=\"14.00\">Pclass ≤ 2.5</text>\n<text text-anchor=\"start\" x=\"147.5\" y=\"-156.8\" font-family=\"Helvetica,sans-Serif\" font-size=\"14.00\">gini = 0.465</text>\n<text text-anchor=\"start\" x=\"142\" y=\"-141.8\" font-family=\"Helvetica,sans-Serif\" font-size=\"14.00\">samples = 19</text>\n<text text-anchor=\"start\" x=\"140\" y=\"-126.8\" font-family=\"Helvetica,sans-Serif\" font-size=\"14.00\">value = [7, 12]</text>\n<text text-anchor=\"start\" x=\"133\" y=\"-111.8\" font-family=\"Helvetica,sans-Serif\" font-size=\"14.00\">class = Survived</text>\n</g>\n<!-- 1&#45;&gt;2 -->\n<g id=\"edge2\" class=\"edge\">\n<title>1&#45;&gt;2</title>\n<path fill=\"none\" stroke=\"black\" d=\"M307.34,-226C288.94,-214.23 268.49,-201.16 249.58,-189.07\"/>\n<polygon fill=\"black\" stroke=\"black\" points=\"251.32,-186.03 241.01,-183.59 247.55,-191.93 251.32,-186.03\"/>\n</g>\n<!-- 5 -->\n<g id=\"node6\" class=\"node\">\n<title>5</title>\n<path fill=\"#ea9a60\" stroke=\"black\" d=\"M412.5,-187C412.5,-187 319.5,-187 319.5,-187 313.5,-187 307.5,-181 307.5,-175 307.5,-175 307.5,-116 307.5,-116 307.5,-110 313.5,-104 319.5,-104 319.5,-104 412.5,-104 412.5,-104 418.5,-104 424.5,-110 424.5,-116 424.5,-116 424.5,-175 424.5,-175 424.5,-181 418.5,-187 412.5,-187\"/>\n<text text-anchor=\"start\" x=\"329\" y=\"-171.8\" font-family=\"Helvetica,sans-Serif\" font-size=\"14.00\">Pclass ≤ 1.5</text>\n<text text-anchor=\"start\" x=\"330.5\" y=\"-156.8\" font-family=\"Helvetica,sans-Serif\" font-size=\"14.00\">gini = 0.274</text>\n<text text-anchor=\"start\" x=\"321\" y=\"-141.8\" font-family=\"Helvetica,sans-Serif\" font-size=\"14.00\">samples = 446</text>\n<text text-anchor=\"start\" x=\"315.5\" y=\"-126.8\" font-family=\"Helvetica,sans-Serif\" font-size=\"14.00\">value = [373, 73]</text>\n<text text-anchor=\"start\" x=\"326.5\" y=\"-111.8\" font-family=\"Helvetica,sans-Serif\" font-size=\"14.00\">class = Dead</text>\n</g>\n<!-- 1&#45;&gt;5 -->\n<g id=\"edge5\" class=\"edge\">\n<title>1&#45;&gt;5</title>\n<path fill=\"none\" stroke=\"black\" d=\"M366,-222.91C366,-214.65 366,-205.86 366,-197.3\"/>\n<polygon fill=\"black\" stroke=\"black\" points=\"369.5,-197.02 366,-187.02 362.5,-197.02 369.5,-197.02\"/>\n</g>\n<!-- 3 -->\n<g id=\"node4\" class=\"node\">\n<title>3</title>\n<path fill=\"#399de5\" stroke=\"black\" d=\"M104,-68C104,-68 12,-68 12,-68 6,-68 0,-62 0,-56 0,-56 0,-12 0,-12 0,-6 6,0 12,0 12,0 104,0 104,0 110,0 116,-6 116,-12 116,-12 116,-56 116,-56 116,-62 110,-68 104,-68\"/>\n<text text-anchor=\"start\" x=\"30\" y=\"-52.8\" font-family=\"Helvetica,sans-Serif\" font-size=\"14.00\">gini = 0.0</text>\n<text text-anchor=\"start\" x=\"20.5\" y=\"-37.8\" font-family=\"Helvetica,sans-Serif\" font-size=\"14.00\">samples = 8</text>\n<text text-anchor=\"start\" x=\"18.5\" y=\"-22.8\" font-family=\"Helvetica,sans-Serif\" font-size=\"14.00\">value = [0, 8]</text>\n<text text-anchor=\"start\" x=\"8\" y=\"-7.8\" font-family=\"Helvetica,sans-Serif\" font-size=\"14.00\">class = Survived</text>\n</g>\n<!-- 2&#45;&gt;3 -->\n<g id=\"edge3\" class=\"edge\">\n<title>2&#45;&gt;3</title>\n<path fill=\"none\" stroke=\"black\" d=\"M136.45,-103.73C125.73,-94.33 114.33,-84.35 103.65,-74.99\"/>\n<polygon fill=\"black\" stroke=\"black\" points=\"105.84,-72.26 96.01,-68.3 101.23,-77.52 105.84,-72.26\"/>\n</g>\n<!-- 4 -->\n<g id=\"node5\" class=\"node\">\n<title>4</title>\n<path fill=\"#f4c9aa\" stroke=\"black\" d=\"M220,-68C220,-68 146,-68 146,-68 140,-68 134,-62 134,-56 134,-56 134,-12 134,-12 134,-6 140,0 146,0 146,0 220,0 220,0 226,0 232,-6 232,-12 232,-12 232,-56 232,-56 232,-62 226,-68 220,-68\"/>\n<text text-anchor=\"start\" x=\"147.5\" y=\"-52.8\" font-family=\"Helvetica,sans-Serif\" font-size=\"14.00\">gini = 0.463</text>\n<text text-anchor=\"start\" x=\"142\" y=\"-37.8\" font-family=\"Helvetica,sans-Serif\" font-size=\"14.00\">samples = 11</text>\n<text text-anchor=\"start\" x=\"143.5\" y=\"-22.8\" font-family=\"Helvetica,sans-Serif\" font-size=\"14.00\">value = [7, 4]</text>\n<text text-anchor=\"start\" x=\"143.5\" y=\"-7.8\" font-family=\"Helvetica,sans-Serif\" font-size=\"14.00\">class = Dead</text>\n</g>\n<!-- 2&#45;&gt;4 -->\n<g id=\"edge4\" class=\"edge\">\n<title>2&#45;&gt;4</title>\n<path fill=\"none\" stroke=\"black\" d=\"M183,-103.73C183,-95.52 183,-86.86 183,-78.56\"/>\n<polygon fill=\"black\" stroke=\"black\" points=\"186.5,-78.3 183,-68.3 179.5,-78.3 186.5,-78.3\"/>\n</g>\n<!-- 6 -->\n<g id=\"node7\" class=\"node\">\n<title>6</title>\n<path fill=\"#f3c4a2\" stroke=\"black\" d=\"M348,-68C348,-68 262,-68 262,-68 256,-68 250,-62 250,-56 250,-56 250,-12 250,-12 250,-6 256,0 262,0 262,0 348,0 348,0 354,0 360,-6 360,-12 360,-12 360,-56 360,-56 360,-62 354,-68 348,-68\"/>\n<text text-anchor=\"start\" x=\"269.5\" y=\"-52.8\" font-family=\"Helvetica,sans-Serif\" font-size=\"14.00\">gini = 0.453</text>\n<text text-anchor=\"start\" x=\"264\" y=\"-37.8\" font-family=\"Helvetica,sans-Serif\" font-size=\"14.00\">samples = 95</text>\n<text text-anchor=\"start\" x=\"258\" y=\"-22.8\" font-family=\"Helvetica,sans-Serif\" font-size=\"14.00\">value = [62, 33]</text>\n<text text-anchor=\"start\" x=\"265.5\" y=\"-7.8\" font-family=\"Helvetica,sans-Serif\" font-size=\"14.00\">class = Dead</text>\n</g>\n<!-- 5&#45;&gt;6 -->\n<g id=\"edge6\" class=\"edge\">\n<title>5&#45;&gt;6</title>\n<path fill=\"none\" stroke=\"black\" d=\"M343.29,-103.73C338.46,-95.06 333.35,-85.9 328.5,-77.18\"/>\n<polygon fill=\"black\" stroke=\"black\" points=\"331.47,-75.33 323.55,-68.3 325.36,-78.74 331.47,-75.33\"/>\n</g>\n<!-- 7 -->\n<g id=\"node8\" class=\"node\">\n<title>7</title>\n<path fill=\"#e89152\" stroke=\"black\" d=\"M483.5,-68C483.5,-68 390.5,-68 390.5,-68 384.5,-68 378.5,-62 378.5,-56 378.5,-56 378.5,-12 378.5,-12 378.5,-6 384.5,0 390.5,0 390.5,0 483.5,0 483.5,0 489.5,0 495.5,-6 495.5,-12 495.5,-12 495.5,-56 495.5,-56 495.5,-62 489.5,-68 483.5,-68\"/>\n<text text-anchor=\"start\" x=\"401.5\" y=\"-52.8\" font-family=\"Helvetica,sans-Serif\" font-size=\"14.00\">gini = 0.202</text>\n<text text-anchor=\"start\" x=\"392\" y=\"-37.8\" font-family=\"Helvetica,sans-Serif\" font-size=\"14.00\">samples = 351</text>\n<text text-anchor=\"start\" x=\"386.5\" y=\"-22.8\" font-family=\"Helvetica,sans-Serif\" font-size=\"14.00\">value = [311, 40]</text>\n<text text-anchor=\"start\" x=\"397.5\" y=\"-7.8\" font-family=\"Helvetica,sans-Serif\" font-size=\"14.00\">class = Dead</text>\n</g>\n<!-- 5&#45;&gt;7 -->\n<g id=\"edge7\" class=\"edge\">\n<title>5&#45;&gt;7</title>\n<path fill=\"none\" stroke=\"black\" d=\"M392.44,-103.73C398.12,-94.97 404.12,-85.7 409.83,-76.91\"/>\n<polygon fill=\"black\" stroke=\"black\" points=\"412.9,-78.59 415.41,-68.3 407.03,-74.79 412.9,-78.59\"/>\n</g>\n<!-- 9 -->\n<g id=\"node10\" class=\"node\">\n<title>9</title>\n<path fill=\"#43a2e6\" stroke=\"black\" d=\"M669,-187C669,-187 577,-187 577,-187 571,-187 565,-181 565,-175 565,-175 565,-116 565,-116 565,-110 571,-104 577,-104 577,-104 669,-104 669,-104 675,-104 681,-110 681,-116 681,-116 681,-175 681,-175 681,-181 675,-187 669,-187\"/>\n<text text-anchor=\"start\" x=\"594\" y=\"-171.8\" font-family=\"Helvetica,sans-Serif\" font-size=\"14.00\">Age ≤ 2.5</text>\n<text text-anchor=\"start\" x=\"587.5\" y=\"-156.8\" font-family=\"Helvetica,sans-Serif\" font-size=\"14.00\">gini = 0.087</text>\n<text text-anchor=\"start\" x=\"578\" y=\"-141.8\" font-family=\"Helvetica,sans-Serif\" font-size=\"14.00\">samples = 131</text>\n<text text-anchor=\"start\" x=\"576\" y=\"-126.8\" font-family=\"Helvetica,sans-Serif\" font-size=\"14.00\">value = [6, 125]</text>\n<text text-anchor=\"start\" x=\"573\" y=\"-111.8\" font-family=\"Helvetica,sans-Serif\" font-size=\"14.00\">class = Survived</text>\n</g>\n<!-- 8&#45;&gt;9 -->\n<g id=\"edge9\" class=\"edge\">\n<title>8&#45;&gt;9</title>\n<path fill=\"none\" stroke=\"black\" d=\"M623,-222.91C623,-214.65 623,-205.86 623,-197.3\"/>\n<polygon fill=\"black\" stroke=\"black\" points=\"626.5,-197.02 623,-187.02 619.5,-197.02 626.5,-197.02\"/>\n</g>\n<!-- 12 -->\n<g id=\"node13\" class=\"node\">\n<title>12</title>\n<path fill=\"#f8fcfe\" stroke=\"black\" d=\"M881,-187C881,-187 773,-187 773,-187 767,-187 761,-181 761,-175 761,-175 761,-116 761,-116 761,-110 767,-104 773,-104 773,-104 881,-104 881,-104 887,-104 893,-110 893,-116 893,-116 893,-175 893,-175 893,-181 887,-187 881,-187\"/>\n<text text-anchor=\"start\" x=\"788.5\" y=\"-171.8\" font-family=\"Helvetica,sans-Serif\" font-size=\"14.00\">Fare ≤ 23.35</text>\n<text text-anchor=\"start\" x=\"799\" y=\"-156.8\" font-family=\"Helvetica,sans-Serif\" font-size=\"14.00\">gini = 0.5</text>\n<text text-anchor=\"start\" x=\"782\" y=\"-141.8\" font-family=\"Helvetica,sans-Serif\" font-size=\"14.00\">samples = 116</text>\n<text text-anchor=\"start\" x=\"769\" y=\"-126.8\" font-family=\"Helvetica,sans-Serif\" font-size=\"14.00\">value = [57.0, 59.0]</text>\n<text text-anchor=\"start\" x=\"777\" y=\"-111.8\" font-family=\"Helvetica,sans-Serif\" font-size=\"14.00\">class = Survived</text>\n</g>\n<!-- 8&#45;&gt;12 -->\n<g id=\"edge12\" class=\"edge\">\n<title>8&#45;&gt;12</title>\n<path fill=\"none\" stroke=\"black\" d=\"M693.21,-223.24C712.2,-212.34 732.82,-200.52 752.06,-189.48\"/>\n<polygon fill=\"black\" stroke=\"black\" points=\"753.86,-192.49 760.79,-184.47 750.37,-186.41 753.86,-192.49\"/>\n</g>\n<!-- 10 -->\n<g id=\"node11\" class=\"node\">\n<title>10</title>\n<path fill=\"#ffffff\" stroke=\"black\" d=\"M596.5,-68C596.5,-68 525.5,-68 525.5,-68 519.5,-68 513.5,-62 513.5,-56 513.5,-56 513.5,-12 513.5,-12 513.5,-6 519.5,0 525.5,0 525.5,0 596.5,0 596.5,0 602.5,0 608.5,-6 608.5,-12 608.5,-12 608.5,-56 608.5,-56 608.5,-62 602.5,-68 596.5,-68\"/>\n<text text-anchor=\"start\" x=\"533\" y=\"-52.8\" font-family=\"Helvetica,sans-Serif\" font-size=\"14.00\">gini = 0.5</text>\n<text text-anchor=\"start\" x=\"523.5\" y=\"-37.8\" font-family=\"Helvetica,sans-Serif\" font-size=\"14.00\">samples = 2</text>\n<text text-anchor=\"start\" x=\"521.5\" y=\"-22.8\" font-family=\"Helvetica,sans-Serif\" font-size=\"14.00\">value = [1, 1]</text>\n<text text-anchor=\"start\" x=\"521.5\" y=\"-7.8\" font-family=\"Helvetica,sans-Serif\" font-size=\"14.00\">class = Dead</text>\n</g>\n<!-- 9&#45;&gt;10 -->\n<g id=\"edge10\" class=\"edge\">\n<title>9&#45;&gt;10</title>\n<path fill=\"none\" stroke=\"black\" d=\"M599.91,-103.73C595.01,-95.06 589.82,-85.9 584.88,-77.18\"/>\n<polygon fill=\"black\" stroke=\"black\" points=\"587.83,-75.28 579.85,-68.3 581.74,-78.73 587.83,-75.28\"/>\n</g>\n<!-- 11 -->\n<g id=\"node12\" class=\"node\">\n<title>11</title>\n<path fill=\"#41a1e6\" stroke=\"black\" d=\"M731,-68C731,-68 639,-68 639,-68 633,-68 627,-62 627,-56 627,-56 627,-12 627,-12 627,-6 633,0 639,0 639,0 731,0 731,0 737,0 743,-6 743,-12 743,-12 743,-56 743,-56 743,-62 737,-68 731,-68\"/>\n<text text-anchor=\"start\" x=\"649.5\" y=\"-52.8\" font-family=\"Helvetica,sans-Serif\" font-size=\"14.00\">gini = 0.075</text>\n<text text-anchor=\"start\" x=\"640\" y=\"-37.8\" font-family=\"Helvetica,sans-Serif\" font-size=\"14.00\">samples = 129</text>\n<text text-anchor=\"start\" x=\"638\" y=\"-22.8\" font-family=\"Helvetica,sans-Serif\" font-size=\"14.00\">value = [5, 124]</text>\n<text text-anchor=\"start\" x=\"635\" y=\"-7.8\" font-family=\"Helvetica,sans-Serif\" font-size=\"14.00\">class = Survived</text>\n</g>\n<!-- 9&#45;&gt;11 -->\n<g id=\"edge11\" class=\"edge\">\n<title>9&#45;&gt;11</title>\n<path fill=\"none\" stroke=\"black\" d=\"M646.09,-103.73C650.99,-95.06 656.18,-85.9 661.12,-77.18\"/>\n<polygon fill=\"black\" stroke=\"black\" points=\"664.26,-78.73 666.15,-68.3 658.17,-75.28 664.26,-78.73\"/>\n</g>\n<!-- 13 -->\n<g id=\"node14\" class=\"node\">\n<title>13</title>\n<path fill=\"#baddf6\" stroke=\"black\" d=\"M881,-68C881,-68 773,-68 773,-68 767,-68 761,-62 761,-56 761,-56 761,-12 761,-12 761,-6 767,0 773,0 773,0 881,0 881,0 887,0 893,-6 893,-12 893,-12 893,-56 893,-56 893,-62 887,-68 881,-68\"/>\n<text text-anchor=\"start\" x=\"791.5\" y=\"-52.8\" font-family=\"Helvetica,sans-Serif\" font-size=\"14.00\">gini = 0.477</text>\n<text text-anchor=\"start\" x=\"786\" y=\"-37.8\" font-family=\"Helvetica,sans-Serif\" font-size=\"14.00\">samples = 94</text>\n<text text-anchor=\"start\" x=\"769\" y=\"-22.8\" font-family=\"Helvetica,sans-Serif\" font-size=\"14.00\">value = [37.0, 57.0]</text>\n<text text-anchor=\"start\" x=\"777\" y=\"-7.8\" font-family=\"Helvetica,sans-Serif\" font-size=\"14.00\">class = Survived</text>\n</g>\n<!-- 12&#45;&gt;13 -->\n<g id=\"edge13\" class=\"edge\">\n<title>12&#45;&gt;13</title>\n<path fill=\"none\" stroke=\"black\" d=\"M827,-103.73C827,-95.52 827,-86.86 827,-78.56\"/>\n<polygon fill=\"black\" stroke=\"black\" points=\"830.5,-78.3 827,-68.3 823.5,-78.3 830.5,-78.3\"/>\n</g>\n<!-- 14 -->\n<g id=\"node15\" class=\"node\">\n<title>14</title>\n<path fill=\"#e88e4d\" stroke=\"black\" d=\"M1001,-68C1001,-68 923,-68 923,-68 917,-68 911,-62 911,-56 911,-56 911,-12 911,-12 911,-6 917,0 923,0 923,0 1001,0 1001,0 1007,0 1013,-6 1013,-12 1013,-12 1013,-56 1013,-56 1013,-62 1007,-68 1001,-68\"/>\n<text text-anchor=\"start\" x=\"926.5\" y=\"-52.8\" font-family=\"Helvetica,sans-Serif\" font-size=\"14.00\">gini = 0.165</text>\n<text text-anchor=\"start\" x=\"921\" y=\"-37.8\" font-family=\"Helvetica,sans-Serif\" font-size=\"14.00\">samples = 22</text>\n<text text-anchor=\"start\" x=\"919\" y=\"-22.8\" font-family=\"Helvetica,sans-Serif\" font-size=\"14.00\">value = [20, 2]</text>\n<text text-anchor=\"start\" x=\"922.5\" y=\"-7.8\" font-family=\"Helvetica,sans-Serif\" font-size=\"14.00\">class = Dead</text>\n</g>\n<!-- 12&#45;&gt;14 -->\n<g id=\"edge14\" class=\"edge\">\n<title>12&#45;&gt;14</title>\n<path fill=\"none\" stroke=\"black\" d=\"M877.27,-103.73C888.96,-94.24 901.4,-84.16 913.04,-74.72\"/>\n<polygon fill=\"black\" stroke=\"black\" points=\"915.38,-77.32 920.95,-68.3 910.97,-71.88 915.38,-77.32\"/>\n</g>\n</g>\n</svg>\n",
            "text/plain": [
              "<graphviz.sources.Source at 0x798f31712690>"
            ]
          },
          "metadata": {},
          "execution_count": 94
        }
      ],
      "metadata": {
        "id": "ny3li6hX3ZVu",
        "outputId": "746106e0-86f4-474f-f787-5f80318ca630",
        "colab": {
          "base_uri": "https://localhost:8080/",
          "height": 618
        }
      }
    },
    {
      "cell_type": "markdown",
      "source": [
        "#### Vergleich von Ergebnissen mit der nicht optimierten Version\n",
        "\n",
        "<div class=\"alert alert-block alert-success\">\n",
        "<b>Aufgabe 3.2.15:</b> Bestimmen Sie die Wirkung von GridSearchCV\n",
        "<ul>\n",
        "<li> Benutzen Sie folgenden Ausdruck: (acc2 - acc1) / acc1 * 100%\n",
        "<li> acc1 und acc2 sind die Korrektklassifikationsrate (engl. accuracies) der Kreuzvalidierung vor und nach der Optimierung von max_depth mit GridSearchCV\n",
        "<li> Hinweis: acc1 wurde bereits vor der Optimierung verwendet, berechnen Sie daher acc2 zum Vergleich\n",
        "<li> Geben Sie die Verbesserung (berechnet durch den Ausdruck) und die mittlere Korrektklassifikationsrate (engl. accuracy) des optimierten dec_tree aus. Verwenden Sie eine Baumtiefe von 3 und einen random_state = 17 für die Reproduzierbarkeit.\n",
        "</ul>\n",
        "</div>\n"
      ],
      "metadata": {
        "id": "AFptQMMT3ZVu"
      }
    },
    {
      "cell_type": "code",
      "execution_count": 97,
      "source": [
        "# STUDENT CODE HERE\n",
        "dec_tree_3 = DecisionTreeClassifier(max_depth = 3, random_state = 17)\n",
        "dec_tree_3.fit(X,Y)\n",
        "predicted=dec_tree_3.predict(X)\n",
        "acc2 = accuracy_score(Y, predicted)\n",
        "acc1 = 0.7821229050279329\n",
        "verbesserung = (acc2 - acc1) / acc1 * 100\n",
        "print(f\"Verbesserung: {verbesserung:.2f}%\")\n",
        "print(f\"Mittlere Accuracy: {acc2:.4f}\")\n",
        "# STUDENT CODE until HERE"
      ],
      "outputs": [
        {
          "output_type": "stream",
          "name": "stdout",
          "text": [
            "Verbesserung: 5.04%\n",
            "Mittlere Accuracy: 0.8215\n"
          ]
        }
      ],
      "metadata": {
        "id": "DUaYyAbZ3ZVu",
        "outputId": "6f39b9f5-5cda-47bd-877e-e08a6c277190",
        "colab": {
          "base_uri": "https://localhost:8080/"
        }
      }
    },
    {
      "cell_type": "markdown",
      "source": [
        "<div class=\"alert alert-block alert-success\">\n",
        "<b>Frage 3.2.16:</b> Was sind die Vorteile des \"grid search\" - Verfahrens?\n",
        "</div>\n",
        "\n",
        "<div class=\"alert alert-block alert-success\">\n",
        "<b>Ihre Antwort:</b></div>\n"
      ],
      "metadata": {
        "id": "OdawaGwT3ZVu"
      }
    },
    {
      "cell_type": "markdown",
      "source": [
        "#### Einfluss der Skalierung\n",
        "\n",
        "Als letzten Schritt wollen wir den Einfluss unterschiedlicher Skalierungen auf unsere Trainingsdaten auswerten.\n",
        "\n",
        "##### Skalieren der Datensätze mit Standard Scaler und MinMaxScaler\n",
        "\n",
        "\n",
        "<div class=\"alert alert-block alert-success\">\n",
        "<b>Aufgabe 3.2.17:</b>\n",
        "\n",
        "Laden Sie die in sklearn.preprocessing enthaltenen Funktionen für den StandardScaler und den MinMaxScaler.\n",
        "\n",
        "</div>"
      ],
      "metadata": {
        "id": "LsAamIcH3ZV3"
      }
    },
    {
      "cell_type": "code",
      "execution_count": 87,
      "source": [
        "# STUDENT CODE HERE\n",
        "from sklearn.preprocessing import StandardScaler, MinMaxScaler\n",
        "# STUDENT CODE until HERE"
      ],
      "outputs": [],
      "metadata": {
        "id": "BLvAtS-A3ZV3"
      }
    },
    {
      "cell_type": "markdown",
      "source": [
        "<div class=\"alert alert-block alert-success\">\n",
        "<b>Aufgabe 3.2.18:</b> Bereiten Sie zwei verschiedene Datensätze vor, einen skaliert mit StandardScaler und den anderen mit MinMaxScaler.\n",
        "<ul>\n",
        "<li> Erstellen Sie die entsprechenden Skalierer und verwenden Sie die Methode <code>.fit_transform()</code> unter Verwendung des gesamten Trainingsdatensatzes\n",
        "<li> Transformieren Sie dann den Testdatensatz mit den angepassten Skalern mithilfe der Funktion transform\n",
        "    \n",
        "</ul>\n",
        "</div>\n"
      ],
      "metadata": {
        "id": "YUS0aAb43ZV4"
      }
    },
    {
      "cell_type": "code",
      "execution_count": 88,
      "source": [
        "# STUDENT CODE HERE\n",
        "stanScaler = StandardScaler()\n",
        "mimaScaler = MinMaxScaler()\n",
        "x_train_stan = stanScaler.fit_transform(x_train)\n",
        "x_train_mima = mimaScaler.fit_transform(x_train)\n",
        "x_val_stan = stanScaler.transform(x_val)\n",
        "x_val_mima = mimaScaler.transform(x_val)\n",
        "# STUDENT CODE until HERE"
      ],
      "outputs": [],
      "metadata": {
        "id": "0ksDNWV-3ZV4"
      }
    },
    {
      "cell_type": "markdown",
      "source": [
        "#### Evaluieren Sie die Leistung der skalierten Datensätze\n",
        "\n",
        "\n",
        "\n",
        "<div class=\"alert alert-block alert-success\">\n",
        "<b>Aufgabe 3.2.19:</b> Trainieren Sie nun ein weiteres Entscheidungsbaummodell mit jedem der neu skalierten Datensätze (DecisionTreeClassifier, random_state = 17)\n",
        "<ul>\n",
        "<li> Berechnen Sie die Korrektklassifikationsrate des Testdatensatzes für beide Datensätze\n",
        "<li> Verwenden Sie eine maximale Tiefe von 3 für den Trainingsprozess\n",
        "\n",
        "</ul>\n",
        "</div>\n",
        "\n"
      ],
      "metadata": {
        "id": "ri0pr7bs3ZV4"
      }
    },
    {
      "cell_type": "code",
      "execution_count": 89,
      "source": [
        "# Standard Scaler dataset\n",
        "# STUDENT CODE HERE\n",
        "newModel = DecisionTreeClassifier(max_depth = 3, random_state = 17)\n",
        "newModel.fit(x_train_stan, y_train)\n",
        "predicted = newModel.predict(x_val_stan)\n",
        "scores = accuracy_score(y_val, predicted)\n",
        "print(scores)\n",
        "# STUDENT CODE until HERE"
      ],
      "outputs": [
        {
          "output_type": "stream",
          "name": "stdout",
          "text": [
            "0.7932960893854749\n"
          ]
        }
      ],
      "metadata": {
        "id": "4SylXwCb3ZV4",
        "outputId": "f88e0fc1-c835-4acf-d444-34af47c3e46c",
        "colab": {
          "base_uri": "https://localhost:8080/"
        }
      }
    },
    {
      "cell_type": "code",
      "execution_count": 90,
      "source": [
        "# MinMax Scaler dataset\n",
        "# STUDENT CODE HERE\n",
        "newModel = DecisionTreeClassifier(max_depth = 3, random_state = 17)\n",
        "newModel.fit(x_train_mima, y_train)\n",
        "predicted = newModel.predict(x_val_mima)\n",
        "scores = accuracy_score(y_val, predicted)\n",
        "print(scores)\n",
        "# STUDENT CODE until HERE"
      ],
      "outputs": [
        {
          "output_type": "stream",
          "name": "stdout",
          "text": [
            "0.7932960893854749\n"
          ]
        }
      ],
      "metadata": {
        "id": "6kUmND0v3ZV4",
        "outputId": "6492f8cf-5a39-4d95-fbbd-8035347d6c4b",
        "colab": {
          "base_uri": "https://localhost:8080/"
        }
      }
    },
    {
      "cell_type": "markdown",
      "source": [
        "<div class=\"alert alert-block alert-success\">\n",
        "<b>Frage 3.2.20:</b> Vergleichen Sie die Korrektklassifikationsrate (engl. accuracy) der Ergebnisse beider Skalierungsoptionen mit der ursprünglichen (ohne skalierte Datensätze) Leistung bei einer Baumtiefe von drei. Was stellen Sie fest? Warum entspricht dieses Ergebnis nicht den Erwartungen? (Vergleichen Sie es nicht mit dem Ergebnis der Kreuzvalidierung) Empfehlen Sie, die Skalierung generell anzuwenden?\n",
        "</div>\n",
        "\n",
        "<div class=\"alert alert-block alert-success\">\n",
        "<b>Ihre Antwort:</b></div>\n"
      ],
      "metadata": {
        "id": "EOUAGqbO3ZV5"
      }
    },
    {
      "cell_type": "markdown",
      "source": [
        "### RandomForests mit scikit-learn\n",
        "\n",
        "Wir verwenden nicht nur einen Entscheidungsbaum, sondern mehrere. Dadurch berücksichtigen wir Ausgaben mehrere Klassifikatoren als nur eine einzige (Ensemble-Methode - in diesem Fall Bagging). RandomForest-Klassifikatoren sind weniger anfällig für Overfit."
      ],
      "metadata": {
        "id": "XRElHTs-3ZV5"
      }
    },
    {
      "cell_type": "code",
      "execution_count": 91,
      "source": [
        "from sklearn.ensemble import RandomForestClassifier\n",
        "from sklearn.model_selection import StratifiedKFold\n",
        "\n",
        "random_forest = RandomForestClassifier(random_state=17)\n",
        "fold = StratifiedKFold(n_splits=5, random_state=17, shuffle=True)\n",
        "\n",
        "scores = cross_val_score(random_forest, x_train, y_train, cv=fold)\n",
        "print(\"Accuracy: %0.2f (+/- %0.2f)\" % (scores.mean(), scores.std() * 2))"
      ],
      "outputs": [
        {
          "output_type": "stream",
          "name": "stdout",
          "text": [
            "Accuracy: 0.81 (+/- 0.06)\n"
          ]
        }
      ],
      "metadata": {
        "id": "LnqvdQG13ZV5",
        "outputId": "5a9733ab-6a8b-4d07-99fc-54521f80d629",
        "colab": {
          "base_uri": "https://localhost:8080/"
        }
      }
    },
    {
      "cell_type": "markdown",
      "source": [
        "Fast so gut wie unser optimierter Entscheidungsbaum und besser als unsere nicht optimierte Version, da nur die Standardwerte von RandomForestClassifiers verwendet und nicht optimiert werden. Sie sollten dieses Werkzeug des maschinellen Lernens im Hinterkopf behalten."
      ],
      "metadata": {
        "id": "l2xhzw9B3ZV5"
      }
    },
    {
      "cell_type": "code",
      "execution_count": null,
      "source": [],
      "outputs": [],
      "metadata": {
        "id": "i41imIEy3ZV5"
      }
    }
  ],
  "metadata": {
    "kernelspec": {
      "display_name": "Python 3",
      "language": "python",
      "name": "python-amalea"
    },
    "language_info": {
      "codemirror_mode": {
        "name": "ipython",
        "version": 3
      },
      "file_extension": ".py",
      "mimetype": "text/x-python",
      "name": "python",
      "nbconvert_exporter": "python",
      "pygments_lexer": "ipython3",
      "version": "3.8.2"
    },
    "colab": {
      "provenance": []
    }
  },
  "nbformat": 4,
  "nbformat_minor": 0
}