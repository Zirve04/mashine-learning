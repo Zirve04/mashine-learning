{
  "cells": [
    {
      "cell_type": "markdown",
      "metadata": {
        "id": "L162ba7fO3-b"
      },
      "source": [
        "# Wir trainieren nur bergab?"
      ]
    },
    {
      "cell_type": "markdown",
      "metadata": {
        "id": "Bh5JKzXuO3-g"
      },
      "source": [
        "## Das Problem der Regression\n",
        "Bei der Regressionsanalyse muss eine Modellfunktion gefunden werden, die zu einem gegebenen Satz von Datenpunkten N möglichst **genau** passt. Ein häufig verwendetes Maß für die Genauigkeit der Approximation ist die **Methode der kleinsten Quadrate** (engl. least squares approach). Der vertikale Abstand zwischen jedem Datenpunkt $(x_n,y_n)$ und der Ausgabe der Modellfunktion $m(x_n)$ wird durch Subtraktion der y-Werte der Datenpunkte von den vorhergesagten y-Werten der Modellfunktion berechnet (3).\n",
        "\n",
        "\\begin{align}\n",
        "d_n & = m(x_n)-y_n \\;\\;\\;\\;\\;\\;\\;\\;\\;\\;\\;        (3)\n",
        "\\end{align}\n",
        "\n",
        "Diese Abstände werden dann quadriert und aufsummiert. Da wir die Qualität einer Approximation mit anderen Approximationen vergleichen wollen, die möglicherweise eine andere Anzahl von Datenpunkten haben, teilen wir die Summe noch durch die Gesamtzahl der Datenpunkte (**mittlerer quadratischer Fehler**). So erhalten wir unsere **Verlust**-Funktion (4). Unser Ziel ist es, diese Metrik so niedrig wie möglich zu halten, denn je niedriger der Verlust, desto besser die Approximation. Hier haben die Begriffe \"Verlust\" und \"Fehler\" die gleiche Bedeutung. Ein anderer häufig verwendeter Begriff ist \"Kosten\".\n",
        "\n",
        "\\begin{align}\n",
        "Verlust & = \\frac{1}{N} \\sum_{n=0}^{N-1} {[m(x_n)-y_n]}^2 \\;\\;\\;\\;\\;\\;\\;\\;\\;\\;\\;\\; (4)\n",
        "\\end{align}\n",
        "\n",
        "\n",
        "<div class=\"alert alert-block alert-info\">\n",
        "<b>Hinweis:</b> Beachten Sie, dass in Gl.(4) $x_0$ kein Merkmal wie in Gl.(1) aus W4V2 ist, sondern ein Datenpunkt des Datensatzes.   \n",
        "\n",
        "</div>\n",
        "\n",
        "\n",
        "\n",
        "\n",
        "Wenn wir eine genaue Regression erreicht haben, können wir damit **Vorhersagen** machen. Wir werden unsere Neuronen auf einen gegebenen Satz von Punkten trainieren und sie dann verwenden, um neue Punkte vorherzusagen. Dazu werden wir dem trainierten Neuron neue x-Werte geben, zu denen es die y-Werte vorhersagen soll.\n",
        "\n",
        "\n",
        "<img src=\"https://github.com/KI-Campus/AMALEA/blob/master/Woche%204/images/least_squares_explanation.png?raw=1\" />\n",
        "<p style=\"text-align: center;\">\n",
        "    Abb. 3 - Visualisierung des Abstands zur Modellfunktion\n",
        "</p>\n",
        "\n",
        "\n",
        "\n"
      ]
    },
    {
      "cell_type": "code",
      "execution_count": 13,
      "metadata": {
        "id": "5WtYpj1eO3-h"
      },
      "outputs": [],
      "source": [
        "# do not change\n",
        "class SimpleNeuron:\n",
        "    def __init__(self, plot):\n",
        "        self.plot = plot #I am assigned the following plot\n",
        "        self.plot.register_neuron(self) #hey plot, remember me\n",
        "\n",
        "    def set_values(self, weight:float, bias:float):\n",
        "        self.weight = weight\n",
        "        self.bias = bias\n",
        "        self.plot.update() #hey plot, I have changed, redraw my output\n",
        "\n",
        "    def get_weight(self) -> float:\n",
        "        return self.weight\n",
        "\n",
        "    def get_bias(self) -> float:\n",
        "        return self.bias\n",
        "\n",
        "    def compute(self, x:float) -> float:\n",
        "        self.activation = self.weight * x + self.bias\n",
        "        return self.activation"
      ]
    },
    {
      "cell_type": "markdown",
      "metadata": {
        "id": "xuGiKFJtO3-j"
      },
      "source": [
        "Wir werden eine Funktion \"loss\" erstellen, die die Operation in Gleichung (4) durchführt. Als Argumente wird sie dazu ein Neuron-Objekt und einen Satz von Punkten erhalten.\n",
        "- Für jeden Punkt, den wir ihr geben, trennt sie zunächst x- und y-Werte.\n",
        "- Dann übergibt sie dem Neuron einen x-Wert und bittet das Neuron, eine Vorhersage für den y-Wert zu berechnen. (siehe $m(x_n)$)\n",
        "- Dann subtrahiert sie den realen y-Wert von dem vorhergesagten y-Wert, wie in Gleichung (3), und erhält einen Abstand\n",
        "- Anschließend quadriert sie den Abstand und summiert die quadrierten Abstände.  \n",
        "- Im letzten Schritt wird die Summe der quadrierten Abstände durch die Anzahl der verglichenen Punkte dividiert."
      ]
    },
    {
      "cell_type": "markdown",
      "metadata": {
        "id": "n-1HSbqcO3-k"
      },
      "source": [
        "Führen Sie die nachfolgende Zelle aus, um eine Verlustfunktion zu definieren."
      ]
    },
    {
      "cell_type": "code",
      "execution_count": 14,
      "metadata": {
        "id": "7kRaoBEyO3-k"
      },
      "outputs": [],
      "source": [
        "# do not change\n",
        "def loss(neuron:SimpleNeuron, points:dict) -> float:\n",
        "    sum_squared_dist = 0\n",
        "\n",
        "    for point_x, point_y in zip(points[\"x\"], points[\"y\"]):  # zip merges both points[\"x\"] and points[\"y\"]\n",
        "\n",
        "        predicted_point_y = neuron.compute(point_x)\n",
        "        dist = point_y - predicted_point_y\n",
        "        squared_dist = dist ** 2\n",
        "        sum_squared_dist += squared_dist\n",
        "\n",
        "    loss = sum_squared_dist / len(points[\"y\"])\n",
        "    return loss"
      ]
    },
    {
      "cell_type": "markdown",
      "metadata": {
        "id": "MYuWX6CMO3-k"
      },
      "source": [
        "### Vorbereiten eines interaktiven Plots\n",
        "\n",
        "Nachdem wir die notwendigen Bibliotheken importiert haben, werden wir nun eine interaktive Plot-Klasse einrichten. Diese soll die Ausgabe eines Neurons zeichnen, indem sie es auffordert, einen Satz von x-Werten zu berechnen. Das führt zu einem Satz von vorhergesagten y-Werten, die auf einer Ebene gezeichnet werden können. Wenn das Gewicht oder der Bias eines Neurons geändert wird, ruft das Neuron die \"redraw\"-Methode seines Plots auf, um ihn zu aktualisieren. Der Plot kann auch feste Punkte zeichnen. Interaktive Schieberegler werden verwendet, um die Gewichte und den Bias der Neuronenobjekten direkt zu ändern.\n",
        "\n",
        "\n",
        "<div class=\"alert alert-block alert-info\">\n",
        "<b>Hinweis:</b> Die Plot-Klassen sind nicht Teil des Lernstoffs für dieses Praktikum.  \n",
        "\n",
        "</div>"
      ]
    },
    {
      "cell_type": "markdown",
      "metadata": {
        "id": "fGbcb9_lO3-l"
      },
      "source": [
        "Führen Sie die nachfolgenden Zellen aus, um die Bibliotheken zu importieren und einen interaktiven Plot zu definieren."
      ]
    },
    {
      "cell_type": "markdown",
      "metadata": {
        "id": "YY7Ox610O3-l"
      },
      "source": [
        "<div class=\"alert alert-block alert-info\">\n",
        "<b>Hinweis:</b> Wechseln Sie in die tf1-Umgebung. Wenn Sie einen eigenen Rechner verwenden oder diese Environment kein Plotly enthält, <a href=\"https://anaconda.org/plotly/plotly\">installieren</a> Sie es. Dazu öffnen Sie das Terminal in tf1 und verwenden conda install ...\n",
        "\n",
        "</div>"
      ]
    },
    {
      "cell_type": "code",
      "execution_count": 15,
      "metadata": {
        "id": "FqcmyyxNO3-l"
      },
      "outputs": [],
      "source": [
        "# do not change\n",
        "import numpy as np\n",
        "import plotly.offline as plotly\n",
        "import plotly.graph_objs as go\n",
        "from ipywidgets import interact, Layout, HBox, FloatSlider\n",
        "import time\n",
        "import threading"
      ]
    },
    {
      "cell_type": "code",
      "execution_count": 16,
      "metadata": {
        "id": "2LYPxAZLO3-m"
      },
      "outputs": [],
      "source": [
        "# do not change\n",
        "# an Interactive Plot monitors the activation of a neuron or a neural network\n",
        "class Interactive2DPlot:\n",
        "    def __init__(self, points:dict, ranges:dict, width:int=800, height:int=400, margin:dict=dict(t=0, l=170), draw_time:float=0.05):\n",
        "        self.idle = True\n",
        "        self.points = points\n",
        "        self.x = np.arange(ranges[\"x\"][0], ranges[\"x\"][1], 0.1)\n",
        "        self.y = np.arange(ranges[\"y\"][0], ranges[\"y\"][1], 0.1)\n",
        "        self.draw_time = draw_time\n",
        "        self.layout = go.Layout(\n",
        "            xaxis=dict(title=\"Input: x\", range=ranges[\"x\"], fixedrange=True),\n",
        "            yaxis=dict(title=\"Output: y\", range=ranges[\"y\"], fixedrange=True),\n",
        "            width=width,\n",
        "            height=height,\n",
        "            showlegend=False,\n",
        "            autosize=False,\n",
        "            margin=margin,\n",
        "        )\n",
        "        self.trace = go.Scatter(x=self.x, y=self.y)\n",
        "        self.plot_points = go.Scatter(x=points[\"x\"], y=points[\"y\"], mode=\"markers\")\n",
        "        self.data = [self.trace, self.plot_points]\n",
        "        self.plot = go.FigureWidget(self.data, self.layout)\n",
        "        # self.plot = plotly.iplot(self.data, self.layout,config={\"displayModeBar\": False})\n",
        "\n",
        "    def register_neuron(self, neuron:SimpleNeuron):\n",
        "        self.neuron = neuron\n",
        "\n",
        "    def redraw(self):\n",
        "        self.idle = False\n",
        "        time.sleep(self.draw_time)\n",
        "        self.plot.data[0].y = self.neuron.compute(self.x)\n",
        "        self.idle = True\n",
        "\n",
        "    def update(self):\n",
        "        print(\"Loss: {:0.2f}\".format(loss(self.neuron, self.points)))\n",
        "        if self.idle:\n",
        "            thread = threading.Thread(target=self.redraw)\n",
        "            thread.start()"
      ]
    },
    {
      "cell_type": "markdown",
      "metadata": {
        "id": "qiHwbhUGO3-m"
      },
      "source": [
        "<div class=\"alert alert-block alert-success\">\n",
        "<b>Aufgabe 4.2.1:</b> Das Neuron trainieren\n",
        "<ul>\n",
        "<li>Sie erhalten einen Satz mit 3 Punkten und ein Neuron, um eine Kurvenanpassung durchzuführen. Führen Sie die folgende Zelle aus.\n",
        "<li> <b>Verändern Sie das Gewicht und den Bias des Neurons mit den Schiebereglern, um den Verlust zu minimieren.</b>\n",
        "    <li><b>Tipp:</b> Sie können die Schieberegler auch mit den Pfeiltasten auf Ihrer Tastatur verändern, nachdem Sie auf den Schieberegler geklickt haben.\n",
        "</ul>\n",
        "</div>"
      ]
    },
    {
      "cell_type": "code",
      "execution_count": 56,
      "metadata": {
        "colab": {
          "base_uri": "https://localhost:8080/",
          "height": 99,
          "referenced_widgets": [
            "0974461ddd13498a8e08a7dc52d9d2f3",
            "2ed4df1056404830b9c8eb266fd4fc46",
            "e87157872b5b439d8a1953f0b69d91a7",
            "b27a7d55fda64508883da3cd682016ed",
            "e95c944f5ef247569eec5b5db6dcdfa9",
            "8df68d206c384cafb0bf3a3e3a492754",
            "19b310bb095a4bd9a4f6d313254cfd75",
            "368ca7966bc04f858177f6c499064433",
            "53e72e4d811e4ad7ace2fdc324394406",
            "3a7e3f14b4f6431fa1b4d6eab62c0025"
          ]
        },
        "id": "PWbiRoR_O3-m",
        "outputId": "1e13c69c-30be-44f1-a02b-b80f86c0cd43"
      },
      "outputs": [
        {
          "output_type": "display_data",
          "data": {
            "text/plain": [
              "interactive(children=(FloatSlider(value=0.0, description='weight', layout=Layout(width='90%'), max=3.0, min=-3…"
            ],
            "application/vnd.jupyter.widget-view+json": {
              "version_major": 2,
              "version_minor": 0,
              "model_id": "0974461ddd13498a8e08a7dc52d9d2f3"
            }
          },
          "metadata": {
            "application/vnd.jupyter.widget-view+json": {
              "colab": {
                "custom_widget_manager": {
                  "url": "https://ssl.gstatic.com/colaboratory-static/widgets/colab-cdn-widget-manager/2b70e893a8ba7c0f/manager.min.js"
                }
              }
            }
          }
        },
        {
          "output_type": "execute_result",
          "data": {
            "application/vnd.jupyter.widget-view+json": {
              "version_major": 2,
              "version_minor": 0,
              "model_id": "3a7e3f14b4f6431fa1b4d6eab62c0025"
            },
            "text/plain": [
              "FigureWidget({\n",
              "    'data': [{'type': 'scatter',\n",
              "              'uid': 'a89fa7ba-e9ec-450a-90df-35ada66c7890',\n",
              "              'x': array([-4.00000000e+00, -3.90000000e+00, -3.80000000e+00, -3.70000000e+00,\n",
              "                          -3.60000000e+00, -3.50000000e+00, -3.40000000e+00, -3.30000000e+00,\n",
              "                          -3.20000000e+00, -3.10000000e+00, -3.00000000e+00, -2.90000000e+00,\n",
              "                          -2.80000000e+00, -2.70000000e+00, -2.60000000e+00, -2.50000000e+00,\n",
              "                          -2.40000000e+00, -2.30000000e+00, -2.20000000e+00, -2.10000000e+00,\n",
              "                          -2.00000000e+00, -1.90000000e+00, -1.80000000e+00, -1.70000000e+00,\n",
              "                          -1.60000000e+00, -1.50000000e+00, -1.40000000e+00, -1.30000000e+00,\n",
              "                          -1.20000000e+00, -1.10000000e+00, -1.00000000e+00, -9.00000000e-01,\n",
              "                          -8.00000000e-01, -7.00000000e-01, -6.00000000e-01, -5.00000000e-01,\n",
              "                          -4.00000000e-01, -3.00000000e-01, -2.00000000e-01, -1.00000000e-01,\n",
              "                           3.55271368e-15,  1.00000000e-01,  2.00000000e-01,  3.00000000e-01,\n",
              "                           4.00000000e-01,  5.00000000e-01,  6.00000000e-01,  7.00000000e-01,\n",
              "                           8.00000000e-01,  9.00000000e-01,  1.00000000e+00,  1.10000000e+00,\n",
              "                           1.20000000e+00,  1.30000000e+00,  1.40000000e+00,  1.50000000e+00,\n",
              "                           1.60000000e+00,  1.70000000e+00,  1.80000000e+00,  1.90000000e+00,\n",
              "                           2.00000000e+00,  2.10000000e+00,  2.20000000e+00,  2.30000000e+00,\n",
              "                           2.40000000e+00,  2.50000000e+00,  2.60000000e+00,  2.70000000e+00,\n",
              "                           2.80000000e+00,  2.90000000e+00,  3.00000000e+00,  3.10000000e+00,\n",
              "                           3.20000000e+00,  3.30000000e+00,  3.40000000e+00,  3.50000000e+00,\n",
              "                           3.60000000e+00,  3.70000000e+00,  3.80000000e+00,  3.90000000e+00]),\n",
              "              'y': array([-4.00000000e+00, -3.90000000e+00, -3.80000000e+00, -3.70000000e+00,\n",
              "                          -3.60000000e+00, -3.50000000e+00, -3.40000000e+00, -3.30000000e+00,\n",
              "                          -3.20000000e+00, -3.10000000e+00, -3.00000000e+00, -2.90000000e+00,\n",
              "                          -2.80000000e+00, -2.70000000e+00, -2.60000000e+00, -2.50000000e+00,\n",
              "                          -2.40000000e+00, -2.30000000e+00, -2.20000000e+00, -2.10000000e+00,\n",
              "                          -2.00000000e+00, -1.90000000e+00, -1.80000000e+00, -1.70000000e+00,\n",
              "                          -1.60000000e+00, -1.50000000e+00, -1.40000000e+00, -1.30000000e+00,\n",
              "                          -1.20000000e+00, -1.10000000e+00, -1.00000000e+00, -9.00000000e-01,\n",
              "                          -8.00000000e-01, -7.00000000e-01, -6.00000000e-01, -5.00000000e-01,\n",
              "                          -4.00000000e-01, -3.00000000e-01, -2.00000000e-01, -1.00000000e-01,\n",
              "                           3.55271368e-15,  1.00000000e-01,  2.00000000e-01,  3.00000000e-01,\n",
              "                           4.00000000e-01,  5.00000000e-01,  6.00000000e-01,  7.00000000e-01,\n",
              "                           8.00000000e-01,  9.00000000e-01,  1.00000000e+00,  1.10000000e+00,\n",
              "                           1.20000000e+00,  1.30000000e+00,  1.40000000e+00,  1.50000000e+00,\n",
              "                           1.60000000e+00,  1.70000000e+00,  1.80000000e+00,  1.90000000e+00,\n",
              "                           2.00000000e+00,  2.10000000e+00,  2.20000000e+00,  2.30000000e+00,\n",
              "                           2.40000000e+00,  2.50000000e+00,  2.60000000e+00,  2.70000000e+00,\n",
              "                           2.80000000e+00,  2.90000000e+00,  3.00000000e+00,  3.10000000e+00,\n",
              "                           3.20000000e+00,  3.30000000e+00,  3.40000000e+00,  3.50000000e+00,\n",
              "                           3.60000000e+00,  3.70000000e+00,  3.80000000e+00,  3.90000000e+00])},\n",
              "             {'mode': 'markers',\n",
              "              'type': 'scatter',\n",
              "              'uid': '1a943892-b3f8-4b00-904c-e0f859a0db44',\n",
              "              'x': [1, 2, 3],\n",
              "              'y': [1.5, 0.7, 1.2]}],\n",
              "    'layout': {'autosize': False,\n",
              "               'height': 400,\n",
              "               'margin': {'l': 170, 't': 0},\n",
              "               'showlegend': False,\n",
              "               'template': '...',\n",
              "               'width': 800,\n",
              "               'xaxis': {'fixedrange': True, 'range': [-4, 4], 'title': {'text': 'Input: x'}},\n",
              "               'yaxis': {'fixedrange': True, 'range': [-4, 4], 'title': {'text': 'Output: y'}}}\n",
              "})"
            ]
          },
          "metadata": {},
          "execution_count": 56
        }
      ],
      "source": [
        "# do not change\n",
        "points_linreg = dict(x=[1, 2, 3], y=[1.5, 0.7, 1.2])\n",
        "ranges_linreg = dict(x=[-4, 4], y=[-4, 4])\n",
        "\n",
        "linreg_plot = Interactive2DPlot(points_linreg, ranges_linreg)\n",
        "simple_neuron = SimpleNeuron(linreg_plot)\n",
        "\n",
        "slider_layout = Layout(width=\"90%\")\n",
        "\n",
        "interact(\n",
        "    simple_neuron.set_values,\n",
        "    weight=FloatSlider(min=-3, max=3, step=0.1, value = 0, layout=slider_layout),\n",
        "    bias=FloatSlider(min=-3, max=3, step=0.1, value = 0, layout=slider_layout)\n",
        ")\n",
        "\n",
        "linreg_plot.plot"
      ]
    },
    {
      "cell_type": "markdown",
      "metadata": {
        "id": "mvWW452TO3-m"
      },
      "source": [
        "<div class=\"alert alert-block alert-success\">\n",
        "<b>Frage 4.2.2:</b> Was ist die optimale Kombination aus Gewicht und Bias?\n",
        "</div>\n",
        "\n",
        "<div class=\"alert alert-block alert-success\">\n",
        "<b>Ihre Antwort:</b></div>"
      ]
    },
    {
      "cell_type": "markdown",
      "metadata": {
        "id": "W_0bh_OTO3-n"
      },
      "source": [
        "### Vorbereiten des 3D-Plots\n",
        "Wir sehen, dass die Suche nach dem geringsten Verlust ein **Parameteroptimierungsproblem** ist. Bisher können wir das Problem manuell lösen. Wollen wir aber neuronale Netze zur Lösung komplexerer Probleme verwenden, müssen wir einen Weg finden, diesen Prozess zu automatisieren.\n",
        "\n",
        "Die Verlustfunktion wird sowohl mit dem festgelegten Gewicht als auch mit dem festgelegten Bias geändert. Diese Beziehung kann dreidimensional visualisiert werden, was uns weitere Einblicke geben kann, um einen Algorithmus zu konstruieren, der das Optimierungsproblem löst.\n",
        "In dieser 3D-Ansicht werden logarithmische Skalen verwendet, um die Topographie hervorzuheben. Wir werden eine neue Funktion definieren, um den logarithmischen Verlust für einen Satz von Punkten zu berechnen.\n",
        "\n",
        "Der Plot wird wie folgt definiert:\n",
        "- Die **X-Achse** stellt die Gewichte dar.\n",
        "- Die **Y-Achse** stellt den Bias dar.\n",
        "- Die **Z-Achse** (Höhe) stellt den entsprechenden Verlustwert bei einer gegebenen Gewicht/Bias-Konfiguration dar. Zur besseren Verständlichkeit wird der Logarithmus des MSE-Verlusts angezeigt.\n",
        "- Die **schwarze Kugel** stellt die aktuelle Gewicht/Bias-Konfiguration. Seine Höhe zeigt den Verlust dieser Konfiguration an."
      ]
    },
    {
      "cell_type": "markdown",
      "metadata": {
        "id": "C3xIuo7BO3-n"
      },
      "source": [
        "Führen Sie die folgenden Zellen aus."
      ]
    },
    {
      "cell_type": "code",
      "execution_count": 57,
      "metadata": {
        "id": "w2iAwX3mO3-n"
      },
      "outputs": [],
      "source": [
        "# do not change\n",
        "def log_mse(neuron:SimpleNeuron, points:dict) -> float:\n",
        "    least_squares_loss = loss(neuron, points)\n",
        "    return np.log10(least_squares_loss)"
      ]
    },
    {
      "cell_type": "code",
      "execution_count": 58,
      "metadata": {
        "id": "jwPfN2TvO3-n"
      },
      "outputs": [],
      "source": [
        "# do not change\n",
        "class Interactive3DPlot:\n",
        "    def __init__(self, points:dict, ranges:dict, width:int=600, height:int=600, draw_time:int=0.1):\n",
        "        self.idle = True\n",
        "        self.points = points\n",
        "        self.draw_time = draw_time\n",
        "        self.threading = threading\n",
        "\n",
        "        self.range_weights = np.arange(  # Array with all possible weight values in the given range\n",
        "            ranges[\"x\"][0], ranges[\"x\"][1], 0.1\n",
        "        )\n",
        "        self.range_biases = np.arange(  # Array with all possible bias values in the given range\n",
        "            ranges[\"y\"][0], ranges[\"y\"][1], 0.1\n",
        "        )\n",
        "        self.range_biases_t = self.range_biases[:, np.newaxis]  # Bias array transposed\n",
        "        self.range_losses = []  # initialize z axis for 3D surface\n",
        "\n",
        "        self.ball = go.Scatter3d(  # initialize ball\n",
        "            x=[], y=[], z=[], hoverinfo=\"none\", mode=\"markers\", marker=dict(size=12, color=\"black\")\n",
        "        )\n",
        "\n",
        "        self.layout = go.Layout(\n",
        "            width=width,\n",
        "            height=height,\n",
        "            showlegend=False,\n",
        "            autosize=False,\n",
        "            margin=dict(t=0, l=0),\n",
        "            scene=dict(\n",
        "                xaxis=dict(title=\"Weight\", range=ranges[\"x\"], autorange=False, showticklabels=True),\n",
        "                yaxis=dict(title=\"Bias\", range=ranges[\"y\"], autorange=False, showticklabels=True),\n",
        "                zaxis=dict(title=\"Loss: log(MSE)\", range=ranges[\"z\"], autorange=True, showticklabels=False),\n",
        "            ),\n",
        "        )\n",
        "\n",
        "        self.data = [\n",
        "            go.Surface(\n",
        "                z=self.range_losses,\n",
        "                x=self.range_weights,\n",
        "                y=self.range_biases,\n",
        "                colorscale=\"Viridis\",\n",
        "                opacity=0.9,\n",
        "                showscale=False,\n",
        "                hoverinfo=\"none\",\n",
        "            ),\n",
        "            self.ball,\n",
        "        ]\n",
        "\n",
        "        self.plot = go.FigureWidget(self.data, self.layout)\n",
        "\n",
        "    def register_neuron(self, neuron:SimpleNeuron):\n",
        "        self.neuron = neuron\n",
        "        self.calc_surface()\n",
        "\n",
        "        # height of 3d surface represents loss of weight/bias combination\n",
        "        # In the 2D plot, x is an array from e.g. -4 to +4. But the weights and biases only have a single value\n",
        "        # Here x will be the points to do regression and to calculate the loss on.\n",
        "        # The surface is spanned by the arrays of weight and bias.\n",
        "\n",
        "    def calc_surface(self):\n",
        "\n",
        "        self.neuron.weight = (  #instead of 1 weight and 1 bias, let Neuron have an array of all weights and biases\n",
        "            self.range_weights\n",
        "        )\n",
        "        self.neuron.bias = self.range_biases_t\n",
        "        self.range_losses = log_mse(  # result: matrix of losses of all weight/bias combinations in the given range\n",
        "            self.neuron, self.points\n",
        "        )\n",
        "        self.plot.data[0].z = self.range_losses\n",
        "\n",
        "    def update(self):\n",
        "        if self.idle:\n",
        "            thread = threading.Thread(target=self.redraw)\n",
        "            thread.start()\n",
        "\n",
        "    def redraw(self):  # when updating, only the ball is redrawn\n",
        "        self.idle = False\n",
        "        time.sleep(self.draw_time)\n",
        "        self.ball.x = [self.neuron.weight]\n",
        "        self.ball.y = [self.neuron.bias]\n",
        "        self.ball.z = [log_mse(self.neuron, self.points)]\n",
        "        self.plot.data[1].x = self.ball.x\n",
        "        self.plot.data[1].y = self.ball.y\n",
        "        self.plot.data[1].z = self.ball.z\n",
        "        self.idle = True"
      ]
    },
    {
      "cell_type": "code",
      "execution_count": 20,
      "metadata": {
        "id": "i-Mx_rT6O3-n"
      },
      "outputs": [],
      "source": [
        "# do not change\n",
        "class DualPlot:\n",
        "    def __init__(self, points:dict, ranges_3d:dict, ranges_2d:dict):\n",
        "        self.plot_3d = Interactive3DPlot(points, ranges_3d)\n",
        "        self.plot_2d = Interactive2DPlot(points, ranges_2d, width=400, height=500, margin=dict(t=200, l=30))\n",
        "\n",
        "    def register_neuron(self, neuron:SimpleNeuron):\n",
        "        self.plot_3d.register_neuron(neuron)\n",
        "        self.plot_2d.register_neuron(neuron)\n",
        "\n",
        "    def update(self):\n",
        "        self.plot_3d.update()\n",
        "        self.plot_2d.update()"
      ]
    },
    {
      "cell_type": "markdown",
      "metadata": {
        "id": "6NoNFK9kO3-n"
      },
      "source": [
        "<div class=\"alert alert-block alert-success\">\n",
        "<b>Aufgabe 4.2.3:</b> Das Neuron trainieren\n",
        "<ul>\n",
        "<li> Sie erhalten den gleiche Satz von 3 Datenpunkten und erneut ein Neuron, um eine Kurvenanpassung durchzuführen. Führen Sie die folgende Zelle aus.\n",
        "<li> <b>Verändern Sie das Gewicht und den Bias des Neurons mit den Schiebereglern, um den Verlust zu minimieren.</b>\n",
        "<li> <b>Beobachten Sie alle Änderungen.</b>\n",
        "    </li>\n",
        "\n",
        "</ul>\n",
        "\n",
        "</div>\n",
        "\n",
        "<div class=\"alert alert-block alert-info\">\n",
        "<b>Hinweis:</b> Sie können den 3D-Plot drehen, indem Sie auf ihn klicken und den Cursor bewegen. Dabei müssen Sie mit dem Cursor innerhalb des Widgets bleiben.\n",
        "\n",
        "</div>"
      ]
    },
    {
      "cell_type": "code",
      "execution_count": 59,
      "metadata": {
        "colab": {
          "base_uri": "https://localhost:8080/",
          "height": 699,
          "referenced_widgets": [
            "0c4843e0c4044b4d8472355818b9d190",
            "038faba3e2a84f17a9dc3bd99209546e",
            "79d11752225a44dcbeb6104047a3e730",
            "7c01fd229a5348c0a831ff36b2d2eed6",
            "fdefcb06fe984b7697e4229ae003537f",
            "8df68d206c384cafb0bf3a3e3a492754",
            "df183dacc52e4db0b3a218b8a999833b",
            "faef43b8c4a04547b05df6809e164a3e",
            "00605bd23faa4c8685db1642ac45a9a7",
            "a844487f1c5c4d25a40893c62c9e0102",
            "737e3a89696a4561aa252f045f7546cf",
            "046f4978a1704c40817a19300fb45ffd",
            "2ed7faf809a745028e745efca30466be"
          ]
        },
        "id": "jb6yuuaOO3-n",
        "outputId": "996044d1-d938-43b5-e11e-44d2c22ef74a"
      },
      "outputs": [
        {
          "output_type": "display_data",
          "data": {
            "text/plain": [
              "interactive(children=(FloatSlider(value=0.0, description='weight', layout=Layout(width='90%'), max=2.0, min=-2…"
            ],
            "application/vnd.jupyter.widget-view+json": {
              "version_major": 2,
              "version_minor": 0,
              "model_id": "0c4843e0c4044b4d8472355818b9d190"
            }
          },
          "metadata": {
            "application/vnd.jupyter.widget-view+json": {
              "colab": {
                "custom_widget_manager": {
                  "url": "https://ssl.gstatic.com/colaboratory-static/widgets/colab-cdn-widget-manager/2b70e893a8ba7c0f/manager.min.js"
                }
              }
            }
          }
        },
        {
          "output_type": "display_data",
          "data": {
            "text/plain": [
              "HBox(children=(FigureWidget({\n",
              "    'data': [{'colorscale': [[0.0, '#440154'], [0.1111111111111111, '#482878'],\n",
              "…"
            ],
            "application/vnd.jupyter.widget-view+json": {
              "version_major": 2,
              "version_minor": 0,
              "model_id": "2ed7faf809a745028e745efca30466be"
            }
          },
          "metadata": {
            "application/vnd.jupyter.widget-view+json": {
              "colab": {
                "custom_widget_manager": {
                  "url": "https://ssl.gstatic.com/colaboratory-static/widgets/colab-cdn-widget-manager/2b70e893a8ba7c0f/manager.min.js"
                }
              }
            }
          }
        }
      ],
      "source": [
        "# do not change\n",
        "ranges_3d = dict(x=[-2.5, 2.5], y=[-2.5, 2.5], z=[-1, 2.5])  # set up ranges for the 3d plot\n",
        "plot_task2 = DualPlot(points_linreg, ranges_3d, ranges_linreg)  # create a DualPlot object to mange plotting on two plots\n",
        "neuron_task2 = SimpleNeuron(plot_task2)  # create a new neuron for this task\n",
        "\n",
        "interact(\n",
        "    neuron_task2.set_values,\n",
        "    weight=FloatSlider(min=-2, max=2, step=0.2, layout=slider_layout),\n",
        "    bias=FloatSlider(min=-2, max=2, step=0.2, layout=slider_layout),\n",
        ")\n",
        "\n",
        "HBox((plot_task2.plot_3d.plot, plot_task2.plot_2d.plot))"
      ]
    },
    {
      "cell_type": "markdown",
      "metadata": {
        "id": "9EjgXf2DO3-o"
      },
      "source": [
        "<div class=\"alert alert-block alert-success\">\n",
        "<b>Frage 4.2.4:</b> Wo liegt im Allgemeinen die optimale Kombination aus Gewicht und Bias im 3D-Plot?\n",
        "</div>\n",
        "\n",
        "<div class=\"alert alert-block alert-success\">\n",
        "<b>Ihre Antwort:</b></div>"
      ]
    },
    {
      "cell_type": "markdown",
      "metadata": {
        "id": "DbJdxIOlO3-o"
      },
      "source": [
        "<div class=\"alert alert-block alert-success\">\n",
        "<b>Frage 4.2.5:</b> Wie steil ist das Tal an der Stelle der optimalen Gewichts- und Bias Kombination?\n",
        "</div>\n",
        "\n",
        "<div class=\"alert alert-block alert-success\">\n",
        "<b>Ihre Antwort:</b></div>"
      ]
    },
    {
      "cell_type": "markdown",
      "metadata": {
        "id": "gRrxpZEoO3-o"
      },
      "source": [
        "***\n",
        "## Aktivierungsfunktionen\n",
        "Bis jetzt ist unser Neuronenmodell, das aus Gewichten und Bias besteht, nur in der Lage, lineare Funktionen zu imitieren. Folglich können wir damit nur lineare Regression durchführen. Aktivierungsfunktionen erweitern unsere Möglichkeiten, indem sie dem Neuron eine zusätzliche Nichtlinearität hinzufügen. Mit ihnen können wir komplexere Funktionen modellieren. Die heutzutage am häufigsten verwendete Aktivierungsfunktion ist die Rectified Linear Unit, auch **ReLU** genannt. Sie gibt nur den Eingabewert aus, solange er größer als 0 ist. Ist er kleiner als 0, gibt sie 0 aus. Wir können diese Funktion bequem beschreiben, indem wir das Maximum des Eingabewertes und 0 nehmen. Der größere Wert von beiden wird als Ausgabe gewählt (5).\n",
        "\n",
        "\\begin{align}\n",
        "f_{relu}(x) & = max(0,x) \\;\\;\\;\\;\\;\\;\\;\\;\\;\\;\\; (5)\n",
        "\\end{align}\n",
        "\n",
        "\n"
      ]
    },
    {
      "cell_type": "markdown",
      "metadata": {
        "id": "Rpyg_NLmO3-o"
      },
      "source": [
        "Führen Sie die folgende Zelle aus, um die ReLU Funktion zu definieren."
      ]
    },
    {
      "cell_type": "code",
      "execution_count": 30,
      "metadata": {
        "id": "RHSnTEwVO3-o"
      },
      "outputs": [],
      "source": [
        "# do not change\n",
        "def relu(input_val:float) -> float:\n",
        "    return np.where(input_val > 0, input_val, 0.0)"
      ]
    },
    {
      "cell_type": "markdown",
      "metadata": {
        "id": "bRWhllvTO3-o"
      },
      "source": [
        "Wir können ein Neuron mit einer ReLU-Aktivierungsfunktion folgendermaßen zeichnen:\n",
        "<img src=\"https://github.com/KI-Campus/AMALEA/blob/master/Woche%204/images/single_neuron_relu.png?raw=1\" />\n",
        "<p style=\"text-align: center;\">\n",
        "    Abb. 5 - Neuron mit ReLU-Aktivierungsfunktion visualisiert\n",
        "</p>\n",
        "Lassen Sie uns eine neue Klasse erstellen, um dieses Neuron in Python zu implementieren. Wir werden alle Eigenschaften eines Neurons von SimpleNeuron erben.\n",
        "Wir ändern nur die Ausgabe, indem wir sie zunächst durch unsere ReLU-Funktion führen:\n",
        "<div class=\"alert alert-block alert-success\">\n",
        "<b>Aufgabe 4.2.6:</b> Implementieren Sie ein komplettes künstlichen Neurons mit ReLU-Aktivierungsfunktion\n",
        "<ul>\n",
        "<li> Vervollständigen Sie den folgenden Code eines künstliches Neuron, indem Sie die ReLU-Funktion von oben verwenden, um seine Aktivierung zu berechnen (wie in Abbildung 5). </li>\n",
        "<li>Schauen Sie sich die <a href=\"#simple_neuron\">einfache Neuronenklasse</a> an und schreiben Sie eine ähnliche Berechnungsfunktion</li>\n",
        "<li>Sie brauchen die relu-Funktion nicht neu zu implementieren und sollten nicht mehr als 1 Zeile hinzufügen müssen. </li>\n",
        "\n",
        "</ul>\n",
        "</div>"
      ]
    },
    {
      "cell_type": "code",
      "execution_count": 60,
      "metadata": {
        "id": "uHgslXa0O3-o"
      },
      "outputs": [],
      "source": [
        "class ReluNeuron(SimpleNeuron): #inherit from SimpleNeuron class\n",
        "\n",
        "    def compute(self, inputs:list) -> float:\n",
        "        # STUDENT CODE HERE\n",
        "        z = self.weight * inputs + self.bias\n",
        "        self.activation = relu(z)\n",
        "\n",
        "\n",
        "        # STUDENT CODE until HERE\n",
        "        return self.activation"
      ]
    },
    {
      "cell_type": "markdown",
      "metadata": {
        "id": "ZPa9Li7kO3-o"
      },
      "source": [
        "***\n",
        "### Aufgabe: Nichtlineare Klimaregelung\n",
        "\n",
        "Sie finden sich als Ingenieur bei der Firma \"ClimaTronics\" wieder. Ihre Firma möchte KI-Technologie implementieren, um ihr neues Klimasystem \"Perfect Climate 9000\" zu regeln. Obwohl das Problem leicht mit konventioneller Programmierung gelöst werden kann, möchte die Geschäftsleitung, dass Sie KI implementieren, um Investoren zu gewinnen. Sie müssen die folgenden Anforderungen erfüllen, die im Datenblattauszug visualisiert sind:\n",
        "\n",
        "\n",
        "`Bei Temperaturen unter 25°C soll die Klimasteuerung ausgeschaltet bleiben. Bei einer Temperatur von 30°C soll sie 10% ihrer Kühlleistung erreichen. Zwischen 30°C und 40°C soll die Kühlleistung quadratisch mit der Temperatur ansteigen. Die Kühlleistung soll bei 40°C ihr Maximum erreichen.`\n",
        "<img src=\"https://github.com/KI-Campus/AMALEA/blob/master/Woche%204/images/datasheet.png?raw=1\" />\n",
        "\n"
      ]
    },
    {
      "cell_type": "markdown",
      "metadata": {
        "id": "pgH1T0ASO3-o"
      },
      "source": [
        "Führen Sie die nachfolgende Zelle aus, um ein interaktives Diagramm anzuzeigen."
      ]
    },
    {
      "cell_type": "code",
      "execution_count": 47,
      "metadata": {
        "colab": {
          "base_uri": "https://localhost:8080/",
          "height": 99,
          "referenced_widgets": [
            "a0dd9a305e05450b90780fee2708f8bd",
            "a9bc1d4cde454940a46c8a2ee7de0a4f",
            "20086b3a5ce34afea72768a391b7856e",
            "75bf152bd68f4e12aa6ee9b8e8b63c9c",
            "231fe3ff55b24bb9883473de18cb259b",
            "2dcfce22e4f446dc8ab7c84d0d6a9ce2",
            "cd50a785f00c43e5a804c0d07364976c",
            "45c2afbc7d934eec92c3007a8fec17fa",
            "2331733058aa4453bdee13cdf1137891",
            "8e1ff9055cd34b6c85b16328fdb7484e"
          ]
        },
        "id": "lCJNB7LgO3-p",
        "outputId": "65bb8613-36d5-460c-d77a-32ec2daa1855"
      },
      "outputs": [
        {
          "output_type": "display_data",
          "data": {
            "text/plain": [
              "interactive(children=(FloatSlider(value=0.0, description='weight', layout=Layout(width='90%'), max=10.0, min=-…"
            ],
            "application/vnd.jupyter.widget-view+json": {
              "version_major": 2,
              "version_minor": 0,
              "model_id": "a0dd9a305e05450b90780fee2708f8bd"
            }
          },
          "metadata": {
            "application/vnd.jupyter.widget-view+json": {
              "colab": {
                "custom_widget_manager": {
                  "url": "https://ssl.gstatic.com/colaboratory-static/widgets/colab-cdn-widget-manager/2b70e893a8ba7c0f/manager.min.js"
                }
              }
            }
          }
        },
        {
          "output_type": "execute_result",
          "data": {
            "application/vnd.jupyter.widget-view+json": {
              "version_major": 2,
              "version_minor": 0,
              "model_id": "8e1ff9055cd34b6c85b16328fdb7484e"
            },
            "text/plain": [
              "FigureWidget({\n",
              "    'data': [{'type': 'scatter',\n",
              "              'uid': 'dd90d865-8acc-40a2-964b-150a2c1cc381',\n",
              "              'x': array([-4. , -3.9, -3.8, ..., 44.7, 44.8, 44.9]),\n",
              "              'y': array([ -4. ,  -3.9,  -3.8, ..., 104.7, 104.8, 104.9])},\n",
              "             {'mode': 'markers',\n",
              "              'type': 'scatter',\n",
              "              'uid': '6686a49b-6c66-4902-b336-52db3bbc0aca',\n",
              "              'x': [25.0, 27.5, 30.0, 32.5, 35, 37.5, 40.0],\n",
              "              'y': [0.0, 2.0, 10.0, 23.7, 43, 68.7, 100.0]}],\n",
              "    'layout': {'autosize': False,\n",
              "               'height': 400,\n",
              "               'margin': {'l': 170, 't': 0},\n",
              "               'showlegend': False,\n",
              "               'template': '...',\n",
              "               'width': 800,\n",
              "               'xaxis': {'fixedrange': True, 'range': [-4, 45], 'title': {'text': 'Input: x'}},\n",
              "               'yaxis': {'fixedrange': True, 'range': [-4, 105], 'title': {'text': 'Output: y'}}}\n",
              "})"
            ]
          },
          "metadata": {},
          "execution_count": 47
        }
      ],
      "source": [
        "# do not change\n",
        "points_climate = dict(x=[25.0, 27.5, 30.0, 32.5, 35, 37.5, 40.0], y=[0.0, 2.0, 10.0, 23.7, 43, 68.7, 100.0])\n",
        "\n",
        "ranges_climate = dict(x=[-4, 45], y=[-4, 105])\n",
        "climate_plot = Interactive2DPlot(points_climate, ranges_climate)\n",
        "our_relu_neuron = ReluNeuron(climate_plot)\n",
        "\n",
        "interact(\n",
        "    our_relu_neuron.set_values,\n",
        "    weight=FloatSlider(min=-10, max=10, step=0.1, value=0, layout=slider_layout),\n",
        "    bias=FloatSlider(min=-200.0, max=200.0, step=1, value=0, layout=slider_layout),\n",
        ")\n",
        "\n",
        "climate_plot.plot"
      ]
    },
    {
      "cell_type": "markdown",
      "metadata": {
        "id": "r7PuAm8pO3-p"
      },
      "source": [
        "<div class=\"alert alert-block alert-success\">\n",
        "<b>Frage 4.2.7:</b> Wie wirkt sich eine Änderung des Gewichts auf die Ausgabefunktion aus, wenn der Bias auf 0,00 gesetzt wird?\n",
        "</div>\n",
        "\n",
        "<div class=\"alert alert-block alert-success\">\n",
        "<b>Ihre Antwort:</b></div>"
      ]
    },
    {
      "cell_type": "markdown",
      "metadata": {
        "id": "YvFvCLWeO3-p"
      },
      "source": [
        "<div class=\"alert alert-block alert-success\">\n",
        "<b>Frage 4.2.8:</b> Wie wirkt sich die Änderung des Bias auf die Ausgangsfunktion aus?\n",
        "</div>\n",
        "\n",
        "<div class=\"alert block alert-success\">\n",
        "<b>Ihre Antwort:</b></div>"
      ]
    },
    {
      "cell_type": "markdown",
      "metadata": {
        "id": "EQnb01HEO3-p"
      },
      "source": [
        "<div class=\"alert alert-block alert-success\">\n",
        "<b>Frage 4.2.9:</b> Bei welcher Temperatur beginnt die Klimatisierung, wenn sie das Gewicht auf 1,00 und den Bias auf -10, setzen?\n",
        "</div>\n",
        "\n",
        "<div class=\"alert alert-block alert-success\">\n",
        "<b>Ihre Antwort:</b></div>"
      ]
    },
    {
      "cell_type": "markdown",
      "metadata": {
        "id": "lxgRYDhYO3-p"
      },
      "source": [
        "<div class=\"alert alert-block alert-success\">\n",
        "<b>Frage 4.2.10:</b> Bei welcher Temperatur beginnt die Klimatisierung, wenn Sie das Gewicht auf 1,00 und den Bias auf -20 setzen?\n",
        "</div>\n",
        "\n",
        "<div class=\"alert alert-block alert-success\">\n",
        "<b>Ihre Antwort:</b></div>"
      ]
    },
    {
      "cell_type": "markdown",
      "metadata": {
        "id": "Z07W_j6NO3-p"
      },
      "source": [
        "<div class=\"alert alert-block alert-success\">\n",
        "<b>Frage 4.2.11:</b> Bei welcher Temperatur beginnt die Klimatisierung, wenn Sie das Gewicht auf 2,00 und des Bias auf -20 setzen?\n",
        "</div>\n",
        "\n",
        "<div class=\"alert alert-block alert-success\">\n",
        "<b>Ihre Antwort:</b></div>"
      ]
    },
    {
      "cell_type": "markdown",
      "metadata": {
        "id": "FIGJEjACO3-p"
      },
      "source": [
        "<div class=\"alert alert-block alert-success\">\n",
        "<b>Frage 4.2.12:</b> Was ist die beste Gewicht/Bias-Konfiguration, die Sie finden konnten?\n",
        "</div>\n",
        "\n",
        "<div class=\"alert block alert-success\">\n",
        "<b>Ihre Antwort:</b></div>"
      ]
    },
    {
      "cell_type": "markdown",
      "metadata": {
        "id": "7tCYb0imO3-p"
      },
      "source": [
        "### Schlussfolgerung\n",
        "Mit nur einem Neuron können wir den Einfluss von Gewicht und Bias leicht verstehen und nachvollziehen.\n",
        "Aber unsere Ein-Neuron-Approximation reicht nicht aus, um die benötigte quadratische Beziehung genau zu approximieren."
      ]
    },
    {
      "cell_type": "markdown",
      "metadata": {
        "id": "IaezjoW8O3-p"
      },
      "source": [
        "***\n",
        "## Neuronale Netze\n",
        "\n",
        "Die Approximation kann durch die Verwendung mehrerer Neuronen verbessert werden. Anstatt nur ein Neuron für unsere Approximation zu verwenden, konstruieren wir ein neuronales Netzwerk. Wir werden zwei ReLU-Neuronen und ein Ausgangsneuron verwenden, das ebenfalls Gewichte hat. Nun können wir entscheiden, wie wir das Ergebnis der beiden ReLU-Neuronen in der Mitte gewichten wollen.\n",
        "\n",
        "### Versteckte Schichten (engl. Hidden Layers)\n",
        "In dem nachfolgenden neuronalen Netzwerk stellen die beiden Neuronen in der Mitte eine **versteckte Schicht** dar.\n",
        "\n",
        "In der letzten Aufgabe hatten das Gewicht und der Bias einen leicht nachvollziehbaren Einfluss auf die Ausgabe.\n",
        "Durch das Hinzufügen weiterer Neuronen wird die Beziehung zwischen den einzelnen Gewichten und Bias und der Ausgabe jedoch weniger nachvollziehbar.\n",
        "Wir erhalten die Gewichte und Bias, indem wir sie einfach solange anpassen, bis das Ergebnis stimmt. Bei diesem Vorgang verlieren wir schnell den Überblick darüber, was wir eigentlich genau berechnen. Daher ist es schwierig, ein einzelnes Neuron aus diesem Netz zu isolieren und seine Verantwortung im System zu beschreiben.\n",
        "\n",
        "Der Eingabewert wird mit den ersten Gewichten multipliziert und nach dem Hinzufügen der Bias auf eine Aktivierungsfunktion gegeben. Anschließend wird dieser Ausgang mit den zweiten Gewichten multipliziert. Versteckte Schichten können mehrfach hintereinander gestapelt werden. Dies gibt Raum für mehrere Berechnungsschritte und ermöglicht die Approximation komplexerer Funktionen.\n",
        "\n",
        "Neuronale Netze, die mindestens eine versteckte Schicht verwenden, haben eine interessante Eigenschaft: Sie können zur Approximation einer beliebigen stetigen Funktion verwendet werden. _(Siehe \"Weiterführende Literatur\")_\n",
        "\n",
        "<img src=\"https://github.com/KI-Campus/AMALEA/blob/master/Woche%204/images/hidden_layer.png?raw=1\" />\n",
        "\n"
      ]
    },
    {
      "cell_type": "markdown",
      "metadata": {
        "id": "y-qUNBizO3-u"
      },
      "source": [
        "Wir werden eine Klasse für neuronale Netze erstellen. Das Netzwerk wird vier Gewichte und zwei Bias haben."
      ]
    },
    {
      "cell_type": "markdown",
      "metadata": {
        "id": "AVx_Tm7iO3-u"
      },
      "source": [
        "</div>\n",
        "\n",
        "<div class=\"alert alert-block alert-info\">\n",
        "<b>Hinweis:</b> Der Einfachheit halber und zur Wiederverwendbarkeit des Codes werden wir neuronale Netze so behandeln, wie wir einzelne Neuronen in den bisherigen Beispielen behandelt haben. Denken Sie daran, dass ein künstliches Neuron nur eine mathematische Funktion ist. Ein ganzes neuronales Netzwerk kann auch vollständig durch eine einzelne Funktion beschrieben werden, wie es auch bei der Berechnung der Aktivierung geschieht. Die Neuronen müssen nicht die konkrete Form von einzelnen Datenobjekten annehmen.\n",
        "\n",
        "</div>"
      ]
    },
    {
      "cell_type": "markdown",
      "metadata": {
        "id": "YVYPIvchO3-u"
      },
      "source": [
        "Führen Sie die folgende Zelle aus, um ein neuronales Netzwerk zu definieren."
      ]
    },
    {
      "cell_type": "code",
      "execution_count": 48,
      "metadata": {
        "id": "f6UUDGe9O3-u"
      },
      "outputs": [],
      "source": [
        "# do not change\n",
        "class NeuralNetwork:\n",
        "    def __init__(self, plot):\n",
        "        self.plot = plot #I am assigned the following plot\n",
        "        self.plot.register_neuron(self) #hey plot, remember me\n",
        "\n",
        "    def set_config(self, w_i1:float, w_o1:float, b1:float, w_i2:float, w_o2:float, b2:float):\n",
        "        self.w_i1 = w_i1\n",
        "        self.w_o1 = w_o1\n",
        "        self.b1 = b1\n",
        "        self.w_i2 = w_i2\n",
        "        self.w_o2 = w_o2\n",
        "        self.b2 = b2\n",
        "        self.show_config()\n",
        "        self.plot.update()  # please redraw my output\n",
        "\n",
        "    def show_config(self):\n",
        "        print(\"w_i1:\", self.w_i1, \"\\t| \", \"w_o1:\", self.w_o1,\"\\n\")\n",
        "        print(\"b1:\", self.b1, \"\\t| \", \"w_i2:\", self.w_i2,\"\\n\")\n",
        "        print(\"w_o2:\", self.w_o2, \"\\t| \", \"b2:\", self.b2,\"\\n\")\n",
        "\n",
        "    def compute(self, x:float)->float:\n",
        "        self.prediction = (relu(self.w_i1 * x + self.b1) * self.w_o1\n",
        "                         + relu(self.w_i2 * x + self.b2) * self.w_o2)\n",
        "        return self.prediction"
      ]
    },
    {
      "cell_type": "markdown",
      "metadata": {
        "id": "kKNqmWCkO3-v"
      },
      "source": [
        "***\n",
        "### Aufgabe: Nichtlineare Klimaregelung mit einem neuronalen Netzwerk\n",
        "\n",
        "Führen Sie die folgende Zelle aus und passen Sie Gewichte und Bias an, um eine bessere Annäherung an die gewünschte Kurve als in der vorherigen Aufgabe zu erreichen."
      ]
    },
    {
      "cell_type": "code",
      "execution_count": 49,
      "metadata": {
        "colab": {
          "base_uri": "https://localhost:8080/",
          "height": 336,
          "referenced_widgets": [
            "d4d4bbcc7266424b8440d212f7608c31",
            "9859416746254cb49a080bff4e0e3699",
            "622eafad145e4964937ae79e6b48bd72",
            "1ff5de73eed748cfa535cb40474fb1fb",
            "534872e925af4eb7be340901e062d54d",
            "e55dd937d43d45389d057a16b10c4c19",
            "7f3250c1357547b4b42c773dcb3c1f46",
            "3d815d0cd7b7428eae54c778bd3df0f2",
            "627fb365ab214fe29c6c51fef3bb5df4",
            "2dcfce22e4f446dc8ab7c84d0d6a9ce2",
            "47e6a0b76f0d4d178ced4c26801bef59",
            "05198b9f9aa9459fb07583c3451064a5",
            "9547637f2e7a42dd9f19711eca99a090",
            "0086c9ebcaef4cdda1de781e2039c886",
            "e94cd15895ca4fafba0591b59227de2e",
            "ae8f2dd40ce04a8b9e7239812db36151",
            "5d6a37c157a449d79a435527c70ab5c5",
            "d2bceeef8f214d02a329f8e35c2e2f9c"
          ]
        },
        "id": "MTsdRsapO3-v",
        "outputId": "864861ff-dbb8-4e65-b15c-121da7e74ba0"
      },
      "outputs": [
        {
          "output_type": "display_data",
          "data": {
            "text/plain": [
              "interactive(children=(FloatSlider(value=0.0, description='w_i1', layout=Layout(width='90%'), max=10.0, min=-10…"
            ],
            "application/vnd.jupyter.widget-view+json": {
              "version_major": 2,
              "version_minor": 0,
              "model_id": "d4d4bbcc7266424b8440d212f7608c31"
            }
          },
          "metadata": {
            "application/vnd.jupyter.widget-view+json": {
              "colab": {
                "custom_widget_manager": {
                  "url": "https://ssl.gstatic.com/colaboratory-static/widgets/colab-cdn-widget-manager/2b70e893a8ba7c0f/manager.min.js"
                }
              }
            }
          }
        },
        {
          "output_type": "execute_result",
          "data": {
            "application/vnd.jupyter.widget-view+json": {
              "version_major": 2,
              "version_minor": 0,
              "model_id": "d2bceeef8f214d02a329f8e35c2e2f9c"
            },
            "text/plain": [
              "FigureWidget({\n",
              "    'data': [{'type': 'scatter',\n",
              "              'uid': '1e21ee24-bfaf-41dd-9c04-4f13bddff8a8',\n",
              "              'x': array([-4. , -3.9, -3.8, ..., 44.7, 44.8, 44.9]),\n",
              "              'y': array([ -4. ,  -3.9,  -3.8, ..., 104.7, 104.8, 104.9])},\n",
              "             {'mode': 'markers',\n",
              "              'type': 'scatter',\n",
              "              'uid': 'af45180c-dd22-4a45-8ed3-d71df3b6b1fa',\n",
              "              'x': [25.0, 27.5, 30.0, 32.5, 35, 37.5, 40.0],\n",
              "              'y': [0.0, 2.0, 10.0, 23.7, 43, 68.7, 100.0]}],\n",
              "    'layout': {'autosize': False,\n",
              "               'height': 400,\n",
              "               'margin': {'l': 170, 't': 0},\n",
              "               'showlegend': False,\n",
              "               'template': '...',\n",
              "               'width': 800,\n",
              "               'xaxis': {'fixedrange': True, 'range': [-4, 45], 'title': {'text': 'Input: x'}},\n",
              "               'yaxis': {'fixedrange': True, 'range': [-4, 105], 'title': {'text': 'Output: y'}}}\n",
              "})"
            ]
          },
          "metadata": {},
          "execution_count": 49
        }
      ],
      "source": [
        "# do not change\n",
        "climate_plot_adv = Interactive2DPlot(points_climate, ranges_climate)\n",
        "our_neural_net = NeuralNetwork(climate_plot_adv)\n",
        "\n",
        "interact(\n",
        "    our_neural_net.set_config,\n",
        "    w_i1=FloatSlider(min=-10, max=10, step=0.1, layout=slider_layout),\n",
        "    w_o1=FloatSlider(min=-10, max=10, step=0.1,  layout=slider_layout),\n",
        "    b1=FloatSlider(min=-200.0, max=200.0, step=1,  layout=slider_layout),\n",
        "    w_i2=FloatSlider(min=-10, max=10, step=0.1, layout=slider_layout),\n",
        "    w_o2=FloatSlider(min=-10, max=10, step=0.1,  layout=slider_layout),\n",
        "    b2=FloatSlider(min=-200.0, max=200.0, step=1,layout=slider_layout),\n",
        ")\n",
        "climate_plot_adv.plot"
      ]
    },
    {
      "cell_type": "markdown",
      "metadata": {
        "id": "xukNjq6TO3-v"
      },
      "source": [
        "<div class=\"alert alert-block alert-success\">\n",
        "<b>Frage 4.2.13:</b> Was ist die beste Konfiguration, die Sie finden konnten? (Kopie von oberhalb des Plots)\n",
        "</div>\n",
        "\n",
        "<div class=\"alert block alert-success\">\n",
        "<b>Ihre Antwort:</b></div>"
      ]
    },
    {
      "cell_type": "markdown",
      "metadata": {
        "id": "pRM6tpEFO3-v"
      },
      "source": [
        "### Schlussfolgerung\n",
        "Wir stellen fest, dass die quadratische Beziehung durch die Verwendung zusätzlicher Gewichte und Bias besser angenähert werden kann. Mit zwei ReLU Neuronen können wir eine Funktion mit zwei Knicken erstellen.\n",
        "Die Komplexität der Suche nach den optimalen Gewichten/Biases nimmt jedoch mit jeder Variablen drastisch zu. Je leistungsfähiger unsere neuronalen Netze sein sollen, desto schwieriger wird die Optimierung."
      ]
    },
    {
      "cell_type": "markdown",
      "metadata": {
        "id": "0n_DZwi0O3-v"
      },
      "source": [
        "***\n",
        "## Backpropagation\n",
        "\n",
        "Die Lösung für unser Optimierungsproblem lautet Backpropagation. Mit ihr können wir den Prozess der Anpassung von Gewichten und Bias automatisieren. In diesem Beispiel werden wir zu den Grundlagen zurückkehren und ein einfaches Neuron ohne Aktivierungsfunktion betrachten. Backpropagation funktioniert unter Hinzunahme der partiellen Ableitungen der Verlustfunktion in Bezug auf jedes Gewicht und jeden Bias im Netz. Diese können mit Hilfe der Kettenregel der Infinitesimalrechnung berechnet werden. Die Ausgabe des Netzwerks $\\hat{y} = \\hat{f}(x,\\theta )$\n",
        "(wenn $\\hat{y}$ den vom neuronalen Netz vorhergesagten y-Wert bezeichnet) wird in der Forwardpropagation unter Anwendung der gegebenen Rechenregeln (Multiplizieren mit Gewichten, Summieren mit Bias und Aktivierungsfunktion, bis Sie den Ausgang erreichen) berechnet. Der Verlust wird dann aus dem vorhergesagten und dem Ground-Truth-Wert (tatsächlichem Wert) mit der Verlustfunktion berechnet. Mit diesem Verlust können Sie einfach die partiellen Ableitungen in der so genannten Backpropagation berechnen. Siehe zum Beispiel: [BackpropagationExample](https://ml-cheatsheet.readthedocs.io/en/latest/backpropagation.html)\n",
        "\n",
        "An jedem Punkt zeigen der Bias- und der Gewichtsgradient in die Richtung des höheren Verlustes. Die Größe des Gradienten repräsentiert den Betrag der Verlustzunahme.\n",
        "\n",
        "Angenommen, wir würden den Verlust in Abb. 6 __maximieren__: Alles, was wir tun müssen, ist, den partiellen Ableitungen zu folgen, indem wir sie zu unserem aktuellen Gewicht/Bias-Punkt addieren. In diesem Beispiel bedeutet das, dass wir das Gewicht stark verringern (siehe die Achsen in Abb. 6) und den Bias um einen geringen Betrag verringern (da seine partielle Ableitung eine geringere Größe hat).\n",
        "\n",
        "Da wir aber mit dem Verlust nach unten gehen wollen, _subtrahieren_ wir den Gradienten von unserem aktuellen Punkt. Dadurch nähern wir uns dem Minimum entgegen. Im nächsten Schritt sind wir so weiter unten und nahe dem Tiefpunkt. Da wir dann aber immer noch nicht nah genug am Tiefpunkt sind, wiederholen wir diese Schritte einfach, bis wir das Minimum erreicht haben.\n",
        "\n",
        "Das Gute an neuronalen Netzwerken ist, dass wir den Gradienten **analytisch** für alle möglichen Datenpunkte bestimmen können. Wir müssen ihn nicht durch numerische Methoden schätzen, wie z. B. durch die Berechnung des Verlusts zweier Gewicht/Bias-Kombinationen dividiert durch den \"Schrittabstand\" (\"Euler-Methode\"). Dieses Vorwissen über den Gradienten macht die Backpropagation vergleichsweise schnell. Leider können wir aber nicht analytisch die Gewicht/Bias-Kombination bestimmen, die die Verlustfunktion auf ihr Minimum bringt. Wir müssen sie immer noch iterativ über viele Schritte finden.\n",
        "\n",
        "Jeder Schritt, den wir machen, wird eine **Epoche** genannt. (In diesem Fall sind _Trainingsschritte_ und _Epochen_ gleichwertig). Da es schwierig ist, festzustellen, ob das Minimum erreicht ist, geben wir die Anzahl der Epochen vor unserem Abstieg an und lassen das Programm dann einfach laufen.\n",
        "\n",
        "Ist die Größe der Gradienten zu groß, werden wir nie ein Minimum erreichen. Das liegt daran, dass unser Algorithmus die Kugel (also den aktuellen Punkt) bei jedem Schritt zu stark bewegen will. Er wird um das Minimum oszillieren, aber nie dort ankommen. Im Extremfall kann die Bewegung sogar bis in die Unendlichkeit oszillieren. Um die Kontrolle über die Größe der Bewegung zu haben, wird der Gradient mit einem Faktor multipliziert, der **Lernrate** (engl. learning rate) genannt wird (auch \"Schrittgröße\" genannt im Gradientenabstieg). Indem wir die Lernrate auf einen optimalen Wert einstellen, können wir Oszillationen verhindern. Ist die Lernrate allerdings zu klein, wird das Netzwerk sehr lange brauchen, um zu \"lernen\", da sich dann die Gewichte und Bias nur sehr langsam ändern.\n",
        "\n",
        "Die Anzahl der Epochen sowie die Lernrate sind so genannte **Hyperparameter**. Sie beeinflussen den Trainingsprozess, sind aber nicht Teil des Netzwerks selbst.\n",
        "\n",
        "\n",
        "\n",
        "<img src=\"https://github.com/KI-Campus/AMALEA/blob/master/Woche%204/images/backprop.png?raw=1\" />\n",
        "<p style=\"text-align: center;\">\n",
        "    Abb. 6 - Partielle Ableitungen der Verlustfunktion\n",
        "</p>\n"
      ]
    },
    {
      "cell_type": "markdown",
      "metadata": {
        "id": "_rvDvj5dO3-v"
      },
      "source": [
        "### Backpropagation-Plot vorbereiten\n",
        "Wir werden ein neues 3D-Diagramm erstellen, das die vergangenen Gewichts-/Bias-/Verlustwerte darstellt, während wir versuchen, den Verlust Schritt für Schritt zu optimieren. Die schwarze Kugel hinterlässt eine Spur ihrer vergangenen Werte. Führen Sie die nachfolgende Zelle aus, um das Plotten der Backpropagation-Schritte zu aktivieren."
      ]
    },
    {
      "cell_type": "code",
      "execution_count": 50,
      "metadata": {
        "id": "HoThnVChO3-v"
      },
      "outputs": [],
      "source": [
        "# do not change\n",
        "plot_backprop = DualPlot(points_linreg, ranges_3d, ranges_linreg)\n",
        "trace_to_plot = go.Scatter3d(x=[], y=[], z=[], hoverinfo=\"none\", mode=\"lines\", line=dict(width=10, color=\"grey\"))\n",
        "\n",
        "plot_backprop.plot_3d.data.append(trace_to_plot)  # Expand 3D Plot to also plot traces\n",
        "plot_backprop.plot_3d.plot = go.FigureWidget(plot_backprop.plot_3d.data, plot_backprop.plot_3d.layout)\n",
        "plot_backprop.plot_3d.draw_time = 0\n",
        "\n",
        "\n",
        "def redraw_with_traces(plot_to_update:DualPlot, neuron:SimpleNeuron, trace_list:dict, points:dict):  # executed every update step\n",
        "    plot_to_update.plot_3d.plot.data[2].x = trace_list[\"x\"]\n",
        "    plot_to_update.plot_3d.plot.data[2].y = trace_list[\"y\"]\n",
        "    plot_to_update.plot_3d.plot.data[2].z = trace_list[\"z\"]\n",
        "    plot_to_update.plot_3d.plot.data[1].x = [neuron.weight]\n",
        "    plot_to_update.plot_3d.plot.data[1].y = [neuron.bias]\n",
        "    plot_to_update.plot_3d.plot.data[1].z = [log_mse(neuron, points)]\n",
        "    plot_to_update.update()\n",
        "\n",
        "\n",
        "def add_traces(neuron:SimpleNeuron, points:dict, trace_list:dict):  # executed every epoch\n",
        "    trace_list[\"x\"].extend([neuron.weight])\n",
        "    trace_list[\"y\"].extend([neuron.bias])\n",
        "    trace_list[\"z\"].extend([log_mse(neuron, points)])"
      ]
    },
    {
      "cell_type": "markdown",
      "metadata": {
        "id": "uQHxno-4O3-v"
      },
      "source": [
        "***\n",
        "## DIY Backpropagation\n",
        "\n",
        "Um Backpropagation durchzuführen, müssen Sie zunächst die partiellen Ableitungen der Verlustfunktion des \"einfachen Neurons\" in Abhängigkeit von Gewicht und Bias bestimmen. Danach müssen Sie herausfinden, wie Sie die Gewichte und Bias richtig an den auf die Lernrate skalierten Gradienten anpassen.\n",
        "Am Ende dieser Übung können Sie Ihre Ergebnisse durch Training verifizieren. Wenn Sie die erwartete Leistung (Benchmark) erreichen, ist Ihr Algorithmus korrekt.\n",
        "\n",
        "Der Algorithmus arbeitet mit einem Dictionary von Punkten mit der Form von: [points_linreg](#points_linreg)."
      ]
    },
    {
      "cell_type": "markdown",
      "metadata": {
        "id": "BGPzrBVMO3-v"
      },
      "source": [
        "<div class=\"alert alert-block alert-success\">\n",
        "<b>Aufgabe 4.2.14:</b> Bestimmen Sie die Steigung <b>analytisch!!</b>\n",
        "<ul>\n",
        "<li> <b>Vervollständigen Sie die folgende Funktion selbst.</b>\n",
        "<li>Es gibt mehrere Lösungen, Ihr Algorithmus kann das Gewicht und den Bias in die richtige Richtung anpassen, obwohl die Berechnung des Gradienten falsch ist.\n",
        "<li> <b>Benchmark:</b> Wenn Sie nach 100 Epochen und mit einer Lernrate von 0,03 einen Verlust von 0,22 erreichen können, ist Ihre Lösung richtig\n",
        "    </li>\n",
        "\n",
        "</ul>\n",
        "\n",
        "</div>"
      ]
    },
    {
      "cell_type": "code",
      "execution_count": 51,
      "metadata": {
        "id": "CVB6EpdOO3-v"
      },
      "outputs": [],
      "source": [
        "def simple_neuron_loss_gradient(neuron: SimpleNeuron, points: dict) -> dict:\n",
        "    gradient_sum = dict(weight=0, bias=0)  # Summe der Gradienten\n",
        "\n",
        "    for point_x, point_y in zip(points[\"x\"], points[\"y\"]):\n",
        "        # Vorhersage des Neurons\n",
        "        pred = neuron.compute(point_x)\n",
        "\n",
        "        # Fehler\n",
        "        error = pred - point_y\n",
        "\n",
        "        # Gradient Gewicht: 2 * Fehler * x_i\n",
        "        gradient_sum[\"weight\"] += 2 * error * point_x\n",
        "\n",
        "        # Gradient Bias: 2 * Fehler\n",
        "        gradient_sum[\"bias\"] += 2 * error\n",
        "\n",
        "    # Durchschnitt über alle Punkte\n",
        "    gradient = dict(\n",
        "        weight=gradient_sum[\"weight\"] / len(points[\"x\"]),\n",
        "        bias=gradient_sum[\"bias\"] / len(points[\"x\"])\n",
        "    )\n",
        "    return gradient"
      ]
    },
    {
      "cell_type": "markdown",
      "metadata": {
        "id": "F6aEj4q3O3-v"
      },
      "source": [
        "<div class=\"alert alert-block alert-success\">\n",
        "<b>Aufgabe 4.2.15:</b> Das Neuron anpassen\n",
        "<ul>\n",
        "\n",
        "<li>Nachdem Sie den Gradienten ermittelt haben, müssen Sie das Gewicht und den Bias des Neurons basierend auf den partiellen Ableitungen und der Lernrate anpassen. Sie sollten Ihre Ergebnisse überprüfen, indem Sie das Netz unten trainieren.\n",
        "<li> <b>Vervollständigen Sie die nachfolgende Funktion selbst.</b>\n",
        "    </li>\n",
        "\n",
        "</ul>\n",
        "\n",
        "</div>"
      ]
    },
    {
      "cell_type": "code",
      "execution_count": 52,
      "metadata": {
        "id": "4ow5xO6gO3-w"
      },
      "outputs": [],
      "source": [
        "def adjust_neuron(neuron:SimpleNeuron, gradient:dict, learning_rate:float):\n",
        "    # STUDENT CODE HERE\n",
        "    # Aktuelle Werte holen\n",
        "    w = neuron.get_weight()\n",
        "    b = neuron.get_bias()\n",
        "\n",
        "    # Parameter anpassen (Gradient Descent Schritt)\n",
        "    w_new = w - learning_rate * gradient['weight']\n",
        "    b_new = b - learning_rate * gradient['bias']\n",
        "\n",
        "    # Neue Werte setzen\n",
        "    neuron.set_values(w_new, b_new)\n",
        "    # STUDENT CODE until HERE"
      ]
    },
    {
      "cell_type": "markdown",
      "metadata": {
        "id": "YEMH3mgYO3-w"
      },
      "source": [
        "### Trainingsprozess definieren\n"
      ]
    },
    {
      "cell_type": "code",
      "execution_count": 53,
      "metadata": {
        "id": "dI4hsIUSO3-w"
      },
      "outputs": [],
      "source": [
        "# do not change\n",
        "def train(neuron:SimpleNeuron, points:dict, epochs:int, learning_rate:float, redraw_step:int, trace_list:dict):\n",
        "    redraw_with_traces(neuron.plot, neuron, trace_list, points)\n",
        "    for i in range(1, epochs + 1):  # first Epoch is Epoch no.1\n",
        "        add_traces(neuron, points, trace_list)\n",
        "        gradient = simple_neuron_loss_gradient(neuron, points)\n",
        "        adjust_neuron(neuron, gradient, learning_rate)\n",
        "\n",
        "        if i % redraw_step == 0:\n",
        "            print(\"Epoch:{} \\t\".format(i), end=\"\")\n",
        "            redraw_with_traces(neuron.plot, neuron_backprop, trace_list, points)"
      ]
    },
    {
      "cell_type": "markdown",
      "metadata": {
        "id": "NPIJjkG7O3-w"
      },
      "source": [
        "<div class=\"alert alert-block alert-success\">\n",
        "<b>Aufgabe 4.2.16:</b> Hyperparameter wählen und trainieren\n",
        "<ul>\n",
        "\n",
        "<li>Wählen Sie eine optimale Lernrate und Anzahl der Epochen, indem Sie verschiedene Werte einstellen und die beiden nachfolgenden Zellen ausführen.</li>\n",
        "\n",
        "</ul>\n",
        "\n",
        "</div>"
      ]
    },
    {
      "cell_type": "code",
      "execution_count": 68,
      "metadata": {
        "colab": {
          "base_uri": "https://localhost:8080/",
          "height": 617,
          "referenced_widgets": [
            "fee48f30a1784241a09c80830c172c4d",
            "341547c689a447688990dc15d523c4e0",
            "b6038e80722542149bf17769f1a0af17",
            "2ea7adf8d7a64032b5291dee0d61fcb0"
          ]
        },
        "id": "CSGF-KKjO3-w",
        "outputId": "0c51757f-124d-4842-8ba3-b74cb648f2cd"
      },
      "outputs": [
        {
          "output_type": "display_data",
          "data": {
            "text/plain": [
              "HBox(children=(FigureWidget({\n",
              "    'data': [{'colorscale': [[0.0, '#440154'], [0.1111111111111111, '#482878'],\n",
              "…"
            ],
            "application/vnd.jupyter.widget-view+json": {
              "version_major": 2,
              "version_minor": 0,
              "model_id": "fee48f30a1784241a09c80830c172c4d"
            }
          },
          "metadata": {
            "application/vnd.jupyter.widget-view+json": {
              "colab": {
                "custom_widget_manager": {
                  "url": "https://ssl.gstatic.com/colaboratory-static/widgets/colab-cdn-widget-manager/2b70e893a8ba7c0f/manager.min.js"
                }
              }
            }
          }
        }
      ],
      "source": [
        "learning_rate = 0.03 #keep this for benchmarking, change to play around\n",
        "epochs = 100 # keep this for benchmarking, change to play around\n",
        "redraw_step = 10 # update plot every n'th epoch. too slow? set this to a higher value (e.g. 100)\n",
        "\n",
        "# these values are taken as parameters by the train function below\n",
        "\n",
        "neuron_backprop = SimpleNeuron(plot_backprop)\n",
        "HBox((plot_backprop.plot_3d.plot, plot_backprop.plot_2d.plot))"
      ]
    },
    {
      "cell_type": "markdown",
      "source": [
        "Support for third party widgets will remain active for the duration of the session. To disable support:"
      ],
      "metadata": {
        "id": "suTnblt4htw5"
      }
    },
    {
      "cell_type": "code",
      "execution_count": 69,
      "metadata": {
        "colab": {
          "base_uri": "https://localhost:8080/",
          "height": 1000
        },
        "id": "jIE9CcVVO3-w",
        "outputId": "c2b7c293-3ab4-4a4e-b0d2-59a69333c8bd"
      },
      "outputs": [
        {
          "output_type": "stream",
          "name": "stdout",
          "text": [
            "Loss: 18.45\n",
            "Loss: 18.45\n",
            "Loss: 8.55\n",
            "Loss: 4.14\n",
            "Loss: 2.17\n",
            "Loss: 1.29\n",
            "Loss: 0.90\n",
            "Loss: 0.72\n",
            "Loss: 0.63\n",
            "Loss: 0.59\n",
            "Loss: 0.57\n",
            "Loss: 0.56\n",
            "Epoch:10 \tLoss: 0.56\n",
            "Loss: 0.55\n",
            "Loss: 0.54\n",
            "Loss: 0.53\n",
            "Loss: 0.53\n",
            "Loss: 0.52\n",
            "Loss: 0.51\n",
            "Loss: 0.51\n",
            "Loss: 0.50\n",
            "Loss: 0.50\n",
            "Loss: 0.49\n",
            "Epoch:20 \tLoss: 0.49\n",
            "Loss: 0.48\n",
            "Loss: 0.48\n",
            "Loss: 0.47\n",
            "Loss: 0.47\n",
            "Loss: 0.46\n",
            "Loss: 0.46\n",
            "Loss: 0.45\n",
            "Loss: 0.45\n",
            "Loss: 0.44\n",
            "Loss: 0.44\n",
            "Epoch:30 \tLoss: 0.44\n",
            "Loss: 0.43\n",
            "Loss: 0.43\n",
            "Loss: 0.42\n",
            "Loss: 0.42\n",
            "Loss: 0.41\n",
            "Loss: 0.41\n",
            "Loss: 0.40\n",
            "Loss: 0.40\n",
            "Loss: 0.39\n",
            "Loss: 0.39\n",
            "Epoch:40 \tLoss: 0.39\n",
            "Loss: 0.39\n",
            "Loss: 0.38\n",
            "Loss: 0.38\n",
            "Loss: 0.37\n",
            "Loss: 0.37\n",
            "Loss: 0.37\n",
            "Loss: 0.36\n",
            "Loss: 0.36\n",
            "Loss: 0.35\n",
            "Loss: 0.35\n",
            "Epoch:50 \tLoss: 0.35\n",
            "Loss: 0.35\n",
            "Loss: 0.34\n",
            "Loss: 0.34\n",
            "Loss: 0.34\n",
            "Loss: 0.33\n",
            "Loss: 0.33\n",
            "Loss: 0.33\n",
            "Loss: 0.32\n",
            "Loss: 0.32\n",
            "Loss: 0.32\n",
            "Epoch:60 \tLoss: 0.32\n",
            "Loss: 0.31\n",
            "Loss: 0.31\n",
            "Loss: 0.31\n",
            "Loss: 0.30\n",
            "Loss: 0.30\n",
            "Loss: 0.30\n",
            "Loss: 0.29\n",
            "Loss: 0.29\n",
            "Loss: 0.29\n",
            "Loss: 0.29\n",
            "Epoch:70 \tLoss: 0.29\n",
            "Loss: 0.28\n",
            "Loss: 0.28\n",
            "Loss: 0.28\n",
            "Loss: 0.27\n",
            "Loss: 0.27\n",
            "Loss: 0.27\n",
            "Loss: 0.27\n",
            "Loss: 0.26\n",
            "Loss: 0.26\n",
            "Loss: 0.26\n",
            "Epoch:80 \tLoss: 0.26\n",
            "Loss: 0.26\n",
            "Loss: 0.26\n",
            "Loss: 0.25\n",
            "Loss: 0.25\n",
            "Loss: 0.25\n",
            "Loss: 0.25\n",
            "Loss: 0.24\n",
            "Loss: 0.24\n",
            "Loss: 0.24\n",
            "Loss: 0.24\n",
            "Epoch:90 \tLoss: 0.24\n",
            "Loss: 0.24\n",
            "Loss: 0.23\n",
            "Loss: 0.23\n",
            "Loss: 0.23\n",
            "Loss: 0.23\n",
            "Loss: 0.23\n",
            "Loss: 0.22\n",
            "Loss: 0.22\n",
            "Loss: 0.22\n",
            "Loss: 0.22\n",
            "Epoch:100 \tLoss: 0.22\n"
          ]
        }
      ],
      "source": [
        "#run this cell to test algorithm\n",
        "\n",
        "np.random.seed(4) # keep this for benchmarking, remove to play around # TODO: Use np.RandomState !!!!!\n",
        "\n",
        "neuron_backprop.set_values(  # set weight and bias randomly\n",
        "    (5 * np.random.random() - 2.5), (5 * np.random.random() - 2.5)\n",
        ")\n",
        "trace_list1 = dict(x=[], y=[], z=[])\n",
        "\n",
        "train(neuron_backprop, points_linreg, epochs, learning_rate, redraw_step, trace_list1)"
      ]
    },
    {
      "cell_type": "markdown",
      "metadata": {
        "id": "vnCEHIuEO3-w"
      },
      "source": [
        "**Benchmark:** Wenn Sie nach 100 Epochen und einer Lernrate von 0,03 einen Verlust von 0,22 erreichen können, ist Ihre Lösung korrekt."
      ]
    },
    {
      "cell_type": "markdown",
      "metadata": {
        "id": "Dsoim8QAO3-w"
      },
      "source": [
        "**Beantworten Sie diese Fragen erst, wenn Ihr Algorithmus den Benchmark erreicht hat**"
      ]
    },
    {
      "cell_type": "markdown",
      "metadata": {
        "id": "FTYW6iesO3-w"
      },
      "source": [
        "<div class=\"alert alert-block alert-success\">\n",
        "<b>Frage 4.2.17:</b> Was passiert, wenn Sie die Lernrate auf 0,18 setzen? Erklären Sie dieses Verhalten.\n",
        "</div>\n",
        "\n",
        "<div class=\"alert alert-block alert-success\">\n",
        "<b>Ihre Antwort:</b></div>"
      ]
    },
    {
      "cell_type": "markdown",
      "metadata": {
        "id": "oNiuBVCGO3-w"
      },
      "source": [
        "<div class=\"alert alert-block alert-success\">\n",
        "<b>Frage 4.2.18:</b> Welche Lernrate führt zu dem geringsten Verlust nach 100 Epochen mit lr=0,03?\n",
        "</div>\n",
        "\n",
        "<div class=\"alert alert-block alert-success\">\n",
        "<b>Ihre Antwort:</b></div>"
      ]
    },
    {
      "cell_type": "markdown",
      "metadata": {
        "id": "t_RprQGMO3-w"
      },
      "source": [
        "## Machine/Deep Learning Notation\n",
        "\n",
        "Wir haben bereits die Lernrate, die Hyperparameter sowie die Epoche kennengelernt. Nun sollen einige weitere Begriffe eingeführt werden.\n",
        "\n",
        "Betrachten Sie einen Trainingssatz, den Sie an Ihr neuronales Netzwerk geben und dessen Gewichte Sie mit Hilfe von Backpropagation anpassen wollen. Wenn Sie Gewichte und Bias mit jeden Datenpunkt, der in einem Vorwärts- und Rückwärtsdurchlauf verwendet wurde, aktualisieren, spricht man von **Stochastischem Gradientenabstieg** (engl. Stochastic Gradient Descent) oder Online-Lernen. Wie Sie sich vielleicht schon denken könen, können Sie auch die Fehler mehrer Datenpunkte zu Gruppen einer definierten **Stapelgröße** (engl. batch size) zusammen addieren. Auf diese Weise können Sie mehrere Rückwärtsdurchläufe mit diesen größeren Teilmengen von Trainingsdaten durchführen. Dieses Verfahren wird **Batch Gradient Descent** genannt. Bei einer korrekten Berechnung würden Sie den gesamten Satz von Trainingsdatenpunkten für Ihre Vorwärtsdurchläufe verwenden und Fehler speichern, um ein Update zu berechnen (= regulärer Gradient Descent). Mit zunehmender Anzahl an Datenpunkten ist dies aber oft nicht mehr praktikabel, sodass hier Batch Gradient Descent und Stochastic Gradient Descent hilfreich sein können. Allerdings zeigen beide Verfahren während des Trainings unterschiedliche Auswirkungen auf das Modell.\n",
        "\n",
        "Egal, welche Variante des Gradientenabstiegs Sie verwenden: Eine **Epoche** ist dann abgelaufen, wenn Ihre Trainingsdaten einmal vollständig zum Aktualisieren der Gewichte (in Teilmengen oder als Ganzes) verwendet wurden.\n",
        "\n",
        "Wie Sie bereits im Abschnitt zur Performannz Evaluierung gelernt haben, kann ein Modell in Abhängigkeit von der Komplexität des Problems/Modells und der Menge der verfügbaren Daten over- oder underfitten. Overfitting kann in neuronalen Netzen mit **Regularisierung** behoben werden. In der kommenden Einheit zu Convolutional Neural Networks werden Sie einige dieser Techniken unter Zuhilfenahme der Deeplearning-Bibliothek Keras anwenden müssen. Die gängigsten Methoden sind neben der Reduzierung der Modellkomplexität oder der Vergrößerung des Datensatzes die **L1/L2-Regularisierung** oder **Dropout**.\n",
        "\n",
        "Wenn Sie Ihr Modell nicht richtig trainieren können, könnte dies daran liegen, dass Ihr Modell mit **Explodierenden oder verschwindenden Gradienten** (engl. Exploding or Vanishing Gradients) zu kämpfen hat. Betrachten Sie ein sehr tiefes Modell, das mehrere versteckte Schichten enthält. Durch Verwenden des Verlustes am Ausgang sollen die Parameter des gesamten Netzwerks aktualisiert werden. Da Werte $>1$, die rekursiv multipliziert werden, zu größeren Updates führen, kann das Verhalten während des Trainings instabil werden. Das Training wird die Gewichte in früheren Schichten nicht aktualisieren, wenn partielle Ableitungen $<1$ sind und über viele Schichten multipliziert werden (Vanishing Gradient). Um den letzten Fall zu verhindern, der beim regulären Training und beim Verwenden von Sigmoid-Funktionen häufiger auftritt, wird die ReLU-Aktivierungsfunktion heutzutage standardmäßig in den versteckten Schichten verwendet. Desweiteren können auch fortgeschrittenere Methoden verwendet werden, wie z. B. **Residual/Skip-Verbindungen**."
      ]
    },
    {
      "cell_type": "markdown",
      "metadata": {
        "id": "_k8r9dTNO3-w"
      },
      "source": [
        "***\n",
        "### Weiterführende Lektüre: Neuronale Netze sind universelle Funktionsapproximatoren\n",
        "\n",
        "Mathematisch kann bewiesen werden, dass neuronale Netze jede kontinuierliche Funktion approximieren können, solange sie mindestens eine versteckte Schicht aufweisen, nichtlineare Aktivierungsfunktionen verwenden und eine ausreichende (aber endliche) Zahl von Neuronen der versteckten Schicht verwenden.\n",
        "\n",
        "https://www.sciencedirect.com/science/article/pii/089360809190009T?via%3Dihub\n",
        "\n",
        "Kurt Hornik,\\\n",
        "Approximation capabilities of multilayer feedforward networks,\\\n",
        "Neural Networks,\\\n",
        "Band 4, Ausgabe 2,\\\n",
        "1991,\\\n",
        "Seiten 251-257"
      ]
    },
    {
      "cell_type": "code",
      "execution_count": null,
      "metadata": {
        "id": "YeK1RORVO3-w"
      },
      "outputs": [],
      "source": []
    }
  ],
  "metadata": {
    "kernelspec": {
      "display_name": "Python 3",
      "language": "python",
      "name": "python-amalea"
    },
    "language_info": {
      "codemirror_mode": {
        "name": "ipython",
        "version": 3
      },
      "file_extension": ".py",
      "mimetype": "text/x-python",
      "name": "python",
      "nbconvert_exporter": "python",
      "pygments_lexer": "ipython3",
      "version": "3.7.10"
    },
    "colab": {
      "provenance": []
    },
    "widgets": {
      "application/vnd.jupyter.widget-state+json": {
        "0974461ddd13498a8e08a7dc52d9d2f3": {
          "model_module": "@jupyter-widgets/controls",
          "model_name": "VBoxModel",
          "model_module_version": "1.5.0",
          "state": {
            "_dom_classes": [
              "widget-interact"
            ],
            "_model_module": "@jupyter-widgets/controls",
            "_model_module_version": "1.5.0",
            "_model_name": "VBoxModel",
            "_view_count": null,
            "_view_module": "@jupyter-widgets/controls",
            "_view_module_version": "1.5.0",
            "_view_name": "VBoxView",
            "box_style": "",
            "children": [
              "IPY_MODEL_2ed4df1056404830b9c8eb266fd4fc46",
              "IPY_MODEL_e87157872b5b439d8a1953f0b69d91a7",
              "IPY_MODEL_b27a7d55fda64508883da3cd682016ed"
            ],
            "layout": "IPY_MODEL_e95c944f5ef247569eec5b5db6dcdfa9"
          }
        },
        "2ed4df1056404830b9c8eb266fd4fc46": {
          "model_module": "@jupyter-widgets/controls",
          "model_name": "FloatSliderModel",
          "model_module_version": "1.5.0",
          "state": {
            "_dom_classes": [],
            "_model_module": "@jupyter-widgets/controls",
            "_model_module_version": "1.5.0",
            "_model_name": "FloatSliderModel",
            "_view_count": null,
            "_view_module": "@jupyter-widgets/controls",
            "_view_module_version": "1.5.0",
            "_view_name": "FloatSliderView",
            "continuous_update": true,
            "description": "weight",
            "description_tooltip": null,
            "disabled": false,
            "layout": "IPY_MODEL_8df68d206c384cafb0bf3a3e3a492754",
            "max": 3,
            "min": -3,
            "orientation": "horizontal",
            "readout": true,
            "readout_format": ".2f",
            "step": 0.1,
            "style": "IPY_MODEL_19b310bb095a4bd9a4f6d313254cfd75",
            "value": -0.10000000000000009
          }
        },
        "e87157872b5b439d8a1953f0b69d91a7": {
          "model_module": "@jupyter-widgets/controls",
          "model_name": "FloatSliderModel",
          "model_module_version": "1.5.0",
          "state": {
            "_dom_classes": [],
            "_model_module": "@jupyter-widgets/controls",
            "_model_module_version": "1.5.0",
            "_model_name": "FloatSliderModel",
            "_view_count": null,
            "_view_module": "@jupyter-widgets/controls",
            "_view_module_version": "1.5.0",
            "_view_name": "FloatSliderView",
            "continuous_update": true,
            "description": "bias",
            "description_tooltip": null,
            "disabled": false,
            "layout": "IPY_MODEL_8df68d206c384cafb0bf3a3e3a492754",
            "max": 3,
            "min": -3,
            "orientation": "horizontal",
            "readout": true,
            "readout_format": ".2f",
            "step": 0.1,
            "style": "IPY_MODEL_368ca7966bc04f858177f6c499064433",
            "value": 1.2999999999999998
          }
        },
        "b27a7d55fda64508883da3cd682016ed": {
          "model_module": "@jupyter-widgets/output",
          "model_name": "OutputModel",
          "model_module_version": "1.0.0",
          "state": {
            "_dom_classes": [],
            "_model_module": "@jupyter-widgets/output",
            "_model_module_version": "1.0.0",
            "_model_name": "OutputModel",
            "_view_count": null,
            "_view_module": "@jupyter-widgets/output",
            "_view_module_version": "1.0.0",
            "_view_name": "OutputView",
            "layout": "IPY_MODEL_53e72e4d811e4ad7ace2fdc324394406",
            "msg_id": "",
            "outputs": [
              {
                "output_type": "stream",
                "name": "stdout",
                "text": [
                  "Loss: 0.10\n"
                ]
              }
            ]
          }
        },
        "e95c944f5ef247569eec5b5db6dcdfa9": {
          "model_module": "@jupyter-widgets/base",
          "model_name": "LayoutModel",
          "model_module_version": "1.2.0",
          "state": {
            "_model_module": "@jupyter-widgets/base",
            "_model_module_version": "1.2.0",
            "_model_name": "LayoutModel",
            "_view_count": null,
            "_view_module": "@jupyter-widgets/base",
            "_view_module_version": "1.2.0",
            "_view_name": "LayoutView",
            "align_content": null,
            "align_items": null,
            "align_self": null,
            "border": null,
            "bottom": null,
            "display": null,
            "flex": null,
            "flex_flow": null,
            "grid_area": null,
            "grid_auto_columns": null,
            "grid_auto_flow": null,
            "grid_auto_rows": null,
            "grid_column": null,
            "grid_gap": null,
            "grid_row": null,
            "grid_template_areas": null,
            "grid_template_columns": null,
            "grid_template_rows": null,
            "height": null,
            "justify_content": null,
            "justify_items": null,
            "left": null,
            "margin": null,
            "max_height": null,
            "max_width": null,
            "min_height": null,
            "min_width": null,
            "object_fit": null,
            "object_position": null,
            "order": null,
            "overflow": null,
            "overflow_x": null,
            "overflow_y": null,
            "padding": null,
            "right": null,
            "top": null,
            "visibility": null,
            "width": null
          }
        },
        "8df68d206c384cafb0bf3a3e3a492754": {
          "model_module": "@jupyter-widgets/base",
          "model_name": "LayoutModel",
          "model_module_version": "1.2.0",
          "state": {
            "_model_module": "@jupyter-widgets/base",
            "_model_module_version": "1.2.0",
            "_model_name": "LayoutModel",
            "_view_count": null,
            "_view_module": "@jupyter-widgets/base",
            "_view_module_version": "1.2.0",
            "_view_name": "LayoutView",
            "align_content": null,
            "align_items": null,
            "align_self": null,
            "border": null,
            "bottom": null,
            "display": null,
            "flex": null,
            "flex_flow": null,
            "grid_area": null,
            "grid_auto_columns": null,
            "grid_auto_flow": null,
            "grid_auto_rows": null,
            "grid_column": null,
            "grid_gap": null,
            "grid_row": null,
            "grid_template_areas": null,
            "grid_template_columns": null,
            "grid_template_rows": null,
            "height": null,
            "justify_content": null,
            "justify_items": null,
            "left": null,
            "margin": null,
            "max_height": null,
            "max_width": null,
            "min_height": null,
            "min_width": null,
            "object_fit": null,
            "object_position": null,
            "order": null,
            "overflow": null,
            "overflow_x": null,
            "overflow_y": null,
            "padding": null,
            "right": null,
            "top": null,
            "visibility": null,
            "width": "90%"
          }
        },
        "19b310bb095a4bd9a4f6d313254cfd75": {
          "model_module": "@jupyter-widgets/controls",
          "model_name": "SliderStyleModel",
          "model_module_version": "1.5.0",
          "state": {
            "_model_module": "@jupyter-widgets/controls",
            "_model_module_version": "1.5.0",
            "_model_name": "SliderStyleModel",
            "_view_count": null,
            "_view_module": "@jupyter-widgets/base",
            "_view_module_version": "1.2.0",
            "_view_name": "StyleView",
            "description_width": "",
            "handle_color": null
          }
        },
        "368ca7966bc04f858177f6c499064433": {
          "model_module": "@jupyter-widgets/controls",
          "model_name": "SliderStyleModel",
          "model_module_version": "1.5.0",
          "state": {
            "_model_module": "@jupyter-widgets/controls",
            "_model_module_version": "1.5.0",
            "_model_name": "SliderStyleModel",
            "_view_count": null,
            "_view_module": "@jupyter-widgets/base",
            "_view_module_version": "1.2.0",
            "_view_name": "StyleView",
            "description_width": "",
            "handle_color": null
          }
        },
        "53e72e4d811e4ad7ace2fdc324394406": {
          "model_module": "@jupyter-widgets/base",
          "model_name": "LayoutModel",
          "model_module_version": "1.2.0",
          "state": {
            "_model_module": "@jupyter-widgets/base",
            "_model_module_version": "1.2.0",
            "_model_name": "LayoutModel",
            "_view_count": null,
            "_view_module": "@jupyter-widgets/base",
            "_view_module_version": "1.2.0",
            "_view_name": "LayoutView",
            "align_content": null,
            "align_items": null,
            "align_self": null,
            "border": null,
            "bottom": null,
            "display": null,
            "flex": null,
            "flex_flow": null,
            "grid_area": null,
            "grid_auto_columns": null,
            "grid_auto_flow": null,
            "grid_auto_rows": null,
            "grid_column": null,
            "grid_gap": null,
            "grid_row": null,
            "grid_template_areas": null,
            "grid_template_columns": null,
            "grid_template_rows": null,
            "height": null,
            "justify_content": null,
            "justify_items": null,
            "left": null,
            "margin": null,
            "max_height": null,
            "max_width": null,
            "min_height": null,
            "min_width": null,
            "object_fit": null,
            "object_position": null,
            "order": null,
            "overflow": null,
            "overflow_x": null,
            "overflow_y": null,
            "padding": null,
            "right": null,
            "top": null,
            "visibility": null,
            "width": null
          }
        },
        "3a7e3f14b4f6431fa1b4d6eab62c0025": {
          "model_module": "jupyterlab-plotly",
          "model_name": "FigureModel",
          "model_module_version": "^5.24.1",
          "state": {
            "_config": {
              "plotlyServerURL": "https://plot.ly"
            },
            "_data": [
              {
                "x": {
                  "dtype": "float64",
                  "shape": [
                    80
                  ]
                },
                "y": {
                  "dtype": "float64",
                  "shape": [
                    80
                  ]
                },
                "type": "scatter",
                "uid": "a89fa7ba-e9ec-450a-90df-35ada66c7890"
              },
              {
                "mode": "markers",
                "x": [
                  1,
                  2,
                  3
                ],
                "y": [
                  1.5,
                  0.7,
                  1.2
                ],
                "type": "scatter",
                "uid": "1a943892-b3f8-4b00-904c-e0f859a0db44"
              }
            ],
            "_dom_classes": [],
            "_js2py_layoutDelta": {},
            "_js2py_pointsCallback": {},
            "_js2py_relayout": {},
            "_js2py_restyle": {},
            "_js2py_traceDeltas": {},
            "_js2py_update": {},
            "_last_layout_edit_id": 56,
            "_last_trace_edit_id": 56,
            "_layout": {
              "autosize": false,
              "height": 400,
              "margin": {
                "l": 170,
                "t": 0
              },
              "showlegend": false,
              "width": 800,
              "xaxis": {
                "fixedrange": true,
                "range": [
                  -4,
                  4
                ],
                "title": {
                  "text": "Input: x"
                }
              },
              "yaxis": {
                "fixedrange": true,
                "range": [
                  -4,
                  4
                ],
                "title": {
                  "text": "Output: y"
                }
              }
            },
            "_model_module": "jupyterlab-plotly",
            "_model_module_version": "^5.24.1",
            "_model_name": "FigureModel",
            "_py2js_addTraces": {},
            "_py2js_animate": {},
            "_py2js_deleteTraces": {},
            "_py2js_moveTraces": {},
            "_py2js_relayout": null,
            "_py2js_removeLayoutProps": {},
            "_py2js_removeTraceProps": {},
            "_py2js_restyle": null,
            "_py2js_update": {},
            "_view_count": 0,
            "_view_module": "jupyterlab-plotly",
            "_view_module_version": "^5.24.1",
            "_view_name": "FigureView"
          }
        },
        "0c4843e0c4044b4d8472355818b9d190": {
          "model_module": "@jupyter-widgets/controls",
          "model_name": "VBoxModel",
          "model_module_version": "1.5.0",
          "state": {
            "_dom_classes": [
              "widget-interact"
            ],
            "_model_module": "@jupyter-widgets/controls",
            "_model_module_version": "1.5.0",
            "_model_name": "VBoxModel",
            "_view_count": null,
            "_view_module": "@jupyter-widgets/controls",
            "_view_module_version": "1.5.0",
            "_view_name": "VBoxView",
            "box_style": "",
            "children": [
              "IPY_MODEL_038faba3e2a84f17a9dc3bd99209546e",
              "IPY_MODEL_79d11752225a44dcbeb6104047a3e730",
              "IPY_MODEL_7c01fd229a5348c0a831ff36b2d2eed6"
            ],
            "layout": "IPY_MODEL_fdefcb06fe984b7697e4229ae003537f"
          }
        },
        "038faba3e2a84f17a9dc3bd99209546e": {
          "model_module": "@jupyter-widgets/controls",
          "model_name": "FloatSliderModel",
          "model_module_version": "1.5.0",
          "state": {
            "_dom_classes": [],
            "_model_module": "@jupyter-widgets/controls",
            "_model_module_version": "1.5.0",
            "_model_name": "FloatSliderModel",
            "_view_count": null,
            "_view_module": "@jupyter-widgets/controls",
            "_view_module_version": "1.5.0",
            "_view_name": "FloatSliderView",
            "continuous_update": true,
            "description": "weight",
            "description_tooltip": null,
            "disabled": false,
            "layout": "IPY_MODEL_8df68d206c384cafb0bf3a3e3a492754",
            "max": 2,
            "min": -2,
            "orientation": "horizontal",
            "readout": true,
            "readout_format": ".2f",
            "step": 0.2,
            "style": "IPY_MODEL_df183dacc52e4db0b3a218b8a999833b",
            "value": 0
          }
        },
        "79d11752225a44dcbeb6104047a3e730": {
          "model_module": "@jupyter-widgets/controls",
          "model_name": "FloatSliderModel",
          "model_module_version": "1.5.0",
          "state": {
            "_dom_classes": [],
            "_model_module": "@jupyter-widgets/controls",
            "_model_module_version": "1.5.0",
            "_model_name": "FloatSliderModel",
            "_view_count": null,
            "_view_module": "@jupyter-widgets/controls",
            "_view_module_version": "1.5.0",
            "_view_name": "FloatSliderView",
            "continuous_update": true,
            "description": "bias",
            "description_tooltip": null,
            "disabled": false,
            "layout": "IPY_MODEL_8df68d206c384cafb0bf3a3e3a492754",
            "max": 2,
            "min": -2,
            "orientation": "horizontal",
            "readout": true,
            "readout_format": ".2f",
            "step": 0.2,
            "style": "IPY_MODEL_faef43b8c4a04547b05df6809e164a3e",
            "value": 0
          }
        },
        "7c01fd229a5348c0a831ff36b2d2eed6": {
          "model_module": "@jupyter-widgets/output",
          "model_name": "OutputModel",
          "model_module_version": "1.0.0",
          "state": {
            "_dom_classes": [],
            "_model_module": "@jupyter-widgets/output",
            "_model_module_version": "1.0.0",
            "_model_name": "OutputModel",
            "_view_count": null,
            "_view_module": "@jupyter-widgets/output",
            "_view_module_version": "1.0.0",
            "_view_name": "OutputView",
            "layout": "IPY_MODEL_00605bd23faa4c8685db1642ac45a9a7",
            "msg_id": "",
            "outputs": [
              {
                "output_type": "stream",
                "name": "stdout",
                "text": [
                  "Loss: 1.39\n"
                ]
              }
            ]
          }
        },
        "fdefcb06fe984b7697e4229ae003537f": {
          "model_module": "@jupyter-widgets/base",
          "model_name": "LayoutModel",
          "model_module_version": "1.2.0",
          "state": {
            "_model_module": "@jupyter-widgets/base",
            "_model_module_version": "1.2.0",
            "_model_name": "LayoutModel",
            "_view_count": null,
            "_view_module": "@jupyter-widgets/base",
            "_view_module_version": "1.2.0",
            "_view_name": "LayoutView",
            "align_content": null,
            "align_items": null,
            "align_self": null,
            "border": null,
            "bottom": null,
            "display": null,
            "flex": null,
            "flex_flow": null,
            "grid_area": null,
            "grid_auto_columns": null,
            "grid_auto_flow": null,
            "grid_auto_rows": null,
            "grid_column": null,
            "grid_gap": null,
            "grid_row": null,
            "grid_template_areas": null,
            "grid_template_columns": null,
            "grid_template_rows": null,
            "height": null,
            "justify_content": null,
            "justify_items": null,
            "left": null,
            "margin": null,
            "max_height": null,
            "max_width": null,
            "min_height": null,
            "min_width": null,
            "object_fit": null,
            "object_position": null,
            "order": null,
            "overflow": null,
            "overflow_x": null,
            "overflow_y": null,
            "padding": null,
            "right": null,
            "top": null,
            "visibility": null,
            "width": null
          }
        },
        "df183dacc52e4db0b3a218b8a999833b": {
          "model_module": "@jupyter-widgets/controls",
          "model_name": "SliderStyleModel",
          "model_module_version": "1.5.0",
          "state": {
            "_model_module": "@jupyter-widgets/controls",
            "_model_module_version": "1.5.0",
            "_model_name": "SliderStyleModel",
            "_view_count": null,
            "_view_module": "@jupyter-widgets/base",
            "_view_module_version": "1.2.0",
            "_view_name": "StyleView",
            "description_width": "",
            "handle_color": null
          }
        },
        "faef43b8c4a04547b05df6809e164a3e": {
          "model_module": "@jupyter-widgets/controls",
          "model_name": "SliderStyleModel",
          "model_module_version": "1.5.0",
          "state": {
            "_model_module": "@jupyter-widgets/controls",
            "_model_module_version": "1.5.0",
            "_model_name": "SliderStyleModel",
            "_view_count": null,
            "_view_module": "@jupyter-widgets/base",
            "_view_module_version": "1.2.0",
            "_view_name": "StyleView",
            "description_width": "",
            "handle_color": null
          }
        },
        "00605bd23faa4c8685db1642ac45a9a7": {
          "model_module": "@jupyter-widgets/base",
          "model_name": "LayoutModel",
          "model_module_version": "1.2.0",
          "state": {
            "_model_module": "@jupyter-widgets/base",
            "_model_module_version": "1.2.0",
            "_model_name": "LayoutModel",
            "_view_count": null,
            "_view_module": "@jupyter-widgets/base",
            "_view_module_version": "1.2.0",
            "_view_name": "LayoutView",
            "align_content": null,
            "align_items": null,
            "align_self": null,
            "border": null,
            "bottom": null,
            "display": null,
            "flex": null,
            "flex_flow": null,
            "grid_area": null,
            "grid_auto_columns": null,
            "grid_auto_flow": null,
            "grid_auto_rows": null,
            "grid_column": null,
            "grid_gap": null,
            "grid_row": null,
            "grid_template_areas": null,
            "grid_template_columns": null,
            "grid_template_rows": null,
            "height": null,
            "justify_content": null,
            "justify_items": null,
            "left": null,
            "margin": null,
            "max_height": null,
            "max_width": null,
            "min_height": null,
            "min_width": null,
            "object_fit": null,
            "object_position": null,
            "order": null,
            "overflow": null,
            "overflow_x": null,
            "overflow_y": null,
            "padding": null,
            "right": null,
            "top": null,
            "visibility": null,
            "width": null
          }
        },
        "a844487f1c5c4d25a40893c62c9e0102": {
          "model_module": "jupyterlab-plotly",
          "model_name": "FigureModel",
          "model_module_version": "^5.24.1",
          "state": {
            "_config": {
              "plotlyServerURL": "https://plot.ly"
            },
            "_data": [
              {
                "colorscale": [
                  [
                    0,
                    "#440154"
                  ],
                  [
                    0.1111111111111111,
                    "#482878"
                  ],
                  [
                    0.2222222222222222,
                    "#3e4989"
                  ],
                  [
                    0.3333333333333333,
                    "#31688e"
                  ],
                  [
                    0.4444444444444444,
                    "#26828e"
                  ],
                  [
                    0.5555555555555556,
                    "#1f9e89"
                  ],
                  [
                    0.6666666666666666,
                    "#35b779"
                  ],
                  [
                    0.7777777777777778,
                    "#6ece58"
                  ],
                  [
                    0.8888888888888888,
                    "#b5de2b"
                  ],
                  [
                    1,
                    "#fde725"
                  ]
                ],
                "hoverinfo": "none",
                "opacity": 0.9,
                "showscale": false,
                "x": {
                  "dtype": "float64",
                  "shape": [
                    50
                  ]
                },
                "y": {
                  "dtype": "float64",
                  "shape": [
                    50
                  ]
                },
                "z": [],
                "type": "surface",
                "uid": "56e53336-6236-45df-9543-33f2b23dc327"
              },
              {
                "hoverinfo": "none",
                "marker": {
                  "color": "black",
                  "size": 12
                },
                "mode": "markers",
                "x": [],
                "y": [],
                "z": [],
                "type": "scatter3d",
                "uid": "965d9e1a-d8f1-41b2-bc56-5885bfc11bc4"
              }
            ],
            "_dom_classes": [],
            "_js2py_layoutDelta": null,
            "_js2py_pointsCallback": {},
            "_js2py_relayout": null,
            "_js2py_restyle": {},
            "_js2py_traceDeltas": null,
            "_js2py_update": {},
            "_last_layout_edit_id": 6,
            "_last_trace_edit_id": 4,
            "_layout": {
              "autosize": false,
              "height": 600,
              "margin": {
                "l": 0,
                "t": 0
              },
              "scene": {
                "xaxis": {
                  "autorange": false,
                  "range": [
                    -2.5,
                    2.5
                  ],
                  "showticklabels": true,
                  "title": {
                    "text": "Weight"
                  }
                },
                "yaxis": {
                  "autorange": false,
                  "range": [
                    -2.5,
                    2.5
                  ],
                  "showticklabels": true,
                  "title": {
                    "text": "Bias"
                  }
                },
                "zaxis": {
                  "autorange": true,
                  "range": [
                    -1,
                    2.5
                  ],
                  "showticklabels": false,
                  "title": {
                    "text": "Loss: log(MSE)"
                  }
                }
              },
              "showlegend": false,
              "width": 600
            },
            "_model_module": "jupyterlab-plotly",
            "_model_module_version": "^5.24.1",
            "_model_name": "FigureModel",
            "_py2js_addTraces": {},
            "_py2js_animate": {},
            "_py2js_deleteTraces": {},
            "_py2js_moveTraces": {},
            "_py2js_relayout": null,
            "_py2js_removeLayoutProps": {},
            "_py2js_removeTraceProps": {},
            "_py2js_restyle": null,
            "_py2js_update": {},
            "_view_count": 1,
            "_view_module": "jupyterlab-plotly",
            "_view_module_version": "^5.24.1",
            "_view_name": "FigureView"
          }
        },
        "737e3a89696a4561aa252f045f7546cf": {
          "model_module": "jupyterlab-plotly",
          "model_name": "FigureModel",
          "model_module_version": "^5.24.1",
          "state": {
            "_config": {
              "plotlyServerURL": "https://plot.ly"
            },
            "_data": [
              {
                "x": {
                  "dtype": "float64",
                  "shape": [
                    80
                  ]
                },
                "y": {
                  "dtype": "float64",
                  "shape": [
                    80
                  ]
                },
                "type": "scatter",
                "uid": "d0ddac3a-5810-458e-a514-89b05cc321e8"
              },
              {
                "mode": "markers",
                "x": [
                  1,
                  2,
                  3
                ],
                "y": [
                  1.5,
                  0.7,
                  1.2
                ],
                "type": "scatter",
                "uid": "9acf553a-adca-4723-8ee1-67ebda7cfb73"
              }
            ],
            "_dom_classes": [],
            "_js2py_layoutDelta": null,
            "_js2py_pointsCallback": null,
            "_js2py_relayout": {},
            "_js2py_restyle": {},
            "_js2py_traceDeltas": null,
            "_js2py_update": {},
            "_last_layout_edit_id": 1,
            "_last_trace_edit_id": 1,
            "_layout": {
              "autosize": false,
              "height": 500,
              "margin": {
                "l": 30,
                "t": 200
              },
              "showlegend": false,
              "width": 400,
              "xaxis": {
                "fixedrange": true,
                "range": [
                  -4,
                  4
                ],
                "title": {
                  "text": "Input: x"
                }
              },
              "yaxis": {
                "fixedrange": true,
                "range": [
                  -4,
                  4
                ],
                "title": {
                  "text": "Output: y"
                }
              }
            },
            "_model_module": "jupyterlab-plotly",
            "_model_module_version": "^5.24.1",
            "_model_name": "FigureModel",
            "_py2js_addTraces": {},
            "_py2js_animate": {},
            "_py2js_deleteTraces": {},
            "_py2js_moveTraces": {},
            "_py2js_relayout": null,
            "_py2js_removeLayoutProps": {},
            "_py2js_removeTraceProps": {},
            "_py2js_restyle": null,
            "_py2js_update": {},
            "_view_count": 1,
            "_view_module": "jupyterlab-plotly",
            "_view_module_version": "^5.24.1",
            "_view_name": "FigureView"
          }
        },
        "046f4978a1704c40817a19300fb45ffd": {
          "model_module": "@jupyter-widgets/base",
          "model_name": "LayoutModel",
          "model_module_version": "1.2.0",
          "state": {
            "_model_module": "@jupyter-widgets/base",
            "_model_module_version": "1.2.0",
            "_model_name": "LayoutModel",
            "_view_count": null,
            "_view_module": "@jupyter-widgets/base",
            "_view_module_version": "1.2.0",
            "_view_name": "LayoutView",
            "align_content": null,
            "align_items": null,
            "align_self": null,
            "border": null,
            "bottom": null,
            "display": null,
            "flex": null,
            "flex_flow": null,
            "grid_area": null,
            "grid_auto_columns": null,
            "grid_auto_flow": null,
            "grid_auto_rows": null,
            "grid_column": null,
            "grid_gap": null,
            "grid_row": null,
            "grid_template_areas": null,
            "grid_template_columns": null,
            "grid_template_rows": null,
            "height": null,
            "justify_content": null,
            "justify_items": null,
            "left": null,
            "margin": null,
            "max_height": null,
            "max_width": null,
            "min_height": null,
            "min_width": null,
            "object_fit": null,
            "object_position": null,
            "order": null,
            "overflow": null,
            "overflow_x": null,
            "overflow_y": null,
            "padding": null,
            "right": null,
            "top": null,
            "visibility": null,
            "width": null
          }
        },
        "2ed7faf809a745028e745efca30466be": {
          "model_module": "@jupyter-widgets/controls",
          "model_name": "HBoxModel",
          "model_module_version": "1.5.0",
          "state": {
            "_dom_classes": [],
            "_model_module": "@jupyter-widgets/controls",
            "_model_module_version": "1.5.0",
            "_model_name": "HBoxModel",
            "_view_count": null,
            "_view_module": "@jupyter-widgets/controls",
            "_view_module_version": "1.5.0",
            "_view_name": "HBoxView",
            "box_style": "",
            "children": [
              "IPY_MODEL_a844487f1c5c4d25a40893c62c9e0102",
              "IPY_MODEL_737e3a89696a4561aa252f045f7546cf"
            ],
            "layout": "IPY_MODEL_046f4978a1704c40817a19300fb45ffd"
          }
        },
        "a0dd9a305e05450b90780fee2708f8bd": {
          "model_module": "@jupyter-widgets/controls",
          "model_name": "VBoxModel",
          "model_module_version": "1.5.0",
          "state": {
            "_dom_classes": [
              "widget-interact"
            ],
            "_model_module": "@jupyter-widgets/controls",
            "_model_module_version": "1.5.0",
            "_model_name": "VBoxModel",
            "_view_count": null,
            "_view_module": "@jupyter-widgets/controls",
            "_view_module_version": "1.5.0",
            "_view_name": "VBoxView",
            "box_style": "",
            "children": [
              "IPY_MODEL_a9bc1d4cde454940a46c8a2ee7de0a4f",
              "IPY_MODEL_20086b3a5ce34afea72768a391b7856e",
              "IPY_MODEL_75bf152bd68f4e12aa6ee9b8e8b63c9c"
            ],
            "layout": "IPY_MODEL_231fe3ff55b24bb9883473de18cb259b"
          }
        },
        "a9bc1d4cde454940a46c8a2ee7de0a4f": {
          "model_module": "@jupyter-widgets/controls",
          "model_name": "FloatSliderModel",
          "model_module_version": "1.5.0",
          "state": {
            "_dom_classes": [],
            "_model_module": "@jupyter-widgets/controls",
            "_model_module_version": "1.5.0",
            "_model_name": "FloatSliderModel",
            "_view_count": null,
            "_view_module": "@jupyter-widgets/controls",
            "_view_module_version": "1.5.0",
            "_view_name": "FloatSliderView",
            "continuous_update": true,
            "description": "weight",
            "description_tooltip": null,
            "disabled": false,
            "layout": "IPY_MODEL_2dcfce22e4f446dc8ab7c84d0d6a9ce2",
            "max": 10,
            "min": -10,
            "orientation": "horizontal",
            "readout": true,
            "readout_format": ".2f",
            "step": 0.1,
            "style": "IPY_MODEL_cd50a785f00c43e5a804c0d07364976c",
            "value": 0
          }
        },
        "20086b3a5ce34afea72768a391b7856e": {
          "model_module": "@jupyter-widgets/controls",
          "model_name": "FloatSliderModel",
          "model_module_version": "1.5.0",
          "state": {
            "_dom_classes": [],
            "_model_module": "@jupyter-widgets/controls",
            "_model_module_version": "1.5.0",
            "_model_name": "FloatSliderModel",
            "_view_count": null,
            "_view_module": "@jupyter-widgets/controls",
            "_view_module_version": "1.5.0",
            "_view_name": "FloatSliderView",
            "continuous_update": true,
            "description": "bias",
            "description_tooltip": null,
            "disabled": false,
            "layout": "IPY_MODEL_2dcfce22e4f446dc8ab7c84d0d6a9ce2",
            "max": 200,
            "min": -200,
            "orientation": "horizontal",
            "readout": true,
            "readout_format": ".2f",
            "step": 1,
            "style": "IPY_MODEL_45c2afbc7d934eec92c3007a8fec17fa",
            "value": 0
          }
        },
        "75bf152bd68f4e12aa6ee9b8e8b63c9c": {
          "model_module": "@jupyter-widgets/output",
          "model_name": "OutputModel",
          "model_module_version": "1.0.0",
          "state": {
            "_dom_classes": [],
            "_model_module": "@jupyter-widgets/output",
            "_model_module_version": "1.0.0",
            "_model_name": "OutputModel",
            "_view_count": null,
            "_view_module": "@jupyter-widgets/output",
            "_view_module_version": "1.0.0",
            "_view_name": "OutputView",
            "layout": "IPY_MODEL_2331733058aa4453bdee13cdf1137891",
            "msg_id": "",
            "outputs": [
              {
                "output_type": "stream",
                "name": "stdout",
                "text": [
                  "Loss: 2462.05\n"
                ]
              }
            ]
          }
        },
        "231fe3ff55b24bb9883473de18cb259b": {
          "model_module": "@jupyter-widgets/base",
          "model_name": "LayoutModel",
          "model_module_version": "1.2.0",
          "state": {
            "_model_module": "@jupyter-widgets/base",
            "_model_module_version": "1.2.0",
            "_model_name": "LayoutModel",
            "_view_count": null,
            "_view_module": "@jupyter-widgets/base",
            "_view_module_version": "1.2.0",
            "_view_name": "LayoutView",
            "align_content": null,
            "align_items": null,
            "align_self": null,
            "border": null,
            "bottom": null,
            "display": null,
            "flex": null,
            "flex_flow": null,
            "grid_area": null,
            "grid_auto_columns": null,
            "grid_auto_flow": null,
            "grid_auto_rows": null,
            "grid_column": null,
            "grid_gap": null,
            "grid_row": null,
            "grid_template_areas": null,
            "grid_template_columns": null,
            "grid_template_rows": null,
            "height": null,
            "justify_content": null,
            "justify_items": null,
            "left": null,
            "margin": null,
            "max_height": null,
            "max_width": null,
            "min_height": null,
            "min_width": null,
            "object_fit": null,
            "object_position": null,
            "order": null,
            "overflow": null,
            "overflow_x": null,
            "overflow_y": null,
            "padding": null,
            "right": null,
            "top": null,
            "visibility": null,
            "width": null
          }
        },
        "2dcfce22e4f446dc8ab7c84d0d6a9ce2": {
          "model_module": "@jupyter-widgets/base",
          "model_name": "LayoutModel",
          "model_module_version": "1.2.0",
          "state": {
            "_model_module": "@jupyter-widgets/base",
            "_model_module_version": "1.2.0",
            "_model_name": "LayoutModel",
            "_view_count": null,
            "_view_module": "@jupyter-widgets/base",
            "_view_module_version": "1.2.0",
            "_view_name": "LayoutView",
            "align_content": null,
            "align_items": null,
            "align_self": null,
            "border": null,
            "bottom": null,
            "display": null,
            "flex": null,
            "flex_flow": null,
            "grid_area": null,
            "grid_auto_columns": null,
            "grid_auto_flow": null,
            "grid_auto_rows": null,
            "grid_column": null,
            "grid_gap": null,
            "grid_row": null,
            "grid_template_areas": null,
            "grid_template_columns": null,
            "grid_template_rows": null,
            "height": null,
            "justify_content": null,
            "justify_items": null,
            "left": null,
            "margin": null,
            "max_height": null,
            "max_width": null,
            "min_height": null,
            "min_width": null,
            "object_fit": null,
            "object_position": null,
            "order": null,
            "overflow": null,
            "overflow_x": null,
            "overflow_y": null,
            "padding": null,
            "right": null,
            "top": null,
            "visibility": null,
            "width": "90%"
          }
        },
        "cd50a785f00c43e5a804c0d07364976c": {
          "model_module": "@jupyter-widgets/controls",
          "model_name": "SliderStyleModel",
          "model_module_version": "1.5.0",
          "state": {
            "_model_module": "@jupyter-widgets/controls",
            "_model_module_version": "1.5.0",
            "_model_name": "SliderStyleModel",
            "_view_count": null,
            "_view_module": "@jupyter-widgets/base",
            "_view_module_version": "1.2.0",
            "_view_name": "StyleView",
            "description_width": "",
            "handle_color": null
          }
        },
        "45c2afbc7d934eec92c3007a8fec17fa": {
          "model_module": "@jupyter-widgets/controls",
          "model_name": "SliderStyleModel",
          "model_module_version": "1.5.0",
          "state": {
            "_model_module": "@jupyter-widgets/controls",
            "_model_module_version": "1.5.0",
            "_model_name": "SliderStyleModel",
            "_view_count": null,
            "_view_module": "@jupyter-widgets/base",
            "_view_module_version": "1.2.0",
            "_view_name": "StyleView",
            "description_width": "",
            "handle_color": null
          }
        },
        "2331733058aa4453bdee13cdf1137891": {
          "model_module": "@jupyter-widgets/base",
          "model_name": "LayoutModel",
          "model_module_version": "1.2.0",
          "state": {
            "_model_module": "@jupyter-widgets/base",
            "_model_module_version": "1.2.0",
            "_model_name": "LayoutModel",
            "_view_count": null,
            "_view_module": "@jupyter-widgets/base",
            "_view_module_version": "1.2.0",
            "_view_name": "LayoutView",
            "align_content": null,
            "align_items": null,
            "align_self": null,
            "border": null,
            "bottom": null,
            "display": null,
            "flex": null,
            "flex_flow": null,
            "grid_area": null,
            "grid_auto_columns": null,
            "grid_auto_flow": null,
            "grid_auto_rows": null,
            "grid_column": null,
            "grid_gap": null,
            "grid_row": null,
            "grid_template_areas": null,
            "grid_template_columns": null,
            "grid_template_rows": null,
            "height": null,
            "justify_content": null,
            "justify_items": null,
            "left": null,
            "margin": null,
            "max_height": null,
            "max_width": null,
            "min_height": null,
            "min_width": null,
            "object_fit": null,
            "object_position": null,
            "order": null,
            "overflow": null,
            "overflow_x": null,
            "overflow_y": null,
            "padding": null,
            "right": null,
            "top": null,
            "visibility": null,
            "width": null
          }
        },
        "8e1ff9055cd34b6c85b16328fdb7484e": {
          "model_module": "jupyterlab-plotly",
          "model_name": "FigureModel",
          "model_module_version": "^5.24.1",
          "state": {
            "_config": {
              "plotlyServerURL": "https://plot.ly"
            },
            "_data": [
              {
                "x": {
                  "dtype": "float64",
                  "shape": [
                    490
                  ]
                },
                "y": {
                  "dtype": "float64",
                  "shape": [
                    1090
                  ]
                },
                "type": "scatter",
                "uid": "dd90d865-8acc-40a2-964b-150a2c1cc381"
              },
              {
                "mode": "markers",
                "x": [
                  25,
                  27.5,
                  30,
                  32.5,
                  35,
                  37.5,
                  40
                ],
                "y": [
                  0,
                  2,
                  10,
                  23.7,
                  43,
                  68.7,
                  100
                ],
                "type": "scatter",
                "uid": "6686a49b-6c66-4902-b336-52db3bbc0aca"
              }
            ],
            "_dom_classes": [],
            "_js2py_layoutDelta": {},
            "_js2py_pointsCallback": {},
            "_js2py_relayout": {},
            "_js2py_restyle": {},
            "_js2py_traceDeltas": {},
            "_js2py_update": {},
            "_last_layout_edit_id": 1,
            "_last_trace_edit_id": 1,
            "_layout": {
              "autosize": false,
              "height": 400,
              "margin": {
                "l": 170,
                "t": 0
              },
              "showlegend": false,
              "width": 800,
              "xaxis": {
                "fixedrange": true,
                "range": [
                  -4,
                  45
                ],
                "title": {
                  "text": "Input: x"
                }
              },
              "yaxis": {
                "fixedrange": true,
                "range": [
                  -4,
                  105
                ],
                "title": {
                  "text": "Output: y"
                }
              }
            },
            "_model_module": "jupyterlab-plotly",
            "_model_module_version": "^5.24.1",
            "_model_name": "FigureModel",
            "_py2js_addTraces": {},
            "_py2js_animate": {},
            "_py2js_deleteTraces": {},
            "_py2js_moveTraces": {},
            "_py2js_relayout": null,
            "_py2js_removeLayoutProps": {},
            "_py2js_removeTraceProps": {},
            "_py2js_restyle": null,
            "_py2js_update": {},
            "_view_count": 0,
            "_view_module": "jupyterlab-plotly",
            "_view_module_version": "^5.24.1",
            "_view_name": "FigureView"
          }
        },
        "d4d4bbcc7266424b8440d212f7608c31": {
          "model_module": "@jupyter-widgets/controls",
          "model_name": "VBoxModel",
          "model_module_version": "1.5.0",
          "state": {
            "_dom_classes": [
              "widget-interact"
            ],
            "_model_module": "@jupyter-widgets/controls",
            "_model_module_version": "1.5.0",
            "_model_name": "VBoxModel",
            "_view_count": null,
            "_view_module": "@jupyter-widgets/controls",
            "_view_module_version": "1.5.0",
            "_view_name": "VBoxView",
            "box_style": "",
            "children": [
              "IPY_MODEL_9859416746254cb49a080bff4e0e3699",
              "IPY_MODEL_622eafad145e4964937ae79e6b48bd72",
              "IPY_MODEL_1ff5de73eed748cfa535cb40474fb1fb",
              "IPY_MODEL_534872e925af4eb7be340901e062d54d",
              "IPY_MODEL_e55dd937d43d45389d057a16b10c4c19",
              "IPY_MODEL_7f3250c1357547b4b42c773dcb3c1f46",
              "IPY_MODEL_3d815d0cd7b7428eae54c778bd3df0f2"
            ],
            "layout": "IPY_MODEL_627fb365ab214fe29c6c51fef3bb5df4"
          }
        },
        "9859416746254cb49a080bff4e0e3699": {
          "model_module": "@jupyter-widgets/controls",
          "model_name": "FloatSliderModel",
          "model_module_version": "1.5.0",
          "state": {
            "_dom_classes": [],
            "_model_module": "@jupyter-widgets/controls",
            "_model_module_version": "1.5.0",
            "_model_name": "FloatSliderModel",
            "_view_count": null,
            "_view_module": "@jupyter-widgets/controls",
            "_view_module_version": "1.5.0",
            "_view_name": "FloatSliderView",
            "continuous_update": true,
            "description": "w_i1",
            "description_tooltip": null,
            "disabled": false,
            "layout": "IPY_MODEL_2dcfce22e4f446dc8ab7c84d0d6a9ce2",
            "max": 10,
            "min": -10,
            "orientation": "horizontal",
            "readout": true,
            "readout_format": ".2f",
            "step": 0.1,
            "style": "IPY_MODEL_47e6a0b76f0d4d178ced4c26801bef59",
            "value": 0
          }
        },
        "622eafad145e4964937ae79e6b48bd72": {
          "model_module": "@jupyter-widgets/controls",
          "model_name": "FloatSliderModel",
          "model_module_version": "1.5.0",
          "state": {
            "_dom_classes": [],
            "_model_module": "@jupyter-widgets/controls",
            "_model_module_version": "1.5.0",
            "_model_name": "FloatSliderModel",
            "_view_count": null,
            "_view_module": "@jupyter-widgets/controls",
            "_view_module_version": "1.5.0",
            "_view_name": "FloatSliderView",
            "continuous_update": true,
            "description": "w_o1",
            "description_tooltip": null,
            "disabled": false,
            "layout": "IPY_MODEL_2dcfce22e4f446dc8ab7c84d0d6a9ce2",
            "max": 10,
            "min": -10,
            "orientation": "horizontal",
            "readout": true,
            "readout_format": ".2f",
            "step": 0.1,
            "style": "IPY_MODEL_05198b9f9aa9459fb07583c3451064a5",
            "value": 0
          }
        },
        "1ff5de73eed748cfa535cb40474fb1fb": {
          "model_module": "@jupyter-widgets/controls",
          "model_name": "FloatSliderModel",
          "model_module_version": "1.5.0",
          "state": {
            "_dom_classes": [],
            "_model_module": "@jupyter-widgets/controls",
            "_model_module_version": "1.5.0",
            "_model_name": "FloatSliderModel",
            "_view_count": null,
            "_view_module": "@jupyter-widgets/controls",
            "_view_module_version": "1.5.0",
            "_view_name": "FloatSliderView",
            "continuous_update": true,
            "description": "b1",
            "description_tooltip": null,
            "disabled": false,
            "layout": "IPY_MODEL_2dcfce22e4f446dc8ab7c84d0d6a9ce2",
            "max": 200,
            "min": -200,
            "orientation": "horizontal",
            "readout": true,
            "readout_format": ".2f",
            "step": 1,
            "style": "IPY_MODEL_9547637f2e7a42dd9f19711eca99a090",
            "value": 0
          }
        },
        "534872e925af4eb7be340901e062d54d": {
          "model_module": "@jupyter-widgets/controls",
          "model_name": "FloatSliderModel",
          "model_module_version": "1.5.0",
          "state": {
            "_dom_classes": [],
            "_model_module": "@jupyter-widgets/controls",
            "_model_module_version": "1.5.0",
            "_model_name": "FloatSliderModel",
            "_view_count": null,
            "_view_module": "@jupyter-widgets/controls",
            "_view_module_version": "1.5.0",
            "_view_name": "FloatSliderView",
            "continuous_update": true,
            "description": "w_i2",
            "description_tooltip": null,
            "disabled": false,
            "layout": "IPY_MODEL_2dcfce22e4f446dc8ab7c84d0d6a9ce2",
            "max": 10,
            "min": -10,
            "orientation": "horizontal",
            "readout": true,
            "readout_format": ".2f",
            "step": 0.1,
            "style": "IPY_MODEL_0086c9ebcaef4cdda1de781e2039c886",
            "value": 0
          }
        },
        "e55dd937d43d45389d057a16b10c4c19": {
          "model_module": "@jupyter-widgets/controls",
          "model_name": "FloatSliderModel",
          "model_module_version": "1.5.0",
          "state": {
            "_dom_classes": [],
            "_model_module": "@jupyter-widgets/controls",
            "_model_module_version": "1.5.0",
            "_model_name": "FloatSliderModel",
            "_view_count": null,
            "_view_module": "@jupyter-widgets/controls",
            "_view_module_version": "1.5.0",
            "_view_name": "FloatSliderView",
            "continuous_update": true,
            "description": "w_o2",
            "description_tooltip": null,
            "disabled": false,
            "layout": "IPY_MODEL_2dcfce22e4f446dc8ab7c84d0d6a9ce2",
            "max": 10,
            "min": -10,
            "orientation": "horizontal",
            "readout": true,
            "readout_format": ".2f",
            "step": 0.1,
            "style": "IPY_MODEL_e94cd15895ca4fafba0591b59227de2e",
            "value": 0
          }
        },
        "7f3250c1357547b4b42c773dcb3c1f46": {
          "model_module": "@jupyter-widgets/controls",
          "model_name": "FloatSliderModel",
          "model_module_version": "1.5.0",
          "state": {
            "_dom_classes": [],
            "_model_module": "@jupyter-widgets/controls",
            "_model_module_version": "1.5.0",
            "_model_name": "FloatSliderModel",
            "_view_count": null,
            "_view_module": "@jupyter-widgets/controls",
            "_view_module_version": "1.5.0",
            "_view_name": "FloatSliderView",
            "continuous_update": true,
            "description": "b2",
            "description_tooltip": null,
            "disabled": false,
            "layout": "IPY_MODEL_2dcfce22e4f446dc8ab7c84d0d6a9ce2",
            "max": 200,
            "min": -200,
            "orientation": "horizontal",
            "readout": true,
            "readout_format": ".2f",
            "step": 1,
            "style": "IPY_MODEL_ae8f2dd40ce04a8b9e7239812db36151",
            "value": 0
          }
        },
        "3d815d0cd7b7428eae54c778bd3df0f2": {
          "model_module": "@jupyter-widgets/output",
          "model_name": "OutputModel",
          "model_module_version": "1.0.0",
          "state": {
            "_dom_classes": [],
            "_model_module": "@jupyter-widgets/output",
            "_model_module_version": "1.0.0",
            "_model_name": "OutputModel",
            "_view_count": null,
            "_view_module": "@jupyter-widgets/output",
            "_view_module_version": "1.0.0",
            "_view_name": "OutputView",
            "layout": "IPY_MODEL_5d6a37c157a449d79a435527c70ab5c5",
            "msg_id": "",
            "outputs": [
              {
                "output_type": "stream",
                "name": "stdout",
                "text": [
                  "w_i1: 0.0 \t|  w_o1: 0.0 \n",
                  "\n",
                  "b1: 0.0 \t|  w_i2: 0.0 \n",
                  "\n",
                  "w_o2: 0.0 \t|  b2: 0.0 \n",
                  "\n",
                  "Loss: 2462.05\n"
                ]
              }
            ]
          }
        },
        "627fb365ab214fe29c6c51fef3bb5df4": {
          "model_module": "@jupyter-widgets/base",
          "model_name": "LayoutModel",
          "model_module_version": "1.2.0",
          "state": {
            "_model_module": "@jupyter-widgets/base",
            "_model_module_version": "1.2.0",
            "_model_name": "LayoutModel",
            "_view_count": null,
            "_view_module": "@jupyter-widgets/base",
            "_view_module_version": "1.2.0",
            "_view_name": "LayoutView",
            "align_content": null,
            "align_items": null,
            "align_self": null,
            "border": null,
            "bottom": null,
            "display": null,
            "flex": null,
            "flex_flow": null,
            "grid_area": null,
            "grid_auto_columns": null,
            "grid_auto_flow": null,
            "grid_auto_rows": null,
            "grid_column": null,
            "grid_gap": null,
            "grid_row": null,
            "grid_template_areas": null,
            "grid_template_columns": null,
            "grid_template_rows": null,
            "height": null,
            "justify_content": null,
            "justify_items": null,
            "left": null,
            "margin": null,
            "max_height": null,
            "max_width": null,
            "min_height": null,
            "min_width": null,
            "object_fit": null,
            "object_position": null,
            "order": null,
            "overflow": null,
            "overflow_x": null,
            "overflow_y": null,
            "padding": null,
            "right": null,
            "top": null,
            "visibility": null,
            "width": null
          }
        },
        "47e6a0b76f0d4d178ced4c26801bef59": {
          "model_module": "@jupyter-widgets/controls",
          "model_name": "SliderStyleModel",
          "model_module_version": "1.5.0",
          "state": {
            "_model_module": "@jupyter-widgets/controls",
            "_model_module_version": "1.5.0",
            "_model_name": "SliderStyleModel",
            "_view_count": null,
            "_view_module": "@jupyter-widgets/base",
            "_view_module_version": "1.2.0",
            "_view_name": "StyleView",
            "description_width": "",
            "handle_color": null
          }
        },
        "05198b9f9aa9459fb07583c3451064a5": {
          "model_module": "@jupyter-widgets/controls",
          "model_name": "SliderStyleModel",
          "model_module_version": "1.5.0",
          "state": {
            "_model_module": "@jupyter-widgets/controls",
            "_model_module_version": "1.5.0",
            "_model_name": "SliderStyleModel",
            "_view_count": null,
            "_view_module": "@jupyter-widgets/base",
            "_view_module_version": "1.2.0",
            "_view_name": "StyleView",
            "description_width": "",
            "handle_color": null
          }
        },
        "9547637f2e7a42dd9f19711eca99a090": {
          "model_module": "@jupyter-widgets/controls",
          "model_name": "SliderStyleModel",
          "model_module_version": "1.5.0",
          "state": {
            "_model_module": "@jupyter-widgets/controls",
            "_model_module_version": "1.5.0",
            "_model_name": "SliderStyleModel",
            "_view_count": null,
            "_view_module": "@jupyter-widgets/base",
            "_view_module_version": "1.2.0",
            "_view_name": "StyleView",
            "description_width": "",
            "handle_color": null
          }
        },
        "0086c9ebcaef4cdda1de781e2039c886": {
          "model_module": "@jupyter-widgets/controls",
          "model_name": "SliderStyleModel",
          "model_module_version": "1.5.0",
          "state": {
            "_model_module": "@jupyter-widgets/controls",
            "_model_module_version": "1.5.0",
            "_model_name": "SliderStyleModel",
            "_view_count": null,
            "_view_module": "@jupyter-widgets/base",
            "_view_module_version": "1.2.0",
            "_view_name": "StyleView",
            "description_width": "",
            "handle_color": null
          }
        },
        "e94cd15895ca4fafba0591b59227de2e": {
          "model_module": "@jupyter-widgets/controls",
          "model_name": "SliderStyleModel",
          "model_module_version": "1.5.0",
          "state": {
            "_model_module": "@jupyter-widgets/controls",
            "_model_module_version": "1.5.0",
            "_model_name": "SliderStyleModel",
            "_view_count": null,
            "_view_module": "@jupyter-widgets/base",
            "_view_module_version": "1.2.0",
            "_view_name": "StyleView",
            "description_width": "",
            "handle_color": null
          }
        },
        "ae8f2dd40ce04a8b9e7239812db36151": {
          "model_module": "@jupyter-widgets/controls",
          "model_name": "SliderStyleModel",
          "model_module_version": "1.5.0",
          "state": {
            "_model_module": "@jupyter-widgets/controls",
            "_model_module_version": "1.5.0",
            "_model_name": "SliderStyleModel",
            "_view_count": null,
            "_view_module": "@jupyter-widgets/base",
            "_view_module_version": "1.2.0",
            "_view_name": "StyleView",
            "description_width": "",
            "handle_color": null
          }
        },
        "5d6a37c157a449d79a435527c70ab5c5": {
          "model_module": "@jupyter-widgets/base",
          "model_name": "LayoutModel",
          "model_module_version": "1.2.0",
          "state": {
            "_model_module": "@jupyter-widgets/base",
            "_model_module_version": "1.2.0",
            "_model_name": "LayoutModel",
            "_view_count": null,
            "_view_module": "@jupyter-widgets/base",
            "_view_module_version": "1.2.0",
            "_view_name": "LayoutView",
            "align_content": null,
            "align_items": null,
            "align_self": null,
            "border": null,
            "bottom": null,
            "display": null,
            "flex": null,
            "flex_flow": null,
            "grid_area": null,
            "grid_auto_columns": null,
            "grid_auto_flow": null,
            "grid_auto_rows": null,
            "grid_column": null,
            "grid_gap": null,
            "grid_row": null,
            "grid_template_areas": null,
            "grid_template_columns": null,
            "grid_template_rows": null,
            "height": null,
            "justify_content": null,
            "justify_items": null,
            "left": null,
            "margin": null,
            "max_height": null,
            "max_width": null,
            "min_height": null,
            "min_width": null,
            "object_fit": null,
            "object_position": null,
            "order": null,
            "overflow": null,
            "overflow_x": null,
            "overflow_y": null,
            "padding": null,
            "right": null,
            "top": null,
            "visibility": null,
            "width": null
          }
        },
        "d2bceeef8f214d02a329f8e35c2e2f9c": {
          "model_module": "jupyterlab-plotly",
          "model_name": "FigureModel",
          "model_module_version": "^5.24.1",
          "state": {
            "_config": {
              "plotlyServerURL": "https://plot.ly"
            },
            "_data": [
              {
                "x": {
                  "dtype": "float64",
                  "shape": [
                    490
                  ]
                },
                "y": {
                  "dtype": "float64",
                  "shape": [
                    1090
                  ]
                },
                "type": "scatter",
                "uid": "1e21ee24-bfaf-41dd-9c04-4f13bddff8a8"
              },
              {
                "mode": "markers",
                "x": [
                  25,
                  27.5,
                  30,
                  32.5,
                  35,
                  37.5,
                  40
                ],
                "y": [
                  0,
                  2,
                  10,
                  23.7,
                  43,
                  68.7,
                  100
                ],
                "type": "scatter",
                "uid": "af45180c-dd22-4a45-8ed3-d71df3b6b1fa"
              }
            ],
            "_dom_classes": [],
            "_js2py_layoutDelta": {},
            "_js2py_pointsCallback": {},
            "_js2py_relayout": {},
            "_js2py_restyle": {},
            "_js2py_traceDeltas": {},
            "_js2py_update": {},
            "_last_layout_edit_id": 1,
            "_last_trace_edit_id": 1,
            "_layout": {
              "autosize": false,
              "height": 400,
              "margin": {
                "l": 170,
                "t": 0
              },
              "showlegend": false,
              "width": 800,
              "xaxis": {
                "fixedrange": true,
                "range": [
                  -4,
                  45
                ],
                "title": {
                  "text": "Input: x"
                }
              },
              "yaxis": {
                "fixedrange": true,
                "range": [
                  -4,
                  105
                ],
                "title": {
                  "text": "Output: y"
                }
              }
            },
            "_model_module": "jupyterlab-plotly",
            "_model_module_version": "^5.24.1",
            "_model_name": "FigureModel",
            "_py2js_addTraces": {},
            "_py2js_animate": {},
            "_py2js_deleteTraces": {},
            "_py2js_moveTraces": {},
            "_py2js_relayout": null,
            "_py2js_removeLayoutProps": {},
            "_py2js_removeTraceProps": {},
            "_py2js_restyle": null,
            "_py2js_update": {},
            "_view_count": 0,
            "_view_module": "jupyterlab-plotly",
            "_view_module_version": "^5.24.1",
            "_view_name": "FigureView"
          }
        },
        "fee48f30a1784241a09c80830c172c4d": {
          "model_module": "@jupyter-widgets/controls",
          "model_name": "HBoxModel",
          "model_module_version": "1.5.0",
          "state": {
            "_dom_classes": [],
            "_model_module": "@jupyter-widgets/controls",
            "_model_module_version": "1.5.0",
            "_model_name": "HBoxModel",
            "_view_count": null,
            "_view_module": "@jupyter-widgets/controls",
            "_view_module_version": "1.5.0",
            "_view_name": "HBoxView",
            "box_style": "",
            "children": [
              "IPY_MODEL_341547c689a447688990dc15d523c4e0",
              "IPY_MODEL_b6038e80722542149bf17769f1a0af17"
            ],
            "layout": "IPY_MODEL_2ea7adf8d7a64032b5291dee0d61fcb0"
          }
        },
        "341547c689a447688990dc15d523c4e0": {
          "model_module": "jupyterlab-plotly",
          "model_name": "FigureModel",
          "model_module_version": "^5.24.1",
          "state": {
            "_config": {
              "plotlyServerURL": "https://plot.ly"
            },
            "_data": [
              {
                "colorscale": [
                  [
                    0,
                    "#440154"
                  ],
                  [
                    0.1111111111111111,
                    "#482878"
                  ],
                  [
                    0.2222222222222222,
                    "#3e4989"
                  ],
                  [
                    0.3333333333333333,
                    "#31688e"
                  ],
                  [
                    0.4444444444444444,
                    "#26828e"
                  ],
                  [
                    0.5555555555555556,
                    "#1f9e89"
                  ],
                  [
                    0.6666666666666666,
                    "#35b779"
                  ],
                  [
                    0.7777777777777778,
                    "#6ece58"
                  ],
                  [
                    0.8888888888888888,
                    "#b5de2b"
                  ],
                  [
                    1,
                    "#fde725"
                  ]
                ],
                "hoverinfo": "none",
                "opacity": 0.9,
                "showscale": false,
                "x": {
                  "dtype": "float64",
                  "shape": [
                    50
                  ]
                },
                "y": {
                  "dtype": "float64",
                  "shape": [
                    50
                  ]
                },
                "z": [],
                "type": "surface",
                "uid": "67b3478a-a494-4736-83cc-dde85b33036b"
              },
              {
                "hoverinfo": "none",
                "marker": {
                  "color": "black",
                  "size": 12
                },
                "mode": "markers",
                "x": [],
                "y": [],
                "z": [],
                "type": "scatter3d",
                "uid": "4f72d9bf-5a15-42bb-835b-9f049623f8cf"
              },
              {
                "hoverinfo": "none",
                "line": {
                  "color": "grey",
                  "width": 10
                },
                "mode": "lines",
                "x": [],
                "y": [],
                "z": [],
                "type": "scatter3d",
                "uid": "7dc98d1f-a6a2-4c46-9c04-57d210b24606"
              }
            ],
            "_dom_classes": [],
            "_js2py_layoutDelta": null,
            "_js2py_pointsCallback": null,
            "_js2py_relayout": null,
            "_js2py_restyle": {},
            "_js2py_traceDeltas": null,
            "_js2py_update": {},
            "_last_layout_edit_id": 576,
            "_last_trace_edit_id": 549,
            "_layout": {
              "autosize": false,
              "height": 600,
              "margin": {
                "l": 0,
                "t": 0
              },
              "scene": {
                "xaxis": {
                  "autorange": false,
                  "range": [
                    -2.5,
                    2.5
                  ],
                  "showticklabels": true,
                  "title": {
                    "text": "Weight"
                  }
                },
                "yaxis": {
                  "autorange": false,
                  "range": [
                    -2.5,
                    2.5
                  ],
                  "showticklabels": true,
                  "title": {
                    "text": "Bias"
                  }
                },
                "zaxis": {
                  "autorange": true,
                  "range": [
                    -1,
                    2.5
                  ],
                  "showticklabels": false,
                  "title": {
                    "text": "Loss: log(MSE)"
                  }
                }
              },
              "showlegend": false,
              "width": 600
            },
            "_model_module": "jupyterlab-plotly",
            "_model_module_version": "^5.24.1",
            "_model_name": "FigureModel",
            "_py2js_addTraces": {},
            "_py2js_animate": {},
            "_py2js_deleteTraces": {},
            "_py2js_moveTraces": {},
            "_py2js_relayout": null,
            "_py2js_removeLayoutProps": null,
            "_py2js_removeTraceProps": {},
            "_py2js_restyle": null,
            "_py2js_update": {},
            "_view_count": 3,
            "_view_module": "jupyterlab-plotly",
            "_view_module_version": "^5.24.1",
            "_view_name": "FigureView"
          }
        },
        "b6038e80722542149bf17769f1a0af17": {
          "model_module": "jupyterlab-plotly",
          "model_name": "FigureModel",
          "model_module_version": "^5.24.1",
          "state": {
            "_config": {
              "plotlyServerURL": "https://plot.ly"
            },
            "_data": [
              {
                "x": {
                  "dtype": "float64",
                  "shape": [
                    80
                  ]
                },
                "y": {
                  "dtype": "float64",
                  "shape": [
                    80
                  ]
                },
                "type": "scatter",
                "uid": "d4c6455f-298e-4796-86ed-5e10d4989105"
              },
              {
                "mode": "markers",
                "x": [
                  1,
                  2,
                  3
                ],
                "y": [
                  1.5,
                  0.7,
                  1.2
                ],
                "type": "scatter",
                "uid": "6db4090f-8ad9-40bc-957b-bf431be91c25"
              }
            ],
            "_dom_classes": [],
            "_js2py_layoutDelta": null,
            "_js2py_pointsCallback": null,
            "_js2py_relayout": {},
            "_js2py_restyle": {},
            "_js2py_traceDeltas": null,
            "_js2py_update": {},
            "_last_layout_edit_id": 25,
            "_last_trace_edit_id": 25,
            "_layout": {
              "autosize": false,
              "height": 500,
              "margin": {
                "l": 30,
                "t": 200
              },
              "showlegend": false,
              "width": 400,
              "xaxis": {
                "fixedrange": true,
                "range": [
                  -4,
                  4
                ],
                "title": {
                  "text": "Input: x"
                }
              },
              "yaxis": {
                "fixedrange": true,
                "range": [
                  -4,
                  4
                ],
                "title": {
                  "text": "Output: y"
                }
              }
            },
            "_model_module": "jupyterlab-plotly",
            "_model_module_version": "^5.24.1",
            "_model_name": "FigureModel",
            "_py2js_addTraces": {},
            "_py2js_animate": {},
            "_py2js_deleteTraces": {},
            "_py2js_moveTraces": {},
            "_py2js_relayout": null,
            "_py2js_removeLayoutProps": {},
            "_py2js_removeTraceProps": {},
            "_py2js_restyle": null,
            "_py2js_update": {},
            "_view_count": 3,
            "_view_module": "jupyterlab-plotly",
            "_view_module_version": "^5.24.1",
            "_view_name": "FigureView"
          }
        },
        "2ea7adf8d7a64032b5291dee0d61fcb0": {
          "model_module": "@jupyter-widgets/base",
          "model_name": "LayoutModel",
          "model_module_version": "1.2.0",
          "state": {
            "_model_module": "@jupyter-widgets/base",
            "_model_module_version": "1.2.0",
            "_model_name": "LayoutModel",
            "_view_count": null,
            "_view_module": "@jupyter-widgets/base",
            "_view_module_version": "1.2.0",
            "_view_name": "LayoutView",
            "align_content": null,
            "align_items": null,
            "align_self": null,
            "border": null,
            "bottom": null,
            "display": null,
            "flex": null,
            "flex_flow": null,
            "grid_area": null,
            "grid_auto_columns": null,
            "grid_auto_flow": null,
            "grid_auto_rows": null,
            "grid_column": null,
            "grid_gap": null,
            "grid_row": null,
            "grid_template_areas": null,
            "grid_template_columns": null,
            "grid_template_rows": null,
            "height": null,
            "justify_content": null,
            "justify_items": null,
            "left": null,
            "margin": null,
            "max_height": null,
            "max_width": null,
            "min_height": null,
            "min_width": null,
            "object_fit": null,
            "object_position": null,
            "order": null,
            "overflow": null,
            "overflow_x": null,
            "overflow_y": null,
            "padding": null,
            "right": null,
            "top": null,
            "visibility": null,
            "width": null
          }
        }
      }
    }
  },
  "nbformat": 4,
  "nbformat_minor": 0
}