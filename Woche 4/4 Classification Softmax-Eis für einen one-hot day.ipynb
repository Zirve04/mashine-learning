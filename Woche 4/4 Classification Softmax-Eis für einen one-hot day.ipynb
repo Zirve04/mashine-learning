{
  "cells": [
    {
      "cell_type": "markdown",
      "source": [
        "# Classification: Softmax-Eis für einen one-hot day"
      ],
      "metadata": {
        "id": "MtpLlCLi4OvX"
      }
    },
    {
      "cell_type": "markdown",
      "source": [
        "## Klassifizierung mit neuronalen Netzen\n",
        "In diesem Kapitel werden Sie die Funktionsweise eines Klassifizierers kennenlernen und einen solchen Klassifizierer manuell trainieren, der mit einem einzelnen Wert arbeitet. Sie werden den Klassifikator Schritt für Schritt verbessern und dabei grundlegende Konzepte der Klassifizierung verstehen.\n",
        "Anschließend werden Sie mit Hilfe der automatischen Backpropagation ein mehrschichtiges neuronales Netz trainieren, das ein logisches Gatter nachahmt."
      ],
      "metadata": {
        "id": "PISmq9eU4Ovg"
      }
    },
    {
      "cell_type": "markdown",
      "source": [
        "### Einführung\n",
        "Beim maschinellen Lernen und in der Statistik ist die Klassifizierung das Problem. Hierzu wird eine Beobachtung einem Satz von Kategorien (Unterpopulationen) zugeordnet, und zwar auf der Grundlage eines Trainingssatzes von Daten, die Beobachtungen (oder Instanzen) enthalten und deren Kategorie-Zugehörigkeit bekannt ist. Beispiele hierfür sind die Zuordnung einer gegebenen E-Mail zur Klasse \"Spam\" oder \"Nicht-Spam\" oder die Diagnosevergabe an einen Patienten auf der Grundlage von beobachteten Merkmalen des Patienten (Geschlecht, Blutdruck, Vorhandensein oder Fehlen bestimmter Symptome usw.). [1]\n",
        "\n",
        "Ein Klassifizierungsprozess erfordert einen Datensatz, der in verschiedene Kategorien unterteilt ist. Ein Klassifikator kann mit diesem Datensatz trainiert werden, indem er die Beziehung zwischen bestimmten Eigenschaften der Eingabedaten und der zugehörigen Kategorien erlernt.\n",
        "Der Prozess zur Klassifizierung neuer Daten ist dabei ähnlich wie der im Kapitel \"Regression\" vorgestellt, jedoch können je nach Anwendung zusätzliche Rechenschritte hinzugefügt werden.\n",
        "Ein bekanntes Klassifizierungsproblem, das mit neuronalen Netzen gelöst werden kann, ist die Bilderkennung (siehe Abbildung 1).\n",
        "\n",
        "\n",
        "\n",
        "<img src=\"https://github.com/KI-Campus/AMALEA/blob/master/Woche%204/images/neural_network_classification.png?raw=1\" />\n",
        "<p style=\"text-align: center;\">\n",
        "    Abb. 1 - Bilderkennung durch ein neuronales Netz\n",
        "</p>"
      ],
      "metadata": {
        "id": "N1Z4wUAY4Ovh"
      }
    },
    {
      "cell_type": "markdown",
      "source": [
        "Führen Sie die folgenden Zellen aus, um die erforderlichen Bibliotheken zu importieren und eine ReLU-, MSE-Verlustfunktion und eine SimpleNeuron-Klasse zu definieren."
      ],
      "metadata": {
        "id": "YY0kflU04Ovi"
      }
    },
    {
      "cell_type": "markdown",
      "source": [
        "Wenn Sie Ihren eigenen Computer verwenden, müssen Sie wahrscheinlich die Bibliothek <code>plotly</code> installieren.\n",
        "Dies können Sie mit <code>conda install plotly</code> in der Befehlszeile von Anaconda  erledigen."
      ],
      "metadata": {
        "id": "heu-w2LB4Ovj"
      }
    },
    {
      "cell_type": "code",
      "execution_count": 1,
      "source": [
        "# do not change\n",
        "import numpy as np\n",
        "from ipywidgets import interact, Layout, FloatSlider\n",
        "import plotly.offline as plotly\n",
        "import plotly.graph_objs as go\n",
        "import time\n",
        "import threading"
      ],
      "outputs": [],
      "metadata": {
        "id": "ve3LzY4I4Ovj"
      }
    },
    {
      "cell_type": "code",
      "execution_count": 2,
      "source": [
        "# do not change\n",
        "def relu(input_val:float)->float:\n",
        "    return np.where(input_val > 0, input_val, 0.0)"
      ],
      "outputs": [],
      "metadata": {
        "id": "RfTnRJf24Ovl"
      }
    },
    {
      "cell_type": "code",
      "execution_count": 3,
      "source": [
        "# do not change\n",
        "def mean_squared_loss(predictions:list, solutions:list)->float:\n",
        "    total_squared_loss = np.sum(np.subtract(predictions, solutions)**2) #np allows to handle both values and lists\n",
        "    mean_squared_loss = total_squared_loss/len(predictions)\n",
        "    return mean_squared_loss"
      ],
      "outputs": [],
      "metadata": {
        "id": "f1pnPd5F4Ovl"
      }
    },
    {
      "cell_type": "code",
      "execution_count": 4,
      "source": [
        "# do not change\n",
        "class SimpleNeuron:\n",
        "    def __init__(self, plot):\n",
        "        self.plot = plot\n",
        "        self.plot.register_neuron(self) #hey plot, remember me\n",
        "\n",
        "    def set_values(self, weight:float, bias:float):\n",
        "        self.weight = weight\n",
        "        self.bias = bias\n",
        "        self.plot.update() #hey plot, I have changed, redraw my output\n",
        "\n",
        "    def get_weight(self) -> float:\n",
        "        return self.weight\n",
        "\n",
        "    def get_bias(self)->float:\n",
        "        return self.bias\n",
        "\n",
        "    def compute(self, x:float)->float:\n",
        "        self.activation = np.dot(self.weight, x) + self.bias\n",
        "        return self.activation"
      ],
      "outputs": [],
      "metadata": {
        "id": "PTZaEVpo4Ovm"
      }
    },
    {
      "cell_type": "code",
      "execution_count": 5,
      "source": [
        "# do not change\n",
        "# an Interactive Plot monitors the activation of a neuron or a neural network\n",
        "class Interactive2DPlot:\n",
        "    def __init__(\n",
        "        self, points_red, points_blue, ranges, loss_function=mean_squared_loss, loss_string=\"Loss\", width=800, height=400, margin=dict(t=0, l=170),\n",
        "        draw_time=0.1\n",
        "    ):\n",
        "        self.idle = True\n",
        "        self.points_red = points_red\n",
        "        self.points_blue = points_blue\n",
        "        self.draw_time = draw_time\n",
        "        self.loss_function = loss_function\n",
        "        self.loss_string = loss_string\n",
        "\n",
        "        self.x = np.arange(ranges[\"x\"][0], ranges[\"x\"][1], 0.01)\n",
        "        self.y = np.arange(ranges[\"y\"][0], ranges[\"y\"][1], 0.01)\n",
        "\n",
        "        self.layout = go.Layout(\n",
        "            xaxis=dict(title=\"Neck height in m\", range=ranges[\"x\"]),\n",
        "            yaxis=dict(title=\"y\", range=ranges[\"y\"]),\n",
        "            width=width,\n",
        "            height=height,\n",
        "            showlegend=False,\n",
        "            margin=margin,\n",
        "        )\n",
        "        self.trace = go.Scatter(x=self.x, y=self.y)\n",
        "\n",
        "        self.plot_points_red = go.Scatter(\n",
        "            x=points_red[\"x\"], y=points_red[\"y\"], mode=\"markers\", marker=dict(color='rgb(255, 0, 0)', size=10)\n",
        "        )\n",
        "        self.plot_points_blue = go.Scatter(\n",
        "            x=points_blue[\"x\"],\n",
        "            y=points_blue[\"y\"],\n",
        "            mode=\"markers\",\n",
        "            marker=dict(color='rgb(0, 0, 255)', size=10, symbol=\"square\"),\n",
        "        )\n",
        "\n",
        "        self.plot_point_new = go.Scatter(\n",
        "            x=[], y=[], mode=\"markers\", marker=dict(size=20, symbol=\"star\", color='rgb(0,0,0)')\n",
        "        )\n",
        "\n",
        "        self.data = [self.trace, self.plot_points_red, self.plot_points_blue, self.plot_point_new]\n",
        "        self.plot = go.FigureWidget(self.data, self.layout)\n",
        "\n",
        "    def register_neuron(self, neuron):\n",
        "        self.neuron = neuron\n",
        "\n",
        "    def redraw(self):\n",
        "        self.idle = False\n",
        "        time.sleep(self.draw_time)\n",
        "        self.plot.data[0].y = self.neuron.compute(self.x)\n",
        "        self.idle = True\n",
        "\n",
        "    def update(self):\n",
        "        loss_red = self.loss_function(self.neuron.compute(self.points_red[\"x\"]), self.points_red[\"y\"])\n",
        "        loss_blue = self.loss_function(self.neuron.compute(self.points_blue[\"x\"]), self.points_blue[\"y\"])\n",
        "        print(self.loss_string,\": {:0.3f}\".format((loss_red + loss_blue) / 2))\n",
        "\n",
        "        if self.idle:\n",
        "            thread = threading.Thread(target=self.redraw)\n",
        "            thread.start()"
      ],
      "outputs": [],
      "metadata": {
        "id": "xzCSEdgf4Ovm"
      }
    },
    {
      "cell_type": "markdown",
      "source": [
        "## Von der Regression zur Klassifikation\n",
        "\n",
        "### Lineare Regression\n",
        "\n",
        "Sie arbeiten auf einem Bauernhof mit Schafen und Lamas, die in getrennten Gehegen grasen. Letzte Nacht hat der Schäfer jedoch vergessen, das Tor zwischen den beiden Gehegen zu schließen. Die Lamas und Schafe sind nun vermischt und müssen wieder getrennt werden. Sie denken sich sofort eine auf maschinellem Lernen basierende Lösung aus, um die Schafe wieder von den Lamas zu trennen: Sie gehen davon aus, dass Lamas von Schafen unterschieden werden können, indem Sie den Abstand von der Oberseite des Kopfes bis zur Wirbelsäule messen. Da Lamas deutlich längere Hälse aufweisen. Mit einem LIDAR-Scanner wird die Halshöhe autonom gemessen und die Tiere werden mit einem Futterköder und einem elektronischen Drehkreuz, das nur Lamas durchlässt, getrennt.\n",
        "\n",
        "\n",
        "<img src=\"https://github.com/KI-Campus/AMALEA/blob/master/Woche%204/images/neck_heights.png?raw=1\" />\n",
        "<p style=\"text-align: center;\">\n",
        "    Abb. 2 - Konzept der Halshöhenmessung\n",
        "</p>\n",
        "\n",
        "Um Datenpunkte zu sammeln, gehen Sie mit einem Maßband auf das Feld und messen die Halshöhen einiger Schafe und Lamas. Sie legen zwei Kategorien fest: \"0\" für Schafe und \"1\" für Lamas. (Siehe Tabelle 1)\n",
        "\n",
        "Die meisten Lamas sind erwachsen und haben lange Hälse, aber es gibt auch einige junge Lamas mit kleineren Hälsen. Da ihre Hälse jedoch immer noch länger sind als die der Schafe, gehen Sie davon aus, dass dies kein Problem sein wird.\n",
        "\n",
        "|  Tier | Halshöhe  | Kategorie  |\n",
        "|---------|--------------|-----------|\n",
        "| Schaf #1| 0.20m        |0          |\n",
        "| Schaf #2| 0.23m        |0          |\n",
        "| Schaf #3| 0.28m        |0          |\n",
        "| Schaf #4| 0.32m        |0          |\n",
        "| Schaf #5| 0.35m        |0          |\n",
        "| Lama #1| 0.55m        |1          |\n",
        "| Lama #2| 0.68m        |1          |\n",
        "| Lama #3| 0.74m        |1          |\n",
        "| Lama #4| 0.83m        |1          |\n",
        "| Lama #5| 0.95m        |1          |\n",
        "\n",
        "<p style=\"text-align: center;\">\n",
        "    Tabelle. 1 - Ihre Data-Mining-Ergebnisse\n",
        "</p>"
      ],
      "metadata": {
        "id": "-X8RdpQC4Ovn"
      }
    },
    {
      "cell_type": "markdown",
      "source": [
        "#### Trainieren eines linearen Regressionsneurons von Hand\n",
        "Der Einfachheit halber beginnen Sie damit, ein einzelnes Neuron als Klassifikator zu verwenden. Führen Sie die beiden folgenden Zellen aus, um die Data-Mining-Punkte zu definieren und ein Diagramm anzuzeigen."
      ],
      "metadata": {
        "id": "nFwU_3UF4Ovn"
      }
    },
    {
      "cell_type": "code",
      "execution_count": 6,
      "source": [
        "# do not change\n",
        "points_sheep = dict(\n",
        "              x=[ 0.20, 0.23, 0.28, 0.32, 0.35],\n",
        "              y=[ 0, 0, 0, 0, 0]\n",
        "             )\n",
        "\n",
        "points_llamas = dict(\n",
        "              x=[ 0.55, 0.68, 0.74, 0.83, 0.95],\n",
        "              y=[ 1,  1, 1, 1, 1]\n",
        "             )\n",
        "\n",
        "ranges = dict(x=[-0.1, 1.25], y=[-0.5, 1.4])\n",
        "slider_layout = Layout(width=\"90%\")"
      ],
      "outputs": [],
      "metadata": {
        "id": "zeTKmCcC4Ovn"
      }
    },
    {
      "cell_type": "code",
      "execution_count": 18,
      "source": [
        "# do not change\n",
        "plot1 = Interactive2DPlot(points_sheep, points_llamas, ranges, loss_string=\"Mean Squared Loss\")\n",
        "neuron1 = SimpleNeuron(plot1)\n",
        "\n",
        "interact(\n",
        "    neuron1.set_values,\n",
        "    weight=FloatSlider(min=-2, max=4, step=0.1, layout = slider_layout),\n",
        "    bias=FloatSlider(min=-1, max=1, step=0.1, layout = slider_layout),\n",
        ")\n",
        "\n",
        "plot1.plot"
      ],
      "outputs": [
        {
          "output_type": "display_data",
          "data": {
            "text/plain": [
              "interactive(children=(FloatSlider(value=0.0, description='weight', layout=Layout(width='90%'), max=4.0, min=-2…"
            ],
            "application/vnd.jupyter.widget-view+json": {
              "version_major": 2,
              "version_minor": 0,
              "model_id": "65159e66475441cdbca040432dafb423"
            }
          },
          "metadata": {
            "application/vnd.jupyter.widget-view+json": {
              "colab": {
                "custom_widget_manager": {
                  "url": "https://ssl.gstatic.com/colaboratory-static/widgets/colab-cdn-widget-manager/2b70e893a8ba7c0f/manager.min.js"
                }
              }
            }
          }
        },
        {
          "output_type": "execute_result",
          "data": {
            "application/vnd.jupyter.widget-view+json": {
              "version_major": 2,
              "version_minor": 0,
              "model_id": "635cc2ed505847f987b479e5bc5b638d"
            },
            "text/plain": [
              "FigureWidget({\n",
              "    'data': [{'type': 'scatter',\n",
              "              'uid': '0876cf4b-42ff-4350-970a-7ae5493530b0',\n",
              "              'x': array([-1.00000000e-01, -9.00000000e-02, -8.00000000e-02, -7.00000000e-02,\n",
              "                          -6.00000000e-02, -5.00000000e-02, -4.00000000e-02, -3.00000000e-02,\n",
              "                          -2.00000000e-02, -1.00000000e-02, -5.55111512e-17,  1.00000000e-02,\n",
              "                           2.00000000e-02,  3.00000000e-02,  4.00000000e-02,  5.00000000e-02,\n",
              "                           6.00000000e-02,  7.00000000e-02,  8.00000000e-02,  9.00000000e-02,\n",
              "                           1.00000000e-01,  1.10000000e-01,  1.20000000e-01,  1.30000000e-01,\n",
              "                           1.40000000e-01,  1.50000000e-01,  1.60000000e-01,  1.70000000e-01,\n",
              "                           1.80000000e-01,  1.90000000e-01,  2.00000000e-01,  2.10000000e-01,\n",
              "                           2.20000000e-01,  2.30000000e-01,  2.40000000e-01,  2.50000000e-01,\n",
              "                           2.60000000e-01,  2.70000000e-01,  2.80000000e-01,  2.90000000e-01,\n",
              "                           3.00000000e-01,  3.10000000e-01,  3.20000000e-01,  3.30000000e-01,\n",
              "                           3.40000000e-01,  3.50000000e-01,  3.60000000e-01,  3.70000000e-01,\n",
              "                           3.80000000e-01,  3.90000000e-01,  4.00000000e-01,  4.10000000e-01,\n",
              "                           4.20000000e-01,  4.30000000e-01,  4.40000000e-01,  4.50000000e-01,\n",
              "                           4.60000000e-01,  4.70000000e-01,  4.80000000e-01,  4.90000000e-01,\n",
              "                           5.00000000e-01,  5.10000000e-01,  5.20000000e-01,  5.30000000e-01,\n",
              "                           5.40000000e-01,  5.50000000e-01,  5.60000000e-01,  5.70000000e-01,\n",
              "                           5.80000000e-01,  5.90000000e-01,  6.00000000e-01,  6.10000000e-01,\n",
              "                           6.20000000e-01,  6.30000000e-01,  6.40000000e-01,  6.50000000e-01,\n",
              "                           6.60000000e-01,  6.70000000e-01,  6.80000000e-01,  6.90000000e-01,\n",
              "                           7.00000000e-01,  7.10000000e-01,  7.20000000e-01,  7.30000000e-01,\n",
              "                           7.40000000e-01,  7.50000000e-01,  7.60000000e-01,  7.70000000e-01,\n",
              "                           7.80000000e-01,  7.90000000e-01,  8.00000000e-01,  8.10000000e-01,\n",
              "                           8.20000000e-01,  8.30000000e-01,  8.40000000e-01,  8.50000000e-01,\n",
              "                           8.60000000e-01,  8.70000000e-01,  8.80000000e-01,  8.90000000e-01,\n",
              "                           9.00000000e-01,  9.10000000e-01,  9.20000000e-01,  9.30000000e-01,\n",
              "                           9.40000000e-01,  9.50000000e-01,  9.60000000e-01,  9.70000000e-01,\n",
              "                           9.80000000e-01,  9.90000000e-01,  1.00000000e+00,  1.01000000e+00,\n",
              "                           1.02000000e+00,  1.03000000e+00,  1.04000000e+00,  1.05000000e+00,\n",
              "                           1.06000000e+00,  1.07000000e+00,  1.08000000e+00,  1.09000000e+00,\n",
              "                           1.10000000e+00,  1.11000000e+00,  1.12000000e+00,  1.13000000e+00,\n",
              "                           1.14000000e+00,  1.15000000e+00,  1.16000000e+00,  1.17000000e+00,\n",
              "                           1.18000000e+00,  1.19000000e+00,  1.20000000e+00,  1.21000000e+00,\n",
              "                           1.22000000e+00,  1.23000000e+00,  1.24000000e+00]),\n",
              "              'y': array([-5.0000000e-01, -4.9000000e-01, -4.8000000e-01, -4.7000000e-01,\n",
              "                          -4.6000000e-01, -4.5000000e-01, -4.4000000e-01, -4.3000000e-01,\n",
              "                          -4.2000000e-01, -4.1000000e-01, -4.0000000e-01, -3.9000000e-01,\n",
              "                          -3.8000000e-01, -3.7000000e-01, -3.6000000e-01, -3.5000000e-01,\n",
              "                          -3.4000000e-01, -3.3000000e-01, -3.2000000e-01, -3.1000000e-01,\n",
              "                          -3.0000000e-01, -2.9000000e-01, -2.8000000e-01, -2.7000000e-01,\n",
              "                          -2.6000000e-01, -2.5000000e-01, -2.4000000e-01, -2.3000000e-01,\n",
              "                          -2.2000000e-01, -2.1000000e-01, -2.0000000e-01, -1.9000000e-01,\n",
              "                          -1.8000000e-01, -1.7000000e-01, -1.6000000e-01, -1.5000000e-01,\n",
              "                          -1.4000000e-01, -1.3000000e-01, -1.2000000e-01, -1.1000000e-01,\n",
              "                          -1.0000000e-01, -9.0000000e-02, -8.0000000e-02, -7.0000000e-02,\n",
              "                          -6.0000000e-02, -5.0000000e-02, -4.0000000e-02, -3.0000000e-02,\n",
              "                          -2.0000000e-02, -1.0000000e-02,  4.4408921e-16,  1.0000000e-02,\n",
              "                           2.0000000e-02,  3.0000000e-02,  4.0000000e-02,  5.0000000e-02,\n",
              "                           6.0000000e-02,  7.0000000e-02,  8.0000000e-02,  9.0000000e-02,\n",
              "                           1.0000000e-01,  1.1000000e-01,  1.2000000e-01,  1.3000000e-01,\n",
              "                           1.4000000e-01,  1.5000000e-01,  1.6000000e-01,  1.7000000e-01,\n",
              "                           1.8000000e-01,  1.9000000e-01,  2.0000000e-01,  2.1000000e-01,\n",
              "                           2.2000000e-01,  2.3000000e-01,  2.4000000e-01,  2.5000000e-01,\n",
              "                           2.6000000e-01,  2.7000000e-01,  2.8000000e-01,  2.9000000e-01,\n",
              "                           3.0000000e-01,  3.1000000e-01,  3.2000000e-01,  3.3000000e-01,\n",
              "                           3.4000000e-01,  3.5000000e-01,  3.6000000e-01,  3.7000000e-01,\n",
              "                           3.8000000e-01,  3.9000000e-01,  4.0000000e-01,  4.1000000e-01,\n",
              "                           4.2000000e-01,  4.3000000e-01,  4.4000000e-01,  4.5000000e-01,\n",
              "                           4.6000000e-01,  4.7000000e-01,  4.8000000e-01,  4.9000000e-01,\n",
              "                           5.0000000e-01,  5.1000000e-01,  5.2000000e-01,  5.3000000e-01,\n",
              "                           5.4000000e-01,  5.5000000e-01,  5.6000000e-01,  5.7000000e-01,\n",
              "                           5.8000000e-01,  5.9000000e-01,  6.0000000e-01,  6.1000000e-01,\n",
              "                           6.2000000e-01,  6.3000000e-01,  6.4000000e-01,  6.5000000e-01,\n",
              "                           6.6000000e-01,  6.7000000e-01,  6.8000000e-01,  6.9000000e-01,\n",
              "                           7.0000000e-01,  7.1000000e-01,  7.2000000e-01,  7.3000000e-01,\n",
              "                           7.4000000e-01,  7.5000000e-01,  7.6000000e-01,  7.7000000e-01,\n",
              "                           7.8000000e-01,  7.9000000e-01,  8.0000000e-01,  8.1000000e-01,\n",
              "                           8.2000000e-01,  8.3000000e-01,  8.4000000e-01,  8.5000000e-01,\n",
              "                           8.6000000e-01,  8.7000000e-01,  8.8000000e-01,  8.9000000e-01,\n",
              "                           9.0000000e-01,  9.1000000e-01,  9.2000000e-01,  9.3000000e-01,\n",
              "                           9.4000000e-01,  9.5000000e-01,  9.6000000e-01,  9.7000000e-01,\n",
              "                           9.8000000e-01,  9.9000000e-01,  1.0000000e+00,  1.0100000e+00,\n",
              "                           1.0200000e+00,  1.0300000e+00,  1.0400000e+00,  1.0500000e+00,\n",
              "                           1.0600000e+00,  1.0700000e+00,  1.0800000e+00,  1.0900000e+00,\n",
              "                           1.1000000e+00,  1.1100000e+00,  1.1200000e+00,  1.1300000e+00,\n",
              "                           1.1400000e+00,  1.1500000e+00,  1.1600000e+00,  1.1700000e+00,\n",
              "                           1.1800000e+00,  1.1900000e+00,  1.2000000e+00,  1.2100000e+00,\n",
              "                           1.2200000e+00,  1.2300000e+00,  1.2400000e+00,  1.2500000e+00,\n",
              "                           1.2600000e+00,  1.2700000e+00,  1.2800000e+00,  1.2900000e+00,\n",
              "                           1.3000000e+00,  1.3100000e+00,  1.3200000e+00,  1.3300000e+00,\n",
              "                           1.3400000e+00,  1.3500000e+00,  1.3600000e+00,  1.3700000e+00,\n",
              "                           1.3800000e+00,  1.3900000e+00])},\n",
              "             {'marker': {'color': 'rgb(255, 0, 0)', 'size': 10},\n",
              "              'mode': 'markers',\n",
              "              'type': 'scatter',\n",
              "              'uid': '4cdf3cc7-fe1a-4659-a175-482b0b88a25b',\n",
              "              'x': [0.2, 0.23, 0.28, 0.32, 0.35],\n",
              "              'y': [0, 0, 0, 0, 0]},\n",
              "             {'marker': {'color': 'rgb(0, 0, 255)', 'size': 10, 'symbol': 'square'},\n",
              "              'mode': 'markers',\n",
              "              'type': 'scatter',\n",
              "              'uid': 'e9dc5eb6-d40c-407a-bab8-faa971cd4b62',\n",
              "              'x': [0.55, 0.68, 0.74, 0.83, 0.95],\n",
              "              'y': [1, 1, 1, 1, 1]},\n",
              "             {'marker': {'color': 'rgb(0,0,0)', 'size': 20, 'symbol': 'star'},\n",
              "              'mode': 'markers',\n",
              "              'type': 'scatter',\n",
              "              'uid': 'c23c9f01-1716-45b5-8f50-53a3860417dc',\n",
              "              'x': [],\n",
              "              'y': []}],\n",
              "    'layout': {'height': 400,\n",
              "               'margin': {'l': 170, 't': 0},\n",
              "               'showlegend': False,\n",
              "               'template': '...',\n",
              "               'width': 800,\n",
              "               'xaxis': {'range': [-0.1, 1.25], 'title': {'text': 'Neck height in m'}},\n",
              "               'yaxis': {'range': [-0.5, 1.4], 'title': {'text': 'y'}}}\n",
              "})"
            ]
          },
          "metadata": {},
          "execution_count": 18
        }
      ],
      "metadata": {
        "id": "jTURDonG4Ovo",
        "outputId": "238342b6-e8bf-413c-a6a5-5789c1eb2727",
        "colab": {
          "base_uri": "https://localhost:8080/",
          "height": 99,
          "referenced_widgets": [
            "65159e66475441cdbca040432dafb423",
            "5be4c6e2650c4fa5af3c1a5823da17cd",
            "be7f1f53d4424b8697a0d8b5201580b0",
            "aed6c2a9556b4ed7852afd1e2b4dabc8",
            "cfc872a74d8747bb9ea131811bdb6c4d",
            "1af09f63b3ab4e75abbc7925b65a8c24",
            "af77ae0b1ea24a04acfb063e23c2eff4",
            "d308b91ca58143f295d5b2377ed6acab",
            "6363e1123d974e339cddef138cf0a3c3",
            "635cc2ed505847f987b479e5bc5b638d"
          ]
        }
      }
    },
    {
      "cell_type": "markdown",
      "source": [
        "Support for third party widgets will remain active for the duration of the session. To disable support:"
      ],
      "metadata": {
        "id": "yPMwSN6v6kYe"
      }
    },
    {
      "cell_type": "code",
      "source": [
        "from google.colab import output\n",
        "output.disable_custom_widget_manager()"
      ],
      "metadata": {
        "id": "ztXpHt1L6kYe"
      },
      "execution_count": null,
      "outputs": []
    },
    {
      "cell_type": "markdown",
      "source": [
        "<div class=\"alert alert-block alert-success\">\n",
        "<b>Frage 4.4.1:</b> Variieren Sie die obigen Schieberegler für Gewicht und Bias. Was ist eine Kombination aus Gewicht und Bias, die zu einem Verlust < 0,05 führt?\n",
        "</div>\n",
        "\n",
        "<div class=\"alert alert-block alert-success\">\n",
        "<b>Ihre Antwort:</b></div>\n"
      ],
      "metadata": {
        "id": "ZOEEQ0jW4Ovo"
      }
    },
    {
      "cell_type": "markdown",
      "source": [
        "***\n",
        "#### Auf dem Weg zu einem diskreten Klassifikator\n",
        "Nun wollen wir unser trainiertes Neuron verwenden, um neue Halshöhen zu klassifizieren. Dazu müssen wir ein Programm schreiben, das eine Halshöhe entgegennimmt und ausgibt, was das trainierte Neuron darüber denkt. Der Klassifikator wird auch die neue Halshöhe aufzeichnen. Führen Sie die folgende Box aus, um die Werte aus der vorherigen Aufgabe zu erhalten."
      ],
      "metadata": {
        "id": "Klpz7Mn54Ovo"
      }
    },
    {
      "cell_type": "code",
      "execution_count": 19,
      "source": [
        "# do not change\n",
        "# a duplicate of the last plot, so you don't have to scroll\n",
        "plot2 = Interactive2DPlot(points_sheep, points_llamas, ranges, loss_string=\"Mean Squared Loss\")\n",
        "neuron2 = SimpleNeuron(plot2)\n",
        "neuron2.set_values(neuron1.get_weight(), neuron1.get_bias()) #get your values from last task\n",
        "\n",
        "plot2.plot"
      ],
      "outputs": [
        {
          "output_type": "stream",
          "name": "stdout",
          "text": [
            "Mean Squared Loss : 0.042\n"
          ]
        },
        {
          "output_type": "execute_result",
          "data": {
            "application/vnd.jupyter.widget-view+json": {
              "version_major": 2,
              "version_minor": 0,
              "model_id": "11be61bc4b10450fa35be07d05e20a43"
            },
            "text/plain": [
              "FigureWidget({\n",
              "    'data': [{'type': 'scatter',\n",
              "              'uid': 'dfddfe0c-04e8-4b88-a41d-2face70ebe9a',\n",
              "              'x': array([-1.00000000e-01, -9.00000000e-02, -8.00000000e-02, -7.00000000e-02,\n",
              "                          -6.00000000e-02, -5.00000000e-02, -4.00000000e-02, -3.00000000e-02,\n",
              "                          -2.00000000e-02, -1.00000000e-02, -5.55111512e-17,  1.00000000e-02,\n",
              "                           2.00000000e-02,  3.00000000e-02,  4.00000000e-02,  5.00000000e-02,\n",
              "                           6.00000000e-02,  7.00000000e-02,  8.00000000e-02,  9.00000000e-02,\n",
              "                           1.00000000e-01,  1.10000000e-01,  1.20000000e-01,  1.30000000e-01,\n",
              "                           1.40000000e-01,  1.50000000e-01,  1.60000000e-01,  1.70000000e-01,\n",
              "                           1.80000000e-01,  1.90000000e-01,  2.00000000e-01,  2.10000000e-01,\n",
              "                           2.20000000e-01,  2.30000000e-01,  2.40000000e-01,  2.50000000e-01,\n",
              "                           2.60000000e-01,  2.70000000e-01,  2.80000000e-01,  2.90000000e-01,\n",
              "                           3.00000000e-01,  3.10000000e-01,  3.20000000e-01,  3.30000000e-01,\n",
              "                           3.40000000e-01,  3.50000000e-01,  3.60000000e-01,  3.70000000e-01,\n",
              "                           3.80000000e-01,  3.90000000e-01,  4.00000000e-01,  4.10000000e-01,\n",
              "                           4.20000000e-01,  4.30000000e-01,  4.40000000e-01,  4.50000000e-01,\n",
              "                           4.60000000e-01,  4.70000000e-01,  4.80000000e-01,  4.90000000e-01,\n",
              "                           5.00000000e-01,  5.10000000e-01,  5.20000000e-01,  5.30000000e-01,\n",
              "                           5.40000000e-01,  5.50000000e-01,  5.60000000e-01,  5.70000000e-01,\n",
              "                           5.80000000e-01,  5.90000000e-01,  6.00000000e-01,  6.10000000e-01,\n",
              "                           6.20000000e-01,  6.30000000e-01,  6.40000000e-01,  6.50000000e-01,\n",
              "                           6.60000000e-01,  6.70000000e-01,  6.80000000e-01,  6.90000000e-01,\n",
              "                           7.00000000e-01,  7.10000000e-01,  7.20000000e-01,  7.30000000e-01,\n",
              "                           7.40000000e-01,  7.50000000e-01,  7.60000000e-01,  7.70000000e-01,\n",
              "                           7.80000000e-01,  7.90000000e-01,  8.00000000e-01,  8.10000000e-01,\n",
              "                           8.20000000e-01,  8.30000000e-01,  8.40000000e-01,  8.50000000e-01,\n",
              "                           8.60000000e-01,  8.70000000e-01,  8.80000000e-01,  8.90000000e-01,\n",
              "                           9.00000000e-01,  9.10000000e-01,  9.20000000e-01,  9.30000000e-01,\n",
              "                           9.40000000e-01,  9.50000000e-01,  9.60000000e-01,  9.70000000e-01,\n",
              "                           9.80000000e-01,  9.90000000e-01,  1.00000000e+00,  1.01000000e+00,\n",
              "                           1.02000000e+00,  1.03000000e+00,  1.04000000e+00,  1.05000000e+00,\n",
              "                           1.06000000e+00,  1.07000000e+00,  1.08000000e+00,  1.09000000e+00,\n",
              "                           1.10000000e+00,  1.11000000e+00,  1.12000000e+00,  1.13000000e+00,\n",
              "                           1.14000000e+00,  1.15000000e+00,  1.16000000e+00,  1.17000000e+00,\n",
              "                           1.18000000e+00,  1.19000000e+00,  1.20000000e+00,  1.21000000e+00,\n",
              "                           1.22000000e+00,  1.23000000e+00,  1.24000000e+00]),\n",
              "              'y': array([-5.0000000e-01, -4.9000000e-01, -4.8000000e-01, -4.7000000e-01,\n",
              "                          -4.6000000e-01, -4.5000000e-01, -4.4000000e-01, -4.3000000e-01,\n",
              "                          -4.2000000e-01, -4.1000000e-01, -4.0000000e-01, -3.9000000e-01,\n",
              "                          -3.8000000e-01, -3.7000000e-01, -3.6000000e-01, -3.5000000e-01,\n",
              "                          -3.4000000e-01, -3.3000000e-01, -3.2000000e-01, -3.1000000e-01,\n",
              "                          -3.0000000e-01, -2.9000000e-01, -2.8000000e-01, -2.7000000e-01,\n",
              "                          -2.6000000e-01, -2.5000000e-01, -2.4000000e-01, -2.3000000e-01,\n",
              "                          -2.2000000e-01, -2.1000000e-01, -2.0000000e-01, -1.9000000e-01,\n",
              "                          -1.8000000e-01, -1.7000000e-01, -1.6000000e-01, -1.5000000e-01,\n",
              "                          -1.4000000e-01, -1.3000000e-01, -1.2000000e-01, -1.1000000e-01,\n",
              "                          -1.0000000e-01, -9.0000000e-02, -8.0000000e-02, -7.0000000e-02,\n",
              "                          -6.0000000e-02, -5.0000000e-02, -4.0000000e-02, -3.0000000e-02,\n",
              "                          -2.0000000e-02, -1.0000000e-02,  4.4408921e-16,  1.0000000e-02,\n",
              "                           2.0000000e-02,  3.0000000e-02,  4.0000000e-02,  5.0000000e-02,\n",
              "                           6.0000000e-02,  7.0000000e-02,  8.0000000e-02,  9.0000000e-02,\n",
              "                           1.0000000e-01,  1.1000000e-01,  1.2000000e-01,  1.3000000e-01,\n",
              "                           1.4000000e-01,  1.5000000e-01,  1.6000000e-01,  1.7000000e-01,\n",
              "                           1.8000000e-01,  1.9000000e-01,  2.0000000e-01,  2.1000000e-01,\n",
              "                           2.2000000e-01,  2.3000000e-01,  2.4000000e-01,  2.5000000e-01,\n",
              "                           2.6000000e-01,  2.7000000e-01,  2.8000000e-01,  2.9000000e-01,\n",
              "                           3.0000000e-01,  3.1000000e-01,  3.2000000e-01,  3.3000000e-01,\n",
              "                           3.4000000e-01,  3.5000000e-01,  3.6000000e-01,  3.7000000e-01,\n",
              "                           3.8000000e-01,  3.9000000e-01,  4.0000000e-01,  4.1000000e-01,\n",
              "                           4.2000000e-01,  4.3000000e-01,  4.4000000e-01,  4.5000000e-01,\n",
              "                           4.6000000e-01,  4.7000000e-01,  4.8000000e-01,  4.9000000e-01,\n",
              "                           5.0000000e-01,  5.1000000e-01,  5.2000000e-01,  5.3000000e-01,\n",
              "                           5.4000000e-01,  5.5000000e-01,  5.6000000e-01,  5.7000000e-01,\n",
              "                           5.8000000e-01,  5.9000000e-01,  6.0000000e-01,  6.1000000e-01,\n",
              "                           6.2000000e-01,  6.3000000e-01,  6.4000000e-01,  6.5000000e-01,\n",
              "                           6.6000000e-01,  6.7000000e-01,  6.8000000e-01,  6.9000000e-01,\n",
              "                           7.0000000e-01,  7.1000000e-01,  7.2000000e-01,  7.3000000e-01,\n",
              "                           7.4000000e-01,  7.5000000e-01,  7.6000000e-01,  7.7000000e-01,\n",
              "                           7.8000000e-01,  7.9000000e-01,  8.0000000e-01,  8.1000000e-01,\n",
              "                           8.2000000e-01,  8.3000000e-01,  8.4000000e-01,  8.5000000e-01,\n",
              "                           8.6000000e-01,  8.7000000e-01,  8.8000000e-01,  8.9000000e-01,\n",
              "                           9.0000000e-01,  9.1000000e-01,  9.2000000e-01,  9.3000000e-01,\n",
              "                           9.4000000e-01,  9.5000000e-01,  9.6000000e-01,  9.7000000e-01,\n",
              "                           9.8000000e-01,  9.9000000e-01,  1.0000000e+00,  1.0100000e+00,\n",
              "                           1.0200000e+00,  1.0300000e+00,  1.0400000e+00,  1.0500000e+00,\n",
              "                           1.0600000e+00,  1.0700000e+00,  1.0800000e+00,  1.0900000e+00,\n",
              "                           1.1000000e+00,  1.1100000e+00,  1.1200000e+00,  1.1300000e+00,\n",
              "                           1.1400000e+00,  1.1500000e+00,  1.1600000e+00,  1.1700000e+00,\n",
              "                           1.1800000e+00,  1.1900000e+00,  1.2000000e+00,  1.2100000e+00,\n",
              "                           1.2200000e+00,  1.2300000e+00,  1.2400000e+00,  1.2500000e+00,\n",
              "                           1.2600000e+00,  1.2700000e+00,  1.2800000e+00,  1.2900000e+00,\n",
              "                           1.3000000e+00,  1.3100000e+00,  1.3200000e+00,  1.3300000e+00,\n",
              "                           1.3400000e+00,  1.3500000e+00,  1.3600000e+00,  1.3700000e+00,\n",
              "                           1.3800000e+00,  1.3900000e+00])},\n",
              "             {'marker': {'color': 'rgb(255, 0, 0)', 'size': 10},\n",
              "              'mode': 'markers',\n",
              "              'type': 'scatter',\n",
              "              'uid': 'aba92bff-b5c9-4166-8c21-2876f47f6c53',\n",
              "              'x': [0.2, 0.23, 0.28, 0.32, 0.35],\n",
              "              'y': [0, 0, 0, 0, 0]},\n",
              "             {'marker': {'color': 'rgb(0, 0, 255)', 'size': 10, 'symbol': 'square'},\n",
              "              'mode': 'markers',\n",
              "              'type': 'scatter',\n",
              "              'uid': 'a2027d47-3795-40c2-815a-89b1c5fa8c4e',\n",
              "              'x': [0.55, 0.68, 0.74, 0.83, 0.95],\n",
              "              'y': [1, 1, 1, 1, 1]},\n",
              "             {'marker': {'color': 'rgb(0,0,0)', 'size': 20, 'symbol': 'star'},\n",
              "              'mode': 'markers',\n",
              "              'type': 'scatter',\n",
              "              'uid': 'a0665845-256c-4000-9194-96e048882e2f',\n",
              "              'x': [],\n",
              "              'y': []}],\n",
              "    'layout': {'height': 400,\n",
              "               'margin': {'l': 170, 't': 0},\n",
              "               'showlegend': False,\n",
              "               'template': '...',\n",
              "               'width': 800,\n",
              "               'xaxis': {'range': [-0.1, 1.25], 'title': {'text': 'Neck height in m'}},\n",
              "               'yaxis': {'range': [-0.5, 1.4], 'title': {'text': 'y'}}}\n",
              "})"
            ]
          },
          "metadata": {},
          "execution_count": 19
        }
      ],
      "metadata": {
        "id": "bSn5GGKA4Ovo",
        "outputId": "8601b79a-a8ea-4874-a908-0b805013cfcf",
        "colab": {
          "base_uri": "https://localhost:8080/",
          "height": 35,
          "referenced_widgets": [
            "11be61bc4b10450fa35be07d05e20a43"
          ]
        }
      }
    },
    {
      "cell_type": "code",
      "source": [
        "from google.colab import output\n",
        "output.enable_custom_widget_manager()"
      ],
      "metadata": {
        "id": "EeSZGros61fx"
      },
      "execution_count": 15,
      "outputs": []
    },
    {
      "cell_type": "markdown",
      "source": [
        "Support for third party widgets will remain active for the duration of the session. To disable support:"
      ],
      "metadata": {
        "id": "Vu1tQuJN61fy"
      }
    },
    {
      "cell_type": "code",
      "source": [
        "from google.colab import output\n",
        "output.disable_custom_widget_manager()"
      ],
      "metadata": {
        "id": "TIyIbBuC61fy"
      },
      "execution_count": null,
      "outputs": []
    },
    {
      "cell_type": "markdown",
      "source": [
        "<div class=\"alert alert-block alert-success\">\n",
        "<b>Aufgabe 4.4.2:</b> Versuchen Sie, einen Klassifikator mit nur einem linearen Neuron zu implementieren. (Ja, eine fast aussichtslose Aufgabe, aber das wird später noch Sinn ergeben). <br> Vervollständigen Sie den folgenden Python-Code sodass Sie das Ergebnis der Klassifizierung als Variable <code>classification_result</code> erhalten.\n",
        "<ul>\n",
        "    <li> Das Klassifikationsergebnis soll die Ausgabe von neuron2 auf Basis einer neuen Halshöhe sein</li>\n",
        "    <li> Sie sollten nicht mehr als 1 Zeile Code hinzufügen müssen </li>\n",
        "    <li> Schauen Sie sich nach dem Ausführen den Stern im obigen Diagramm an. Er stellt die aktuelle Eingabe/Ausgabe für die neue Halslänge dar</li>\n",
        "</ul>\n",
        "\n",
        "</div>"
      ],
      "metadata": {
        "id": "ZuarrSkA4Ovo"
      }
    },
    {
      "cell_type": "code",
      "execution_count": 24,
      "source": [
        "new_neck_height = 0.55  # this value shall be varied to answer the questions below\n",
        "\n",
        "#classification_result = ??\n",
        "\n",
        "#STUDENT CODE HERE\n",
        "classification_result = neuron2.compute(new_neck_height)\n",
        "#STUDENT CODE until HERE\n",
        "\n",
        "plot2.plot.data[3].x = [new_neck_height] #update plot\n",
        "plot2.plot.data[3].y = [classification_result]\n",
        "\n",
        "print(\"Result:\", classification_result)"
      ],
      "outputs": [
        {
          "output_type": "stream",
          "name": "stdout",
          "text": [
            "Result: 0.5800000000000001\n"
          ]
        }
      ],
      "metadata": {
        "id": "MoqzXxta4Ovo",
        "outputId": "a3b6a65f-ac95-469e-cbab-696ba1455860",
        "colab": {
          "base_uri": "https://localhost:8080/",
          "height": 35
        }
      }
    },
    {
      "cell_type": "markdown",
      "source": [
        "<div class=\"alert alert-block alert-success\">\n",
        "<b>Frage 4.4.3:</b> Welchen Klassifizierungswert hat das kleinste Lama? (führen Sie die Zelle oben aus und ändern Sie <code>new_neck_height</code>)  \n",
        "</div>\n",
        "\n",
        "<div class=\"alert alert-block alert-success\">\n",
        "<b>Ihre Antwort:</b></div>\n"
      ],
      "metadata": {
        "id": "2kFn3-y-4Ovp"
      }
    },
    {
      "cell_type": "markdown",
      "source": [
        "<div class=\"alert alert-block alert-success\">\n",
        "<b>Frage 4.4.4:</b> Welchen Klassifizierungswert hat ein Tier mit einer Halshöhe von 0,1m?\n",
        "</div>\n",
        "\n",
        "<div class=\"alert alert-block alert-success\">\n",
        "<b>Ihre Antwort:</b></div>\n"
      ],
      "metadata": {
        "id": "v6wb-unY4Ovp"
      }
    },
    {
      "cell_type": "markdown",
      "source": [
        "<div class=\"alert alert-block alert-success\">\n",
        "<b>Frage 4.4.5:</b> Welchen Klassifizierungswert hat ein Tier mit einer Halshöhe von 0,9 m?\n",
        "</div>\n",
        "\n",
        "<div class=\"alert alert-block alert-success\">\n",
        "<b>Ihre Antwort:</b></div>\n"
      ],
      "metadata": {
        "id": "AH8VkuQ04Ovp"
      }
    },
    {
      "cell_type": "markdown",
      "source": [
        "<div class=\"alert alert-block alert-success\">\n",
        "<b>Frage 4.4.6:</b> Warum ist der Klassifikationswert kontinuierlich, obwohl die Trainingsdaten nur zwei diskrete Werte hatten?\n",
        "</div>\n",
        "\n",
        "<div class=\"alert alert-block alert-success\">\n",
        "<b>Ihre Antwort:</b></div>\n"
      ],
      "metadata": {
        "id": "T0-Hj7E84Ovp"
      }
    },
    {
      "cell_type": "markdown",
      "source": [
        "<div class=\"alert alert-block alert-success\">\n",
        "<b>Frage 4.4.7:</b> Wie würden Sie diesen kontinuierlichen Klassifikationswert interpretieren? Versuchen Sie, ihn in wenigen Worten zu beschreiben, es gibt mehrere richtige Antworten.\n",
        "</div>\n",
        "\n",
        "<div class=\"alert alert-block alert-success\">\n",
        "<b>Ihre Antwort:</b></div>\n"
      ],
      "metadata": {
        "id": "WtFLFep14Ovp"
      }
    },
    {
      "cell_type": "markdown",
      "source": [
        "<div class=\"alert alert-block alert-success\">\n",
        "<b>Frage 4.4.8:</b> Ihr Neuron gibt einen kontinuierlichen Wert aus, aber wir brauchen eine diskrete Ausgabe, die eindeutig entweder \"Lama\" oder \"Schaf\" vorhersagt. Um das zu erreichen, fügen Sie der Ausgabe des Neurons eine einfache Entscheidung hinzu. Die Entscheidung sollte ungefähr genauso empfindlich gegenüber Lamas wie gegenüber Schafen sein. Welche Neuronenausgabe (y-Wert) würden Sie als Schwellenwert wählen und warum? (mehrere  richtige Antworten)\n",
        "</div>\n",
        "\n",
        "<div class=\"alert alert-block alert-success\">\n",
        "<b>Ihre Antwort:</b></div>\n"
      ],
      "metadata": {
        "id": "QEAOjI2U4Ovp"
      }
    },
    {
      "cell_type": "markdown",
      "source": [
        "<div class=\"alert alert-block alert-success\">\n",
        "<b>Frage 4.4.9:</b> Sie möchten mehr Daten zu Ihrem Modell hinzufügen, um dessen Performanz zu verbessern. Während Sie mehr Daten sammeln, finden Sie ein kleines Lama mit einer Halshöhe von 0,40 m in Ihrem Datensatz. Nachdem Sie Ihr Modell auf den neuen Daten trainiert haben, entscheidet Ihr diskreter Klassifikator, dass dieses kleine Lama ein Schaf ist. (Zur Erinnerung: die Entscheidung am Ende erhält nur den y-Wert). Warum ist es in diesem Fall problematisch, ein <b>lineares</b> Regressionsmodell für die diskrete Klassifikation zu verwenden? Welche Eigenschaft der Näherungsfunktion sollte anders sein?\n",
        "</div>\n",
        "\n",
        "<div class=\"alert alert-block alert-success\">\n",
        "<b>Ihre Antwort:</b></div>\n"
      ],
      "metadata": {
        "id": "Y7zvrEmx4Ovp"
      }
    },
    {
      "cell_type": "markdown",
      "source": [
        "<div class=\"alert alert-block alert-success\">\n",
        "<b>Frage 4.4.10:</b> Sie entscheiden, dass das manuelle Hinzufügen einer diskreten Entscheidung am Ende Ihres Netzes eine unpraktische Idee ist. Es wäre besser, das lineare Neuron zu verbessern, indem man eine Heaviside-Step-Funktion als Aktivierungsfunktion hinzufügt, so wie man eine ReLu-Funktion hinzufügt. Dann könnte das Training automatisiert werden und die richtige Schwelle automatisch gefunden werden. Was ist das Problem bei diesem Ansatz, wenn wir weiterhin den Backpropagation-Algorithmus verwenden wollen?\n",
        "</div>\n",
        "\n",
        "<div class=\"alert alert-block alert-success\">\n",
        "<b>Ihre Antwort:</b>\n",
        "</div>"
      ],
      "metadata": {
        "id": "szSCwPmf4Ovp"
      }
    },
    {
      "cell_type": "markdown",
      "source": [
        "***\n",
        "### Logistische Regression\n",
        "\n",
        "Beim maschinellen Lernen ist die logistische Verteilung eine gängige Annahme für eine unbekannte Zwei-Klassen-Wahrscheinlichkeitsverteilung.[2]\n",
        "Ihre kumulierte Funktion ist die logistische Funktion, von der die Sigmoidfunktion der am häufigsten verwendete Spezialfall ist (siehe Abb. 3).\n",
        "Die Sigmoidfunktion ermöglicht es einem Modell, die meisten natürlich vorkommenden Wahrscheinlichkeitsverteilungen zu erfassen.[3] (Weiterführende Literatur: siehe Abschnitt \"Weiterführende Literatur\" am Ende des Dokuments)\n",
        "\n",
        "In der Einleitung zu Aufgabe 2.1 haben wir den Halslängen entsprechende Bezeichnungen gegeben. \"0\" für Schaf und \"1\" für Lama.\n",
        "Hier können wir die Ausgabe des Neurons als die \"Lama-Wahrscheinlichkeit\" interpretieren. Zum Beispiel: Ein Ausgang von 1 bedeutet \"100%\" Lama-Wahrscheinlichkeit und ein Ausgang von 0,2 bedeutet \"20%\" Lama-Wahrscheinlichkeit und so weiter.\n",
        "\n",
        "<img src=\"https://github.com/KI-Campus/AMALEA/blob/master/Woche%204/images/sigmoid.png?raw=1\" />\n",
        "<p style=\"text-align: center;\">\n",
        "    Abb. 3 - Sigmoid-Funktion\n",
        "</p>\n"
      ],
      "metadata": {
        "id": "co7W-hLn4Ovq"
      }
    },
    {
      "cell_type": "markdown",
      "source": [
        "Führen Sie die folgende Zelle aus, um eine Sigmoidfunktion zu definieren."
      ],
      "metadata": {
        "id": "MiiPfHNV4Ovq"
      }
    },
    {
      "cell_type": "code",
      "execution_count": 25,
      "source": [
        "# do not change\n",
        "def sigmoid(x:float)->float:\n",
        "    return 1 / (1 + np.exp(-x))"
      ],
      "outputs": [],
      "metadata": {
        "id": "WZzy8bru4Ovq"
      }
    },
    {
      "cell_type": "markdown",
      "source": [
        "<div class=\"alert alert-block alert-success\">\n",
        "<b>Aufgabe 4.4.11:</b> Vervollständigen Sie den Code und trainieren sie das Neuron. Modifizieren Sie die Klasse <code>SigmoidNeuron</code>, um eine Sigmoid-Funktion auf die endgültige Ausgabe anzuwenden.\n",
        "\n",
        "</div>"
      ],
      "metadata": {
        "id": "r6MOP-FQ4Ovq"
      }
    },
    {
      "cell_type": "code",
      "execution_count": 28,
      "source": [
        "class SigmoidNeuron(SimpleNeuron): #inheriting from SimpleNeuron,\n",
        "                                   #all functions stay the same unless they are specified here\n",
        "\n",
        "    def compute(self, x:float)->float:\n",
        "        # STUDENT CODE HERE\n",
        "        self.activation = sigmoid(np.dot(self.weight, x) + self.bias)\n",
        "\n",
        "        # STUDENT CODE until HERE\n",
        "        return self.activation"
      ],
      "outputs": [],
      "metadata": {
        "id": "dwWrd95b4Ovq"
      }
    },
    {
      "cell_type": "code",
      "execution_count": 29,
      "source": [
        "# do not change\n",
        "classification_plot_sig = Interactive2DPlot(points_llamas, points_sheep, ranges, loss_string=\"Mean Squared Loss\")\n",
        "\n",
        "our_sig_neuron = SigmoidNeuron(classification_plot_sig)\n",
        "\n",
        "interact(\n",
        "    our_sig_neuron.set_values,\n",
        "    weight=FloatSlider(min=-50, max=200, step=0.1, layout = slider_layout),\n",
        "    bias=FloatSlider(min=-50, max=50, step=0.1, layout = slider_layout),\n",
        ")\n",
        "\n",
        "classification_plot_sig.plot"
      ],
      "outputs": [
        {
          "output_type": "display_data",
          "data": {
            "text/plain": [
              "interactive(children=(FloatSlider(value=0.0, description='weight', layout=Layout(width='90%'), max=200.0, min=…"
            ],
            "application/vnd.jupyter.widget-view+json": {
              "version_major": 2,
              "version_minor": 0,
              "model_id": "3f29f8bc76824e2e9bd3bf855d65ce85"
            }
          },
          "metadata": {
            "application/vnd.jupyter.widget-view+json": {
              "colab": {
                "custom_widget_manager": {
                  "url": "https://ssl.gstatic.com/colaboratory-static/widgets/colab-cdn-widget-manager/2b70e893a8ba7c0f/manager.min.js"
                }
              }
            }
          }
        },
        {
          "output_type": "execute_result",
          "data": {
            "application/vnd.jupyter.widget-view+json": {
              "version_major": 2,
              "version_minor": 0,
              "model_id": "c710f1bf83d140499e9b7fadd6024f71"
            },
            "text/plain": [
              "FigureWidget({\n",
              "    'data': [{'type': 'scatter',\n",
              "              'uid': 'bef346e0-af67-4089-92a4-8d50931cafd2',\n",
              "              'x': array([-1.00000000e-01, -9.00000000e-02, -8.00000000e-02, -7.00000000e-02,\n",
              "                          -6.00000000e-02, -5.00000000e-02, -4.00000000e-02, -3.00000000e-02,\n",
              "                          -2.00000000e-02, -1.00000000e-02, -5.55111512e-17,  1.00000000e-02,\n",
              "                           2.00000000e-02,  3.00000000e-02,  4.00000000e-02,  5.00000000e-02,\n",
              "                           6.00000000e-02,  7.00000000e-02,  8.00000000e-02,  9.00000000e-02,\n",
              "                           1.00000000e-01,  1.10000000e-01,  1.20000000e-01,  1.30000000e-01,\n",
              "                           1.40000000e-01,  1.50000000e-01,  1.60000000e-01,  1.70000000e-01,\n",
              "                           1.80000000e-01,  1.90000000e-01,  2.00000000e-01,  2.10000000e-01,\n",
              "                           2.20000000e-01,  2.30000000e-01,  2.40000000e-01,  2.50000000e-01,\n",
              "                           2.60000000e-01,  2.70000000e-01,  2.80000000e-01,  2.90000000e-01,\n",
              "                           3.00000000e-01,  3.10000000e-01,  3.20000000e-01,  3.30000000e-01,\n",
              "                           3.40000000e-01,  3.50000000e-01,  3.60000000e-01,  3.70000000e-01,\n",
              "                           3.80000000e-01,  3.90000000e-01,  4.00000000e-01,  4.10000000e-01,\n",
              "                           4.20000000e-01,  4.30000000e-01,  4.40000000e-01,  4.50000000e-01,\n",
              "                           4.60000000e-01,  4.70000000e-01,  4.80000000e-01,  4.90000000e-01,\n",
              "                           5.00000000e-01,  5.10000000e-01,  5.20000000e-01,  5.30000000e-01,\n",
              "                           5.40000000e-01,  5.50000000e-01,  5.60000000e-01,  5.70000000e-01,\n",
              "                           5.80000000e-01,  5.90000000e-01,  6.00000000e-01,  6.10000000e-01,\n",
              "                           6.20000000e-01,  6.30000000e-01,  6.40000000e-01,  6.50000000e-01,\n",
              "                           6.60000000e-01,  6.70000000e-01,  6.80000000e-01,  6.90000000e-01,\n",
              "                           7.00000000e-01,  7.10000000e-01,  7.20000000e-01,  7.30000000e-01,\n",
              "                           7.40000000e-01,  7.50000000e-01,  7.60000000e-01,  7.70000000e-01,\n",
              "                           7.80000000e-01,  7.90000000e-01,  8.00000000e-01,  8.10000000e-01,\n",
              "                           8.20000000e-01,  8.30000000e-01,  8.40000000e-01,  8.50000000e-01,\n",
              "                           8.60000000e-01,  8.70000000e-01,  8.80000000e-01,  8.90000000e-01,\n",
              "                           9.00000000e-01,  9.10000000e-01,  9.20000000e-01,  9.30000000e-01,\n",
              "                           9.40000000e-01,  9.50000000e-01,  9.60000000e-01,  9.70000000e-01,\n",
              "                           9.80000000e-01,  9.90000000e-01,  1.00000000e+00,  1.01000000e+00,\n",
              "                           1.02000000e+00,  1.03000000e+00,  1.04000000e+00,  1.05000000e+00,\n",
              "                           1.06000000e+00,  1.07000000e+00,  1.08000000e+00,  1.09000000e+00,\n",
              "                           1.10000000e+00,  1.11000000e+00,  1.12000000e+00,  1.13000000e+00,\n",
              "                           1.14000000e+00,  1.15000000e+00,  1.16000000e+00,  1.17000000e+00,\n",
              "                           1.18000000e+00,  1.19000000e+00,  1.20000000e+00,  1.21000000e+00,\n",
              "                           1.22000000e+00,  1.23000000e+00,  1.24000000e+00]),\n",
              "              'y': array([-5.0000000e-01, -4.9000000e-01, -4.8000000e-01, -4.7000000e-01,\n",
              "                          -4.6000000e-01, -4.5000000e-01, -4.4000000e-01, -4.3000000e-01,\n",
              "                          -4.2000000e-01, -4.1000000e-01, -4.0000000e-01, -3.9000000e-01,\n",
              "                          -3.8000000e-01, -3.7000000e-01, -3.6000000e-01, -3.5000000e-01,\n",
              "                          -3.4000000e-01, -3.3000000e-01, -3.2000000e-01, -3.1000000e-01,\n",
              "                          -3.0000000e-01, -2.9000000e-01, -2.8000000e-01, -2.7000000e-01,\n",
              "                          -2.6000000e-01, -2.5000000e-01, -2.4000000e-01, -2.3000000e-01,\n",
              "                          -2.2000000e-01, -2.1000000e-01, -2.0000000e-01, -1.9000000e-01,\n",
              "                          -1.8000000e-01, -1.7000000e-01, -1.6000000e-01, -1.5000000e-01,\n",
              "                          -1.4000000e-01, -1.3000000e-01, -1.2000000e-01, -1.1000000e-01,\n",
              "                          -1.0000000e-01, -9.0000000e-02, -8.0000000e-02, -7.0000000e-02,\n",
              "                          -6.0000000e-02, -5.0000000e-02, -4.0000000e-02, -3.0000000e-02,\n",
              "                          -2.0000000e-02, -1.0000000e-02,  4.4408921e-16,  1.0000000e-02,\n",
              "                           2.0000000e-02,  3.0000000e-02,  4.0000000e-02,  5.0000000e-02,\n",
              "                           6.0000000e-02,  7.0000000e-02,  8.0000000e-02,  9.0000000e-02,\n",
              "                           1.0000000e-01,  1.1000000e-01,  1.2000000e-01,  1.3000000e-01,\n",
              "                           1.4000000e-01,  1.5000000e-01,  1.6000000e-01,  1.7000000e-01,\n",
              "                           1.8000000e-01,  1.9000000e-01,  2.0000000e-01,  2.1000000e-01,\n",
              "                           2.2000000e-01,  2.3000000e-01,  2.4000000e-01,  2.5000000e-01,\n",
              "                           2.6000000e-01,  2.7000000e-01,  2.8000000e-01,  2.9000000e-01,\n",
              "                           3.0000000e-01,  3.1000000e-01,  3.2000000e-01,  3.3000000e-01,\n",
              "                           3.4000000e-01,  3.5000000e-01,  3.6000000e-01,  3.7000000e-01,\n",
              "                           3.8000000e-01,  3.9000000e-01,  4.0000000e-01,  4.1000000e-01,\n",
              "                           4.2000000e-01,  4.3000000e-01,  4.4000000e-01,  4.5000000e-01,\n",
              "                           4.6000000e-01,  4.7000000e-01,  4.8000000e-01,  4.9000000e-01,\n",
              "                           5.0000000e-01,  5.1000000e-01,  5.2000000e-01,  5.3000000e-01,\n",
              "                           5.4000000e-01,  5.5000000e-01,  5.6000000e-01,  5.7000000e-01,\n",
              "                           5.8000000e-01,  5.9000000e-01,  6.0000000e-01,  6.1000000e-01,\n",
              "                           6.2000000e-01,  6.3000000e-01,  6.4000000e-01,  6.5000000e-01,\n",
              "                           6.6000000e-01,  6.7000000e-01,  6.8000000e-01,  6.9000000e-01,\n",
              "                           7.0000000e-01,  7.1000000e-01,  7.2000000e-01,  7.3000000e-01,\n",
              "                           7.4000000e-01,  7.5000000e-01,  7.6000000e-01,  7.7000000e-01,\n",
              "                           7.8000000e-01,  7.9000000e-01,  8.0000000e-01,  8.1000000e-01,\n",
              "                           8.2000000e-01,  8.3000000e-01,  8.4000000e-01,  8.5000000e-01,\n",
              "                           8.6000000e-01,  8.7000000e-01,  8.8000000e-01,  8.9000000e-01,\n",
              "                           9.0000000e-01,  9.1000000e-01,  9.2000000e-01,  9.3000000e-01,\n",
              "                           9.4000000e-01,  9.5000000e-01,  9.6000000e-01,  9.7000000e-01,\n",
              "                           9.8000000e-01,  9.9000000e-01,  1.0000000e+00,  1.0100000e+00,\n",
              "                           1.0200000e+00,  1.0300000e+00,  1.0400000e+00,  1.0500000e+00,\n",
              "                           1.0600000e+00,  1.0700000e+00,  1.0800000e+00,  1.0900000e+00,\n",
              "                           1.1000000e+00,  1.1100000e+00,  1.1200000e+00,  1.1300000e+00,\n",
              "                           1.1400000e+00,  1.1500000e+00,  1.1600000e+00,  1.1700000e+00,\n",
              "                           1.1800000e+00,  1.1900000e+00,  1.2000000e+00,  1.2100000e+00,\n",
              "                           1.2200000e+00,  1.2300000e+00,  1.2400000e+00,  1.2500000e+00,\n",
              "                           1.2600000e+00,  1.2700000e+00,  1.2800000e+00,  1.2900000e+00,\n",
              "                           1.3000000e+00,  1.3100000e+00,  1.3200000e+00,  1.3300000e+00,\n",
              "                           1.3400000e+00,  1.3500000e+00,  1.3600000e+00,  1.3700000e+00,\n",
              "                           1.3800000e+00,  1.3900000e+00])},\n",
              "             {'marker': {'color': 'rgb(255, 0, 0)', 'size': 10},\n",
              "              'mode': 'markers',\n",
              "              'type': 'scatter',\n",
              "              'uid': '3f5836f2-c4dd-4a34-b58c-820b911b64ec',\n",
              "              'x': [0.55, 0.68, 0.74, 0.83, 0.95],\n",
              "              'y': [1, 1, 1, 1, 1]},\n",
              "             {'marker': {'color': 'rgb(0, 0, 255)', 'size': 10, 'symbol': 'square'},\n",
              "              'mode': 'markers',\n",
              "              'type': 'scatter',\n",
              "              'uid': 'dbd941e3-fd33-4472-8a5e-9097b2d37cef',\n",
              "              'x': [0.2, 0.23, 0.28, 0.32, 0.35],\n",
              "              'y': [0, 0, 0, 0, 0]},\n",
              "             {'marker': {'color': 'rgb(0,0,0)', 'size': 20, 'symbol': 'star'},\n",
              "              'mode': 'markers',\n",
              "              'type': 'scatter',\n",
              "              'uid': 'c040cc5e-137b-4306-87bd-a4675cc96000',\n",
              "              'x': [],\n",
              "              'y': []}],\n",
              "    'layout': {'height': 400,\n",
              "               'margin': {'l': 170, 't': 0},\n",
              "               'showlegend': False,\n",
              "               'template': '...',\n",
              "               'width': 800,\n",
              "               'xaxis': {'range': [-0.1, 1.25], 'title': {'text': 'Neck height in m'}},\n",
              "               'yaxis': {'range': [-0.5, 1.4], 'title': {'text': 'y'}}}\n",
              "})"
            ]
          },
          "metadata": {},
          "execution_count": 29
        }
      ],
      "metadata": {
        "id": "DGKtvjM74Ovq",
        "outputId": "6d81f87b-9d0f-4047-e47f-20556b75023d",
        "colab": {
          "base_uri": "https://localhost:8080/",
          "height": 99,
          "referenced_widgets": [
            "3f29f8bc76824e2e9bd3bf855d65ce85",
            "022404a18dd54a0faa8d505afffb27be",
            "cb8a3225416746e495ed67df6b031576",
            "f1c79559f6b043928c5f39ddd135940b",
            "730fff5427cb4ea48d6dbaaeeaa8e3c2",
            "1af09f63b3ab4e75abbc7925b65a8c24",
            "ebae6c0de98248c2be392ec896204b0e",
            "86da3bd1e2dd46e591f16fb450f2eb32",
            "a1453395c5214b0d9bddc4ddbeb15a17",
            "c710f1bf83d140499e9b7fadd6024f71"
          ]
        }
      }
    },
    {
      "cell_type": "markdown",
      "source": [
        "<div class=\"alert alert-block alert-success\">\n",
        "<b>Frage 4.4.12:</b> Nennen Sie ein Beispiel für eine optimale Kombination aus Gewicht und Bias\n",
        "</div>\n",
        "\n",
        "<div class=\"alert lock alert-success\">\n",
        "<b>Ihre Antwort:</b></div>\n"
      ],
      "metadata": {
        "id": "l0-7EKen4Ovq"
      }
    },
    {
      "cell_type": "markdown",
      "source": [
        "<div class=\"alert alert-block alert-success\">\n",
        "<b>Frage 4.4.13:</b> Welchen Vorteil hat ein Klassifikator, der auch eine Wahrscheinlichkeit ausgibt, im Vergleich zu einem Klassifikator, der nur einen binären Ja/Nein-Wert ausgibt? (ein paar Worte)\n",
        "</div>\n",
        "\n",
        "<div class=\"alert alert-block alert-success\">\n",
        "<b>Ihre Antwort:</b></div>\n"
      ],
      "metadata": {
        "id": "0EjsXlup4Ovq"
      }
    },
    {
      "cell_type": "markdown",
      "source": [
        "<div class=\"alert alert-block alert-success\">\n",
        "<b>Frage 4.4.14:</b> Nennen Sie ein Beispiel, wie wir die zusätzlichen Wahrscheinlichkeitsinformationen nutzen können, um die Genauigkeit unseres Trennungsprozesses zu erhöhen\n",
        "</div>\n",
        "\n",
        "<div class=\"alert alert-block alert-success\">\n",
        "<b>Ihre Antwort:</b></div>\n"
      ],
      "metadata": {
        "id": "U2PlXJgM4Ovr"
      }
    },
    {
      "cell_type": "markdown",
      "source": [
        "### Kreuzentropie/Logarithmischer Verlust (engl.  Cross Entropy/Logarithmic Loss):\n",
        "Die gängigste Verlustfunktion für die Klassifizierung ist der Kreuzentropieverlust, auch logarithmischer Verlust genannt (im Kontext des maschinellen Lernens bezeichnen beide Begriffe das gängigste Gleiche). Im Spezialfall von zwei Kategorien wird der Verlust als binäre Kreuzentropie bezeichnet. Der binäre Kreuzentropieverlust zwischen einem tatsächlichen Datenwert $y$ und einem vorhergesagten Wert $p$ wird wie folgt berechnet:\n",
        "\n",
        "\\begin{align}\n",
        "-[y \\cdot log(p)+(1-y)\\cdot log(1-p)]\n",
        "\\end{align}\n",
        "\n",
        "Auf diese Weise wird der Durchschnitt aller Datenpunkte unter Berücksichtigung dieses Verlustes berechnet.\n",
        "Es stellt sich heraus, dass die Ableitung eines logarithmischen Verlustes unter Verwendung einer \"One-Hot Kodierung\" (unten erklärt) einfach der Lösungsvektor subtrahiert von der Netzwerkausgabe ist, was die Arbeit damit sehr einfach macht.\n",
        "**Hinweis:** Der Kreuzentropieverlust kann nur verwendet werden, wenn die Ausgabewerte zwischen 0 und 1 liegen.\n",
        "\n",
        "<img src=\"https://github.com/KI-Campus/AMALEA/blob/master/Woche%204/images/cross_entropy.png?raw=1\" />\n",
        "<p style=\"text-align: center;\">\n",
        "        Abb. 4 - Logarithmische / Kreuzentropie-Verlustfunktion\n",
        "\n",
        "</p>"
      ],
      "metadata": {
        "id": "s_kjYs4V4Ovr"
      }
    },
    {
      "cell_type": "markdown",
      "source": [
        "<div class=\"alert alert-block alert-success\">\n",
        "<b>Aufgabe 4.4.15:</b> Berechnen Sie den quadratischen und den Kreuz-Entropieverlust. Kopieren Sie die Tabelle und füllen Sie das ??? als Antwort unten aus (Markdown ist gut geeignet, um die Tabelle darzustellen). Verwenden Sie die Zellen unten für die Berechnungen.\n",
        "\n",
        "</div>"
      ],
      "metadata": {
        "id": "y0L8pY6s4Ovr"
      }
    },
    {
      "cell_type": "markdown",
      "source": [
        "\n",
        "| Eingabe | Lama-Wahrscheinlichkeit | Quadratischer Verlust | Kreuzentropieverlust |\n",
        "|---------------|--------------------|----------------------|----------------------|\n",
        "| Lama(1) | 0.99 |??????                |????                  |\n",
        "| Schafe(0) | 0.6 |????                  |????                  |\n",
        "| sheep(0) | 0.95 |??????                |????                  |\n",
        "| sheep(0) | 0.999999 |????????              |?????                 |\n",
        "\n",
        "<div class=\"alert alert-block alert-success\">\n",
        "<b>Ihre Antwort:</b></div>\n",
        "\n",
        "\n",
        "\n",
        "\n",
        "\n",
        "\n",
        "\n"
      ],
      "metadata": {
        "id": "ky8pbcQJ4Ovr"
      }
    },
    {
      "cell_type": "code",
      "execution_count": 30,
      "source": [
        "# do not change\n",
        "def cross_entropy_loss(predictions:list, solutions:list) -> float:\n",
        "    predictions += 1e-15 #in order to prevent log(0)\n",
        "    total_loss = np.sum(-(solutions*np.log(predictions)+(1-solutions)*np.log(1-predictions)))\n",
        "    avg_loss = total_loss/len(predictions)\n",
        "    return avg_loss"
      ],
      "outputs": [],
      "metadata": {
        "id": "8vrObKXP4Ov1"
      }
    },
    {
      "cell_type": "code",
      "execution_count": 31,
      "source": [
        "predicted = np.array([0.1]) #insert here\n",
        "actual = np.array([0.1]) #insert here\n",
        "\n",
        "\n",
        "print(\"mean squared loss: {:0.4f}\".format(mean_squared_loss(predicted,actual)))\n",
        "print(\"cross entropy loss: {:0.4f}\".format(cross_entropy_loss(predicted,actual)))"
      ],
      "outputs": [
        {
          "output_type": "stream",
          "name": "stdout",
          "text": [
            "mean squared loss: 0.0000\n",
            "cross entropy loss: 0.3251\n"
          ]
        }
      ],
      "metadata": {
        "id": "Ods0YnYE4Ov1",
        "outputId": "b1b55fef-2cd5-4be4-c837-da500c4a0da0",
        "colab": {
          "base_uri": "https://localhost:8080/"
        }
      }
    },
    {
      "cell_type": "markdown",
      "source": [
        "<div class=\"alert alert-block alert-success\">\n",
        "<b>Frage 4.4.16:</b> Wie unterscheiden sich die Ziele von Regression und Klassifikation generell?\n",
        "</div>\n",
        "\n",
        "<div class=\"alert block alert-success\">\n",
        "<b>Ihre Antwort:</b>\n",
        "</div>"
      ],
      "metadata": {
        "id": "dgQ99AC_4Ov1"
      }
    },
    {
      "cell_type": "markdown",
      "source": [
        "<div class=\"alert alert-block alert-success\">\n",
        "<b>Frage 4.4.17:</b> Was meinen Sie: Warum ist der Cross-Entropie-Verlust besser für Trainingsalgorithmen zur Klassifizierung geeignet?\n",
        "</div>\n",
        "\n",
        "<div class=\"alert alert-block alert-success\">\n",
        "<b>Ihre Antwort:</b></div>\n"
      ],
      "metadata": {
        "id": "UgHbbcSf4Ov1"
      }
    },
    {
      "cell_type": "markdown",
      "source": [
        "### One-Hot-Kodierung\n",
        "Um eine Klassifizierung durchzuführen, müssen Kategorien in einer Weise dargestellt werden, die der Klassifikator verarbeiten kann. Neuronale Netze können Kategorien nicht direkt verstehen und benötigen eine numerische Darstellung.\n",
        "\n",
        "#### Nachteile der Integer-Kodierung\n",
        "\n",
        "Im Lama-Klassifikator wurde Lamas der Wert $1$ und Schafen der Wert $0$ zugewiesen. Ein einzelnes Ausgangsneuron würde \"feuern\", wenn ein Lama gefunden wurde, und nicht feuern, wenn ein Schaf gefunden wurde. Diese Art der Darstellung von Kategorien wird **ganzzahlige** (engl. integer) oder **Label-Kodierung** genannt.\n",
        "\n",
        "Für die binäre Klassifikation funktioniert das recht gut, aber was ist, wenn wir zwischen Schafen, Lamas und Schäferhunden unterscheiden wollen?\n",
        "Dies mit nur einem Ausgangsneuron zu tun, würde zu Komplikationen führen:\n",
        "- Hunde bräuchten ein Label, das numerisch höher oder niedriger ist (z.B. $2$), was eine Ordnung impliziert (Hunde > Lamas), wo es eigentlich keine gibt.\n",
        "- man müsste aus einem Wert des Ausgangsneurons drei verschiedene Zustände interpretieren\n",
        "\n",
        "Ein weiterer Nachteil ist in der nächsten Frage zu sehen:"
      ],
      "metadata": {
        "id": "2BpwNhqQ4Ov2"
      }
    },
    {
      "cell_type": "markdown",
      "source": [
        "<div class=\"alert alert-block alert-success\">\n",
        "<b>Frage 4.4.18:</b> Angenommen, die Kodierungen sind: 0 für Schafe, 1 für Lamas und 2 für Hunde. Sie haben heute 5 Schafe und 5 Hunde klassifiziert. Sie möchten, dass Ihr Klassifikator die durchschnittliche Klassifikation für heute ausgibt. Was wird der Klassifikator ausgeben?\n",
        "</div>\n",
        "\n",
        "<div class=\"alert alert-block alert-success\">\n",
        "<b>Ihre Antwort:</b></div>\n"
      ],
      "metadata": {
        "id": "hp58JCqG4Ov2"
      }
    },
    {
      "cell_type": "markdown",
      "source": [
        "#### Zusammensetzung der One-Hot-Kodierung\n",
        "\n",
        "Die Lösung für die Mängel der Integer-Kodierung sieht wie folgt aus:\n",
        "\n",
        "| Eingabe | One-Hot-Encoding |\n",
        "|---------------|--------------------|\n",
        "| Schaf | [1,0,0] |\n",
        "| Lama | [0,1,0] |\n",
        "| Hund | [0,0,1] |\n",
        "\n",
        "\n",
        "\n",
        "Die Länge des Repräsentationsvektors ist immer gleich der Anzahl der Kategorien. Für jede Kategorie ist nur ein Element des Vektors 1 (\"one-hot\").\n",
        "Mit dieser Kodierung können wir bequem 3 Ausgangsneuronen für 3 verschiedene Kategorien verwenden, so dass die Aktivierung jedes Ausgangsneurons den Klassifikationswert für diese Kategorie repräsentiert.\n",
        "\n",
        "#### Grenzen der One-Hot-Kodierung\n",
        "Die One-Hot-Kodierung ist keine unverbesserliche Lösung zur Darstellung von Kategorien, sondern eher ein weiteres Werkzeug in unserer Toolbox, das zufällig für viele Probleme gut funktioniert, aber nicht für alle."
      ],
      "metadata": {
        "id": "nnMpoBmM4Ov2"
      }
    },
    {
      "cell_type": "markdown",
      "source": [
        "<div class=\"alert alert-block alert-success\">\n",
        "<b>Frage 4.4.19:</b> Angenommen, Sie möchten ein neuronales Netzwerk zur Spracherkennung trainieren, das alle im Oxford English Dictionary enthaltenen englischen Wörter klassifizieren kann. Es muss nicht ganze Sätze klassifizieren, sondern nur einzelne Wörter. Was wäre ein Problem bei der Verwendung von One-Hot-Kodierung?\n",
        "</div>\n",
        "\n",
        "<div class=\"alert alert-block alert-success\">\n",
        "<b>Ihre Antwort:</b></div>\n"
      ],
      "metadata": {
        "id": "Vky1sR524Ov3"
      }
    },
    {
      "cell_type": "markdown",
      "source": [
        "### Softmax-Aktivierungsfunktion\n",
        "\n",
        "Die Sigmoid-Funktion funktioniert gut für ein \"Ja oder Nein\"-Problem, d. h. für binäre Entscheidungen. Meistens wollen wir aber zwischen mehr als zwei Kategorien unterscheiden. Dafür brauchen wir eine Funktion, die **mehrere** Neuronenaktivierungen aus der letzten Schicht eines Netzes aufnimmt und einen **Wahrscheinlichkeitsvektor** ausgibt, der die Wahrscheinlichkeiten für jede Kategorie enthält.\n",
        "\n",
        "Der Trick: **Jeder Eingang** dieser Funktion wird durch die anderen Eingänge **normalisiert**, so dass die Summe des Ausgangsvektors immer 1 ist. Diese Aktivierungsfunktion unterscheidet sich von ReLU oder Sigmoid, da sie immer für die gesamte Schicht gilt. In der Praxis ist sie nur als Aktivierungsfunktion für die Ausgabeschicht sinnvoll.  Abbildung 3 zeigt ein Beispielnetz.\n",
        "\n",
        "Wir können eine Softmax-Aktivierungsfunktion realisieren, indem wir jedes Element $x_i$ des Eingangsvektors nehmen, $exp(x_i)$ berechnen und diesen Wert dann normalisieren, indem wir ihn durch die Summe der $exp$-Ergebnisse aller einzelnen Elemente des Eingangsvektors dividieren. Streng genommen ist das $exp$ für diesen Effekt nicht notwendig, eine lineare Normalisierung, beschränkt auf nicht-negative Werte, könnte auch als Wahrscheinlichkeit interpretiert werden. Allerdings bietet die exponentielle Normalisierung Eigenschaften, die die Performanz verbessern (siehe \"Weiterführende Literatur\").\n",
        "\n",
        "\\begin{align}\n",
        "\\phi_{\\text{Softmax}}(x_{i}) = \\frac{\\exp(x_i)}{\\sum_j \\exp(x_j)}\n",
        "\\end{align}\n",
        "\n",
        "\n",
        "<img src=\"https://github.com/KI-Campus/AMALEA/blob/master/Woche%204/images/softmax_example_network.png?raw=1\" />\n",
        "<p style=\"text-align: center;\">\n",
        "    Abb. 3 - Softmax-Aktivierungsfunktion\n",
        "</p>"
      ],
      "metadata": {
        "id": "RqQg8_Ff4Ov3"
      }
    },
    {
      "cell_type": "markdown",
      "source": [
        "<div class=\"alert alert-block alert-success\">\n",
        "<b>Frage 4.4.20:</b> In der \"logistischen Regression\" haben wir auch eine Wahrscheinlichkeit erhalten, indem wir eine Sigmoidfunktion auf die Ausgabe der letzten Schichten angewendet haben. Warum können wir nicht eine Sigmoid-Funktion auf jedes Ausgangsneuron dieses Netzes anstelle eines Softmax anwenden und einen Wahrscheinlichkeitsvektor erhalten?\n",
        "</div>\n",
        "\n",
        "<div class=\"alert block alert-success\">\n",
        "<b>Ihre Antwort:</b>\n",
        "</div>"
      ],
      "metadata": {
        "id": "XJ6EreBE4Ov3"
      }
    },
    {
      "cell_type": "markdown",
      "source": [
        "***\n",
        "## Automatisiertes Klassifizierungstraining\n",
        "\n",
        "### Einleitung\n",
        "\n",
        "Wir haben uns bereits im letzten Kapitel mit dem automatisierten Training mittels Backpropagation beschäftigt. Wir hatten einen Satz von Punkten, an die wir eine Funktion so gut wie möglich anpassen mussten. Beim Klassifikationstraining ist die Aufgabe ähnlich. Doch statt y-Koordinaten für Punkte haben wir nun diskrete Kategorien.\n",
        "\n",
        "Sie haben bereits einen Satz von Halslängen und die dazugehörigen Kategorien (siehe Tabelle 1). Im Bereich des maschinellen Lernens wird dieser Datensatz __Trainingsdaten__ genannt. Er spezifiziert das Verhalten, das das neuronale Netz haben soll. Wir werden Backpropagation verwenden, um die Gewichte und Verzerrungen des Netzes immer wieder anzupassen, bis das Netz für einen gegebenen Satz von Eingaben die gleichen Werte ausgibt wie in den Trainingsdaten. Während der Backpropagation \"lernt\" das Netz im übertragenen Sinne die Trainingsdaten."
      ],
      "metadata": {
        "id": "LrBXzfw24Ov4"
      }
    },
    {
      "cell_type": "markdown",
      "source": [
        "***\n",
        "### Realisieren eines XOR-Gatter mit einem neuronalen Netz\n",
        "\n",
        "Sie arbeiten als Ingenieur bei einer großen Firma, die elektronische Komponenten herstellt. Ihre Firma möchte den ersten XOR-Gatter-Chip herstellen, der mit künstlicher Intelligenz arbeitet. Sie erhalten die Trainingsdaten in Form einer Wahrheitstabelle:\n",
        "\n",
        "\n",
        "| Eingang 1 | Eingang 2 | Ausgang |\n",
        "|--------|----------|-----------|\n",
        "| 0 | 0 |0 |\n",
        "| 0 | 1 |1 |\n",
        "| 1 | 0 |1 |\n",
        "| 1 | 1 |0 |\n",
        "\n",
        "\n",
        "<p style=\"text-align: center;\">\n",
        "    Tabelle. 2 - XOR-Wahrheitstabelle\n",
        "</p>\n",
        "\n",
        "\n",
        "In dieser Aufgabe werden wir Arrays und Matrizen verwenden, um den Umgang mit den Daten und den Netzwerkparametern zu erleichtern. Wir werden auch ein neuronales Netzwerk ohne Biases verwenden, um den Algorithmus so einfach wie möglich zu gestalten.\n",
        "Die Trainingsdaten bestehen aus einem 2D-Array mit allen möglichen Eingangszuständen und einem 1D-Array mit allen entsprechenden Ausgängen."
      ],
      "metadata": {
        "id": "TmiuWrVA4Ov4"
      }
    },
    {
      "cell_type": "markdown",
      "source": [
        "#### Aufgabe : Trainingsdaten erstellen\n",
        "\n",
        "Ein Trainingssatz besteht aus einem Eingabesatz und einem Lösungssatz. Beim überwachten Training wird das Netzwerk so lange angepasst, bis seine Vorhersagen für den Eingabesatz mit den entsprechenden vorgegebenen Lösungen übereinstimmen.\n",
        "Vervollständigen Sie die Trainingsdaten unten mithilfe der Wahrheitstabelle"
      ],
      "metadata": {
        "id": "pKf2hyqT4Ov4"
      }
    },
    {
      "cell_type": "markdown",
      "source": [
        "<div class=\"alert alert-block alert-success\">\n",
        "<b>Aufgabe 4.4.21:</b> Erstellen Sie die Trainingsdaten. Ein Trainingssatz besteht aus einem Eingabesatz und einem Lösungssatz. Beim überwachten Training wird das Netz so lange angepasst, bis seine Vorhersagen für den Eingabesatz mit den entsprechenden vorgegebenen Lösungen übereinstimmen (nicht immer, siehe: Overfitting, aber in diesem Fall). Vervollständigen Sie die untenstehenden Trainingsdaten unter Verwendung der obigen Groundtruth-Tabelle. Bitte initialisieren Sie auch den Lösungs-Array '2 dimensional'.\n",
        "\n",
        "</div>"
      ],
      "metadata": {
        "id": "Toqj-m374Ov5"
      }
    },
    {
      "cell_type": "code",
      "execution_count": 44,
      "source": [
        "#xor_input_set = np.array(tablegoeshere)\n",
        "#xor_solution_set = np.array(tablegoeshere)\n",
        "\n",
        "# STUDENT CODE HERE\n",
        "inputs = np.array([\n",
        "    [0, 0],\n",
        "    [0, 1],\n",
        "    [1, 0],\n",
        "    [1, 1]\n",
        "])\n",
        "\n",
        "# Ausgabedaten: 4 Zeilen, 1 Spalte (Ausgang ist 1-dimensional, aber hier 2D-Array für Konsistenz)\n",
        "outputs = np.array([\n",
        "    [0],\n",
        "    [1],\n",
        "    [1],\n",
        "    [0]\n",
        "])\n",
        "# STUDENT CODE until HERE\n"
      ],
      "outputs": [],
      "metadata": {
        "id": "qxjyElRT4Ov5"
      }
    },
    {
      "cell_type": "markdown",
      "source": [
        "#### Initialisieren des Netzwerks\n",
        "Als nächstes muss das Netzwerk definiert und initialisiert werden. Für diese Aufgabe verwenden wir ein Netz mit 3 versteckten Neuronen (siehe Abbildung 4).\n",
        "\n",
        "<img src=\"https://github.com/KI-Campus/AMALEA/blob/master/Woche%204/images/3x2_xor_network.png?raw=1\" />\n",
        "<p style=\"text-align: center;\">\n",
        "    Abb. 4 - Neuronales Netzwerk\n",
        "</p>\n",
        "\n",
        "Wir definieren $w_{01}, w_{02}, w_{03}, w_{10}, w_{11}, w_{12}$ auf einmal, indem wir einfach eine 2x3-Gewichtsmatrix $w_{l1}$ definieren und das gleiche für $w_{l2}$ tun. Die Matrizen werden mit Werten zwischen -1 und 1 initialisiert"
      ],
      "metadata": {
        "id": "n3oNW2f-4Ov5"
      }
    },
    {
      "cell_type": "markdown",
      "source": [
        "Führen Sie die untenstehende Zelle aus, um die neuronale Netzwerkklasse zu definieren, die oben abgebildet ist."
      ],
      "metadata": {
        "id": "7r2IusdB4Ov5"
      }
    },
    {
      "cell_type": "code",
      "execution_count": 45,
      "source": [
        "# do not change\n",
        "class NeuralNetwork:\n",
        "    def __init__(self):\n",
        "        self.hl_sum = [0, 0, 0]\n",
        "        self.hl_activation = [0, 0, 0]\n",
        "        self.ol_sum = [0]\n",
        "        self.prediction = 0\n",
        "        self.b = 0\n",
        "        self.w_i = np.zeros((2, 3))\n",
        "        self.w_o = np.zeros((3, 1))\n",
        "\n",
        "    def set_conf(self, w_i:float, w_o:float, b:float):  # w_i and w_o are matrices here\n",
        "        self.w_i = w_i\n",
        "        self.w_o = w_o\n",
        "        self.b = b\n",
        "\n",
        "    def get_conf(self)->dict:\n",
        "        configuration = dict();\n",
        "        configuration['w_i'] = self.w_i\n",
        "        configuration['w_o'] = self.w_o\n",
        "        configuration['b'] = self.b\n",
        "        return configuration\n",
        "\n",
        "    def get_ex(self)->dict:\n",
        "        excitations = dict();\n",
        "        excitations['hl_sum'] = self.hl_sum\n",
        "        excitations['hl_activation'] = self.hl_activation\n",
        "        excitations['ol_sum'] = self.ol_sum\n",
        "        return excitations\n",
        "\n",
        "\n",
        "    def show_conf(self):\n",
        "        print(\"weight matrix w_i:\")\n",
        "        print(self.w_i)\n",
        "        print(\"\\nweight matrix w_o:\")\n",
        "        print(self.w_o)\n",
        "        print(\"Bias\")\n",
        "        print(self.b)\n",
        "\n",
        "    def compute(self, input_set:np.array)->float:\n",
        "        self.hl_sum = input_set.dot(self.w_i)\n",
        "        self.hl_activation = relu(self.hl_sum)\n",
        "        self.ol_sum = relu(self.hl_activation).dot(self.w_o) + self.b\n",
        "        self.prediction = sigmoid(self.ol_sum)\n",
        "\n",
        "        return self.prediction"
      ],
      "outputs": [],
      "metadata": {
        "id": "BXKrTYhD4Ov5"
      }
    },
    {
      "cell_type": "code",
      "execution_count": 46,
      "source": [
        "# do not change\n",
        "logic_gate_net = NeuralNetwork()"
      ],
      "outputs": [],
      "metadata": {
        "id": "w9Pcr7dT4Ov6"
      }
    },
    {
      "cell_type": "code",
      "execution_count": 47,
      "source": [
        "# do not change\n",
        "def initialize_network(net:NeuralNetwork):\n",
        "    #np.random.seed(3)\n",
        "    weight_matrix_i = np.random.rand(2,3)  # a 2x3 matrix of weights\n",
        "    weight_matrix_o = np.random.rand(3,1)  # a 3x1 matrix of weights\n",
        "    bias = np.random.randn()\n",
        "    net.set_conf(weight_matrix_i,weight_matrix_o,bias)"
      ],
      "outputs": [],
      "metadata": {
        "id": "4XVSQ_rO4Ov6"
      }
    },
    {
      "cell_type": "code",
      "execution_count": 48,
      "source": [
        "# do not change\n",
        "initialize_network(logic_gate_net) #just a test initialization to illustrate the weight matrices\n",
        "logic_gate_net.show_conf()"
      ],
      "outputs": [
        {
          "output_type": "stream",
          "name": "stdout",
          "text": [
            "weight matrix w_i:\n",
            "[[0.14440104 0.3961311  0.00245241]\n",
            " [0.11186744 0.5708353  0.16318182]]\n",
            "\n",
            "weight matrix w_o:\n",
            "[[0.85031636]\n",
            " [0.19038445]\n",
            " [0.3777956 ]]\n",
            "Bias\n",
            "-0.04829199397204289\n"
          ]
        }
      ],
      "metadata": {
        "id": "XmbecwyD4Ov6",
        "outputId": "9db769cb-70a0-41dd-dec2-3a505c96614e",
        "colab": {
          "base_uri": "https://localhost:8080/"
        }
      }
    },
    {
      "cell_type": "markdown",
      "source": [
        "#### Definieren des Trainingsprozesses\n",
        "Führen Sie abschließend die folgenden Zellen aus, um einen Backpropagation-Algorithmus zu implementieren. Versuchen Sie, den Code zu verstehen. Siehe Abb. 4 zur Erklärung der Variablennamen."
      ],
      "metadata": {
        "id": "xrlUpDJ44Ov6"
      }
    },
    {
      "cell_type": "code",
      "execution_count": 49,
      "source": [
        "# do not change\n",
        "def sigmoid_prime(x:float)->float: #the derivative of sigmoid\n",
        "    return sigmoid(x)*(1-sigmoid(x))"
      ],
      "outputs": [],
      "metadata": {
        "id": "K47am2Yz4Ov6"
      }
    },
    {
      "cell_type": "code",
      "execution_count": 50,
      "source": [
        "# do not change\n",
        "def train(net:NeuralNetwork, input_set:np.array, solution_set:np.array, learning_rate:float, epochs:int):\n",
        "    for t in range(epochs):\n",
        "        # Forward pass: compute predicted solution_set\n",
        "        predictions = net.compute(input_set)\n",
        "        # Compute and print loss\n",
        "        log_loss = cross_entropy_loss(predictions, solution_set)\n",
        "\n",
        "        if (t % 5 == 0):  # only output every 5th epoch\n",
        "            print(\"Loss after Epoch {}: {:0.4f}\".format(t, log_loss))\n",
        "\n",
        "        #unravel variables here for readability\n",
        "        ol_sum = net.get_ex()['ol_sum']\n",
        "        hl_activation = net.get_ex()['hl_activation']\n",
        "        hl_sum = net.get_ex()['hl_sum']\n",
        "        w_i = net.get_conf()['w_i']\n",
        "        w_o = net.get_conf()['w_o']\n",
        "        b = net.get_conf()['b']\n",
        "\n",
        "        # Backpropagation to compute gradients of w_i and w_o with respect to loss\n",
        "        # start from the loss at the end and then work towards the front\n",
        "        grad_ol_sum = sigmoid_prime(ol_sum) * (predictions - xor_solution_set)\n",
        "        grad_w_o = hl_activation.T.dot(grad_ol_sum)  # Gradient of Loss with respect to w_o\n",
        "        grad_hl_activation = grad_ol_sum.dot(w_o.T)  # the second layer's error\n",
        "        grad_hl_sum = hl_sum.copy()  # create a copy to work with\n",
        "        grad_hl_sum[hl_sum < 0] = 0  # the derivate of ReLU\n",
        "        grad_w_i = input_set.T.dot(grad_hl_sum * grad_hl_activation)  #\n",
        "\n",
        "        updated_weight_matrix_i = w_i - learning_rate * grad_w_i\n",
        "        updated_weight_matrix_o = w_o - learning_rate * grad_w_o\n",
        "        updated_bias = b - learning_rate * grad_ol_sum.sum()\n",
        "        net.set_conf(updated_weight_matrix_i, updated_weight_matrix_o,\n",
        "                       updated_bias)  # Apply updated weights to network"
      ],
      "outputs": [],
      "metadata": {
        "id": "LAHsPPJ14Ov6"
      }
    },
    {
      "cell_type": "markdown",
      "source": [
        "<div class=\"alert alert-block alert-success\">\n",
        "<b>Aufgabe 4.4.22:</b> Hyperparameter auswählen und trainieren\n",
        "<ul>\n",
        "<li> Wählen Sie eine optimale Lernrate und Anzahl der Epochen, indem Sie verschiedene Werte ausprobieren und die Zelle unten ausführen.\n",
        "<li> Wenn Ihre Trainingsdaten korrekt waren, sollte das Netz nach dem Training einsatzbereit sein.\n",
        "Ein erfolgreiches Training sollte zu einem Verlust kleiner als 0,02 führen.\n",
        "                                                     \n",
        "<li><b>Tipp:</b> Drücken Sie Umschalt+Eingabe auf der Zelle unten und dann die Pfeiltaste \"nach oben\", um das Training einfach zu wiederholen.\n",
        "\n",
        "</ul>\n",
        "</div>"
      ],
      "metadata": {
        "id": "AJ1hspPd4Ov6"
      }
    },
    {
      "cell_type": "code",
      "execution_count": 61,
      "source": [
        "learning_rate = 10\n",
        "epochs = 1000\n",
        "# STUDENT CODE HERE\n",
        "xor_input_set = np.array([\n",
        "    [0, 0],\n",
        "    [0, 1],\n",
        "    [1, 0],\n",
        "    [1, 1]\n",
        "])\n",
        "\n",
        "# Ausgabedaten: 4 Zeilen, 1 Spalte (Ausgang ist 1-dimensional, aber hier 2D-Array für Konsistenz)\n",
        "xor_solution_set = np.array([\n",
        "    [0],\n",
        "    [1],\n",
        "    [1],\n",
        "    [0]\n",
        "])\n",
        "# STUDENT CODE until HERE\n",
        "\n",
        "initialize_network(logic_gate_net) #initialize again so you can just run this box and train a new network\n",
        "train(logic_gate_net, xor_input_set, xor_solution_set,learning_rate,epochs)"
      ],
      "outputs": [
        {
          "output_type": "stream",
          "name": "stdout",
          "text": [
            "Loss after Epoch 0: 0.7917\n",
            "Loss after Epoch 5: 0.7624\n",
            "Loss after Epoch 10: 0.8167\n",
            "Loss after Epoch 15: 0.4812\n",
            "Loss after Epoch 20: 0.4806\n",
            "Loss after Epoch 25: 0.4802\n",
            "Loss after Epoch 30: 0.4799\n",
            "Loss after Epoch 35: 0.4797\n",
            "Loss after Epoch 40: 0.4796\n",
            "Loss after Epoch 45: 0.4794\n",
            "Loss after Epoch 50: 0.4793\n",
            "Loss after Epoch 55: 0.4792\n",
            "Loss after Epoch 60: 0.4791\n",
            "Loss after Epoch 65: 0.4790\n",
            "Loss after Epoch 70: 0.4790\n",
            "Loss after Epoch 75: 0.4789\n",
            "Loss after Epoch 80: 0.4789\n",
            "Loss after Epoch 85: 0.4788\n",
            "Loss after Epoch 90: 0.4788\n",
            "Loss after Epoch 95: 0.4787\n",
            "Loss after Epoch 100: 0.4787\n",
            "Loss after Epoch 105: 0.4787\n",
            "Loss after Epoch 110: 0.4786\n",
            "Loss after Epoch 115: 0.4786\n",
            "Loss after Epoch 120: 0.4786\n",
            "Loss after Epoch 125: 0.4785\n",
            "Loss after Epoch 130: 0.4785\n",
            "Loss after Epoch 135: 0.4785\n",
            "Loss after Epoch 140: 0.4785\n",
            "Loss after Epoch 145: 0.4784\n",
            "Loss after Epoch 150: 0.4784\n",
            "Loss after Epoch 155: 0.4784\n",
            "Loss after Epoch 160: 0.4784\n",
            "Loss after Epoch 165: 0.4784\n",
            "Loss after Epoch 170: 0.4784\n",
            "Loss after Epoch 175: 0.4783\n",
            "Loss after Epoch 180: 0.4783\n",
            "Loss after Epoch 185: 0.4783\n",
            "Loss after Epoch 190: 0.4783\n",
            "Loss after Epoch 195: 0.4783\n",
            "Loss after Epoch 200: 0.4783\n",
            "Loss after Epoch 205: 0.4783\n",
            "Loss after Epoch 210: 0.4782\n",
            "Loss after Epoch 215: 0.4782\n",
            "Loss after Epoch 220: 0.4782\n",
            "Loss after Epoch 225: 0.4782\n",
            "Loss after Epoch 230: 0.4782\n",
            "Loss after Epoch 235: 0.4782\n",
            "Loss after Epoch 240: 0.4782\n",
            "Loss after Epoch 245: 0.4782\n",
            "Loss after Epoch 250: 0.4782\n",
            "Loss after Epoch 255: 0.4782\n",
            "Loss after Epoch 260: 0.4781\n",
            "Loss after Epoch 265: 0.4781\n",
            "Loss after Epoch 270: 0.4781\n",
            "Loss after Epoch 275: 0.4781\n",
            "Loss after Epoch 280: 0.4781\n",
            "Loss after Epoch 285: 0.4781\n",
            "Loss after Epoch 290: 0.4781\n",
            "Loss after Epoch 295: 0.4781\n",
            "Loss after Epoch 300: 0.4781\n",
            "Loss after Epoch 305: 0.4781\n",
            "Loss after Epoch 310: 0.4781\n",
            "Loss after Epoch 315: 0.4781\n",
            "Loss after Epoch 320: 0.4781\n",
            "Loss after Epoch 325: 0.4781\n",
            "Loss after Epoch 330: 0.4781\n",
            "Loss after Epoch 335: 0.4780\n",
            "Loss after Epoch 340: 0.4780\n",
            "Loss after Epoch 345: 0.4780\n",
            "Loss after Epoch 350: 0.4780\n",
            "Loss after Epoch 355: 0.4780\n",
            "Loss after Epoch 360: 0.4780\n",
            "Loss after Epoch 365: 0.4780\n",
            "Loss after Epoch 370: 0.4780\n",
            "Loss after Epoch 375: 0.4780\n",
            "Loss after Epoch 380: 0.4780\n",
            "Loss after Epoch 385: 0.4780\n",
            "Loss after Epoch 390: 0.4780\n",
            "Loss after Epoch 395: 0.4780\n",
            "Loss after Epoch 400: 0.4780\n",
            "Loss after Epoch 405: 0.4780\n",
            "Loss after Epoch 410: 0.4780\n",
            "Loss after Epoch 415: 0.4780\n",
            "Loss after Epoch 420: 0.4780\n",
            "Loss after Epoch 425: 0.4780\n",
            "Loss after Epoch 430: 0.4780\n",
            "Loss after Epoch 435: 0.4780\n",
            "Loss after Epoch 440: 0.4780\n",
            "Loss after Epoch 445: 0.4779\n",
            "Loss after Epoch 450: 0.4779\n",
            "Loss after Epoch 455: 0.4779\n",
            "Loss after Epoch 460: 0.4779\n",
            "Loss after Epoch 465: 0.4779\n",
            "Loss after Epoch 470: 0.4779\n",
            "Loss after Epoch 475: 0.4779\n",
            "Loss after Epoch 480: 0.4779\n",
            "Loss after Epoch 485: 0.4779\n",
            "Loss after Epoch 490: 0.4779\n",
            "Loss after Epoch 495: 0.4779\n",
            "Loss after Epoch 500: 0.4779\n",
            "Loss after Epoch 505: 0.4779\n",
            "Loss after Epoch 510: 0.4779\n",
            "Loss after Epoch 515: 0.4779\n",
            "Loss after Epoch 520: 0.4779\n",
            "Loss after Epoch 525: 0.4779\n",
            "Loss after Epoch 530: 0.4779\n",
            "Loss after Epoch 535: 0.4779\n",
            "Loss after Epoch 540: 0.4779\n",
            "Loss after Epoch 545: 0.4779\n",
            "Loss after Epoch 550: 0.4779\n",
            "Loss after Epoch 555: 0.4779\n",
            "Loss after Epoch 560: 0.4779\n",
            "Loss after Epoch 565: 0.4779\n",
            "Loss after Epoch 570: 0.4779\n",
            "Loss after Epoch 575: 0.4779\n",
            "Loss after Epoch 580: 0.4779\n",
            "Loss after Epoch 585: 0.4779\n",
            "Loss after Epoch 590: 0.4779\n",
            "Loss after Epoch 595: 0.4779\n",
            "Loss after Epoch 600: 0.4779\n",
            "Loss after Epoch 605: 0.4779\n",
            "Loss after Epoch 610: 0.4779\n",
            "Loss after Epoch 615: 0.4779\n",
            "Loss after Epoch 620: 0.4779\n",
            "Loss after Epoch 625: 0.4779\n",
            "Loss after Epoch 630: 0.4778\n",
            "Loss after Epoch 635: 0.4778\n",
            "Loss after Epoch 640: 0.4778\n",
            "Loss after Epoch 645: 0.4778\n",
            "Loss after Epoch 650: 0.4778\n",
            "Loss after Epoch 655: 0.4778\n",
            "Loss after Epoch 660: 0.4778\n",
            "Loss after Epoch 665: 0.4778\n",
            "Loss after Epoch 670: 0.4778\n",
            "Loss after Epoch 675: 0.4778\n",
            "Loss after Epoch 680: 0.4778\n",
            "Loss after Epoch 685: 0.4778\n",
            "Loss after Epoch 690: 0.4778\n",
            "Loss after Epoch 695: 0.4778\n",
            "Loss after Epoch 700: 0.4778\n",
            "Loss after Epoch 705: 0.4778\n",
            "Loss after Epoch 710: 0.4778\n",
            "Loss after Epoch 715: 0.4778\n",
            "Loss after Epoch 720: 0.4778\n",
            "Loss after Epoch 725: 0.4778\n",
            "Loss after Epoch 730: 0.4778\n",
            "Loss after Epoch 735: 0.4778\n",
            "Loss after Epoch 740: 0.4778\n",
            "Loss after Epoch 745: 0.4778\n",
            "Loss after Epoch 750: 0.4778\n",
            "Loss after Epoch 755: 0.4778\n",
            "Loss after Epoch 760: 0.4778\n",
            "Loss after Epoch 765: 0.4778\n",
            "Loss after Epoch 770: 0.4778\n",
            "Loss after Epoch 775: 0.4778\n",
            "Loss after Epoch 780: 0.4778\n",
            "Loss after Epoch 785: 0.4778\n",
            "Loss after Epoch 790: 0.4778\n",
            "Loss after Epoch 795: 0.4778\n",
            "Loss after Epoch 800: 0.4778\n",
            "Loss after Epoch 805: 0.4778\n",
            "Loss after Epoch 810: 0.4778\n",
            "Loss after Epoch 815: 0.4778\n",
            "Loss after Epoch 820: 0.4778\n",
            "Loss after Epoch 825: 0.4778\n",
            "Loss after Epoch 830: 0.4778\n",
            "Loss after Epoch 835: 0.4778\n",
            "Loss after Epoch 840: 0.4778\n",
            "Loss after Epoch 845: 0.4778\n",
            "Loss after Epoch 850: 0.4778\n",
            "Loss after Epoch 855: 0.4778\n",
            "Loss after Epoch 860: 0.4778\n",
            "Loss after Epoch 865: 0.4778\n",
            "Loss after Epoch 870: 0.4778\n",
            "Loss after Epoch 875: 0.4778\n",
            "Loss after Epoch 880: 0.4778\n",
            "Loss after Epoch 885: 0.4778\n",
            "Loss after Epoch 890: 0.4778\n",
            "Loss after Epoch 895: 0.4778\n",
            "Loss after Epoch 900: 0.4778\n",
            "Loss after Epoch 905: 0.4778\n",
            "Loss after Epoch 910: 0.4778\n",
            "Loss after Epoch 915: 0.4778\n",
            "Loss after Epoch 920: 0.4778\n",
            "Loss after Epoch 925: 0.4778\n",
            "Loss after Epoch 930: 0.4778\n",
            "Loss after Epoch 935: 0.4778\n",
            "Loss after Epoch 940: 0.4778\n",
            "Loss after Epoch 945: 0.4778\n",
            "Loss after Epoch 950: 0.4778\n",
            "Loss after Epoch 955: 0.4778\n",
            "Loss after Epoch 960: 0.4778\n",
            "Loss after Epoch 965: 0.4778\n",
            "Loss after Epoch 970: 0.4778\n",
            "Loss after Epoch 975: 0.4777\n",
            "Loss after Epoch 980: 0.4777\n",
            "Loss after Epoch 985: 0.4777\n",
            "Loss after Epoch 990: 0.4777\n",
            "Loss after Epoch 995: 0.4777\n"
          ]
        }
      ],
      "metadata": {
        "id": "c3_9y5-p4Ov6",
        "outputId": "221dad5f-a846-4729-cd0b-2688822b9897",
        "colab": {
          "base_uri": "https://localhost:8080/"
        }
      }
    },
    {
      "cell_type": "markdown",
      "source": [
        "<div class=\"alert alert-block alert-success\">\n",
        "<b>Frage 4.4.23:</b> Warum sind die Verluste bei jeder Ausführung der Zelle anders?\n",
        "</div>\n",
        "\n",
        "<div class=\"alert block alert-success\">\n",
        "<b>Ihre Antwort:</b>\n",
        "</div>"
      ],
      "metadata": {
        "id": "ucxgCn9M4Ov7"
      }
    },
    {
      "cell_type": "markdown",
      "source": [
        "<div class=\"alert alert-block alert-success\">\n",
        "<b>Frage 4.4.24:</b> Was ist eine gute Lernrate, die in den meisten Fällen einen Verlust < 0,02 in < 100 Epochen erreicht?\n",
        "</div>\n",
        "\n",
        "<div class=\"alert alert-block alert-success\">\n",
        "<b>Ihre Antwort:</b></div>\n"
      ],
      "metadata": {
        "id": "BYQuQz1b4Ov7"
      }
    },
    {
      "cell_type": "markdown",
      "source": [
        "<div class=\"alert alert-block alert-success\">\n",
        "<b>Aufgabe 4.4.25:</b> Klassifizierungstest. Führen Sie die Zelle unten aus, verändern Sie die Stellungen der Schieberegler und führen Sie eine Validierungsprüfung auf Ihr Logikgatter aus.\n",
        "\n",
        "</div>"
      ],
      "metadata": {
        "id": "tE3dKQAa4Ov7"
      }
    },
    {
      "cell_type": "code",
      "execution_count": 63,
      "source": [
        "# do not change\n",
        "def change(input1:float, input2:float):\n",
        "    input_vector = np.array([input1 * 1, input2 * 1])     # converting bool to float\n",
        "    prediction = logic_gate_net.compute(input_vector)\n",
        "    print(\"\\t input: {} \\t \\t output: {:0.9f}\".format(input_vector, prediction[0]))\n",
        "\n",
        "interact(\n",
        "    change,\n",
        "    input1=FloatSlider(min=0, max=1, step=1, layout=Layout(width=\"22%\")),\n",
        "    input2=FloatSlider(min=0, max=1, step=1, layout=Layout(width=\"22%\")),\n",
        ");"
      ],
      "outputs": [
        {
          "output_type": "display_data",
          "data": {
            "text/plain": [
              "interactive(children=(FloatSlider(value=0.0, description='input1', layout=Layout(width='22%'), max=1.0, step=1…"
            ],
            "application/vnd.jupyter.widget-view+json": {
              "version_major": 2,
              "version_minor": 0,
              "model_id": "9623ed8154144cf9b34f53e20dbc37ac"
            }
          },
          "metadata": {
            "application/vnd.jupyter.widget-view+json": {
              "colab": {
                "custom_widget_manager": {
                  "url": "https://ssl.gstatic.com/colaboratory-static/widgets/colab-cdn-widget-manager/2b70e893a8ba7c0f/manager.min.js"
                }
              }
            }
          }
        }
      ],
      "metadata": {
        "id": "3-4REkN74Ov7",
        "outputId": "15d430cd-dd85-4a62-9b3d-4ce0ba34215c",
        "colab": {
          "base_uri": "https://localhost:8080/",
          "height": 99,
          "referenced_widgets": [
            "9623ed8154144cf9b34f53e20dbc37ac",
            "23c4783f5acc470594188340d84a5d84",
            "1e0cbcf39a2b46a4955d44439ff27125",
            "204ced1a1b2044fc84913852aab5150f",
            "3b2bafe0bf774b0a8503aa9e3a7d9dba",
            "09a41144574043ba9a4868314c59590f",
            "78d2f388022c4e0391d4d479bcff2117",
            "8a89fe8c24c14902ab6afd7fa1ba12a0",
            "33db549170bf4ec8892002986eb1a939",
            "3acc3e280bab40f0bbc57e2059e4aa04"
          ]
        }
      }
    },
    {
      "cell_type": "markdown",
      "source": [
        "<div class=\"alert alert-block alert-success\">\n",
        "<b>Aufgabe 4.4.26:</b> Kontinuierlicher Eingangstest: Verändern Sie die Schieberegler Stellungen und beobachten Sie die Änderungen, wenn die Eingabe nicht binär, sondern kontinuierlich variiert wird.\n",
        "\n",
        "</div>"
      ],
      "metadata": {
        "id": "QjKgR5uH4Ov7"
      }
    },
    {
      "cell_type": "code",
      "execution_count": 64,
      "source": [
        "interact(change, input1=0.0, input2=0.0);"
      ],
      "outputs": [
        {
          "output_type": "display_data",
          "data": {
            "text/plain": [
              "interactive(children=(FloatSlider(value=0.0, description='input1', max=1.0), FloatSlider(value=0.0, descriptio…"
            ],
            "application/vnd.jupyter.widget-view+json": {
              "version_major": 2,
              "version_minor": 0,
              "model_id": "4847b47cf9e447b2a23496e13712bfdf"
            }
          },
          "metadata": {
            "application/vnd.jupyter.widget-view+json": {
              "colab": {
                "custom_widget_manager": {
                  "url": "https://ssl.gstatic.com/colaboratory-static/widgets/colab-cdn-widget-manager/2b70e893a8ba7c0f/manager.min.js"
                }
              }
            }
          }
        }
      ],
      "metadata": {
        "id": "pujdg06f4Ov7",
        "outputId": "d6de488b-dcec-453a-dfbc-b6f75108cae1",
        "colab": {
          "base_uri": "https://localhost:8080/",
          "height": 99,
          "referenced_widgets": [
            "4847b47cf9e447b2a23496e13712bfdf",
            "77d481e512974c4c9f729393e52a3d65",
            "960c7b0011034be2b66cc2322b1c3961",
            "7e947de684f4415081facff15c2f7ec9",
            "0a88eac72a9d42589394b20b953f724f",
            "d9b24a33cc544e23837849d48bc0046a",
            "3cd1baa3581848f9b5eac4e018dab9c5",
            "80e2eb5379924e24987423c88d0fa206",
            "a652ce5d655949fd90887f197ac6aa3a",
            "0b35e58f79fd49feab6e174bfa2a195e"
          ]
        }
      }
    },
    {
      "cell_type": "markdown",
      "source": [
        "<div class=\"alert alert-block alert-success\">\n",
        "<b>Frage 4.4.27:</b> Was können Sie beim Verändern der Schieberegler beobachten? Wie würden Sie den allgemeinen Zusammenhang zwischen den beiden Eingängen und dem Ausgang beschreiben (in wenigen Worten)\n",
        "</div>\n",
        "\n",
        "<div class=\"alert alert-block alert-success\">\n",
        "<b>Ihre Antwort:</b></div>\n"
      ],
      "metadata": {
        "id": "DYH_whjE4Ov8"
      }
    },
    {
      "cell_type": "markdown",
      "source": [
        "<div class=\"alert alert-block alert-success\">\n",
        "<b>Frage 4.4.28:</b> Ändern Sie die Schieberegler auf die Werte der Trainingsdaten, z.B.(1.00, 1.00). Stimmt die Ausgabe genau mit den Trainingsdaten überein? Warum ist das der Fall?\n",
        "</div>\n",
        "\n",
        "<div class=\"alert alert-block alert-success\">\n",
        "<b>Ihre Antwort:</b>\n",
        "</div>"
      ],
      "metadata": {
        "id": "EQEn-12H4Ov8"
      }
    },
    {
      "cell_type": "markdown",
      "source": [
        "<div class=\"alert alert-block alert-success\">\n",
        "<b>Frage 4.4.29:</b> Das neuronale Netz kann jetzt etwas mehr vorhersagen, als nur die Werte der Eingabemenge, die Sie ihm gegeben haben. Welche \"besondere Fähigkeit\" hat Ihr Netz automatisch erlangt? (<b>Hinweis:</b> Denken Sie an neuronale Netze im Allgemeinen, das XOR-Gatter ist nur ein Beispiel)\n",
        "</div>\n",
        "\n",
        "<div class=\"alert alert-block alert-success\">\n",
        "<b>Ihre Antwort:</b></div>\n"
      ],
      "metadata": {
        "id": "96sJs1B94Ov8"
      }
    },
    {
      "cell_type": "markdown",
      "source": [
        "<div class=\"alert alert-block alert-success\">\n",
        "<b>Frage 4.4.30:</b> Wie kann diese spezielle Fähigkeit bei der Anwendung neuronaler Netze auf selbstfahrende Fahrzeuge nützlich sein?\n",
        "</div>\n",
        "\n",
        "<div class=\"alert block alert-success\">\n",
        "<b>Ihre Antwort:</b>\n",
        "</div>"
      ],
      "metadata": {
        "id": "xb8Of0sj4Ov9"
      }
    },
    {
      "cell_type": "markdown",
      "source": [
        "<div class=\"alert alert-block alert-success\">\n",
        "<b>Frage 4.4.31:</b> Warum macht es diese Fähigkeit einfacher, ein neuronales Netz für selbstfahrende Fahrzeuge zu verwenden als die traditionelle regelbasierte Programmierung (ein pos. und neg. Aspekt)?\n",
        "</div>\n",
        "\n",
        "<div class=\"alert alert-block alert-success\">\n",
        "<b>Ihre Antwort:</b></div>\n",
        "\n"
      ],
      "metadata": {
        "id": "BQoMX1t54Ov9"
      }
    },
    {
      "cell_type": "markdown",
      "source": [
        "<div class=\"alert alert-block alert-success\">\n",
        "<b>Aufgabe 4.4.32:</b> Erstellen Sie ein OR-Gatter. Ändern Sie den obigen Code, um ein OR-Netzwerk zu trainieren und überprüfen Sie Ihre Ergebnisse mit einem Test.\n",
        "\n",
        "</div>\n",
        "\n",
        "| Eingang 1 | Eingang 2 | Ausgang |\n",
        "|--------|----------|-----------|\n",
        "| 0 | 0 |0 |\n",
        "| 0 | 1 |1 |\n",
        "| 1 | 0 |1 |\n",
        "| 1 | 1 |1 |\n",
        "\n",
        "\n",
        "<p style=\"text-align: center;\">\n",
        "    Tabelle. 3 - ODER-Wahrheitstabelle\n",
        "</p>"
      ],
      "metadata": {
        "id": "-lDHuoY64Ov-"
      }
    },
    {
      "cell_type": "markdown",
      "source": [
        "### Training in Keras\n",
        "\n",
        "Nun soll das o.g. Beispiel in Keras implementiert werden.\n",
        "Hierzu erstmals die benötigten Imports:"
      ],
      "metadata": {
        "id": "lr8X-G_04Ov-"
      }
    },
    {
      "cell_type": "code",
      "execution_count": 65,
      "source": [
        "# benötigte Importe - nicht ändern\n",
        "from tensorflow.keras.models import Sequential\n",
        "from tensorflow.keras.layers import Dense, Activation\n",
        "from tensorflow.keras import optimizers, losses"
      ],
      "outputs": [],
      "metadata": {
        "id": "cMNHKLnq4Ov_"
      }
    },
    {
      "cell_type": "markdown",
      "source": [
        "Als nächsten müssen die Daten für das Training vorbereitet werden.\n",
        "Hierbei sollen zwei Listen entstehen, eine für die Datenpunkte (`train_data`) und eine für die dazugehörigen Labels (`train_labels`).\n",
        "Beide Listen sollen die Daten von den Schaafen als auch der Lamas beinhalten.\n",
        "\n",
        "<div class=\"alert alert-block alert-success\">\n",
        "<b>Aufgabe 4.4.33:</b> Erstellen Sie eine Liste mit dem Namen `train_data` für die Trainingsdatenpunkte aka Nackenhöhe sowie eine Liste mit dem Namen `train_labels` für die zugehörigen Labels, der Nackenhöhe der Schaffe sowie Lamas.\n",
        "    </div>"
      ],
      "metadata": {
        "id": "vog5SUxK4OwB"
      }
    },
    {
      "cell_type": "code",
      "execution_count": 66,
      "source": [
        "print('Schafe: {}'.format(points_sheep))\n",
        "print('Lamas: {}'.format(points_llamas))\n",
        "# STUDENT CODE HERE\n",
        "\n",
        "# STUDENT CODE until HERE\n",
        "print('Datenpunkte für Training: {}'.format(train_data))\n",
        "print('Labels für Training: {}'.format(train_labels))"
      ],
      "outputs": [
        {
          "output_type": "stream",
          "name": "stdout",
          "text": [
            "Schafe: {'x': [0.2, 0.23, 0.28, 0.32, 0.35], 'y': [0, 0, 0, 0, 0]}\n",
            "Lamas: {'x': [0.55, 0.68, 0.74, 0.83, 0.95], 'y': [1, 1, 1, 1, 1]}\n"
          ]
        },
        {
          "output_type": "error",
          "ename": "NameError",
          "evalue": "name 'train_data' is not defined",
          "traceback": [
            "\u001b[0;31m---------------------------------------------------------------------------\u001b[0m",
            "\u001b[0;31mNameError\u001b[0m                                 Traceback (most recent call last)",
            "\u001b[0;32m/tmp/ipython-input-66-3401251401.py\u001b[0m in \u001b[0;36m<cell line: 0>\u001b[0;34m()\u001b[0m\n\u001b[1;32m      4\u001b[0m \u001b[0;34m\u001b[0m\u001b[0m\n\u001b[1;32m      5\u001b[0m \u001b[0;31m# STUDENT CODE until HERE\u001b[0m\u001b[0;34m\u001b[0m\u001b[0;34m\u001b[0m\u001b[0m\n\u001b[0;32m----> 6\u001b[0;31m \u001b[0mprint\u001b[0m\u001b[0;34m(\u001b[0m\u001b[0;34m'Datenpunkte für Training: {}'\u001b[0m\u001b[0;34m.\u001b[0m\u001b[0mformat\u001b[0m\u001b[0;34m(\u001b[0m\u001b[0mtrain_data\u001b[0m\u001b[0;34m)\u001b[0m\u001b[0;34m)\u001b[0m\u001b[0;34m\u001b[0m\u001b[0;34m\u001b[0m\u001b[0m\n\u001b[0m\u001b[1;32m      7\u001b[0m \u001b[0mprint\u001b[0m\u001b[0;34m(\u001b[0m\u001b[0;34m'Labels für Training: {}'\u001b[0m\u001b[0;34m.\u001b[0m\u001b[0mformat\u001b[0m\u001b[0;34m(\u001b[0m\u001b[0mtrain_labels\u001b[0m\u001b[0;34m)\u001b[0m\u001b[0;34m)\u001b[0m\u001b[0;34m\u001b[0m\u001b[0;34m\u001b[0m\u001b[0m\n",
            "\u001b[0;31mNameError\u001b[0m: name 'train_data' is not defined"
          ]
        }
      ],
      "metadata": {
        "id": "TacUyfcV4OwB",
        "outputId": "33dece5a-c2bb-4fe4-c94e-14f021f284ab",
        "colab": {
          "base_uri": "https://localhost:8080/",
          "height": 236
        }
      }
    },
    {
      "cell_type": "markdown",
      "source": [
        "Zuletzt muss noch das Modell vorbereitet werden.\n",
        "\n",
        "<div class=\"alert alert-block alert-success\">\n",
        "<b>Aufgabe 4.4.34:</b> Erstellen Sie ein Model, bestehend aus zwei Dense Layern, wobei das erste drei Neuronen und das zweite ein Neuron besitzt und speichern dieses in einer Variablen mit dem Namen `model`. Als Aktivierungsfunktion soll ReLu und für die Ausgabe die Sigmoid-Funktion eingesetzt werden. Als Verlustfunktion soll der BinaryCrossentropy-Loss zum Einsatz kommen. Zuletzt soll RMSprop mit einer Lernrate von 0.01 als Optimierer verwendet werden.\n",
        "\n",
        "\n",
        "_Hinweis: Verwenden Sie bei der Verlustfunktion <code>from_logits=False</code>_.\n",
        "    </div>"
      ],
      "metadata": {
        "id": "g6z5J-s24OwC"
      }
    },
    {
      "cell_type": "code",
      "execution_count": null,
      "source": [
        "model = Sequential()\n",
        "# STUDENT CODE HERE\n",
        "\n",
        "# STUDENT CODE until HERE\n",
        "print(model.summary())"
      ],
      "outputs": [],
      "metadata": {
        "id": "jnh614Bp4OwC"
      }
    },
    {
      "cell_type": "markdown",
      "source": [
        "<div class=\"alert alert-block alert-success\">\n",
        "    <b>Aufgabe 4.4.35:</b> Rufen Sie nun die <code>compile</code> Methode des Modells auf. Geben Sie hierbei als Metrik <i>accuracy</i> an.\n",
        "    </div>    "
      ],
      "metadata": {
        "id": "687beY8o4OwC"
      }
    },
    {
      "cell_type": "code",
      "execution_count": null,
      "source": [
        "# STUDENT CODE HERE\n",
        "\n",
        "# STUDENT CODE until HERE"
      ],
      "outputs": [],
      "metadata": {
        "id": "UsV0sDZJ4OwC"
      }
    },
    {
      "cell_type": "markdown",
      "source": [
        "<div class=\"alert alert-block alert-success\">\n",
        "<b>Aufgabe 4.4.36:</b> Starten Sie nun das Trainings ihres Models durch Aufruf der Fit-Funktion. Verwenden Sie hierbei eine  Batch Size von 2 und trainieren Sie 200 Epochen lang.\n",
        "    </div>"
      ],
      "metadata": {
        "id": "0xUebDgm4OwD"
      }
    },
    {
      "cell_type": "code",
      "execution_count": null,
      "source": [
        "# STUDENT CODE HERE\n",
        "\n",
        "# STUDENT CODE until HERE"
      ],
      "outputs": [],
      "metadata": {
        "id": "i6REIJTe4OwD"
      }
    },
    {
      "cell_type": "code",
      "execution_count": null,
      "source": [
        "results = model.predict(train_data)\n",
        "results = [1 if i > 0.5 else 0 for i in results]\n",
        "correct_predicted = sum([1 if results[i] == train_labels[i] else 0 for i in range(len(results))])\n",
        "false_predicted = len(results) - correct_predicted\n",
        "\n",
        "print('Korrekt: {}\\nNicht korrekt: {}'.format(correct_predicted, false_predicted))"
      ],
      "outputs": [],
      "metadata": {
        "id": "TU4R4Vub4OwD"
      }
    },
    {
      "cell_type": "markdown",
      "source": [
        "### Ausblick: Klassifizierungstests in der realen Welt\n",
        "\n",
        "Eine klassische Anwendung von neuronalen Netzen ist die Klassifizierung von Bildern. Ein häufig verwendeter Datensatz ist CIFAR-10, der aus folgenden Elementen besteht:  \n",
        " 1. Bilder von Flugzeugen, Autos, Vögeln, Katzen, Rehen, Hunden, Fröschen, Pferden, Schiffen und Lastwagen (10 Kategorien)\n",
        " 2. Labels, die an jedes Bild angehängt sind und das Bild kategorisieren\n",
        "\n",
        "<img src=\"https://github.com/KI-Campus/AMALEA/blob/master/Woche%204/images/cifar10_plot.png?raw=1\" />\n",
        "<p style=\"text-align: center;\">\n",
        "    Abb. 3 - CIFAR-10-Datensatz[4]\n",
        "</p>\n",
        "\n",
        "\n",
        "Die Labels (auch Annotationen genannt) dienen als \"Lösung\" für den Trainingssatz. Jedes Element (Flugzeug, Auto...) ist eine eigene Kategorie.\n",
        "Während des Trainings werden die Gewichte und Bias im Netzwerk genau so lange angepasst, bis das Modell die richtigen mathematischen Operationen ausführt, um die gegebenen Trainingsdaten korrekt zu klassifizieren. Nach dem Training kann das Netzwerk erkennen, ob es sich bei dem Bild um eine Katze, ein Flugzeug usw. handelt. Das funktioniert sogar bei Bildern, die das Netz noch nie gesehen hat. Wie neuronale Netze Bildklassifizierung durchführen, erfahren Sie in der nächsten Unterrichtseinheit."
      ],
      "metadata": {
        "id": "m_DLDQs14OwD"
      }
    },
    {
      "cell_type": "markdown",
      "source": [
        "#### Quellen:\n",
        "[1] Wikipedia, Statistical classification https://en.wikipedia.org/wiki/Statistical_classification, retrieved 01.05.2019\n",
        "\n",
        "[2]  Brownlee, Jason 2018. Machine Learning Algorithms From Scratch. p. 70\n",
        "\n",
        "[3]  Gibbs, M.N. (Nov 2000). \"Variational Gaussian process classifiers\". IEEE Transactions on Neural Networks. p. 1458–1464.\n",
        "\n",
        "[4] Cifar-10, Cifar-100 Dataset Introduction\n",
        "Corochann - https://corochann.com/cifar-10-cifar-100-dataset-introduction-1258.html, retrieved 02.02.2019\n"
      ],
      "metadata": {
        "id": "y42q0Dnw4OwD"
      }
    },
    {
      "cell_type": "markdown",
      "source": [
        "#### Weiterführende Literatur:\n",
        "\n",
        "The Sigmoid Function in Logistic Regression: http://karlrosaen.com/ml/notebooks/logistic-regression-why-sigmoid/\n",
        "\n",
        "Why Softmax uses exponential function: https://stackoverflow.com/questions/17187507/why-use-softmax-as-opposed-to-standard-normalization"
      ],
      "metadata": {
        "id": "3f0_MAvr4OwE"
      }
    },
    {
      "cell_type": "code",
      "execution_count": null,
      "source": [],
      "outputs": [],
      "metadata": {
        "id": "10mRmywe4OwE"
      }
    }
  ],
  "metadata": {
    "kernelspec": {
      "display_name": "Python 3",
      "language": "python",
      "name": "python-amalea"
    },
    "language_info": {
      "codemirror_mode": {
        "name": "ipython",
        "version": 3
      },
      "file_extension": ".py",
      "mimetype": "text/x-python",
      "name": "python",
      "nbconvert_exporter": "python",
      "pygments_lexer": "ipython3",
      "version": "3.7.10"
    },
    "colab": {
      "provenance": []
    },
    "widgets": {
      "application/vnd.jupyter.widget-state+json": {
        "65159e66475441cdbca040432dafb423": {
          "model_module": "@jupyter-widgets/controls",
          "model_name": "VBoxModel",
          "model_module_version": "1.5.0",
          "state": {
            "_dom_classes": [
              "widget-interact"
            ],
            "_model_module": "@jupyter-widgets/controls",
            "_model_module_version": "1.5.0",
            "_model_name": "VBoxModel",
            "_view_count": null,
            "_view_module": "@jupyter-widgets/controls",
            "_view_module_version": "1.5.0",
            "_view_name": "VBoxView",
            "box_style": "",
            "children": [
              "IPY_MODEL_5be4c6e2650c4fa5af3c1a5823da17cd",
              "IPY_MODEL_be7f1f53d4424b8697a0d8b5201580b0",
              "IPY_MODEL_aed6c2a9556b4ed7852afd1e2b4dabc8"
            ],
            "layout": "IPY_MODEL_cfc872a74d8747bb9ea131811bdb6c4d"
          }
        },
        "5be4c6e2650c4fa5af3c1a5823da17cd": {
          "model_module": "@jupyter-widgets/controls",
          "model_name": "FloatSliderModel",
          "model_module_version": "1.5.0",
          "state": {
            "_dom_classes": [],
            "_model_module": "@jupyter-widgets/controls",
            "_model_module_version": "1.5.0",
            "_model_name": "FloatSliderModel",
            "_view_count": null,
            "_view_module": "@jupyter-widgets/controls",
            "_view_module_version": "1.5.0",
            "_view_name": "FloatSliderView",
            "continuous_update": true,
            "description": "weight",
            "description_tooltip": null,
            "disabled": false,
            "layout": "IPY_MODEL_1af09f63b3ab4e75abbc7925b65a8c24",
            "max": 4,
            "min": -2,
            "orientation": "horizontal",
            "readout": true,
            "readout_format": ".2f",
            "step": 0.1,
            "style": "IPY_MODEL_af77ae0b1ea24a04acfb063e23c2eff4",
            "value": 1.6
          }
        },
        "be7f1f53d4424b8697a0d8b5201580b0": {
          "model_module": "@jupyter-widgets/controls",
          "model_name": "FloatSliderModel",
          "model_module_version": "1.5.0",
          "state": {
            "_dom_classes": [],
            "_model_module": "@jupyter-widgets/controls",
            "_model_module_version": "1.5.0",
            "_model_name": "FloatSliderModel",
            "_view_count": null,
            "_view_module": "@jupyter-widgets/controls",
            "_view_module_version": "1.5.0",
            "_view_name": "FloatSliderView",
            "continuous_update": true,
            "description": "bias",
            "description_tooltip": null,
            "disabled": false,
            "layout": "IPY_MODEL_1af09f63b3ab4e75abbc7925b65a8c24",
            "max": 1,
            "min": -1,
            "orientation": "horizontal",
            "readout": true,
            "readout_format": ".2f",
            "step": 0.1,
            "style": "IPY_MODEL_d308b91ca58143f295d5b2377ed6acab",
            "value": -0.30000000000000004
          }
        },
        "aed6c2a9556b4ed7852afd1e2b4dabc8": {
          "model_module": "@jupyter-widgets/output",
          "model_name": "OutputModel",
          "model_module_version": "1.0.0",
          "state": {
            "_dom_classes": [],
            "_model_module": "@jupyter-widgets/output",
            "_model_module_version": "1.0.0",
            "_model_name": "OutputModel",
            "_view_count": null,
            "_view_module": "@jupyter-widgets/output",
            "_view_module_version": "1.0.0",
            "_view_name": "OutputView",
            "layout": "IPY_MODEL_6363e1123d974e339cddef138cf0a3c3",
            "msg_id": "",
            "outputs": [
              {
                "output_type": "stream",
                "name": "stdout",
                "text": [
                  "Mean Squared Loss : 0.042\n"
                ]
              }
            ]
          }
        },
        "cfc872a74d8747bb9ea131811bdb6c4d": {
          "model_module": "@jupyter-widgets/base",
          "model_name": "LayoutModel",
          "model_module_version": "1.2.0",
          "state": {
            "_model_module": "@jupyter-widgets/base",
            "_model_module_version": "1.2.0",
            "_model_name": "LayoutModel",
            "_view_count": null,
            "_view_module": "@jupyter-widgets/base",
            "_view_module_version": "1.2.0",
            "_view_name": "LayoutView",
            "align_content": null,
            "align_items": null,
            "align_self": null,
            "border": null,
            "bottom": null,
            "display": null,
            "flex": null,
            "flex_flow": null,
            "grid_area": null,
            "grid_auto_columns": null,
            "grid_auto_flow": null,
            "grid_auto_rows": null,
            "grid_column": null,
            "grid_gap": null,
            "grid_row": null,
            "grid_template_areas": null,
            "grid_template_columns": null,
            "grid_template_rows": null,
            "height": null,
            "justify_content": null,
            "justify_items": null,
            "left": null,
            "margin": null,
            "max_height": null,
            "max_width": null,
            "min_height": null,
            "min_width": null,
            "object_fit": null,
            "object_position": null,
            "order": null,
            "overflow": null,
            "overflow_x": null,
            "overflow_y": null,
            "padding": null,
            "right": null,
            "top": null,
            "visibility": null,
            "width": null
          }
        },
        "1af09f63b3ab4e75abbc7925b65a8c24": {
          "model_module": "@jupyter-widgets/base",
          "model_name": "LayoutModel",
          "model_module_version": "1.2.0",
          "state": {
            "_model_module": "@jupyter-widgets/base",
            "_model_module_version": "1.2.0",
            "_model_name": "LayoutModel",
            "_view_count": null,
            "_view_module": "@jupyter-widgets/base",
            "_view_module_version": "1.2.0",
            "_view_name": "LayoutView",
            "align_content": null,
            "align_items": null,
            "align_self": null,
            "border": null,
            "bottom": null,
            "display": null,
            "flex": null,
            "flex_flow": null,
            "grid_area": null,
            "grid_auto_columns": null,
            "grid_auto_flow": null,
            "grid_auto_rows": null,
            "grid_column": null,
            "grid_gap": null,
            "grid_row": null,
            "grid_template_areas": null,
            "grid_template_columns": null,
            "grid_template_rows": null,
            "height": null,
            "justify_content": null,
            "justify_items": null,
            "left": null,
            "margin": null,
            "max_height": null,
            "max_width": null,
            "min_height": null,
            "min_width": null,
            "object_fit": null,
            "object_position": null,
            "order": null,
            "overflow": null,
            "overflow_x": null,
            "overflow_y": null,
            "padding": null,
            "right": null,
            "top": null,
            "visibility": null,
            "width": "90%"
          }
        },
        "af77ae0b1ea24a04acfb063e23c2eff4": {
          "model_module": "@jupyter-widgets/controls",
          "model_name": "SliderStyleModel",
          "model_module_version": "1.5.0",
          "state": {
            "_model_module": "@jupyter-widgets/controls",
            "_model_module_version": "1.5.0",
            "_model_name": "SliderStyleModel",
            "_view_count": null,
            "_view_module": "@jupyter-widgets/base",
            "_view_module_version": "1.2.0",
            "_view_name": "StyleView",
            "description_width": "",
            "handle_color": null
          }
        },
        "d308b91ca58143f295d5b2377ed6acab": {
          "model_module": "@jupyter-widgets/controls",
          "model_name": "SliderStyleModel",
          "model_module_version": "1.5.0",
          "state": {
            "_model_module": "@jupyter-widgets/controls",
            "_model_module_version": "1.5.0",
            "_model_name": "SliderStyleModel",
            "_view_count": null,
            "_view_module": "@jupyter-widgets/base",
            "_view_module_version": "1.2.0",
            "_view_name": "StyleView",
            "description_width": "",
            "handle_color": null
          }
        },
        "6363e1123d974e339cddef138cf0a3c3": {
          "model_module": "@jupyter-widgets/base",
          "model_name": "LayoutModel",
          "model_module_version": "1.2.0",
          "state": {
            "_model_module": "@jupyter-widgets/base",
            "_model_module_version": "1.2.0",
            "_model_name": "LayoutModel",
            "_view_count": null,
            "_view_module": "@jupyter-widgets/base",
            "_view_module_version": "1.2.0",
            "_view_name": "LayoutView",
            "align_content": null,
            "align_items": null,
            "align_self": null,
            "border": null,
            "bottom": null,
            "display": null,
            "flex": null,
            "flex_flow": null,
            "grid_area": null,
            "grid_auto_columns": null,
            "grid_auto_flow": null,
            "grid_auto_rows": null,
            "grid_column": null,
            "grid_gap": null,
            "grid_row": null,
            "grid_template_areas": null,
            "grid_template_columns": null,
            "grid_template_rows": null,
            "height": null,
            "justify_content": null,
            "justify_items": null,
            "left": null,
            "margin": null,
            "max_height": null,
            "max_width": null,
            "min_height": null,
            "min_width": null,
            "object_fit": null,
            "object_position": null,
            "order": null,
            "overflow": null,
            "overflow_x": null,
            "overflow_y": null,
            "padding": null,
            "right": null,
            "top": null,
            "visibility": null,
            "width": null
          }
        },
        "635cc2ed505847f987b479e5bc5b638d": {
          "model_module": "jupyterlab-plotly",
          "model_name": "FigureModel",
          "model_module_version": "^5.24.1",
          "state": {
            "_config": {
              "plotlyServerURL": "https://plot.ly"
            },
            "_data": [
              {
                "x": {
                  "dtype": "float64",
                  "shape": [
                    135
                  ]
                },
                "y": {
                  "dtype": "float64",
                  "shape": [
                    190
                  ]
                },
                "type": "scatter",
                "uid": "0876cf4b-42ff-4350-970a-7ae5493530b0"
              },
              {
                "marker": {
                  "color": "rgb(255, 0, 0)",
                  "size": 10
                },
                "mode": "markers",
                "x": [
                  0.2,
                  0.23,
                  0.28,
                  0.32,
                  0.35
                ],
                "y": [
                  0,
                  0,
                  0,
                  0,
                  0
                ],
                "type": "scatter",
                "uid": "4cdf3cc7-fe1a-4659-a175-482b0b88a25b"
              },
              {
                "marker": {
                  "color": "rgb(0, 0, 255)",
                  "size": 10,
                  "symbol": "square"
                },
                "mode": "markers",
                "x": [
                  0.55,
                  0.68,
                  0.74,
                  0.83,
                  0.95
                ],
                "y": [
                  1,
                  1,
                  1,
                  1,
                  1
                ],
                "type": "scatter",
                "uid": "e9dc5eb6-d40c-407a-bab8-faa971cd4b62"
              },
              {
                "marker": {
                  "color": "rgb(0,0,0)",
                  "size": 20,
                  "symbol": "star"
                },
                "mode": "markers",
                "x": [],
                "y": [],
                "type": "scatter",
                "uid": "c23c9f01-1716-45b5-8f50-53a3860417dc"
              }
            ],
            "_dom_classes": [],
            "_js2py_layoutDelta": {},
            "_js2py_pointsCallback": {},
            "_js2py_relayout": {},
            "_js2py_restyle": {},
            "_js2py_traceDeltas": {},
            "_js2py_update": {},
            "_last_layout_edit_id": 38,
            "_last_trace_edit_id": 38,
            "_layout": {
              "height": 400,
              "margin": {
                "l": 170,
                "t": 0
              },
              "showlegend": false,
              "width": 800,
              "xaxis": {
                "range": [
                  -0.1,
                  1.25
                ],
                "title": {
                  "text": "Neck height in m"
                }
              },
              "yaxis": {
                "range": [
                  -0.5,
                  1.4
                ],
                "title": {
                  "text": "y"
                }
              }
            },
            "_model_module": "jupyterlab-plotly",
            "_model_module_version": "^5.24.1",
            "_model_name": "FigureModel",
            "_py2js_addTraces": {},
            "_py2js_animate": {},
            "_py2js_deleteTraces": {},
            "_py2js_moveTraces": {},
            "_py2js_relayout": null,
            "_py2js_removeLayoutProps": {},
            "_py2js_removeTraceProps": {},
            "_py2js_restyle": null,
            "_py2js_update": {},
            "_view_count": 0,
            "_view_module": "jupyterlab-plotly",
            "_view_module_version": "^5.24.1",
            "_view_name": "FigureView"
          }
        },
        "11be61bc4b10450fa35be07d05e20a43": {
          "model_module": "jupyterlab-plotly",
          "model_name": "FigureModel",
          "model_module_version": "^5.24.1",
          "state": {
            "_config": {
              "plotlyServerURL": "https://plot.ly"
            },
            "_data": [
              {
                "x": {
                  "dtype": "float64",
                  "shape": [
                    135
                  ]
                },
                "y": {
                  "dtype": "float64",
                  "shape": [
                    190
                  ]
                },
                "type": "scatter",
                "uid": "dfddfe0c-04e8-4b88-a41d-2face70ebe9a"
              },
              {
                "marker": {
                  "color": "rgb(255, 0, 0)",
                  "size": 10
                },
                "mode": "markers",
                "x": [
                  0.2,
                  0.23,
                  0.28,
                  0.32,
                  0.35
                ],
                "y": [
                  0,
                  0,
                  0,
                  0,
                  0
                ],
                "type": "scatter",
                "uid": "aba92bff-b5c9-4166-8c21-2876f47f6c53"
              },
              {
                "marker": {
                  "color": "rgb(0, 0, 255)",
                  "size": 10,
                  "symbol": "square"
                },
                "mode": "markers",
                "x": [
                  0.55,
                  0.68,
                  0.74,
                  0.83,
                  0.95
                ],
                "y": [
                  1,
                  1,
                  1,
                  1,
                  1
                ],
                "type": "scatter",
                "uid": "a2027d47-3795-40c2-815a-89b1c5fa8c4e"
              },
              {
                "marker": {
                  "color": "rgb(0,0,0)",
                  "size": 20,
                  "symbol": "star"
                },
                "mode": "markers",
                "x": [],
                "y": [],
                "type": "scatter",
                "uid": "a0665845-256c-4000-9194-96e048882e2f"
              }
            ],
            "_dom_classes": [],
            "_js2py_layoutDelta": {},
            "_js2py_pointsCallback": {},
            "_js2py_relayout": {},
            "_js2py_restyle": {},
            "_js2py_traceDeltas": {},
            "_js2py_update": {},
            "_last_layout_edit_id": 9,
            "_last_trace_edit_id": 9,
            "_layout": {
              "height": 400,
              "margin": {
                "l": 170,
                "t": 0
              },
              "showlegend": false,
              "width": 800,
              "xaxis": {
                "range": [
                  -0.1,
                  1.25
                ],
                "title": {
                  "text": "Neck height in m"
                }
              },
              "yaxis": {
                "range": [
                  -0.5,
                  1.4
                ],
                "title": {
                  "text": "y"
                }
              }
            },
            "_model_module": "jupyterlab-plotly",
            "_model_module_version": "^5.24.1",
            "_model_name": "FigureModel",
            "_py2js_addTraces": {},
            "_py2js_animate": {},
            "_py2js_deleteTraces": {},
            "_py2js_moveTraces": {},
            "_py2js_relayout": null,
            "_py2js_removeLayoutProps": {},
            "_py2js_removeTraceProps": {},
            "_py2js_restyle": null,
            "_py2js_update": {},
            "_view_count": 0,
            "_view_module": "jupyterlab-plotly",
            "_view_module_version": "^5.24.1",
            "_view_name": "FigureView"
          }
        },
        "3f29f8bc76824e2e9bd3bf855d65ce85": {
          "model_module": "@jupyter-widgets/controls",
          "model_name": "VBoxModel",
          "model_module_version": "1.5.0",
          "state": {
            "_dom_classes": [
              "widget-interact"
            ],
            "_model_module": "@jupyter-widgets/controls",
            "_model_module_version": "1.5.0",
            "_model_name": "VBoxModel",
            "_view_count": null,
            "_view_module": "@jupyter-widgets/controls",
            "_view_module_version": "1.5.0",
            "_view_name": "VBoxView",
            "box_style": "",
            "children": [
              "IPY_MODEL_022404a18dd54a0faa8d505afffb27be",
              "IPY_MODEL_cb8a3225416746e495ed67df6b031576",
              "IPY_MODEL_f1c79559f6b043928c5f39ddd135940b"
            ],
            "layout": "IPY_MODEL_730fff5427cb4ea48d6dbaaeeaa8e3c2"
          }
        },
        "022404a18dd54a0faa8d505afffb27be": {
          "model_module": "@jupyter-widgets/controls",
          "model_name": "FloatSliderModel",
          "model_module_version": "1.5.0",
          "state": {
            "_dom_classes": [],
            "_model_module": "@jupyter-widgets/controls",
            "_model_module_version": "1.5.0",
            "_model_name": "FloatSliderModel",
            "_view_count": null,
            "_view_module": "@jupyter-widgets/controls",
            "_view_module_version": "1.5.0",
            "_view_name": "FloatSliderView",
            "continuous_update": true,
            "description": "weight",
            "description_tooltip": null,
            "disabled": false,
            "layout": "IPY_MODEL_1af09f63b3ab4e75abbc7925b65a8c24",
            "max": 200,
            "min": -50,
            "orientation": "horizontal",
            "readout": true,
            "readout_format": ".2f",
            "step": 0.1,
            "style": "IPY_MODEL_ebae6c0de98248c2be392ec896204b0e",
            "value": 0
          }
        },
        "cb8a3225416746e495ed67df6b031576": {
          "model_module": "@jupyter-widgets/controls",
          "model_name": "FloatSliderModel",
          "model_module_version": "1.5.0",
          "state": {
            "_dom_classes": [],
            "_model_module": "@jupyter-widgets/controls",
            "_model_module_version": "1.5.0",
            "_model_name": "FloatSliderModel",
            "_view_count": null,
            "_view_module": "@jupyter-widgets/controls",
            "_view_module_version": "1.5.0",
            "_view_name": "FloatSliderView",
            "continuous_update": true,
            "description": "bias",
            "description_tooltip": null,
            "disabled": false,
            "layout": "IPY_MODEL_1af09f63b3ab4e75abbc7925b65a8c24",
            "max": 50,
            "min": -50,
            "orientation": "horizontal",
            "readout": true,
            "readout_format": ".2f",
            "step": 0.1,
            "style": "IPY_MODEL_86da3bd1e2dd46e591f16fb450f2eb32",
            "value": 0
          }
        },
        "f1c79559f6b043928c5f39ddd135940b": {
          "model_module": "@jupyter-widgets/output",
          "model_name": "OutputModel",
          "model_module_version": "1.0.0",
          "state": {
            "_dom_classes": [],
            "_model_module": "@jupyter-widgets/output",
            "_model_module_version": "1.0.0",
            "_model_name": "OutputModel",
            "_view_count": null,
            "_view_module": "@jupyter-widgets/output",
            "_view_module_version": "1.0.0",
            "_view_name": "OutputView",
            "layout": "IPY_MODEL_a1453395c5214b0d9bddc4ddbeb15a17",
            "msg_id": "",
            "outputs": [
              {
                "output_type": "stream",
                "name": "stdout",
                "text": [
                  "Mean Squared Loss : 0.250\n"
                ]
              }
            ]
          }
        },
        "730fff5427cb4ea48d6dbaaeeaa8e3c2": {
          "model_module": "@jupyter-widgets/base",
          "model_name": "LayoutModel",
          "model_module_version": "1.2.0",
          "state": {
            "_model_module": "@jupyter-widgets/base",
            "_model_module_version": "1.2.0",
            "_model_name": "LayoutModel",
            "_view_count": null,
            "_view_module": "@jupyter-widgets/base",
            "_view_module_version": "1.2.0",
            "_view_name": "LayoutView",
            "align_content": null,
            "align_items": null,
            "align_self": null,
            "border": null,
            "bottom": null,
            "display": null,
            "flex": null,
            "flex_flow": null,
            "grid_area": null,
            "grid_auto_columns": null,
            "grid_auto_flow": null,
            "grid_auto_rows": null,
            "grid_column": null,
            "grid_gap": null,
            "grid_row": null,
            "grid_template_areas": null,
            "grid_template_columns": null,
            "grid_template_rows": null,
            "height": null,
            "justify_content": null,
            "justify_items": null,
            "left": null,
            "margin": null,
            "max_height": null,
            "max_width": null,
            "min_height": null,
            "min_width": null,
            "object_fit": null,
            "object_position": null,
            "order": null,
            "overflow": null,
            "overflow_x": null,
            "overflow_y": null,
            "padding": null,
            "right": null,
            "top": null,
            "visibility": null,
            "width": null
          }
        },
        "ebae6c0de98248c2be392ec896204b0e": {
          "model_module": "@jupyter-widgets/controls",
          "model_name": "SliderStyleModel",
          "model_module_version": "1.5.0",
          "state": {
            "_model_module": "@jupyter-widgets/controls",
            "_model_module_version": "1.5.0",
            "_model_name": "SliderStyleModel",
            "_view_count": null,
            "_view_module": "@jupyter-widgets/base",
            "_view_module_version": "1.2.0",
            "_view_name": "StyleView",
            "description_width": "",
            "handle_color": null
          }
        },
        "86da3bd1e2dd46e591f16fb450f2eb32": {
          "model_module": "@jupyter-widgets/controls",
          "model_name": "SliderStyleModel",
          "model_module_version": "1.5.0",
          "state": {
            "_model_module": "@jupyter-widgets/controls",
            "_model_module_version": "1.5.0",
            "_model_name": "SliderStyleModel",
            "_view_count": null,
            "_view_module": "@jupyter-widgets/base",
            "_view_module_version": "1.2.0",
            "_view_name": "StyleView",
            "description_width": "",
            "handle_color": null
          }
        },
        "a1453395c5214b0d9bddc4ddbeb15a17": {
          "model_module": "@jupyter-widgets/base",
          "model_name": "LayoutModel",
          "model_module_version": "1.2.0",
          "state": {
            "_model_module": "@jupyter-widgets/base",
            "_model_module_version": "1.2.0",
            "_model_name": "LayoutModel",
            "_view_count": null,
            "_view_module": "@jupyter-widgets/base",
            "_view_module_version": "1.2.0",
            "_view_name": "LayoutView",
            "align_content": null,
            "align_items": null,
            "align_self": null,
            "border": null,
            "bottom": null,
            "display": null,
            "flex": null,
            "flex_flow": null,
            "grid_area": null,
            "grid_auto_columns": null,
            "grid_auto_flow": null,
            "grid_auto_rows": null,
            "grid_column": null,
            "grid_gap": null,
            "grid_row": null,
            "grid_template_areas": null,
            "grid_template_columns": null,
            "grid_template_rows": null,
            "height": null,
            "justify_content": null,
            "justify_items": null,
            "left": null,
            "margin": null,
            "max_height": null,
            "max_width": null,
            "min_height": null,
            "min_width": null,
            "object_fit": null,
            "object_position": null,
            "order": null,
            "overflow": null,
            "overflow_x": null,
            "overflow_y": null,
            "padding": null,
            "right": null,
            "top": null,
            "visibility": null,
            "width": null
          }
        },
        "c710f1bf83d140499e9b7fadd6024f71": {
          "model_module": "jupyterlab-plotly",
          "model_name": "FigureModel",
          "model_module_version": "^5.24.1",
          "state": {
            "_config": {
              "plotlyServerURL": "https://plot.ly"
            },
            "_data": [
              {
                "x": {
                  "dtype": "float64",
                  "shape": [
                    135
                  ]
                },
                "y": {
                  "dtype": "float64",
                  "shape": [
                    190
                  ]
                },
                "type": "scatter",
                "uid": "bef346e0-af67-4089-92a4-8d50931cafd2"
              },
              {
                "marker": {
                  "color": "rgb(255, 0, 0)",
                  "size": 10
                },
                "mode": "markers",
                "x": [
                  0.55,
                  0.68,
                  0.74,
                  0.83,
                  0.95
                ],
                "y": [
                  1,
                  1,
                  1,
                  1,
                  1
                ],
                "type": "scatter",
                "uid": "3f5836f2-c4dd-4a34-b58c-820b911b64ec"
              },
              {
                "marker": {
                  "color": "rgb(0, 0, 255)",
                  "size": 10,
                  "symbol": "square"
                },
                "mode": "markers",
                "x": [
                  0.2,
                  0.23,
                  0.28,
                  0.32,
                  0.35
                ],
                "y": [
                  0,
                  0,
                  0,
                  0,
                  0
                ],
                "type": "scatter",
                "uid": "dbd941e3-fd33-4472-8a5e-9097b2d37cef"
              },
              {
                "marker": {
                  "color": "rgb(0,0,0)",
                  "size": 20,
                  "symbol": "star"
                },
                "mode": "markers",
                "x": [],
                "y": [],
                "type": "scatter",
                "uid": "c040cc5e-137b-4306-87bd-a4675cc96000"
              }
            ],
            "_dom_classes": [],
            "_js2py_layoutDelta": {},
            "_js2py_pointsCallback": {},
            "_js2py_relayout": {},
            "_js2py_restyle": {},
            "_js2py_traceDeltas": {},
            "_js2py_update": {},
            "_last_layout_edit_id": 1,
            "_last_trace_edit_id": 1,
            "_layout": {
              "height": 400,
              "margin": {
                "l": 170,
                "t": 0
              },
              "showlegend": false,
              "width": 800,
              "xaxis": {
                "range": [
                  -0.1,
                  1.25
                ],
                "title": {
                  "text": "Neck height in m"
                }
              },
              "yaxis": {
                "range": [
                  -0.5,
                  1.4
                ],
                "title": {
                  "text": "y"
                }
              }
            },
            "_model_module": "jupyterlab-plotly",
            "_model_module_version": "^5.24.1",
            "_model_name": "FigureModel",
            "_py2js_addTraces": {},
            "_py2js_animate": {},
            "_py2js_deleteTraces": {},
            "_py2js_moveTraces": {},
            "_py2js_relayout": null,
            "_py2js_removeLayoutProps": {},
            "_py2js_removeTraceProps": {},
            "_py2js_restyle": null,
            "_py2js_update": {},
            "_view_count": 0,
            "_view_module": "jupyterlab-plotly",
            "_view_module_version": "^5.24.1",
            "_view_name": "FigureView"
          }
        },
        "9623ed8154144cf9b34f53e20dbc37ac": {
          "model_module": "@jupyter-widgets/controls",
          "model_name": "VBoxModel",
          "model_module_version": "1.5.0",
          "state": {
            "_dom_classes": [
              "widget-interact"
            ],
            "_model_module": "@jupyter-widgets/controls",
            "_model_module_version": "1.5.0",
            "_model_name": "VBoxModel",
            "_view_count": null,
            "_view_module": "@jupyter-widgets/controls",
            "_view_module_version": "1.5.0",
            "_view_name": "VBoxView",
            "box_style": "",
            "children": [
              "IPY_MODEL_23c4783f5acc470594188340d84a5d84",
              "IPY_MODEL_1e0cbcf39a2b46a4955d44439ff27125",
              "IPY_MODEL_204ced1a1b2044fc84913852aab5150f"
            ],
            "layout": "IPY_MODEL_3b2bafe0bf774b0a8503aa9e3a7d9dba"
          }
        },
        "23c4783f5acc470594188340d84a5d84": {
          "model_module": "@jupyter-widgets/controls",
          "model_name": "FloatSliderModel",
          "model_module_version": "1.5.0",
          "state": {
            "_dom_classes": [],
            "_model_module": "@jupyter-widgets/controls",
            "_model_module_version": "1.5.0",
            "_model_name": "FloatSliderModel",
            "_view_count": null,
            "_view_module": "@jupyter-widgets/controls",
            "_view_module_version": "1.5.0",
            "_view_name": "FloatSliderView",
            "continuous_update": true,
            "description": "input1",
            "description_tooltip": null,
            "disabled": false,
            "layout": "IPY_MODEL_09a41144574043ba9a4868314c59590f",
            "max": 1,
            "min": 0,
            "orientation": "horizontal",
            "readout": true,
            "readout_format": ".2f",
            "step": 1,
            "style": "IPY_MODEL_78d2f388022c4e0391d4d479bcff2117",
            "value": 0
          }
        },
        "1e0cbcf39a2b46a4955d44439ff27125": {
          "model_module": "@jupyter-widgets/controls",
          "model_name": "FloatSliderModel",
          "model_module_version": "1.5.0",
          "state": {
            "_dom_classes": [],
            "_model_module": "@jupyter-widgets/controls",
            "_model_module_version": "1.5.0",
            "_model_name": "FloatSliderModel",
            "_view_count": null,
            "_view_module": "@jupyter-widgets/controls",
            "_view_module_version": "1.5.0",
            "_view_name": "FloatSliderView",
            "continuous_update": true,
            "description": "input2",
            "description_tooltip": null,
            "disabled": false,
            "layout": "IPY_MODEL_8a89fe8c24c14902ab6afd7fa1ba12a0",
            "max": 1,
            "min": 0,
            "orientation": "horizontal",
            "readout": true,
            "readout_format": ".2f",
            "step": 1,
            "style": "IPY_MODEL_33db549170bf4ec8892002986eb1a939",
            "value": 1
          }
        },
        "204ced1a1b2044fc84913852aab5150f": {
          "model_module": "@jupyter-widgets/output",
          "model_name": "OutputModel",
          "model_module_version": "1.0.0",
          "state": {
            "_dom_classes": [],
            "_model_module": "@jupyter-widgets/output",
            "_model_module_version": "1.0.0",
            "_model_name": "OutputModel",
            "_view_count": null,
            "_view_module": "@jupyter-widgets/output",
            "_view_module_version": "1.0.0",
            "_view_name": "OutputView",
            "layout": "IPY_MODEL_3acc3e280bab40f0bbc57e2059e4aa04",
            "msg_id": "",
            "outputs": [
              {
                "output_type": "stream",
                "name": "stdout",
                "text": [
                  "\t input: [0. 1.] \t \t output: 0.333336409\n"
                ]
              }
            ]
          }
        },
        "3b2bafe0bf774b0a8503aa9e3a7d9dba": {
          "model_module": "@jupyter-widgets/base",
          "model_name": "LayoutModel",
          "model_module_version": "1.2.0",
          "state": {
            "_model_module": "@jupyter-widgets/base",
            "_model_module_version": "1.2.0",
            "_model_name": "LayoutModel",
            "_view_count": null,
            "_view_module": "@jupyter-widgets/base",
            "_view_module_version": "1.2.0",
            "_view_name": "LayoutView",
            "align_content": null,
            "align_items": null,
            "align_self": null,
            "border": null,
            "bottom": null,
            "display": null,
            "flex": null,
            "flex_flow": null,
            "grid_area": null,
            "grid_auto_columns": null,
            "grid_auto_flow": null,
            "grid_auto_rows": null,
            "grid_column": null,
            "grid_gap": null,
            "grid_row": null,
            "grid_template_areas": null,
            "grid_template_columns": null,
            "grid_template_rows": null,
            "height": null,
            "justify_content": null,
            "justify_items": null,
            "left": null,
            "margin": null,
            "max_height": null,
            "max_width": null,
            "min_height": null,
            "min_width": null,
            "object_fit": null,
            "object_position": null,
            "order": null,
            "overflow": null,
            "overflow_x": null,
            "overflow_y": null,
            "padding": null,
            "right": null,
            "top": null,
            "visibility": null,
            "width": null
          }
        },
        "09a41144574043ba9a4868314c59590f": {
          "model_module": "@jupyter-widgets/base",
          "model_name": "LayoutModel",
          "model_module_version": "1.2.0",
          "state": {
            "_model_module": "@jupyter-widgets/base",
            "_model_module_version": "1.2.0",
            "_model_name": "LayoutModel",
            "_view_count": null,
            "_view_module": "@jupyter-widgets/base",
            "_view_module_version": "1.2.0",
            "_view_name": "LayoutView",
            "align_content": null,
            "align_items": null,
            "align_self": null,
            "border": null,
            "bottom": null,
            "display": null,
            "flex": null,
            "flex_flow": null,
            "grid_area": null,
            "grid_auto_columns": null,
            "grid_auto_flow": null,
            "grid_auto_rows": null,
            "grid_column": null,
            "grid_gap": null,
            "grid_row": null,
            "grid_template_areas": null,
            "grid_template_columns": null,
            "grid_template_rows": null,
            "height": null,
            "justify_content": null,
            "justify_items": null,
            "left": null,
            "margin": null,
            "max_height": null,
            "max_width": null,
            "min_height": null,
            "min_width": null,
            "object_fit": null,
            "object_position": null,
            "order": null,
            "overflow": null,
            "overflow_x": null,
            "overflow_y": null,
            "padding": null,
            "right": null,
            "top": null,
            "visibility": null,
            "width": "22%"
          }
        },
        "78d2f388022c4e0391d4d479bcff2117": {
          "model_module": "@jupyter-widgets/controls",
          "model_name": "SliderStyleModel",
          "model_module_version": "1.5.0",
          "state": {
            "_model_module": "@jupyter-widgets/controls",
            "_model_module_version": "1.5.0",
            "_model_name": "SliderStyleModel",
            "_view_count": null,
            "_view_module": "@jupyter-widgets/base",
            "_view_module_version": "1.2.0",
            "_view_name": "StyleView",
            "description_width": "",
            "handle_color": null
          }
        },
        "8a89fe8c24c14902ab6afd7fa1ba12a0": {
          "model_module": "@jupyter-widgets/base",
          "model_name": "LayoutModel",
          "model_module_version": "1.2.0",
          "state": {
            "_model_module": "@jupyter-widgets/base",
            "_model_module_version": "1.2.0",
            "_model_name": "LayoutModel",
            "_view_count": null,
            "_view_module": "@jupyter-widgets/base",
            "_view_module_version": "1.2.0",
            "_view_name": "LayoutView",
            "align_content": null,
            "align_items": null,
            "align_self": null,
            "border": null,
            "bottom": null,
            "display": null,
            "flex": null,
            "flex_flow": null,
            "grid_area": null,
            "grid_auto_columns": null,
            "grid_auto_flow": null,
            "grid_auto_rows": null,
            "grid_column": null,
            "grid_gap": null,
            "grid_row": null,
            "grid_template_areas": null,
            "grid_template_columns": null,
            "grid_template_rows": null,
            "height": null,
            "justify_content": null,
            "justify_items": null,
            "left": null,
            "margin": null,
            "max_height": null,
            "max_width": null,
            "min_height": null,
            "min_width": null,
            "object_fit": null,
            "object_position": null,
            "order": null,
            "overflow": null,
            "overflow_x": null,
            "overflow_y": null,
            "padding": null,
            "right": null,
            "top": null,
            "visibility": null,
            "width": "22%"
          }
        },
        "33db549170bf4ec8892002986eb1a939": {
          "model_module": "@jupyter-widgets/controls",
          "model_name": "SliderStyleModel",
          "model_module_version": "1.5.0",
          "state": {
            "_model_module": "@jupyter-widgets/controls",
            "_model_module_version": "1.5.0",
            "_model_name": "SliderStyleModel",
            "_view_count": null,
            "_view_module": "@jupyter-widgets/base",
            "_view_module_version": "1.2.0",
            "_view_name": "StyleView",
            "description_width": "",
            "handle_color": null
          }
        },
        "3acc3e280bab40f0bbc57e2059e4aa04": {
          "model_module": "@jupyter-widgets/base",
          "model_name": "LayoutModel",
          "model_module_version": "1.2.0",
          "state": {
            "_model_module": "@jupyter-widgets/base",
            "_model_module_version": "1.2.0",
            "_model_name": "LayoutModel",
            "_view_count": null,
            "_view_module": "@jupyter-widgets/base",
            "_view_module_version": "1.2.0",
            "_view_name": "LayoutView",
            "align_content": null,
            "align_items": null,
            "align_self": null,
            "border": null,
            "bottom": null,
            "display": null,
            "flex": null,
            "flex_flow": null,
            "grid_area": null,
            "grid_auto_columns": null,
            "grid_auto_flow": null,
            "grid_auto_rows": null,
            "grid_column": null,
            "grid_gap": null,
            "grid_row": null,
            "grid_template_areas": null,
            "grid_template_columns": null,
            "grid_template_rows": null,
            "height": null,
            "justify_content": null,
            "justify_items": null,
            "left": null,
            "margin": null,
            "max_height": null,
            "max_width": null,
            "min_height": null,
            "min_width": null,
            "object_fit": null,
            "object_position": null,
            "order": null,
            "overflow": null,
            "overflow_x": null,
            "overflow_y": null,
            "padding": null,
            "right": null,
            "top": null,
            "visibility": null,
            "width": null
          }
        },
        "4847b47cf9e447b2a23496e13712bfdf": {
          "model_module": "@jupyter-widgets/controls",
          "model_name": "VBoxModel",
          "model_module_version": "1.5.0",
          "state": {
            "_dom_classes": [
              "widget-interact"
            ],
            "_model_module": "@jupyter-widgets/controls",
            "_model_module_version": "1.5.0",
            "_model_name": "VBoxModel",
            "_view_count": null,
            "_view_module": "@jupyter-widgets/controls",
            "_view_module_version": "1.5.0",
            "_view_name": "VBoxView",
            "box_style": "",
            "children": [
              "IPY_MODEL_77d481e512974c4c9f729393e52a3d65",
              "IPY_MODEL_960c7b0011034be2b66cc2322b1c3961",
              "IPY_MODEL_7e947de684f4415081facff15c2f7ec9"
            ],
            "layout": "IPY_MODEL_0a88eac72a9d42589394b20b953f724f"
          }
        },
        "77d481e512974c4c9f729393e52a3d65": {
          "model_module": "@jupyter-widgets/controls",
          "model_name": "FloatSliderModel",
          "model_module_version": "1.5.0",
          "state": {
            "_dom_classes": [],
            "_model_module": "@jupyter-widgets/controls",
            "_model_module_version": "1.5.0",
            "_model_name": "FloatSliderModel",
            "_view_count": null,
            "_view_module": "@jupyter-widgets/controls",
            "_view_module_version": "1.5.0",
            "_view_name": "FloatSliderView",
            "continuous_update": true,
            "description": "input1",
            "description_tooltip": null,
            "disabled": false,
            "layout": "IPY_MODEL_d9b24a33cc544e23837849d48bc0046a",
            "max": 1,
            "min": 0,
            "orientation": "horizontal",
            "readout": true,
            "readout_format": ".2f",
            "step": 0.1,
            "style": "IPY_MODEL_3cd1baa3581848f9b5eac4e018dab9c5",
            "value": 0
          }
        },
        "960c7b0011034be2b66cc2322b1c3961": {
          "model_module": "@jupyter-widgets/controls",
          "model_name": "FloatSliderModel",
          "model_module_version": "1.5.0",
          "state": {
            "_dom_classes": [],
            "_model_module": "@jupyter-widgets/controls",
            "_model_module_version": "1.5.0",
            "_model_name": "FloatSliderModel",
            "_view_count": null,
            "_view_module": "@jupyter-widgets/controls",
            "_view_module_version": "1.5.0",
            "_view_name": "FloatSliderView",
            "continuous_update": true,
            "description": "input2",
            "description_tooltip": null,
            "disabled": false,
            "layout": "IPY_MODEL_80e2eb5379924e24987423c88d0fa206",
            "max": 1,
            "min": 0,
            "orientation": "horizontal",
            "readout": true,
            "readout_format": ".2f",
            "step": 0.1,
            "style": "IPY_MODEL_a652ce5d655949fd90887f197ac6aa3a",
            "value": 1
          }
        },
        "7e947de684f4415081facff15c2f7ec9": {
          "model_module": "@jupyter-widgets/output",
          "model_name": "OutputModel",
          "model_module_version": "1.0.0",
          "state": {
            "_dom_classes": [],
            "_model_module": "@jupyter-widgets/output",
            "_model_module_version": "1.0.0",
            "_model_name": "OutputModel",
            "_view_count": null,
            "_view_module": "@jupyter-widgets/output",
            "_view_module_version": "1.0.0",
            "_view_name": "OutputView",
            "layout": "IPY_MODEL_0b35e58f79fd49feab6e174bfa2a195e",
            "msg_id": "",
            "outputs": [
              {
                "output_type": "stream",
                "name": "stdout",
                "text": [
                  "\t input: [0. 1.] \t \t output: 0.333336409\n"
                ]
              }
            ]
          }
        },
        "0a88eac72a9d42589394b20b953f724f": {
          "model_module": "@jupyter-widgets/base",
          "model_name": "LayoutModel",
          "model_module_version": "1.2.0",
          "state": {
            "_model_module": "@jupyter-widgets/base",
            "_model_module_version": "1.2.0",
            "_model_name": "LayoutModel",
            "_view_count": null,
            "_view_module": "@jupyter-widgets/base",
            "_view_module_version": "1.2.0",
            "_view_name": "LayoutView",
            "align_content": null,
            "align_items": null,
            "align_self": null,
            "border": null,
            "bottom": null,
            "display": null,
            "flex": null,
            "flex_flow": null,
            "grid_area": null,
            "grid_auto_columns": null,
            "grid_auto_flow": null,
            "grid_auto_rows": null,
            "grid_column": null,
            "grid_gap": null,
            "grid_row": null,
            "grid_template_areas": null,
            "grid_template_columns": null,
            "grid_template_rows": null,
            "height": null,
            "justify_content": null,
            "justify_items": null,
            "left": null,
            "margin": null,
            "max_height": null,
            "max_width": null,
            "min_height": null,
            "min_width": null,
            "object_fit": null,
            "object_position": null,
            "order": null,
            "overflow": null,
            "overflow_x": null,
            "overflow_y": null,
            "padding": null,
            "right": null,
            "top": null,
            "visibility": null,
            "width": null
          }
        },
        "d9b24a33cc544e23837849d48bc0046a": {
          "model_module": "@jupyter-widgets/base",
          "model_name": "LayoutModel",
          "model_module_version": "1.2.0",
          "state": {
            "_model_module": "@jupyter-widgets/base",
            "_model_module_version": "1.2.0",
            "_model_name": "LayoutModel",
            "_view_count": null,
            "_view_module": "@jupyter-widgets/base",
            "_view_module_version": "1.2.0",
            "_view_name": "LayoutView",
            "align_content": null,
            "align_items": null,
            "align_self": null,
            "border": null,
            "bottom": null,
            "display": null,
            "flex": null,
            "flex_flow": null,
            "grid_area": null,
            "grid_auto_columns": null,
            "grid_auto_flow": null,
            "grid_auto_rows": null,
            "grid_column": null,
            "grid_gap": null,
            "grid_row": null,
            "grid_template_areas": null,
            "grid_template_columns": null,
            "grid_template_rows": null,
            "height": null,
            "justify_content": null,
            "justify_items": null,
            "left": null,
            "margin": null,
            "max_height": null,
            "max_width": null,
            "min_height": null,
            "min_width": null,
            "object_fit": null,
            "object_position": null,
            "order": null,
            "overflow": null,
            "overflow_x": null,
            "overflow_y": null,
            "padding": null,
            "right": null,
            "top": null,
            "visibility": null,
            "width": null
          }
        },
        "3cd1baa3581848f9b5eac4e018dab9c5": {
          "model_module": "@jupyter-widgets/controls",
          "model_name": "SliderStyleModel",
          "model_module_version": "1.5.0",
          "state": {
            "_model_module": "@jupyter-widgets/controls",
            "_model_module_version": "1.5.0",
            "_model_name": "SliderStyleModel",
            "_view_count": null,
            "_view_module": "@jupyter-widgets/base",
            "_view_module_version": "1.2.0",
            "_view_name": "StyleView",
            "description_width": "",
            "handle_color": null
          }
        },
        "80e2eb5379924e24987423c88d0fa206": {
          "model_module": "@jupyter-widgets/base",
          "model_name": "LayoutModel",
          "model_module_version": "1.2.0",
          "state": {
            "_model_module": "@jupyter-widgets/base",
            "_model_module_version": "1.2.0",
            "_model_name": "LayoutModel",
            "_view_count": null,
            "_view_module": "@jupyter-widgets/base",
            "_view_module_version": "1.2.0",
            "_view_name": "LayoutView",
            "align_content": null,
            "align_items": null,
            "align_self": null,
            "border": null,
            "bottom": null,
            "display": null,
            "flex": null,
            "flex_flow": null,
            "grid_area": null,
            "grid_auto_columns": null,
            "grid_auto_flow": null,
            "grid_auto_rows": null,
            "grid_column": null,
            "grid_gap": null,
            "grid_row": null,
            "grid_template_areas": null,
            "grid_template_columns": null,
            "grid_template_rows": null,
            "height": null,
            "justify_content": null,
            "justify_items": null,
            "left": null,
            "margin": null,
            "max_height": null,
            "max_width": null,
            "min_height": null,
            "min_width": null,
            "object_fit": null,
            "object_position": null,
            "order": null,
            "overflow": null,
            "overflow_x": null,
            "overflow_y": null,
            "padding": null,
            "right": null,
            "top": null,
            "visibility": null,
            "width": null
          }
        },
        "a652ce5d655949fd90887f197ac6aa3a": {
          "model_module": "@jupyter-widgets/controls",
          "model_name": "SliderStyleModel",
          "model_module_version": "1.5.0",
          "state": {
            "_model_module": "@jupyter-widgets/controls",
            "_model_module_version": "1.5.0",
            "_model_name": "SliderStyleModel",
            "_view_count": null,
            "_view_module": "@jupyter-widgets/base",
            "_view_module_version": "1.2.0",
            "_view_name": "StyleView",
            "description_width": "",
            "handle_color": null
          }
        },
        "0b35e58f79fd49feab6e174bfa2a195e": {
          "model_module": "@jupyter-widgets/base",
          "model_name": "LayoutModel",
          "model_module_version": "1.2.0",
          "state": {
            "_model_module": "@jupyter-widgets/base",
            "_model_module_version": "1.2.0",
            "_model_name": "LayoutModel",
            "_view_count": null,
            "_view_module": "@jupyter-widgets/base",
            "_view_module_version": "1.2.0",
            "_view_name": "LayoutView",
            "align_content": null,
            "align_items": null,
            "align_self": null,
            "border": null,
            "bottom": null,
            "display": null,
            "flex": null,
            "flex_flow": null,
            "grid_area": null,
            "grid_auto_columns": null,
            "grid_auto_flow": null,
            "grid_auto_rows": null,
            "grid_column": null,
            "grid_gap": null,
            "grid_row": null,
            "grid_template_areas": null,
            "grid_template_columns": null,
            "grid_template_rows": null,
            "height": null,
            "justify_content": null,
            "justify_items": null,
            "left": null,
            "margin": null,
            "max_height": null,
            "max_width": null,
            "min_height": null,
            "min_width": null,
            "object_fit": null,
            "object_position": null,
            "order": null,
            "overflow": null,
            "overflow_x": null,
            "overflow_y": null,
            "padding": null,
            "right": null,
            "top": null,
            "visibility": null,
            "width": null
          }
        }
      }
    }
  },
  "nbformat": 4,
  "nbformat_minor": 0
}